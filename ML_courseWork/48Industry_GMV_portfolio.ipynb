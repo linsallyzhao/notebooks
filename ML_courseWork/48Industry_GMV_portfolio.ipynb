{
 "cells": [
  {
   "cell_type": "code",
   "execution_count": 1,
   "metadata": {},
   "outputs": [],
   "source": [
    "import pandas as pd\n",
    "import numpy as np\n",
    "import matplotlib.pyplot as plt\n",
    "from scipy.optimize import minimize\n",
    "from sklearn import linear_model\n",
    "\n",
    "%matplotlib inline"
   ]
  },
  {
   "cell_type": "code",
   "execution_count": 2,
   "metadata": {},
   "outputs": [],
   "source": [
    "my_data = pd.read_csv('/home/lin/教材/MearchineLearning/assignmentOneData/48EqualWeighted.csv')"
   ]
  },
  {
   "cell_type": "code",
   "execution_count": 3,
   "metadata": {},
   "outputs": [
    {
     "data": {
      "text/html": [
       "<div>\n",
       "<style scoped>\n",
       "    .dataframe tbody tr th:only-of-type {\n",
       "        vertical-align: middle;\n",
       "    }\n",
       "\n",
       "    .dataframe tbody tr th {\n",
       "        vertical-align: top;\n",
       "    }\n",
       "\n",
       "    .dataframe thead th {\n",
       "        text-align: right;\n",
       "    }\n",
       "</style>\n",
       "<table border=\"1\" class=\"dataframe\">\n",
       "  <thead>\n",
       "    <tr style=\"text-align: right;\">\n",
       "      <th></th>\n",
       "      <th>Unnamed: 0</th>\n",
       "      <th>Agric</th>\n",
       "      <th>Food</th>\n",
       "      <th>Soda</th>\n",
       "      <th>Beer</th>\n",
       "      <th>Smoke</th>\n",
       "      <th>Toys</th>\n",
       "      <th>Fun</th>\n",
       "      <th>Books</th>\n",
       "      <th>Hshld</th>\n",
       "      <th>...</th>\n",
       "      <th>Boxes</th>\n",
       "      <th>Trans</th>\n",
       "      <th>Whlsl</th>\n",
       "      <th>Rtail</th>\n",
       "      <th>Meals</th>\n",
       "      <th>Banks</th>\n",
       "      <th>Insur</th>\n",
       "      <th>RlEst</th>\n",
       "      <th>Fin</th>\n",
       "      <th>Other</th>\n",
       "    </tr>\n",
       "  </thead>\n",
       "  <tbody>\n",
       "    <tr>\n",
       "      <th>0</th>\n",
       "      <td>1969-07-01</td>\n",
       "      <td>0.00</td>\n",
       "      <td>0.62</td>\n",
       "      <td>0.43</td>\n",
       "      <td>0.54</td>\n",
       "      <td>0.18</td>\n",
       "      <td>0.78</td>\n",
       "      <td>0.84</td>\n",
       "      <td>-0.01</td>\n",
       "      <td>0.58</td>\n",
       "      <td>...</td>\n",
       "      <td>1.19</td>\n",
       "      <td>0.66</td>\n",
       "      <td>0.66</td>\n",
       "      <td>0.38</td>\n",
       "      <td>1.22</td>\n",
       "      <td>0.25</td>\n",
       "      <td>0.50</td>\n",
       "      <td>0.99</td>\n",
       "      <td>0.61</td>\n",
       "      <td>1.79</td>\n",
       "    </tr>\n",
       "    <tr>\n",
       "      <th>1</th>\n",
       "      <td>1969-07-02</td>\n",
       "      <td>0.76</td>\n",
       "      <td>1.11</td>\n",
       "      <td>0.27</td>\n",
       "      <td>1.29</td>\n",
       "      <td>0.16</td>\n",
       "      <td>2.05</td>\n",
       "      <td>1.43</td>\n",
       "      <td>1.59</td>\n",
       "      <td>1.32</td>\n",
       "      <td>...</td>\n",
       "      <td>1.85</td>\n",
       "      <td>0.81</td>\n",
       "      <td>1.65</td>\n",
       "      <td>0.84</td>\n",
       "      <td>1.39</td>\n",
       "      <td>1.47</td>\n",
       "      <td>1.77</td>\n",
       "      <td>0.94</td>\n",
       "      <td>1.22</td>\n",
       "      <td>1.04</td>\n",
       "    </tr>\n",
       "    <tr>\n",
       "      <th>2</th>\n",
       "      <td>1969-07-03</td>\n",
       "      <td>0.31</td>\n",
       "      <td>1.23</td>\n",
       "      <td>0.50</td>\n",
       "      <td>2.02</td>\n",
       "      <td>1.59</td>\n",
       "      <td>1.40</td>\n",
       "      <td>0.83</td>\n",
       "      <td>0.79</td>\n",
       "      <td>1.03</td>\n",
       "      <td>...</td>\n",
       "      <td>1.73</td>\n",
       "      <td>0.87</td>\n",
       "      <td>1.14</td>\n",
       "      <td>0.79</td>\n",
       "      <td>1.57</td>\n",
       "      <td>2.14</td>\n",
       "      <td>0.46</td>\n",
       "      <td>2.13</td>\n",
       "      <td>1.25</td>\n",
       "      <td>3.06</td>\n",
       "    </tr>\n",
       "    <tr>\n",
       "      <th>3</th>\n",
       "      <td>1969-07-07</td>\n",
       "      <td>-0.04</td>\n",
       "      <td>-0.59</td>\n",
       "      <td>-0.41</td>\n",
       "      <td>0.11</td>\n",
       "      <td>-0.02</td>\n",
       "      <td>-0.43</td>\n",
       "      <td>-1.51</td>\n",
       "      <td>-0.04</td>\n",
       "      <td>-0.53</td>\n",
       "      <td>...</td>\n",
       "      <td>-0.82</td>\n",
       "      <td>-0.98</td>\n",
       "      <td>-0.60</td>\n",
       "      <td>-0.20</td>\n",
       "      <td>-1.34</td>\n",
       "      <td>-0.26</td>\n",
       "      <td>-1.07</td>\n",
       "      <td>-1.62</td>\n",
       "      <td>-0.61</td>\n",
       "      <td>-1.68</td>\n",
       "    </tr>\n",
       "    <tr>\n",
       "      <th>4</th>\n",
       "      <td>1969-07-08</td>\n",
       "      <td>0.46</td>\n",
       "      <td>-0.89</td>\n",
       "      <td>-0.79</td>\n",
       "      <td>-1.19</td>\n",
       "      <td>-1.09</td>\n",
       "      <td>-1.66</td>\n",
       "      <td>-1.68</td>\n",
       "      <td>-0.55</td>\n",
       "      <td>-1.46</td>\n",
       "      <td>...</td>\n",
       "      <td>-1.25</td>\n",
       "      <td>-1.25</td>\n",
       "      <td>-1.63</td>\n",
       "      <td>-1.22</td>\n",
       "      <td>-1.82</td>\n",
       "      <td>-1.15</td>\n",
       "      <td>-1.72</td>\n",
       "      <td>-2.13</td>\n",
       "      <td>-1.58</td>\n",
       "      <td>-2.83</td>\n",
       "    </tr>\n",
       "  </tbody>\n",
       "</table>\n",
       "<p>5 rows × 49 columns</p>\n",
       "</div>"
      ],
      "text/plain": [
       "   Unnamed: 0  Agric  Food  Soda  Beer  Smoke  Toys   Fun  Books  Hshld  \\\n",
       "0  1969-07-01   0.00  0.62  0.43  0.54   0.18  0.78  0.84  -0.01   0.58   \n",
       "1  1969-07-02   0.76  1.11  0.27  1.29   0.16  2.05  1.43   1.59   1.32   \n",
       "2  1969-07-03   0.31  1.23  0.50  2.02   1.59  1.40  0.83   0.79   1.03   \n",
       "3  1969-07-07  -0.04 -0.59 -0.41  0.11  -0.02 -0.43 -1.51  -0.04  -0.53   \n",
       "4  1969-07-08   0.46 -0.89 -0.79 -1.19  -1.09 -1.66 -1.68  -0.55  -1.46   \n",
       "\n",
       "   ...    Boxes  Trans  Whlsl  Rtail  Meals  Banks  Insur  RlEst   Fin  Other  \n",
       "0  ...     1.19   0.66   0.66   0.38   1.22   0.25   0.50   0.99  0.61   1.79  \n",
       "1  ...     1.85   0.81   1.65   0.84   1.39   1.47   1.77   0.94  1.22   1.04  \n",
       "2  ...     1.73   0.87   1.14   0.79   1.57   2.14   0.46   2.13  1.25   3.06  \n",
       "3  ...    -0.82  -0.98  -0.60  -0.20  -1.34  -0.26  -1.07  -1.62 -0.61  -1.68  \n",
       "4  ...    -1.25  -1.25  -1.63  -1.22  -1.82  -1.15  -1.72  -2.13 -1.58  -2.83  \n",
       "\n",
       "[5 rows x 49 columns]"
      ]
     },
     "execution_count": 3,
     "metadata": {},
     "output_type": "execute_result"
    }
   ],
   "source": [
    "my_data.head()"
   ]
  },
  {
   "cell_type": "code",
   "execution_count": 4,
   "metadata": {
    "scrolled": true
   },
   "outputs": [
    {
     "name": "stdout",
     "output_type": "stream",
     "text": [
      "(12196,) (12196,)\n"
     ]
    },
    {
     "data": {
      "text/plain": [
       "Agric    float64\n",
       "Food     float64\n",
       "Soda     float64\n",
       "Beer     float64\n",
       "Smoke    float64\n",
       "Toys     float64\n",
       "Fun      float64\n",
       "Books    float64\n",
       "Hshld    float64\n",
       "Clths    float64\n",
       "Hlth     float64\n",
       "MedEq    float64\n",
       "Drugs    float64\n",
       "Chems    float64\n",
       "Rubbr    float64\n",
       "Txtls    float64\n",
       "BldMt    float64\n",
       "Cnstr    float64\n",
       "Steel    float64\n",
       "FabPr    float64\n",
       "Mach     float64\n",
       "ElcEq    float64\n",
       "Autos    float64\n",
       "Aero     float64\n",
       "Ships    float64\n",
       "Guns     float64\n",
       "Gold     float64\n",
       "Mines    float64\n",
       "Coal     float64\n",
       "Oil      float64\n",
       "Util     float64\n",
       "Telcm    float64\n",
       "PerSv    float64\n",
       "BusSv    float64\n",
       "Comps    float64\n",
       "Chips    float64\n",
       "LabEq    float64\n",
       "Paper    float64\n",
       "Boxes    float64\n",
       "Trans    float64\n",
       "Whlsl    float64\n",
       "Rtail    float64\n",
       "Meals    float64\n",
       "Banks    float64\n",
       "Insur    float64\n",
       "RlEst    float64\n",
       "Fin      float64\n",
       "Other    float64\n",
       "dtype: object"
      ]
     },
     "execution_count": 4,
     "metadata": {},
     "output_type": "execute_result"
    }
   ],
   "source": [
    "my_data['Unnamed: 0'] = pd.to_datetime(my_data['Unnamed: 0'])\n",
    "\n",
    "print( np.unique(my_data['Unnamed: 0']).shape, my_data['Unnamed: 0'].shape)\n",
    "\n",
    "my_data.set_index('Unnamed: 0', inplace = True)\n",
    "\n",
    "my_data.dtypes"
   ]
  },
  {
   "cell_type": "code",
   "execution_count": 5,
   "metadata": {
    "scrolled": true
   },
   "outputs": [
    {
     "data": {
      "text/plain": [
       "Agric    False\n",
       "Food     False\n",
       "Soda     False\n",
       "Beer     False\n",
       "Smoke    False\n",
       "Toys     False\n",
       "Fun      False\n",
       "Books    False\n",
       "Hshld    False\n",
       "Clths    False\n",
       "Hlth     False\n",
       "MedEq    False\n",
       "Drugs    False\n",
       "Chems    False\n",
       "Rubbr    False\n",
       "Txtls    False\n",
       "BldMt    False\n",
       "Cnstr    False\n",
       "Steel    False\n",
       "FabPr    False\n",
       "Mach     False\n",
       "ElcEq    False\n",
       "Autos    False\n",
       "Aero     False\n",
       "Ships    False\n",
       "Guns     False\n",
       "Gold     False\n",
       "Mines    False\n",
       "Coal     False\n",
       "Oil      False\n",
       "Util     False\n",
       "Telcm    False\n",
       "PerSv    False\n",
       "BusSv    False\n",
       "Comps    False\n",
       "Chips    False\n",
       "LabEq    False\n",
       "Paper    False\n",
       "Boxes    False\n",
       "Trans    False\n",
       "Whlsl    False\n",
       "Rtail    False\n",
       "Meals    False\n",
       "Banks    False\n",
       "Insur    False\n",
       "RlEst    False\n",
       "Fin      False\n",
       "Other    False\n",
       "dtype: bool"
      ]
     },
     "execution_count": 5,
     "metadata": {},
     "output_type": "execute_result"
    }
   ],
   "source": [
    "my_data.isnull().any()"
   ]
  },
  {
   "cell_type": "code",
   "execution_count": 6,
   "metadata": {},
   "outputs": [],
   "source": [
    "nAsset = my_data.shape[1]\n",
    "trainningSet = my_data.iloc[: 250]\n",
    "lambdaSeries = np.logspace(-12, -10, 800) #just for test\n",
    "sigma = np.ones((nAsset, nAsset))"
   ]
  },
  {
   "cell_type": "code",
   "execution_count": 7,
   "metadata": {
    "scrolled": true
   },
   "outputs": [
    {
     "name": "stdout",
     "output_type": "stream",
     "text": [
      "(10, 800)\n"
     ]
    },
    {
     "name": "stderr",
     "output_type": "stream",
     "text": [
      "/home/lin/.pyenv/versions/3.6.3/lib/python3.6/site-packages/sklearn/linear_model/coordinate_descent.py:491: ConvergenceWarning: Objective did not converge. You might want to increase the number of iterations. Fitting data with very small alpha may cause precision problems.\n",
      "  ConvergenceWarning)\n"
     ]
    },
    {
     "data": {
      "image/png": "[encoded data removed]",
      "text/plain": [
       "<matplotlib.figure.Figure at 0x7f40db842278>"
      ]
     },
     "metadata": {},
     "output_type": "display_data"
    }
   ],
   "source": [
    "def cross_vali_for_lambda(trainning_set, lambdaSet, fold = 10, reg_type=linear_model.Lasso, seed=1):\n",
    "    nObs = trainning_set.shape[0] \n",
    "    eachFold = nObs / fold\n",
    "    shuffleSet = trainning_set.sample(frac = 1, random_state=seed).reset_index(drop = True)\n",
    "    start_drop = 0\n",
    "    stdSeries = np.ones([fold, lambdaSet.shape[0]]) * (-1)\n",
    "    print(stdSeries.shape)\n",
    "    \n",
    "    balls = 0\n",
    "    \n",
    "    for i in range(1, 11):\n",
    "        #print(i, \"    \")\n",
    "        sample = shuffleSet.drop(range(int(start_drop), int(start_drop + eachFold)))\n",
    "        testSet = shuffleSet[int(start_drop):int(start_drop + eachFold)]\n",
    "        start_drop += eachFold\n",
    "        sigma = np.cov(sample.T)\n",
    "        if sigma.shape != (nAsset, nAsset):\n",
    "            print(\"Error from cost_fun: sigma has wrong dimention\")\n",
    "        j = 0\n",
    "        \n",
    "        for lambdaValue in lambdaSet:\n",
    "            clf = reg_type(alpha=lambdaValue, fit_intercept=False)\n",
    "            clf.fit(sigma, 0.000001 * np.ones(nAsset))\n",
    "            if clf.coef_.sum() == 0:\n",
    "                print(\"Error: cross_vali_for_lambda Sum of coef is zero, too sparse, try smaller lambda\")\n",
    "            weights = clf.coef_ / clf.coef_.sum()\n",
    "            returns = testSet @ weights\n",
    "            stdSeries[i-1, j] = returns.std()\n",
    "            j += 1\n",
    "            \n",
    "    return stdSeries\n",
    "\n",
    "stds = cross_vali_for_lambda(trainningSet, lambdaSeries, seed=60)\n",
    "plt.plot(lambdaSeries, stds.mean(0))\n",
    "plt.show()"
   ]
  },
  {
   "cell_type": "code",
   "execution_count": null,
   "metadata": {},
   "outputs": [
    {
     "name": "stdout",
     "output_type": "stream",
     "text": [
      "(10, 800)\n"
     ]
    },
    {
     "data": {
      "text/plain": [
       "[<matplotlib.lines.Line2D at 0x7f40d9746fd0>]"
      ]
     },
     "execution_count": 8,
     "metadata": {},
     "output_type": "execute_result"
    },
    {
     "data": {
      "image/png": "[encoded data removed]",
      "text/plain": [
       "<matplotlib.figure.Figure at 0x7f40db841cc0>"
      ]
     },
     "metadata": {},
     "output_type": "display_data"
    }
   ],
   "source": [
    "import random\n",
    "\n",
    "lambdaSeries = np.logspace(-7, -2, 800)\n",
    "stds = cross_vali_for_lambda(trainningSet, lambdaSeries, reg_type=linear_model.Ridge, seed=1242787)\n",
    "plt.plot(lambdaSeries, stds.mean(0))"
   ]
  },
  {
   "cell_type": "code",
   "execution_count": null,
   "metadata": {},
   "outputs": [
    {
     "name": "stdout",
     "output_type": "stream",
     "text": [
      "(10, 800)\n"
     ]
    }
   ],
   "source": [
    "lambdaSeries = np.logspace(-7, -2, 800)\n",
    "stds = cross_vali_for_lambda(trainningSet, lambdaSeries, reg_type=linear_model.Ridge, seed=3333333)\n",
    "plt.plot(lambdaSeries, stds.mean(0))"
   ]
  },
  {
   "cell_type": "code",
   "execution_count": null,
   "metadata": {},
   "outputs": [],
   "source": []
  }
 ],
 "metadata": {
  "kernelspec": {
   "display_name": "Python 3",
   "language": "python",
   "name": "python3"
  },
  "language_info": {
   "codemirror_mode": {
    "name": "ipython",
    "version": 3
   },
   "file_extension": ".py",
   "mimetype": "text/x-python",
   "name": "python",
   "nbconvert_exporter": "python",
   "pygments_lexer": "ipython3",
   "version": "3.6.3"
  }
 },
 "nbformat": 4,
 "nbformat_minor": 2
}
