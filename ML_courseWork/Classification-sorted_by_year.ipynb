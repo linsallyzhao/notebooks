{
 "cells": [
  {
   "cell_type": "code",
   "execution_count": 1,
   "metadata": {},
   "outputs": [],
   "source": [
    "import pandas as pd\n",
    "import numpy as np\n",
    "import matplotlib.pyplot as plt\n",
    "from sklearn.metrics import confusion_matrix\n",
    "%matplotlib tk"
   ]
  },
  {
   "cell_type": "code",
   "execution_count": 2,
   "metadata": {},
   "outputs": [],
   "source": [
    "data = pd.read_csv('/home/lin/教材/MearchineLearning/assignmentOneData/CrisisPrediction.csv')"
   ]
  },
  {
   "cell_type": "code",
   "execution_count": 3,
   "metadata": {},
   "outputs": [
    {
     "data": {
      "text/plain": [
       "['year', 'country', 'loans1', 'cpi', 'credit_to_GDP', 'crisisST']"
      ]
     },
     "execution_count": 3,
     "metadata": {},
     "output_type": "execute_result"
    }
   ],
   "source": [
    "list(data.columns.values)"
   ]
  },
  {
   "cell_type": "code",
   "execution_count": 4,
   "metadata": {},
   "outputs": [],
   "source": [
    "data['logRetCre'] = np.log(data['loans1']/data['cpi']).diff()"
   ]
  },
  {
   "cell_type": "code",
   "execution_count": 5,
   "metadata": {},
   "outputs": [],
   "source": [
    "data['lag_1'] = data['logRetCre'].shift()\n",
    "data['lag_2'] = data['logRetCre'].shift(2)\n",
    "data['lag_3'] = data['logRetCre'].shift(3)\n",
    "data['lag_4'] = data['logRetCre'].shift(4)\n",
    "data['lag_5'] = data['logRetCre'].shift(5)\n",
    "data['credit'] = data['credit_to_GDP'].shift()\n",
    "data.sort_values('year', inplace=True)\n",
    "data = data.dropna()\n",
    "preW = data[data['year']<=1938]\n",
    "postW = data[data['year']>=1948]"
   ]
  },
  {
   "cell_type": "code",
   "execution_count": 6,
   "metadata": {},
   "outputs": [
    {
     "data": {
      "text/html": [
       "<div>\n",
       "<style scoped>\n",
       "    .dataframe tbody tr th:only-of-type {\n",
       "        vertical-align: middle;\n",
       "    }\n",
       "\n",
       "    .dataframe tbody tr th {\n",
       "        vertical-align: top;\n",
       "    }\n",
       "\n",
       "    .dataframe thead th {\n",
       "        text-align: right;\n",
       "    }\n",
       "</style>\n",
       "<table border=\"1\" class=\"dataframe\">\n",
       "  <thead>\n",
       "    <tr style=\"text-align: right;\">\n",
       "      <th></th>\n",
       "      <th>year</th>\n",
       "      <th>country</th>\n",
       "      <th>loans1</th>\n",
       "      <th>cpi</th>\n",
       "      <th>credit_to_GDP</th>\n",
       "      <th>crisisST</th>\n",
       "      <th>logRetCre</th>\n",
       "      <th>lag_1</th>\n",
       "      <th>lag_2</th>\n",
       "      <th>lag_3</th>\n",
       "      <th>lag_4</th>\n",
       "      <th>lag_5</th>\n",
       "      <th>credit</th>\n",
       "    </tr>\n",
       "  </thead>\n",
       "  <tbody>\n",
       "    <tr>\n",
       "      <th>1108</th>\n",
       "      <td>1870</td>\n",
       "      <td>NOR</td>\n",
       "      <td>112.95840</td>\n",
       "      <td>2.363482</td>\n",
       "      <td>0.208410</td>\n",
       "      <td>0</td>\n",
       "      <td>-4.877423</td>\n",
       "      <td>0.019122</td>\n",
       "      <td>0.038468</td>\n",
       "      <td>0.036959</td>\n",
       "      <td>0.067692</td>\n",
       "      <td>0.084075</td>\n",
       "      <td>0.731451</td>\n",
       "    </tr>\n",
       "    <tr>\n",
       "      <th>810</th>\n",
       "      <td>1870</td>\n",
       "      <td>ITA</td>\n",
       "      <td>349.51901</td>\n",
       "      <td>0.021625</td>\n",
       "      <td>0.038835</td>\n",
       "      <td>0</td>\n",
       "      <td>7.209403</td>\n",
       "      <td>0.009891</td>\n",
       "      <td>0.081921</td>\n",
       "      <td>0.089989</td>\n",
       "      <td>0.091649</td>\n",
       "      <td>0.091014</td>\n",
       "      <td>1.240313</td>\n",
       "    </tr>\n",
       "    <tr>\n",
       "      <th>1226</th>\n",
       "      <td>1871</td>\n",
       "      <td>SWE</td>\n",
       "      <td>147.25800</td>\n",
       "      <td>2.623927</td>\n",
       "      <td>0.149991</td>\n",
       "      <td>0</td>\n",
       "      <td>-5.748062</td>\n",
       "      <td>0.056429</td>\n",
       "      <td>0.135382</td>\n",
       "      <td>0.139309</td>\n",
       "      <td>0.154463</td>\n",
       "      <td>0.060727</td>\n",
       "      <td>1.021129</td>\n",
       "    </tr>\n",
       "    <tr>\n",
       "      <th>1109</th>\n",
       "      <td>1871</td>\n",
       "      <td>NOR</td>\n",
       "      <td>120.03910</td>\n",
       "      <td>2.392305</td>\n",
       "      <td>0.213593</td>\n",
       "      <td>0</td>\n",
       "      <td>0.048677</td>\n",
       "      <td>-4.877423</td>\n",
       "      <td>0.019122</td>\n",
       "      <td>0.038468</td>\n",
       "      <td>0.036959</td>\n",
       "      <td>0.067692</td>\n",
       "      <td>0.208410</td>\n",
       "    </tr>\n",
       "    <tr>\n",
       "      <th>811</th>\n",
       "      <td>1871</td>\n",
       "      <td>ITA</td>\n",
       "      <td>459.50101</td>\n",
       "      <td>0.022397</td>\n",
       "      <td>0.049409</td>\n",
       "      <td>0</td>\n",
       "      <td>0.238492</td>\n",
       "      <td>7.209403</td>\n",
       "      <td>0.009891</td>\n",
       "      <td>0.081921</td>\n",
       "      <td>0.089989</td>\n",
       "      <td>0.091649</td>\n",
       "      <td>0.038835</td>\n",
       "    </tr>\n",
       "    <tr>\n",
       "      <th>110</th>\n",
       "      <td>1871</td>\n",
       "      <td>CAN</td>\n",
       "      <td>0.09320</td>\n",
       "      <td>6.380275</td>\n",
       "      <td>0.225830</td>\n",
       "      <td>0</td>\n",
       "      <td>-13.228011</td>\n",
       "      <td>0.090138</td>\n",
       "      <td>0.150262</td>\n",
       "      <td>0.092196</td>\n",
       "      <td>0.095436</td>\n",
       "      <td>0.092144</td>\n",
       "      <td>1.100622</td>\n",
       "    </tr>\n",
       "    <tr>\n",
       "      <th>1110</th>\n",
       "      <td>1872</td>\n",
       "      <td>NOR</td>\n",
       "      <td>128.30400</td>\n",
       "      <td>2.579654</td>\n",
       "      <td>0.200475</td>\n",
       "      <td>0</td>\n",
       "      <td>-0.008813</td>\n",
       "      <td>0.048677</td>\n",
       "      <td>-4.877423</td>\n",
       "      <td>0.019122</td>\n",
       "      <td>0.038468</td>\n",
       "      <td>0.036959</td>\n",
       "      <td>0.213593</td>\n",
       "    </tr>\n",
       "    <tr>\n",
       "      <th>812</th>\n",
       "      <td>1872</td>\n",
       "      <td>ITA</td>\n",
       "      <td>741.03802</td>\n",
       "      <td>0.025229</td>\n",
       "      <td>0.071254</td>\n",
       "      <td>0</td>\n",
       "      <td>0.358851</td>\n",
       "      <td>0.238492</td>\n",
       "      <td>7.209403</td>\n",
       "      <td>0.009891</td>\n",
       "      <td>0.081921</td>\n",
       "      <td>0.089989</td>\n",
       "      <td>0.049409</td>\n",
       "    </tr>\n",
       "    <tr>\n",
       "      <th>1227</th>\n",
       "      <td>1872</td>\n",
       "      <td>SWE</td>\n",
       "      <td>177.79100</td>\n",
       "      <td>2.719924</td>\n",
       "      <td>0.158784</td>\n",
       "      <td>0</td>\n",
       "      <td>0.152491</td>\n",
       "      <td>-5.748062</td>\n",
       "      <td>0.056429</td>\n",
       "      <td>0.135382</td>\n",
       "      <td>0.139309</td>\n",
       "      <td>0.154463</td>\n",
       "      <td>0.149991</td>\n",
       "    </tr>\n",
       "    <tr>\n",
       "      <th>111</th>\n",
       "      <td>1872</td>\n",
       "      <td>CAN</td>\n",
       "      <td>0.11670</td>\n",
       "      <td>6.971189</td>\n",
       "      <td>0.260899</td>\n",
       "      <td>0</td>\n",
       "      <td>0.136284</td>\n",
       "      <td>-13.228011</td>\n",
       "      <td>0.090138</td>\n",
       "      <td>0.150262</td>\n",
       "      <td>0.092196</td>\n",
       "      <td>0.095436</td>\n",
       "      <td>0.225830</td>\n",
       "    </tr>\n",
       "  </tbody>\n",
       "</table>\n",
       "</div>"
      ],
      "text/plain": [
       "      year country     loans1       cpi  credit_to_GDP  crisisST  logRetCre  \\\n",
       "1108  1870     NOR  112.95840  2.363482       0.208410         0  -4.877423   \n",
       "810   1870     ITA  349.51901  0.021625       0.038835         0   7.209403   \n",
       "1226  1871     SWE  147.25800  2.623927       0.149991         0  -5.748062   \n",
       "1109  1871     NOR  120.03910  2.392305       0.213593         0   0.048677   \n",
       "811   1871     ITA  459.50101  0.022397       0.049409         0   0.238492   \n",
       "110   1871     CAN    0.09320  6.380275       0.225830         0 -13.228011   \n",
       "1110  1872     NOR  128.30400  2.579654       0.200475         0  -0.008813   \n",
       "812   1872     ITA  741.03802  0.025229       0.071254         0   0.358851   \n",
       "1227  1872     SWE  177.79100  2.719924       0.158784         0   0.152491   \n",
       "111   1872     CAN    0.11670  6.971189       0.260899         0   0.136284   \n",
       "\n",
       "          lag_1     lag_2     lag_3     lag_4     lag_5    credit  \n",
       "1108   0.019122  0.038468  0.036959  0.067692  0.084075  0.731451  \n",
       "810    0.009891  0.081921  0.089989  0.091649  0.091014  1.240313  \n",
       "1226   0.056429  0.135382  0.139309  0.154463  0.060727  1.021129  \n",
       "1109  -4.877423  0.019122  0.038468  0.036959  0.067692  0.208410  \n",
       "811    7.209403  0.009891  0.081921  0.089989  0.091649  0.038835  \n",
       "110    0.090138  0.150262  0.092196  0.095436  0.092144  1.100622  \n",
       "1110   0.048677 -4.877423  0.019122  0.038468  0.036959  0.213593  \n",
       "812    0.238492  7.209403  0.009891  0.081921  0.089989  0.049409  \n",
       "1227  -5.748062  0.056429  0.135382  0.139309  0.154463  0.149991  \n",
       "111  -13.228011  0.090138  0.150262  0.092196  0.095436  0.225830  "
      ]
     },
     "execution_count": 6,
     "metadata": {},
     "output_type": "execute_result"
    }
   ],
   "source": [
    "data.head(10)"
   ]
  },
  {
   "cell_type": "code",
   "execution_count": 7,
   "metadata": {
    "scrolled": false
   },
   "outputs": [
    {
     "name": "stdout",
     "output_type": "stream",
     "text": [
      "auc: 0.6373277827336704\n",
      "auc: 0.4518906730102092\n",
      "auc: 0.6286424526999033\n",
      "auc: 0.5177922018137459\n",
      "auc: 0.697533908754624\n",
      "auc: 0.7200369913686806\n"
     ]
    },
    {
     "data": {
      "text/plain": [
       "Text(0.5,0,'True positive rate')"
      ]
     },
     "execution_count": 7,
     "metadata": {},
     "output_type": "execute_result"
    },
    {
     "data": {
      "image/png": "[encoded data removed]",
      "text/plain": [
       "<matplotlib.figure.Figure at 0x7f5161aab518>"
      ]
     },
     "metadata": {},
     "output_type": "display_data"
    }
   ],
   "source": [
    "#logistic with whole data set\n",
    "from sklearn.linear_model import LogisticRegression\n",
    "from sklearn.metrics import roc_curve\n",
    "from sklearn.metrics import roc_auc_score\n",
    "\n",
    "def in_sample_logistic(training, sign, credit=False):\n",
    "    if credit is True:\n",
    "        X = training[['lag_2', 'credit']]\n",
    "        #X = training[['lag_1', 'lag_2', 'lag_3', 'lag_4', 'lag_5', 'credit']]\n",
    "#from the paper, lag_2 cpi nomalized loan is the most significent one and credit add prediction power, I tried all \n",
    "#five lags and it confirmed this results However, the credit seems mostly add power in post war period. Possible\n",
    "#reason is prewar, credit to GBP is steady thus cannot add much info to predict crisis\n",
    "    else:\n",
    "        X = training[['lag_2']]\n",
    "        #X = training[['lag_1', 'lag_2', 'lag_3', 'lag_4', 'lag_5']]\n",
    "\n",
    "    y = training['crisisST']\n",
    "    logis = LogisticRegression()\n",
    "    logis.fit(X, sign * y)\n",
    "    pre_pro = logis.predict_proba(X)[:, 1]\n",
    "    fpr, tpr, _ = roc_curve(y, pre_pro)\n",
    "    auc = roc_auc_score(y, pre_pro)\n",
    "    \n",
    "\n",
    "    print(f'auc: {auc}')\n",
    "    return fpr, tpr, auc\n",
    "\n",
    "data_fpr, data_tpr, _ = in_sample_logistic(data, -1)\n",
    "in_sample_logistic(data, -1, True)\n",
    "\n",
    "pre_fpr, pre_tpr, _ = in_sample_logistic(preW, -1)\n",
    "in_sample_logistic(preW, -1, True)\n",
    "\n",
    "in_sample_logistic(postW, 1)\n",
    "post_fpr, post_tpr, _ = in_sample_logistic(postW, 1, True)\n",
    "\n",
    "plt.plot([0, 1], [0, 1], 'k--')\n",
    "plt.plot(data_fpr,data_tpr)\n",
    "plt.plot(pre_fpr,pre_tpr)\n",
    "plt.plot(post_fpr,post_tpr)\n",
    "plt.legend(['benchmark', 'whole set', 'pre war', 'post war'])\n",
    "plt.title('In-sample AUC of logistic model')\n",
    "plt.ylabel('False positive rate')\n",
    "plt.xlabel('True positive rate')"
   ]
  },
  {
   "cell_type": "code",
   "execution_count": 8,
   "metadata": {},
   "outputs": [
    {
     "name": "stdout",
     "output_type": "stream",
     "text": [
      "auc: 0.5861360718870345\n",
      "auc: 0.5892169448010269\n",
      "auc: 0.42370129870129875\n",
      "auc: 0.5800865800865801\n",
      "auc: 0.7608543417366948\n",
      "auc: 0.38445378151260506\n"
     ]
    },
    {
     "data": {
      "text/plain": [
       "Text(0.5,0,'True positive rate')"
      ]
     },
     "execution_count": 8,
     "metadata": {},
     "output_type": "execute_result"
    },
    {
     "data": {
      "image/png": "[encoded data removed]",
      "text/plain": [
       "<matplotlib.figure.Figure at 0x7f515f2e9828>"
      ]
     },
     "metadata": {},
     "output_type": "display_data"
    }
   ],
   "source": [
    "def out_of_sample_logistic(whole, test, sign, credit=False):\n",
    "    if credit is True:\n",
    "        #X = whole[['lag_2', 'credit']]\n",
    "        X = whole[['lag_1', 'lag_2', 'lag_3', 'lag_4', 'lag_5', 'credit']]\n",
    "\n",
    "    else:\n",
    "        #X = whole[['lag_2']]\n",
    "        X = whole[['lag_1', 'lag_2', 'lag_3', 'lag_4', 'lag_5']]\n",
    "\n",
    "    y = whole['crisisST']\n",
    "    \n",
    "    trainSize = int(whole.shape[0]*(1-test))\n",
    "    X_train = X[:trainSize]\n",
    "    X_test = X[trainSize:]\n",
    "    y_train = y[:trainSize]\n",
    "    y_test = y[trainSize:]\n",
    "    \n",
    "    logis = LogisticRegression()\n",
    "    logis.fit(X_train, sign * y_train)\n",
    "    pre_pro = logis.predict_proba(X_test)[:, 1]\n",
    "    fpr, tpr, _ = roc_curve(y_test, pre_pro)\n",
    "    auc = roc_auc_score(y_test, pre_pro)\n",
    "\n",
    "    print(f'auc: {auc}')\n",
    "    return fpr, tpr, auc\n",
    "    \n",
    "whole_fpr, whole_tpr, _ = out_of_sample_logistic(data, 0.3, 1)\n",
    "out_of_sample_logistic(data, 0.3, 1, True)\n",
    "\n",
    "preW_fpr, preW_tpr, _ = out_of_sample_logistic(preW, 0.3, 1)\n",
    "out_of_sample_logistic(preW, 0.3, -1, True)\n",
    "\n",
    "postW_fpr, postW_tpr, _ = out_of_sample_logistic(postW, 0.3, 1)\n",
    "out_of_sample_logistic(postW, 0.3, 1, True)\n",
    "\n",
    "plt.plot([0, 1], [0, 1], 'k--')\n",
    "plt.plot(whole_fpr,whole_tpr)\n",
    "plt.plot(preW_fpr,preW_tpr)\n",
    "plt.plot(postW_fpr,postW_tpr)\n",
    "plt.legend(['benchmark', 'whole set', 'pre war', 'post war'])\n",
    "plt.title('Out-of-sample AUC of logistic regression')\n",
    "plt.ylabel('False positive rate')\n",
    "plt.xlabel('True positive rate')"
   ]
  },
  {
   "cell_type": "code",
   "execution_count": 9,
   "metadata": {
    "scrolled": false
   },
   "outputs": [
    {
     "name": "stdout",
     "output_type": "stream",
     "text": [
      "auc: 0.7370988446726572\n",
      "auc: 0.531193838254172\n",
      "auc: 0.7976190476190476\n",
      "auc: 0.6737012987012987\n",
      "auc: 0.7461484593837535\n",
      "auc: 0.6355042016806722\n"
     ]
    },
    {
     "data": {
      "text/plain": [
       "Text(0.5,0,'True positive rate')"
      ]
     },
     "execution_count": 9,
     "metadata": {},
     "output_type": "execute_result"
    },
    {
     "data": {
      "image/png": "[encoded data removed]",
      "text/plain": [
       "<matplotlib.figure.Figure at 0x7f515f23cef0>"
      ]
     },
     "metadata": {},
     "output_type": "display_data"
    }
   ],
   "source": [
    "def out_of_sample_logistic(whole, test, sign, credit=False):\n",
    "    if credit is True:\n",
    "        X = whole[['lag_2', 'credit']]\n",
    "    else:\n",
    "         X = whole[['lag_2']]\n",
    "    y = whole['crisisST']\n",
    "    \n",
    "    trainSize = int(whole.shape[0]*(1-test))\n",
    "    X_train = X[:trainSize]\n",
    "    X_test = X[trainSize:]\n",
    "    y_train = y[:trainSize]\n",
    "    y_test = y[trainSize:]    \n",
    "\n",
    "    logis = LogisticRegression()\n",
    "    logis.fit(X_train, sign * y_train)\n",
    "    pre_pro = logis.predict_proba(X_test)[:, 1]\n",
    "    fpr, tpr, _ = roc_curve(y_test, pre_pro)\n",
    "    auc = roc_auc_score(y_test, pre_pro)\n",
    "    to_rank = pd.DataFrame()\n",
    "    to_rank['prob'] = pre_pro\n",
    "    to_rank['true'] = y_test.values\n",
    "   \n",
    "    print(f'auc: {auc}')\n",
    "   \n",
    "    return fpr, tpr, auc, to_rank\n",
    "    \n",
    "whole_fpr, whole_tpr, _ , whToRank = out_of_sample_logistic(data, 0.3, -1)\n",
    "out_of_sample_logistic(data, 0.3, 1, True)\n",
    "\n",
    "preW_fpr, preW_tpr, _ , preToRank = out_of_sample_logistic(preW, 0.3, -1)\n",
    "out_of_sample_logistic(preW, 0.3, -1, True)\n",
    "\n",
    "postW_fpr, postW_tpr, _, postToRank = out_of_sample_logistic(postW, 0.3, 1)\n",
    "out_of_sample_logistic(postW, 0.3, -1, True)\n",
    "\n",
    "plt.plot([0, 1], [0, 1], 'k--')\n",
    "plt.plot(whole_fpr,whole_tpr)\n",
    "plt.plot(preW_fpr,preW_tpr)\n",
    "plt.plot(postW_fpr,postW_tpr)\n",
    "plt.legend(['benchmark', 'whole set', 'pre war', 'post war'])\n",
    "plt.title('Out-of-sample AUC of logistic regression')\n",
    "plt.ylabel('False positive rate')\n",
    "plt.xlabel('True positive rate')"
   ]
  },
  {
   "cell_type": "code",
   "execution_count": 10,
   "metadata": {},
   "outputs": [
    {
     "name": "stdout",
     "output_type": "stream",
     "text": [
      "|threshold|sensitiveity|falseAlarm|totalFlag|\n",
      "|0.9584492738912054|0.05263157894736842|0.875|0.018648018648018648|\n",
      "|0.9584156227543202|0.10526315789473684|0.8|0.023310023310023312|\n",
      "|0.9582944101957735|0.15789473684210525|0.8|0.03496503496503497|\n",
      "|0.9581720526209747|0.21052631578947367|0.84|0.05827505827505827|\n",
      "|0.9581434201492378|0.2631578947368421|0.8333333333333334|0.06993006993006994|\n",
      "|0.9580476223194564|0.3157894736842105|0.8604651162790697|0.10023310023310024|\n",
      "|0.9580060539159138|0.3684210526315789|0.86|0.11655011655011654|\n",
      "|0.9579924986498776|0.42105263157894735|0.8518518518518519|0.1258741258741259|\n",
      "|0.9579584325457295|0.47368421052631576|0.8571428571428571|0.14685314685314685|\n",
      "|0.9579263005580301|0.5263157894736842|0.8717948717948718|0.18181818181818182|\n",
      "|0.9579072932281031|0.5789473684210527|0.8817204301075269|0.21678321678321677|\n",
      "|0.9578986698802621|0.631578947368421|0.8811881188118812|0.23543123543123542|\n",
      "|0.9578854148873172|0.6842105263157895|0.8828828828828829|0.25874125874125875|\n",
      "|0.9578553847205481|0.7368421052631579|0.8931297709923665|0.30536130536130535|\n",
      "|0.9577269139408369|0.7894736842105263|0.9282296650717703|0.48717948717948717|\n",
      "|0.9576669020322022|0.8421052631578947|0.937007874015748|0.5920745920745921|\n",
      "|0.95763518803743|0.8947368421052632|0.9388489208633094|0.6480186480186481|\n",
      "|0.9575910472738063|0.9473684210526315|0.940983606557377|0.710955710955711|\n",
      "|0.9574512307806254|1.0|0.95|0.8857808857808858|\n"
     ]
    }
   ],
   "source": [
    "whToRank.sort_values('prob', ascending=False, inplace=True)\n",
    "thresholds = np.unique(whToRank['prob'][whToRank['true']==1])\n",
    "print('|threshold|sensitiveity|falseAlarm|totalFlag|')\n",
    "\n",
    "for i in np.flip(thresholds, axis=0):\n",
    "    modPosi = whToRank[whToRank['prob']>=i]\n",
    "    M11 = modPosi[modPosi['true']==1].shape[0]\n",
    "    M01 = modPosi.shape[0] - M11\n",
    "    modNega = whToRank[whToRank['prob']<i]\n",
    "    M10 = modNega[modNega['true']==1].shape[0]\n",
    "    M00 = modNega.shape[0] - M10\n",
    "    sensitivity = M11 /(M11 + M10) #percentage of crisis that was caught\n",
    "    falseAlarm = M01/ modPosi.shape[0] #percentage of false alarm\n",
    "    totalFlag = modPosi.shape[0] / whToRank.shape[0]\n",
    "    \n",
    "    print(f'|{i}|{sensitivity}|{falseAlarm}|{totalFlag}|')"
   ]
  },
  {
   "cell_type": "code",
   "execution_count": 13,
   "metadata": {},
   "outputs": [
    {
     "name": "stdout",
     "output_type": "stream",
     "text": [
      "auc: 0.6089129529362766\n",
      "auc: 0.5647887323943661\n",
      "auc: 0.5101606030809571\n"
     ]
    },
    {
     "data": {
      "text/plain": [
       "0.5612874294705333"
      ]
     },
     "execution_count": 13,
     "metadata": {},
     "output_type": "execute_result"
    }
   ],
   "source": [
    "total = 0.0\n",
    "for i in range(2, 5):\n",
    "    wholeSet = data[:int(data.shape[0]*(i/4.0))]\n",
    "    _, _, auc, _ = out_of_sample_logistic(wholeSet, (1.0/i), -1, True)\n",
    "    total += auc\n",
    "\n",
    "avg = total/3\n",
    "avg\n",
    "#prediction power OK for the whole set to slice into 5 block"
   ]
  },
  {
   "cell_type": "code",
   "execution_count": 14,
   "metadata": {},
   "outputs": [
    {
     "name": "stdout",
     "output_type": "stream",
     "text": [
      "auc: 0.6937568143522649\n",
      "auc: 0.7598684210526315\n",
      "auc: 0.7030106338903466\n",
      "auc: 0.7878746029553929\n",
      "auc: 0.780209617755857\n",
      "auc: 0.8358199753390876\n"
     ]
    },
    {
     "data": {
      "text/plain": [
       "Text(0.5,0,'True positive rate')"
      ]
     },
     "execution_count": 14,
     "metadata": {},
     "output_type": "execute_result"
    },
    {
     "data": {
      "image/png": "[encoded data removed]",
      "text/plain": [
       "<matplotlib.figure.Figure at 0x7f515f168048>"
      ]
     },
     "metadata": {},
     "output_type": "display_data"
    }
   ],
   "source": [
    "from sklearn import tree\n",
    "import graphviz \n",
    "#criterion=”gini”)\n",
    "#“entropy” for the information gain\n",
    "#entropy is nuts\n",
    "\n",
    "def in_sample_tree(training, maxD = 3, credit=False):\n",
    "    if credit is True:\n",
    "        X = training[['lag_2', 'credit']]\n",
    "\n",
    "    else:\n",
    "         X = training[['lag_2']]\n",
    "    y = training['crisisST']\n",
    "    treeClas = tree.DecisionTreeClassifier(criterion='entropy', max_depth=maxD)\n",
    "    treeClas.fit(X, y)\n",
    "    pre_pro = treeClas.predict_proba(X)[:, 1]\n",
    "    fpr, tpr, thr = roc_curve(y, pre_pro, drop_intermediate=False)\n",
    "    auc = roc_auc_score(y, pre_pro)\n",
    "    \n",
    "    print(f'auc: {auc}')\n",
    "    return fpr, tpr, auc\n",
    "\n",
    "in_sample_tree(data)\n",
    "data_fpr, data_tpr, _ = in_sample_tree(data, credit=True)\n",
    "\n",
    "in_sample_tree(preW)\n",
    "pre_fpr, pre_tpr, _ = in_sample_tree(preW, credit=True)\n",
    "\n",
    "in_sample_tree(postW)\n",
    "post_fpr, post_tpr, _ = in_sample_tree(postW, credit=True)\n",
    "#by changing maxD, all of these have the protetial to get auc to 1.0\n",
    "\n",
    "plt.plot([0, 1], [0, 1], 'k--')\n",
    "plt.plot(data_fpr,data_tpr)\n",
    "plt.plot(pre_fpr,pre_tpr)\n",
    "plt.plot(post_fpr,post_tpr)\n",
    "plt.legend(['benchmark', 'whole set', 'pre war', 'post war'])\n",
    "plt.title('In-sample AUC of classification tree')\n",
    "plt.ylabel('False positive rate')\n",
    "plt.xlabel('True positive rate')\n",
    "#picture looks like this is because of the number of threshold\n",
    "#np.unique(pre_pro).shape == thr.shape == fpr.shape == tpr.shape\n",
    "\n",
    "#This part really cannot do much compare, since tree has the protential to get 1.0 auc. So this is just a demostration"
   ]
  },
  {
   "cell_type": "code",
   "execution_count": 20,
   "metadata": {
    "scrolled": true
   },
   "outputs": [],
   "source": [
    "def out_of_sample_tree(whole, test, maxD = 3, credit=False, pri=False, criterion='gini'):\n",
    "    if credit is True:\n",
    "        X = whole[['lag_2', 'credit']]\n",
    "    else:\n",
    "         X = whole[['lag_2']]\n",
    "    y = whole['crisisST']\n",
    "    \n",
    "    trainSize = int(whole.shape[0]*(1-test))\n",
    "    X_train = X[:trainSize]\n",
    "    X_test = X[trainSize:]\n",
    "    y_train = y[:trainSize]\n",
    "    y_test = y[trainSize:]\n",
    "    if criterion=='gini':\n",
    "        treeClas = tree.DecisionTreeClassifier(criterion='gini', max_features='auto', max_depth=maxD, random_state=60)\n",
    "    elif criterion=='entropy':\n",
    "        treeClas = tree.DecisionTreeClassifier(criterion='entropy', max_depth=maxD)\n",
    "    treeClas.fit(X_train, y_train)\n",
    "    pre_pro = treeClas.predict_proba(X_test)[:, 1]\n",
    "    fpr, tpr, _ = roc_curve(y_test, pre_pro)\n",
    "    auc = roc_auc_score(y_test, pre_pro)\n",
    "    print('y_test')\n",
    "    print(y_test)\n",
    "    print('pre_pro')\n",
    "    print(pre_pro)\n",
    "    if pri:\n",
    "        print(f'auc: {auc}')\n",
    "    return fpr, tpr, auc\n",
    "\n",
    "#out of sample can compare gini and entropy"
   ]
  },
  {
   "cell_type": "code",
   "execution_count": 16,
   "metadata": {
    "scrolled": true
   },
   "outputs": [
    {
     "data": {
      "text/plain": [
       "Text(0.5,1,'Average AUC against maxmum depth')"
      ]
     },
     "execution_count": 16,
     "metadata": {},
     "output_type": "execute_result"
    },
    {
     "data": {
      "image/png": "[encoded data removed]",
      "text/plain": [
       "<matplotlib.figure.Figure at 0x7f515f247a90>"
      ]
     },
     "metadata": {},
     "output_type": "display_data"
    }
   ],
   "source": [
    "#basically cross validation to get optimal depth\n",
    "realDeap = 50\n",
    "testOF = pd.DataFrame(index=range(2, realDeap), columns=['wholeSet', 'wholeSet with credit', 'preW', 'preW with credit', 'postW', 'postW  with credit'])\n",
    "for maxDeepth in range(2, realDeap):\n",
    "    totalW = 0.0\n",
    "    totalWC = 0.0\n",
    "    totalPre = 0.0\n",
    "    totalPreC = 0.0\n",
    "    totalPos = 0.0\n",
    "    totalPosC = 0.0\n",
    "    for i in range(2, 6):\n",
    "        _, _, auc = out_of_sample_tree(data, (1.0/i), maxDeepth)\n",
    "        totalW += auc\n",
    "        _, _, auc = out_of_sample_tree(data, (1.0/i), maxDeepth,  True)\n",
    "        totalWC += auc\n",
    "\n",
    "        _, _, auc = out_of_sample_tree(preW, (1.0/i), maxDeepth)\n",
    "        totalPre += auc\n",
    "        _, _, auc = out_of_sample_tree(preW, (1.0/i), maxDeepth, True)\n",
    "        totalPreC += auc\n",
    "\n",
    "        _, _, auc = out_of_sample_tree(postW, (1.0/i), maxDeepth)\n",
    "        totalPos += auc\n",
    "\n",
    "        _, _, auc = out_of_sample_tree(postW, (1.0/i), maxDeepth, True)\n",
    "        totalPosC += auc\n",
    "\n",
    "    testOF['wholeSet'][maxDeepth] = totalW/4\n",
    "    testOF['wholeSet with credit'][maxDeepth] = totalWC/4\n",
    "    testOF['preW'][maxDeepth] = totalPre/4\n",
    "    testOF['preW with credit'][maxDeepth] = totalPreC/4\n",
    "    testOF['postW'][maxDeepth] = totalPos/4\n",
    "    testOF['postW  with credit'][maxDeepth]= totalPosC/4\n",
    "plt.figure()               \n",
    "plt.plot(range(2, realDeap), testOF)\n",
    "plt.plot(range(2, realDeap), np.ones(realDeap - 2)*0.5, 'k--')\n",
    "plt.legend(['wholeSet', 'wholeSet with credit', 'preW', 'preW with credit', 'postW', 'postW  with credit'])\n",
    "plt.xlabel('Max depth')\n",
    "plt.ylabel('average AUC')\n",
    "plt.title('Average AUC against maxmum depth')"
   ]
  },
  {
   "cell_type": "code",
   "execution_count": 21,
   "metadata": {
    "scrolled": false
   },
   "outputs": [
    {
     "name": "stdout",
     "output_type": "stream",
     "text": [
      "y_test\n",
      "288     0\n",
      "1320    0\n",
      "999     0\n",
      "789     0\n",
      "390     0\n",
      "904     0\n",
      "1206    0\n",
      "391     0\n",
      "1000    0\n",
      "207     0\n",
      "1088    0\n",
      "790     0\n",
      "576     0\n",
      "491     0\n",
      "90      1\n",
      "1321    0\n",
      "1413    0\n",
      "289     0\n",
      "682     0\n",
      "905     0\n",
      "906     1\n",
      "91      0\n",
      "1089    0\n",
      "1207    0\n",
      "492     0\n",
      "290     0\n",
      "683     0\n",
      "1322    0\n",
      "1001    0\n",
      "577     0\n",
      "       ..\n",
      "807     0\n",
      "508     0\n",
      "409     0\n",
      "307     0\n",
      "1339    0\n",
      "594     0\n",
      "225     0\n",
      "700     0\n",
      "108     0\n",
      "808     1\n",
      "923     0\n",
      "1018    0\n",
      "1106    0\n",
      "1224    0\n",
      "509     0\n",
      "1431    1\n",
      "226     0\n",
      "109     0\n",
      "410     1\n",
      "510     0\n",
      "595     1\n",
      "701     1\n",
      "1340    1\n",
      "809     0\n",
      "924     1\n",
      "1019    0\n",
      "1107    1\n",
      "1225    0\n",
      "308     1\n",
      "1432    0\n",
      "Name: crisisST, Length: 286, dtype: int64\n",
      "pre_pro\n",
      "[0. 0. 0. 0. 0. 0. 0. 0. 0. 0. 0. 0. 0. 0. 0. 0. 0. 0. 0. 1. 0. 0. 0. 0.\n",
      " 0. 1. 0. 0. 0. 0. 0. 0. 0. 0. 0. 1. 0. 0. 0. 0. 0. 0. 0. 0. 0. 0. 0. 0.\n",
      " 0. 0. 0. 0. 0. 0. 0. 1. 0. 1. 0. 0. 0. 0. 0. 0. 0. 0. 0. 0. 0. 0. 0. 0.\n",
      " 0. 0. 0. 0. 0. 0. 0. 0. 0. 0. 0. 0. 0. 0. 0. 0. 0. 0. 0. 0. 0. 0. 0. 1.\n",
      " 0. 0. 0. 0. 0. 0. 0. 0. 0. 0. 0. 0. 1. 0. 0. 0. 0. 0. 0. 0. 0. 0. 0. 0.\n",
      " 1. 0. 0. 0. 0. 0. 0. 0. 0. 0. 0. 0. 0. 0. 0. 0. 0. 0. 0. 0. 0. 0. 0. 0.\n",
      " 0. 0. 0. 1. 0. 1. 0. 0. 0. 0. 0. 0. 0. 0. 0. 0. 0. 0. 0. 0. 0. 0. 0. 0.\n",
      " 0. 0. 0. 0. 0. 0. 0. 0. 0. 0. 0. 0. 0. 0. 0. 0. 0. 0. 0. 0. 0. 0. 0. 0.\n",
      " 0. 0. 0. 0. 0. 0. 0. 0. 0. 0. 0. 0. 0. 0. 0. 0. 0. 0. 0. 0. 0. 0. 0. 0.\n",
      " 0. 0. 0. 0. 0. 0. 0. 0. 0. 0. 0. 0. 0. 0. 0. 0. 0. 0. 0. 0. 0. 1. 0. 0.\n",
      " 0. 0. 0. 0. 0. 0. 0. 0. 0. 0. 0. 0. 0. 0. 0. 0. 0. 0. 0. 1. 0. 0. 0. 0.\n",
      " 0. 0. 0. 0. 0. 0. 0. 0. 0. 0. 0. 0. 0. 0. 0. 0. 0. 0. 0. 0. 1. 0.]\n",
      "auc: 0.5136554621848739\n",
      "y_test\n",
      "529     0\n",
      "740     0\n",
      "444     0\n",
      "1363    0\n",
      "157     0\n",
      "1038    0\n",
      "1156    0\n",
      "1273    0\n",
      "45      0\n",
      "239     0\n",
      "344     0\n",
      "956     0\n",
      "240     1\n",
      "1274    1\n",
      "741     0\n",
      "158     0\n",
      "530     1\n",
      "859     0\n",
      "1039    0\n",
      "1364    0\n",
      "345     1\n",
      "635     0\n",
      "46      0\n",
      "445     1\n",
      "1157    1\n",
      "446     0\n",
      "1040    0\n",
      "531     0\n",
      "957     0\n",
      "742     0\n",
      "       ..\n",
      "961     0\n",
      "746     0\n",
      "245     0\n",
      "864     0\n",
      "865     0\n",
      "164     0\n",
      "1280    0\n",
      "1163    0\n",
      "1045    0\n",
      "351     0\n",
      "641     0\n",
      "1370    0\n",
      "962     0\n",
      "451     0\n",
      "747     0\n",
      "52      0\n",
      "246     0\n",
      "247     0\n",
      "352     0\n",
      "866     0\n",
      "452     0\n",
      "642     0\n",
      "963     0\n",
      "1281    0\n",
      "1371    0\n",
      "1164    0\n",
      "1046    0\n",
      "748     0\n",
      "165     0\n",
      "53      0\n",
      "Name: crisisST, Length: 120, dtype: int64\n",
      "pre_pro\n",
      "[0. 0. 0. 0. 0. 0. 0. 0. 0. 0. 0. 0. 0. 0. 0. 0. 0. 0. 0. 0. 0. 0. 0. 0.\n",
      " 0. 0. 0. 0. 0. 0. 0. 0. 0. 0. 0. 0. 0. 0. 0. 0. 1. 0. 0. 0. 0. 1. 0. 0.\n",
      " 0. 0. 0. 0. 0. 0. 0. 0. 0. 0. 0. 0. 0. 0. 0. 0. 0. 0. 0. 0. 0. 0. 0. 0.\n",
      " 0. 0. 0. 0. 0. 0. 0. 0. 0. 0. 0. 0. 0. 0. 0. 0. 0. 0. 0. 1. 0. 0. 0. 0.\n",
      " 0. 0. 0. 0. 0. 0. 0. 0. 0. 0. 1. 0. 0. 0. 0. 0. 0. 0. 0. 0. 0. 0. 0. 0.]\n",
      "auc: 0.4823008849557522\n",
      "y_test\n",
      "1329    0\n",
      "297     0\n",
      "1008    0\n",
      "584     0\n",
      "98      0\n",
      "499     0\n",
      "1214    0\n",
      "1421    0\n",
      "913     0\n",
      "399     0\n",
      "215     0\n",
      "798     0\n",
      "1096    0\n",
      "914     0\n",
      "1422    0\n",
      "1330    0\n",
      "1009    0\n",
      "298     0\n",
      "691     0\n",
      "1097    0\n",
      "216     0\n",
      "99      0\n",
      "585     0\n",
      "500     0\n",
      "1215    0\n",
      "799     0\n",
      "400     0\n",
      "915     0\n",
      "501     0\n",
      "299     0\n",
      "       ..\n",
      "807     0\n",
      "508     0\n",
      "409     0\n",
      "307     0\n",
      "1339    0\n",
      "594     0\n",
      "225     0\n",
      "700     0\n",
      "108     0\n",
      "808     1\n",
      "923     0\n",
      "1018    0\n",
      "1106    0\n",
      "1224    0\n",
      "509     0\n",
      "1431    1\n",
      "226     0\n",
      "109     0\n",
      "410     1\n",
      "510     0\n",
      "595     1\n",
      "701     1\n",
      "1340    1\n",
      "809     0\n",
      "924     1\n",
      "1019    0\n",
      "1107    1\n",
      "1225    0\n",
      "308     1\n",
      "1432    0\n",
      "Name: crisisST, Length: 167, dtype: int64\n",
      "pre_pro\n",
      "[0. 0. 0. 0. 0. 0. 0. 0. 0. 0. 0. 0. 0. 0. 0. 0. 0. 0. 0. 0. 0. 1. 0. 0.\n",
      " 0. 0. 0. 0. 0. 0. 0. 0. 0. 0. 0. 0. 0. 0. 0. 0. 0. 0. 0. 0. 0. 0. 0. 0.\n",
      " 0. 0. 0. 0. 0. 0. 0. 0. 0. 0. 0. 0. 0. 0. 0. 0. 0. 0. 0. 0. 0. 0. 0. 0.\n",
      " 0. 0. 0. 0. 0. 0. 0. 0. 0. 0. 0. 0. 0. 0. 0. 0. 0. 0. 0. 0. 0. 0. 0. 0.\n",
      " 0. 0. 0. 0. 0. 0. 0. 0. 0. 0. 0. 0. 0. 0. 0. 0. 0. 0. 0. 0. 0. 0. 0. 0.\n",
      " 0. 0. 0. 0. 0. 0. 0. 1. 0. 0. 0. 0. 0. 0. 0. 0. 0. 0. 0. 0. 0. 0. 0. 0.\n",
      " 0. 0. 0. 0. 0. 0. 0. 1. 0. 0. 0. 0. 1. 0. 0. 0. 0. 0. 0. 0. 0. 0. 0.]\n",
      "auc: 0.4873417721518987\n"
     ]
    },
    {
     "data": {
      "text/plain": [
       "Text(0.5,1,'AUC when models are over fitted')"
      ]
     },
     "execution_count": 21,
     "metadata": {},
     "output_type": "execute_result"
    },
    {
     "data": {
      "image/png": "[encoded data removed]",
      "text/plain": [
       "<matplotlib.figure.Figure at 0x7f515e4e0f60>"
      ]
     },
     "metadata": {},
     "output_type": "display_data"
    }
   ],
   "source": [
    "#out of sample test, gini outperform entropy, can quickly run entropy when writing report\n",
    "data_fpr, data_tpr, _ = out_of_sample_tree(data, 0.20, 25, credit=True, pri=True )\n",
    "preW_fpr, preW_tpr, _ = out_of_sample_tree(preW, 0.20, 25, credit=True, pri=True )\n",
    "postW_fpr, postW_tpr, _ = out_of_sample_tree(postW, 0.20, 25, True, True)\n",
    "plt.plot([0, 1], [0, 1], 'k--')\n",
    "plt.plot(data_fpr,data_tpr)\n",
    "plt.plot(preW_fpr,preW_tpr)\n",
    "plt.plot(postW_fpr,postW_tpr)\n",
    "plt.legend(['benchmark', 'whole set', 'pre war', 'post war'])\n",
    "plt.ylabel('False positive rate')\n",
    "plt.xlabel('True positive rate')\n",
    "plt.title('AUC when models are over fitted')"
   ]
  },
  {
   "cell_type": "code",
   "execution_count": 18,
   "metadata": {},
   "outputs": [
    {
     "data": {
      "text/plain": [
       "array([0.        , 0.04411765, 1.        ])"
      ]
     },
     "execution_count": 18,
     "metadata": {},
     "output_type": "execute_result"
    }
   ],
   "source": [
    "data_fpr"
   ]
  },
  {
   "cell_type": "code",
   "execution_count": 19,
   "metadata": {},
   "outputs": [
    {
     "data": {
      "text/plain": [
       "array([0.        , 0.07142857, 1.        ])"
      ]
     },
     "execution_count": 19,
     "metadata": {},
     "output_type": "execute_result"
    }
   ],
   "source": [
    "data_tpr"
   ]
  },
  {
   "cell_type": "code",
   "execution_count": 14,
   "metadata": {
    "scrolled": true
   },
   "outputs": [
    {
     "data": {
      "text/plain": [
       "{'postW': 3,\n",
       " 'postW  with credit': 3,\n",
       " 'preW': 3,\n",
       " 'preW with credit': 4,\n",
       " 'wholeSet': 7,\n",
       " 'wholeSet with credit': 5}"
      ]
     },
     "execution_count": 14,
     "metadata": {},
     "output_type": "execute_result"
    }
   ],
   "source": [
    "import math\n",
    "got = {}\n",
    "for index, row in testOF[testOF==testOF.max(axis=0)].iterrows():\n",
    "    for key in row.keys():\n",
    "        if not math.isnan(row[key]):\n",
    "            got[key] = index\n",
    "got\n",
    "    "
   ]
  },
  {
   "cell_type": "code",
   "execution_count": 225,
   "metadata": {},
   "outputs": [
    {
     "name": "stdout",
     "output_type": "stream",
     "text": [
      "410 0 19 0\n",
      "false alarm: nan\n",
      "missing target: 0.04428904428904429\n",
      "auc: 0.5600770218228498\n",
      "166 2 11 0\n",
      "false alarm: 1.0\n",
      "missing target: 0.062146892655367235\n",
      "auc: 0.6350108225108225\n",
      "236 2 12 0\n",
      "false alarm: 1.0\n",
      "missing target: 0.04838709677419355\n",
      "auc: 0.4411764705882353\n"
     ]
    },
    {
     "name": "stderr",
     "output_type": "stream",
     "text": [
      "/home/lin/.pyenv/versions/3.6.3/lib/python3.6/site-packages/ipykernel_launcher.py:25: RuntimeWarning: invalid value encountered in true_divide\n"
     ]
    },
    {
     "data": {
      "text/plain": [
       "<matplotlib.legend.Legend at 0x7f47373d1cc0>"
      ]
     },
     "execution_count": 225,
     "metadata": {},
     "output_type": "execute_result"
    },
    {
     "data": {
      "image/png": "[encoded data removed]",
      "text/plain": [
       "<matplotlib.figure.Figure at 0x7f4737476ef0>"
      ]
     },
     "metadata": {},
     "output_type": "display_data"
    }
   ],
   "source": [
    "#out of sample test, gini outperform entropy, can quickly run entropy when writing report\n",
    "data_fpr, data_tpr, _ = out_of_sample_tree(data, 0.3, 3, credit=True, pri=True )\n",
    "preW_fpr, preW_tpr, _ = out_of_sample_tree(preW, 0.3, 3, credit=True, pri=True )\n",
    "postW_fpr, postW_tpr, _ = out_of_sample_tree(postW, 0.3, 5, True, True)\n",
    "plt.plot([0, 1], [0, 1], 'k--')\n",
    "plt.plot(data_fpr,data_tpr)\n",
    "plt.plot(preW_fpr,preW_tpr)\n",
    "plt.plot(postW_fpr,postW_tpr)\n",
    "plt.legend(['benchmark', 'whole set', 'pre war', 'post war'])"
   ]
  },
  {
   "cell_type": "code",
   "execution_count": 422,
   "metadata": {
    "scrolled": false
   },
   "outputs": [
    {
     "name": "stdout",
     "output_type": "stream",
     "text": [
      "811 0 18 2\n",
      "auc: 0.8458076448828606\n",
      "false alarm: 0.0\n",
      "missing target: 0.021712907117008445\n"
     ]
    },
    {
     "data": {
      "text/plain": [
       "'/home/lin/教材/MearchineLearning/assignmentOneReport/app_samedata_2.pdf.pdf'"
      ]
     },
     "execution_count": 422,
     "metadata": {},
     "output_type": "execute_result"
    }
   ],
   "source": [
    "\n",
    "def in_sample_treePlot(training, maxD = 3, credit=False):\n",
    "    if credit is True:\n",
    "        X = training[['lag_2', 'credit']]\n",
    "\n",
    "    else:\n",
    "         X = training[['lag_2']]\n",
    "    y = training['crisisST']\n",
    "    treeClas = tree.DecisionTreeClassifier(criterion='entropy', max_depth=maxD, max_features='auto', random_state=None)\n",
    "    treeClas.fit(X, y)\n",
    "    pre_pro = treeClas.predict_proba(X)[:, 1]\n",
    "    fpr, tpr, thr = roc_curve(y, pre_pro, drop_intermediate=False)\n",
    "    auc = roc_auc_score(y, pre_pro)\n",
    "    dot_data = tree.export_graphviz(treeClas, out_file=None, \n",
    "                         feature_names=['lag_2', 'credit'],  \n",
    "                         class_names='crisis',  \n",
    "                         filled=True, rounded=True,  \n",
    "                         special_characters=True)  \n",
    "    graph = graphviz.Source(dot_data)\n",
    "    \n",
    "    prediction = treeClas.predict(X)\n",
    "    tn, fp, fn, tp = confusion_matrix(y, prediction).ravel()\n",
    "    print(tn, fp, fn, tp)\n",
    "    false_alarm = fp/(1.0*tp + fp)\n",
    "    missing_target = fn/(1.0*fn + tn)\n",
    "\n",
    "    print(f'auc: {auc}')\n",
    "    print(f'false alarm: {false_alarm}')\n",
    "    print(f'missing target: {missing_target}')\n",
    "    return graph\n",
    "\n",
    "#in_sample_treePlot(postW, credit=True)\n",
    "\n",
    "\n",
    "in_sample_treePlot(postW, credit=True).render(filename='/home/lin/教材/MearchineLearning/assignmentOneReport/app_samedata_2.pdf')\n"
   ]
  },
  {
   "cell_type": "code",
   "execution_count": 394,
   "metadata": {},
   "outputs": [
    {
     "name": "stdout",
     "output_type": "stream",
     "text": [
      "auc: 0.7605622460105066\n",
      "auc: 0.7840965407869958\n",
      "auc: 0.8095797081434425\n",
      "auc: 0.8340928969295217\n",
      "auc: 0.8978113440197287\n",
      "auc: 0.9462392108508015\n"
     ]
    },
    {
     "data": {
      "text/plain": [
       "Text(0.5,0,'True positive rate')"
      ]
     },
     "execution_count": 394,
     "metadata": {},
     "output_type": "execute_result"
    }
   ],
   "source": [
    "from sklearn.ensemble import RandomForestClassifier\n",
    "def in_sample_forest(training, maxD = 3, credit=False):\n",
    "    if credit is True:\n",
    "        X = training[['lag_2', 'credit']]\n",
    "\n",
    "    else:\n",
    "         X = training[['lag_2']]\n",
    "    y = training['crisisST']\n",
    "    foreClas = RandomForestClassifier(criterion='gini', max_depth=maxD)\n",
    "    foreClas.fit(X, y)\n",
    "    pre_pro = foreClas.predict_proba(X)[:, 1]\n",
    "    fpr, tpr, thr = roc_curve(y, pre_pro, drop_intermediate=False)\n",
    "    auc = roc_auc_score(y, pre_pro)\n",
    "    \n",
    "    print(f'auc: {auc}')\n",
    "    \n",
    "    return fpr, tpr, auc\n",
    "\n",
    "in_sample_forest(data)\n",
    "data_fpr, data_tpr, _ = in_sample_forest(data, credit=True)\n",
    "\n",
    "in_sample_forest(preW)\n",
    "pre_fpr, pre_tpr, _ = in_sample_forest(preW, credit=True)\n",
    "\n",
    "post_fpr, post_tpr, _ = in_sample_forest(postW)\n",
    "in_sample_forest(postW, credit=True)\n",
    "\n",
    "plt.plot([0, 1], [0, 1], 'k--')\n",
    "plt.plot(data_fpr,data_tpr)\n",
    "plt.plot(pre_fpr,pre_tpr)\n",
    "plt.plot(post_fpr,post_tpr)\n",
    "plt.legend(['benchmark', 'whole set', 'pre war', 'post war'])\n",
    "plt.title('In-sample AUC of classification forest')\n",
    "plt.ylabel('False positive rate')\n",
    "plt.xlabel('True positive rate')\n",
    "#with default depth 3, greatly out perform tree"
   ]
  },
  {
   "cell_type": "code",
   "execution_count": 406,
   "metadata": {},
   "outputs": [],
   "source": [
    "def out_of_sample_forest(whole, test, maxD = 3, credit=False, pri=False, criterion='gini'):\n",
    "    if credit is True:\n",
    "        X = whole[['lag_2', 'credit']]\n",
    "    else:\n",
    "         X = whole[['lag_2']]\n",
    "    y = whole['crisisST']\n",
    "    \n",
    "    trainSize = int(whole.shape[0]*(1-test))\n",
    "    X_train = X[:trainSize]\n",
    "    X_test = X[trainSize:]\n",
    "    y_train = y[:trainSize]\n",
    "    y_test = y[trainSize:]\n",
    "    if criterion=='gini':\n",
    "        foreClas = RandomForestClassifier(criterion='gini', max_features='auto', max_depth=maxD, random_state=None, bootstrap=False)\n",
    "    elif criterion=='entropy':\n",
    "        foreClas = RandomForestClassifier(criterion='entropy', max_depth=maxD)\n",
    "    foreClas.fit(X_train, y_train)\n",
    "    pre_pro = foreClas.predict_proba(X_test)[:, 1]\n",
    "    fpr, tpr, _ = roc_curve(y_test, pre_pro)\n",
    "    auc = roc_auc_score(y_test, pre_pro)\n",
    "\n",
    "    to_rank = pd.DataFrame()\n",
    "    to_rank['prob'] = pre_pro\n",
    "    to_rank['true'] = y_test.values\n",
    "\n",
    "    if pri:\n",
    "        print(f'auc: {auc}')\n",
    "    return fpr, tpr, auc, to_rank\n",
    "\n",
    "#out of sample can compare gini and entropy"
   ]
  },
  {
   "cell_type": "code",
   "execution_count": 408,
   "metadata": {},
   "outputs": [
    {
     "data": {
      "text/plain": [
       "Text(0,0.5,'average AUC')"
      ]
     },
     "execution_count": 408,
     "metadata": {},
     "output_type": "execute_result"
    }
   ],
   "source": [
    "#basically cross validation to get optimal depth\n",
    "realDeap = 50\n",
    "testOF = pd.DataFrame(index=range(2, realDeap), columns=['wholeSet', 'wholeSet with credit', 'preW', 'preW with credit', 'postW', 'postW  with credit'])\n",
    "for maxDeepth in range(2, realDeap):\n",
    "    totalW = 0.0\n",
    "    totalWC = 0.0\n",
    "    totalPre = 0.0\n",
    "    totalPreC = 0.0\n",
    "    totalPos = 0.0\n",
    "    totalPosC = 0.0\n",
    "    for i in range(2, 6):\n",
    "        _, _, auc, _ = out_of_sample_forest(data, (1.0/i), maxDeepth)\n",
    "        totalW += auc\n",
    "        _, _, auc, _  = out_of_sample_forest(data, (1.0/i), maxDeepth,  True)\n",
    "        totalWC += auc\n",
    "\n",
    "        _, _, auc, _  = out_of_sample_forest(preW, (1.0/i), maxDeepth)\n",
    "        totalPre += auc\n",
    "        _, _, auc, _  = out_of_sample_forest(preW, (1.0/i), maxDeepth, True)\n",
    "        totalPreC += auc\n",
    "\n",
    "        _, _, auc, _  = out_of_sample_forest(postW, (1.0/i), maxDeepth)\n",
    "        totalPos += auc\n",
    "\n",
    "        _, _, auc, _  = out_of_sample_forest(postW, (1.0/i), maxDeepth, True)\n",
    "        totalPosC += auc\n",
    "\n",
    "    testOF['wholeSet'][maxDeepth] = totalW/4\n",
    "    testOF['wholeSet with credit'][maxDeepth] = totalWC/4\n",
    "    testOF['preW'][maxDeepth] = totalPre/4\n",
    "    testOF['preW with credit'][maxDeepth] = totalPreC/4\n",
    "\n",
    "    testOF['postW'][maxDeepth] = totalPos/4\n",
    "    testOF['postW  with credit'][maxDeepth]= totalPosC/4\n",
    "plt.figure()\n",
    "plt.plot(range(2, realDeap), testOF)\n",
    "plt.plot(range(2, realDeap), np.ones(realDeap - 2)*0.5, 'k--')\n",
    "plt.legend(['wholeSet', 'wholeSet with credit', 'preW', 'preW with credit', 'postW', 'postW  with credit'])\n",
    "plt.title('Limited max feature with no bootstrap')\n",
    "plt.xlabel('Max depth')\n",
    "plt.ylabel('average AUC')\n",
    "    \n",
    "#waht is this pattern? Seems forest already take care of some cross validation"
   ]
  },
  {
   "cell_type": "code",
   "execution_count": 346,
   "metadata": {},
   "outputs": [
    {
     "data": {
      "text/plain": [
       "{'postW': 3,\n",
       " 'postW  with credit': 3,\n",
       " 'preW': 3,\n",
       " 'preW with credit': 4,\n",
       " 'wholeSet': 7,\n",
       " 'wholeSet with credit': 5}"
      ]
     },
     "execution_count": 346,
     "metadata": {},
     "output_type": "execute_result"
    }
   ],
   "source": [
    "import math\n",
    "got = {}\n",
    "for index, row in testOF[testOF==testOF.max(axis=0)].iterrows():\n",
    "    for key in row.keys():\n",
    "        if not math.isnan(row[key]):\n",
    "            got[key] = index\n",
    "got\n",
    "    "
   ]
  },
  {
   "cell_type": "code",
   "execution_count": 353,
   "metadata": {},
   "outputs": [
    {
     "name": "stdout",
     "output_type": "stream",
     "text": [
      "auc: 0.6707958921694479\n",
      "auc: 0.6204004329004329\n",
      "auc: 0.5133053221288516\n"
     ]
    },
    {
     "data": {
      "text/plain": [
       "<matplotlib.legend.Legend at 0x7f4730c39f28>"
      ]
     },
     "execution_count": 353,
     "metadata": {},
     "output_type": "execute_result"
    }
   ],
   "source": [
    "data_fpr, data_tpr, _, whToRank = out_of_sample_forest(data, 0.3, 3,  False, True)\n",
    "preW_fpr, preW_tpr, _, _  = out_of_sample_forest(preW, 0.3, 3, False, pri=True)#a bit deeper\n",
    "postW_fpr, postW_tpr, _, _  = out_of_sample_forest(postW, 0.3, 5, True, True)#max depth lower\n",
    "plt.plot([0, 1], [0, 1], 'k--')\n",
    "plt.plot(data_fpr,data_tpr)\n",
    "plt.plot(preW_fpr,preW_tpr)\n",
    "plt.plot(postW_fpr,postW_tpr)\n",
    "plt.legend(['benchmark', 'whole set', 'pre war', 'post war'])"
   ]
  },
  {
   "cell_type": "code",
   "execution_count": 361,
   "metadata": {},
   "outputs": [
    {
     "name": "stdout",
     "output_type": "stream",
     "text": [
      "|threshold|sensitiveity|falseAlarm|totalFlag|\n",
      "|0.31087996870780027|0.05263157894736842|0.0|0.002331002331002331|\n",
      "|0.15586808878177918|0.10526315789473684|0.5|0.009324009324009324|\n",
      "|0.0538083675328781|0.15789473684210525|0.9090909090909091|0.07692307692307693|\n",
      "|0.047849724485387976|0.3684210526315789|0.8939393939393939|0.15384615384615385|\n",
      "|0.04160062144965254|0.7368421052631579|0.9366515837104072|0.5151515151515151|\n",
      "|0.03808155845225508|0.8421052631578947|0.9382239382239382|0.6037296037296037|\n",
      "|0.03176986812156413|0.8947368421052632|0.9388489208633094|0.6480186480186481|\n",
      "|0.010696363086234579|0.9473684210526315|0.95|0.8391608391608392|\n",
      "|0.00829026056619624|1.0|0.9557109557109557|1.0|\n"
     ]
    }
   ],
   "source": [
    "whToRank.sort_values('prob', ascending=False, inplace=True)\n",
    "thresholds = np.unique(whToRank['prob'][whToRank['true']==1])\n",
    "print('|threshold|sensitiveity|falseAlarm|totalFlag|')\n",
    "\n",
    "for i in np.flip(thresholds, axis=0):\n",
    "    modPosi = whToRank[whToRank['prob']>=i]\n",
    "    M11 = modPosi[modPosi['true']==1].shape[0]\n",
    "    M01 = modPosi.shape[0] - M11\n",
    "    modNega = whToRank[whToRank['prob']<i]\n",
    "    M10 = modNega[modNega['true']==1].shape[0]\n",
    "    M00 = modNega.shape[0] - M10\n",
    "    sensitivity = M11 /(M11 + M10) #percentage of crisis that was caught\n",
    "    falseAlarm = M01/ modPosi.shape[0] #percentage of false alarm\n",
    "    totalFlag = modPosi.shape[0] / whToRank.shape[0]\n",
    "    \n",
    "    print(f'|{i}|{sensitivity}|{falseAlarm}|{totalFlag}|')"
   ]
  },
  {
   "cell_type": "code",
   "execution_count": 160,
   "metadata": {},
   "outputs": [
    {
     "data": {
      "text/plain": [
       "<matplotlib.legend.Legend at 0x7f4738ba9f98>"
      ]
     },
     "execution_count": 160,
     "metadata": {},
     "output_type": "execute_result"
    },
    {
     "data": {
      "image/png": "[encoded data removed]",
      "text/plain": [
       "<matplotlib.figure.Figure at 0x7f47392c1d30>"
      ]
     },
     "metadata": {},
     "output_type": "display_data"
    }
   ],
   "source": [
    "Crisis = data[data['crisisST'] == 1]\n",
    "Normal = data[data['crisisST'] == 0]\n",
    "#%matplotlib tk\n",
    "plt.scatter(Normal['credit'], Normal['lag_2'])\n",
    "plt.scatter(Crisis['credit'], Crisis['lag_2'], alpha = 0.7)\n",
    "plt.legend(['Normal', 'Crisis'])\n",
    "#based on this plot I dont think linear line will do well"
   ]
  },
  {
   "cell_type": "code",
   "execution_count": 374,
   "metadata": {},
   "outputs": [
    {
     "name": "stdout",
     "output_type": "stream",
     "text": [
      "auc: 0.3312270789969273\n",
      "auc: 0.6492714837942314\n",
      "auc: 0.32357409197624637\n",
      "auc: 0.6429590756341205\n",
      "auc: 0.694327990135635\n",
      "auc: 0.6645499383477188\n"
     ]
    },
    {
     "data": {
      "text/plain": [
       "<matplotlib.legend.Legend at 0x7f47309f28d0>"
      ]
     },
     "execution_count": 374,
     "metadata": {},
     "output_type": "execute_result"
    }
   ],
   "source": [
    "from sklearn.svm import SVC\n",
    "\n",
    "\n",
    "def in_sample_SVM(training, kernel = 'sigmoid', credit=False):\n",
    "    if credit is True:\n",
    "        X = training[['lag_2', 'credit']]\n",
    "        #X = training[['lag_1', 'lag_2', 'lag_3', 'lag_4', 'lag_5', 'credit']]\n",
    "\n",
    "    else:\n",
    "        X = training[['lag_2']]\n",
    "        #X = training[['lag_1', 'lag_2', 'lag_3', 'lag_4', 'lag_5']]\n",
    "\n",
    "    y = training['crisisST']\n",
    "    svmClas = SVC(kernel=kernel, probability=True)\n",
    "    svmClas.fit(X, y)\n",
    "    pre_pro = svmClas.predict_proba(X)[:, 1]\n",
    "    fpr, tpr, thr = roc_curve(y, pre_pro, drop_intermediate=False)\n",
    "    auc = roc_auc_score(y, pre_pro)\n",
    "    \n",
    "    print(f'auc: {auc}')\n",
    "    \n",
    "    return fpr, tpr, auc\n",
    "\n",
    "in_sample_SVM(data)\n",
    "data_fpr, data_tpr, _ = in_sample_SVM(data, credit=True)\n",
    "\n",
    "in_sample_SVM(preW)\n",
    "pre_fpr, pre_tpr, _ = in_sample_SVM(preW, credit=True)\n",
    "\n",
    "in_sample_SVM(postW)\n",
    "post_fpr, post_tpr, _ = in_sample_SVM(postW, credit=True)\n",
    "\n",
    "plt.plot([0, 1], [0, 1], 'k--')\n",
    "plt.plot(data_fpr,data_tpr)\n",
    "plt.plot(pre_fpr,pre_tpr)\n",
    "plt.plot(post_fpr,post_tpr)\n",
    "plt.legend(['benchmark', 'whole set', 'pre war', 'post war'])"
   ]
  },
  {
   "cell_type": "code",
   "execution_count": 24,
   "metadata": {},
   "outputs": [],
   "source": [
    "#kernel : string, optional (default=’rbf’)\n",
    "#‘linear’, ‘poly’, ‘rbf’, ‘sigmoid’, ‘precomputed’ \n",
    "#degree : int, optional (default=3)\n",
    "#study this sigmoid kernel and include in report"
   ]
  },
  {
   "cell_type": "code",
   "execution_count": 379,
   "metadata": {},
   "outputs": [],
   "source": [
    "def out_of_sample_SVM(whole, test, kernel = 'sigmoid', credit=False):\n",
    "    if credit is True:\n",
    "        X = whole[['lag_2', 'credit']]\n",
    "        #X = whole[['lag_1', 'lag_2', 'lag_3', 'lag_4', 'lag_5', 'credit']]\n",
    "\n",
    "    else:\n",
    "        X = whole[['lag_2']]\n",
    "        #X = whole[['lag_1', 'lag_2', 'lag_3', 'lag_4', 'lag_5']]\n",
    "\n",
    "    y = whole['crisisST']\n",
    "    \n",
    "    trainSize = int(whole.shape[0]*(1-test))\n",
    "    X_train = X[:trainSize]\n",
    "    X_test = X[trainSize:]\n",
    "    y_train = y[:trainSize]\n",
    "    y_test = y[trainSize:]\n",
    "    \n",
    "    svmClas = SVC(kernel=kernel, probability=True)\n",
    "    svmClas.fit(X_train, y_train)\n",
    "    pre_pro = svmClas.predict_proba(X_test)[:, 1]\n",
    "    fpr, tpr, _ = roc_curve(y_test, pre_pro)\n",
    "    auc = roc_auc_score(y_test, pre_pro)\n",
    "\n",
    "    print(auc)\n",
    "    return fpr, tpr, auc"
   ]
  },
  {
   "cell_type": "code",
   "execution_count": 380,
   "metadata": {},
   "outputs": [
    {
     "name": "stdout",
     "output_type": "stream",
     "text": [
      "0.30180115273775215\n",
      "0.26318443804034586\n",
      "0.7187351778656126\n",
      "0.7010276679841898\n",
      "0.24329983249581238\n",
      "0.7490228922389726\n",
      "0.7370724404007831\n",
      "0.6745364505355291\n",
      "0.7890818858560794\n",
      "0.24483043837882545\n",
      "0.7479630635524172\n",
      "0.7533948940793048\n",
      "0.7515568666011144\n",
      "0.6943625040970174\n",
      "0.8057553956834533\n",
      "0.7755395683453237\n",
      "0.7118927973199329\n",
      "0.4896705750977108\n",
      "0.7457983193277311\n",
      "0.6683298319327732\n",
      "0.8457648546144121\n",
      "0.7914032869785083\n",
      "0.679324894514768\n",
      "0.5260196905766525\n",
      "whole set with lag2 loan only: 0.6340571947668452\n",
      "whole set with lag2 loan and lag1 credit to GDP: 0.5751033061514164\n",
      "pre WW2 with lag2 loan only: 0.7898343285048894\n",
      "pre WW2 with lag2 loan and lag2 credit to GDP: 0.6282002404217119\n",
      "post WW2 with lag2 loan only: 0.5956201469707326\n",
      "post WW2 with lag2 loan and lag2 credit to GDP: 0.6295270129981603\n"
     ]
    }
   ],
   "source": [
    "totalW = 0.0\n",
    "totalWC = 0.0\n",
    "totalPre = 0.0\n",
    "totalPreC = 0.0\n",
    "totalPos = 0.0\n",
    "totalPosC = 0.0\n",
    "for i in range(2, 6):\n",
    "    _, _, auc = out_of_sample_SVM(data, (1.0/i))\n",
    "    totalW += auc\n",
    "    _, _, auc = out_of_sample_SVM(data, (1.0/i),  credit=True)\n",
    "    totalWC += auc\n",
    "\n",
    "    _, _, auc = out_of_sample_SVM(preW, (1.0/i))\n",
    "    totalPre += auc\n",
    "    _, _, auc = out_of_sample_SVM(preW, (1.0/i), credit=True)\n",
    "    totalPreC += auc\n",
    "\n",
    "    _, _, auc = out_of_sample_SVM(postW, (1.0/i))\n",
    "    totalPos += auc\n",
    "\n",
    "    _, _, auc = out_of_sample_SVM(postW, (1.0/i), credit=True)\n",
    "    totalPosC += auc\n",
    "\n",
    "print(f'whole set with lag2 loan only: {totalW/4}')\n",
    "print(f'whole set with lag2 loan and lag1 credit to GDP: {totalWC/4}')\n",
    "print(f'pre WW2 with lag2 loan only: {totalPre/4}')\n",
    "print(f'pre WW2 with lag2 loan and lag2 credit to GDP: {totalPreC/4}')\n",
    "print(f'post WW2 with lag2 loan only: {totalPos/4}')\n",
    "print(f'post WW2 with lag2 loan and lag2 credit to GDP: {totalPosC/4}')"
   ]
  },
  {
   "cell_type": "code",
   "execution_count": null,
   "metadata": {},
   "outputs": [],
   "source": []
  }
 ],
 "metadata": {
  "kernelspec": {
   "display_name": "Python 3",
   "language": "python",
   "name": "python3"
  },
  "language_info": {
   "codemirror_mode": {
    "name": "ipython",
    "version": 3
   },
   "file_extension": ".py",
   "mimetype": "text/x-python",
   "name": "python",
   "nbconvert_exporter": "python",
   "pygments_lexer": "ipython3",
   "version": "3.6.3"
  }
 },
 "nbformat": 4,
 "nbformat_minor": 2
}
