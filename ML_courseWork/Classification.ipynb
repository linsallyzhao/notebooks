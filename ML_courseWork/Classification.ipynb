{
 "cells": [
  {
   "cell_type": "code",
   "execution_count": 1,
   "metadata": {},
   "outputs": [],
   "source": [
    "import pandas as pd\n",
    "import numpy as np\n",
    "import matplotlib.pyplot as plt\n",
    "%matplotlib inline"
   ]
  },
  {
   "cell_type": "code",
   "execution_count": 2,
   "metadata": {},
   "outputs": [],
   "source": [
    "data = pd.read_csv('/home/lin/教材/MearchineLearning/assignmentOneData/CrisisPrediction.csv')"
   ]
  },
  {
   "cell_type": "code",
   "execution_count": 3,
   "metadata": {},
   "outputs": [
    {
     "data": {
      "text/plain": [
       "['year', 'country', 'loans1', 'cpi', 'credit_to_GDP', 'crisisST']"
      ]
     },
     "execution_count": 3,
     "metadata": {},
     "output_type": "execute_result"
    }
   ],
   "source": [
    "list(data.columns.values)"
   ]
  },
  {
   "cell_type": "code",
   "execution_count": 4,
   "metadata": {},
   "outputs": [],
   "source": [
    "data['logRetCre'] = np.log(data['loans1']/data['cpi']).diff()"
   ]
  },
  {
   "cell_type": "code",
   "execution_count": 43,
   "metadata": {},
   "outputs": [],
   "source": [
    "data['lag_1'] = data['logRetCre'].shift()\n",
    "data['lag_2'] = data['logRetCre'].shift(2)\n",
    "data['lag_3'] = data['logRetCre'].shift(3)\n",
    "data['lag_4'] = data['logRetCre'].shift(4)\n",
    "data['lag_5'] = data['logRetCre'].shift(5)\n",
    "data['credit'] = data['credit_to_GDP'].shift()\n",
    "\n",
    "data = data.dropna()\n",
    "preW = data[data['year']<=1938]\n",
    "postW = data[data['year']>=1948]"
   ]
  },
  {
   "cell_type": "code",
   "execution_count": 15,
   "metadata": {},
   "outputs": [
    {
     "data": {
      "text/html": [
       "<div>\n",
       "<style scoped>\n",
       "    .dataframe tbody tr th:only-of-type {\n",
       "        vertical-align: middle;\n",
       "    }\n",
       "\n",
       "    .dataframe tbody tr th {\n",
       "        vertical-align: top;\n",
       "    }\n",
       "\n",
       "    .dataframe thead th {\n",
       "        text-align: right;\n",
       "    }\n",
       "</style>\n",
       "<table border=\"1\" class=\"dataframe\">\n",
       "  <thead>\n",
       "    <tr style=\"text-align: right;\">\n",
       "      <th></th>\n",
       "      <th>year</th>\n",
       "      <th>country</th>\n",
       "      <th>loans1</th>\n",
       "      <th>cpi</th>\n",
       "      <th>credit_to_GDP</th>\n",
       "      <th>crisisST</th>\n",
       "      <th>logRetCre</th>\n",
       "      <th>lag_1</th>\n",
       "      <th>lag_2</th>\n",
       "      <th>lag_3</th>\n",
       "      <th>lag_4</th>\n",
       "      <th>lag_5</th>\n",
       "    </tr>\n",
       "  </thead>\n",
       "  <tbody>\n",
       "    <tr>\n",
       "      <th>6</th>\n",
       "      <td>1879</td>\n",
       "      <td>AUS</td>\n",
       "      <td>99.830002</td>\n",
       "      <td>2.750000</td>\n",
       "      <td>0.388142</td>\n",
       "      <td>0</td>\n",
       "      <td>-0.010011</td>\n",
       "      <td>0.066657</td>\n",
       "      <td>0.126886</td>\n",
       "      <td>0.058240</td>\n",
       "      <td>0.081858</td>\n",
       "      <td>0.041862</td>\n",
       "    </tr>\n",
       "    <tr>\n",
       "      <th>7</th>\n",
       "      <td>1880</td>\n",
       "      <td>AUS</td>\n",
       "      <td>91.010002</td>\n",
       "      <td>2.666667</td>\n",
       "      <td>0.329508</td>\n",
       "      <td>0</td>\n",
       "      <td>-0.061728</td>\n",
       "      <td>-0.010011</td>\n",
       "      <td>0.066657</td>\n",
       "      <td>0.126886</td>\n",
       "      <td>0.058240</td>\n",
       "      <td>0.081858</td>\n",
       "    </tr>\n",
       "    <tr>\n",
       "      <th>8</th>\n",
       "      <td>1881</td>\n",
       "      <td>AUS</td>\n",
       "      <td>111.970000</td>\n",
       "      <td>2.625000</td>\n",
       "      <td>0.385439</td>\n",
       "      <td>0</td>\n",
       "      <td>0.223010</td>\n",
       "      <td>-0.061728</td>\n",
       "      <td>-0.010011</td>\n",
       "      <td>0.066657</td>\n",
       "      <td>0.126886</td>\n",
       "      <td>0.058240</td>\n",
       "    </tr>\n",
       "    <tr>\n",
       "      <th>9</th>\n",
       "      <td>1882</td>\n",
       "      <td>AUS</td>\n",
       "      <td>139.880000</td>\n",
       "      <td>2.666667</td>\n",
       "      <td>0.446616</td>\n",
       "      <td>0</td>\n",
       "      <td>0.206805</td>\n",
       "      <td>0.223010</td>\n",
       "      <td>-0.061728</td>\n",
       "      <td>-0.010011</td>\n",
       "      <td>0.066657</td>\n",
       "      <td>0.126886</td>\n",
       "    </tr>\n",
       "    <tr>\n",
       "      <th>10</th>\n",
       "      <td>1883</td>\n",
       "      <td>AUS</td>\n",
       "      <td>151.120000</td>\n",
       "      <td>2.958333</td>\n",
       "      <td>0.461999</td>\n",
       "      <td>0</td>\n",
       "      <td>-0.026507</td>\n",
       "      <td>0.206805</td>\n",
       "      <td>0.223010</td>\n",
       "      <td>-0.061728</td>\n",
       "      <td>-0.010011</td>\n",
       "      <td>0.066657</td>\n",
       "    </tr>\n",
       "    <tr>\n",
       "      <th>11</th>\n",
       "      <td>1884</td>\n",
       "      <td>AUS</td>\n",
       "      <td>161.780000</td>\n",
       "      <td>3.000000</td>\n",
       "      <td>0.482493</td>\n",
       "      <td>0</td>\n",
       "      <td>0.054177</td>\n",
       "      <td>-0.026507</td>\n",
       "      <td>0.206805</td>\n",
       "      <td>0.223010</td>\n",
       "      <td>-0.061728</td>\n",
       "      <td>-0.010011</td>\n",
       "    </tr>\n",
       "    <tr>\n",
       "      <th>12</th>\n",
       "      <td>1885</td>\n",
       "      <td>AUS</td>\n",
       "      <td>178.620000</td>\n",
       "      <td>3.000000</td>\n",
       "      <td>0.520000</td>\n",
       "      <td>0</td>\n",
       "      <td>0.099023</td>\n",
       "      <td>0.054177</td>\n",
       "      <td>-0.026507</td>\n",
       "      <td>0.206805</td>\n",
       "      <td>0.223010</td>\n",
       "      <td>-0.061728</td>\n",
       "    </tr>\n",
       "    <tr>\n",
       "      <th>13</th>\n",
       "      <td>1886</td>\n",
       "      <td>AUS</td>\n",
       "      <td>185.320010</td>\n",
       "      <td>3.000000</td>\n",
       "      <td>0.517220</td>\n",
       "      <td>0</td>\n",
       "      <td>0.036823</td>\n",
       "      <td>0.099023</td>\n",
       "      <td>0.054177</td>\n",
       "      <td>-0.026507</td>\n",
       "      <td>0.206805</td>\n",
       "      <td>0.223010</td>\n",
       "    </tr>\n",
       "    <tr>\n",
       "      <th>14</th>\n",
       "      <td>1887</td>\n",
       "      <td>AUS</td>\n",
       "      <td>192.830000</td>\n",
       "      <td>2.916667</td>\n",
       "      <td>0.505717</td>\n",
       "      <td>0</td>\n",
       "      <td>0.067896</td>\n",
       "      <td>0.036823</td>\n",
       "      <td>0.099023</td>\n",
       "      <td>0.054177</td>\n",
       "      <td>-0.026507</td>\n",
       "      <td>0.206805</td>\n",
       "    </tr>\n",
       "    <tr>\n",
       "      <th>15</th>\n",
       "      <td>1888</td>\n",
       "      <td>AUS</td>\n",
       "      <td>223.950000</td>\n",
       "      <td>2.791667</td>\n",
       "      <td>0.552009</td>\n",
       "      <td>0</td>\n",
       "      <td>0.193416</td>\n",
       "      <td>0.067896</td>\n",
       "      <td>0.036823</td>\n",
       "      <td>0.099023</td>\n",
       "      <td>0.054177</td>\n",
       "      <td>-0.026507</td>\n",
       "    </tr>\n",
       "  </tbody>\n",
       "</table>\n",
       "</div>"
      ],
      "text/plain": [
       "    year country      loans1       cpi  credit_to_GDP  crisisST  logRetCre  \\\n",
       "6   1879     AUS   99.830002  2.750000       0.388142         0  -0.010011   \n",
       "7   1880     AUS   91.010002  2.666667       0.329508         0  -0.061728   \n",
       "8   1881     AUS  111.970000  2.625000       0.385439         0   0.223010   \n",
       "9   1882     AUS  139.880000  2.666667       0.446616         0   0.206805   \n",
       "10  1883     AUS  151.120000  2.958333       0.461999         0  -0.026507   \n",
       "11  1884     AUS  161.780000  3.000000       0.482493         0   0.054177   \n",
       "12  1885     AUS  178.620000  3.000000       0.520000         0   0.099023   \n",
       "13  1886     AUS  185.320010  3.000000       0.517220         0   0.036823   \n",
       "14  1887     AUS  192.830000  2.916667       0.505717         0   0.067896   \n",
       "15  1888     AUS  223.950000  2.791667       0.552009         0   0.193416   \n",
       "\n",
       "       lag_1     lag_2     lag_3     lag_4     lag_5  \n",
       "6   0.066657  0.126886  0.058240  0.081858  0.041862  \n",
       "7  -0.010011  0.066657  0.126886  0.058240  0.081858  \n",
       "8  -0.061728 -0.010011  0.066657  0.126886  0.058240  \n",
       "9   0.223010 -0.061728 -0.010011  0.066657  0.126886  \n",
       "10  0.206805  0.223010 -0.061728 -0.010011  0.066657  \n",
       "11 -0.026507  0.206805  0.223010 -0.061728 -0.010011  \n",
       "12  0.054177 -0.026507  0.206805  0.223010 -0.061728  \n",
       "13  0.099023  0.054177 -0.026507  0.206805  0.223010  \n",
       "14  0.036823  0.099023  0.054177 -0.026507  0.206805  \n",
       "15  0.067896  0.036823  0.099023  0.054177 -0.026507  "
      ]
     },
     "execution_count": 15,
     "metadata": {},
     "output_type": "execute_result"
    }
   ],
   "source": [
    "data.head(10)"
   ]
  },
  {
   "cell_type": "code",
   "execution_count": 94,
   "metadata": {
    "scrolled": false
   },
   "outputs": [
    {
     "name": "stdout",
     "output_type": "stream",
     "text": [
      "0.6427188916619976\n",
      "0.4574950338715428\n",
      "0.6369099544441214\n",
      "0.5790442958224289\n",
      "0.697533908754624\n",
      "0.7200369913686806\n"
     ]
    },
    {
     "data": {
      "text/plain": [
       "<matplotlib.legend.Legend at 0x7f9e554e53c8>"
      ]
     },
     "execution_count": 94,
     "metadata": {},
     "output_type": "execute_result"
    },
    {
     "data": {
      "image/png": "[encoded data removed]",
      "text/plain": [
       "<matplotlib.figure.Figure at 0x7f9e54c9dd30>"
      ]
     },
     "metadata": {},
     "output_type": "display_data"
    }
   ],
   "source": [
    "#logistic with whole data set\n",
    "from sklearn.linear_model import LogisticRegression\n",
    "from sklearn.model_selection import train_test_split\n",
    "from sklearn.metrics import roc_curve\n",
    "from sklearn.metrics import roc_auc_score\n",
    "\n",
    "def in_sample_logistic(training, sign, credit=False):\n",
    "    if credit is True:\n",
    "        X = training[['lag_2', 'credit']]\n",
    "    else:\n",
    "         X = training[['lag_2']]\n",
    "    y = training['crisisST']\n",
    "    logis = LogisticRegression()\n",
    "    logis.fit(X, sign * y)\n",
    "    pre_pro = logis.predict_proba(X)[:, 1]\n",
    "    fpr, tpr, _ = roc_curve(y, pre_pro)\n",
    "    auc = roc_auc_score(y, pre_pro)\n",
    "\n",
    "    print(auc)\n",
    "    return fpr, tpr, auc\n",
    "\n",
    "data_fpr, data_tpr, _ = in_sample_logistic(data, -1)\n",
    "in_sample_logistic(data, -1, True)\n",
    "\n",
    "pre_fpr, pre_tpr, _ = in_sample_logistic(preW, -1)\n",
    "in_sample_logistic(preW, -1, True)\n",
    "\n",
    "in_sample_logistic(postW, 1)\n",
    "post_fpr, post_tpr, _ = in_sample_logistic(postW, 1, True)\n",
    "\n",
    "plt.plot([0, 1], [0, 1], 'k--')\n",
    "plt.plot(data_fpr,data_tpr)\n",
    "plt.plot(pre_fpr,pre_tpr)\n",
    "plt.plot(post_fpr,post_tpr)\n",
    "plt.legend(['benchmark', 'whole set', 'pre war', 'post war'])"
   ]
  },
  {
   "cell_type": "code",
   "execution_count": 92,
   "metadata": {},
   "outputs": [
    {
     "name": "stdout",
     "output_type": "stream",
     "text": [
      "0.6895470383275262\n",
      "0.5372822299651567\n",
      "0.7043413173652695\n",
      "0.7178143712574849\n",
      "0.6987704918032787\n",
      "0.8169398907103825\n"
     ]
    },
    {
     "data": {
      "text/plain": [
       "<matplotlib.legend.Legend at 0x7f9e555a9f28>"
      ]
     },
     "execution_count": 92,
     "metadata": {},
     "output_type": "execute_result"
    },
    {
     "data": {
      "image/png": "[encoded data removed]",
      "text/plain": [
       "<matplotlib.figure.Figure at 0x7f9e54f4a160>"
      ]
     },
     "metadata": {},
     "output_type": "display_data"
    }
   ],
   "source": [
    "def out_of_sample_logistic(whole, test, sign, credit=False):\n",
    "    if credit is True:\n",
    "        X = whole[['lag_2', 'credit']]\n",
    "    else:\n",
    "         X = whole[['lag_2']]\n",
    "    y = whole['crisisST']\n",
    "    \n",
    "    trainSize = int(whole.shape[0]*(1-test))\n",
    "    X_train = X[:trainSize]\n",
    "    X_test = X[trainSize:]\n",
    "    y_train = y[:trainSize]\n",
    "    y_test = y[trainSize:]\n",
    "    \n",
    "    logis = LogisticRegression()\n",
    "    logis.fit(X_train, sign * y_train)\n",
    "    pre_pro = logis.predict_proba(X_test)[:, 1]\n",
    "    fpr, tpr, _ = roc_curve(y_test, pre_pro)\n",
    "    auc = roc_auc_score(y_test, pre_pro)\n",
    "\n",
    "    print(auc)\n",
    "    return fpr, tpr, auc\n",
    "    \n",
    "whole_fpr, whole_tpr, _ = out_of_sample_logistic(data, 0.3, -1)\n",
    "out_of_sample_logistic(data, 0.3, -1, True)\n",
    "\n",
    "out_of_sample_logistic(preW, 0.3, -1)\n",
    "preW_fpr, preW_tpr, _ = out_of_sample_logistic(preW, 0.3, -1, True)\n",
    "\n",
    "out_of_sample_logistic(postW, 0.3, 1)\n",
    "postW_fpr, postW_tpr, _ = out_of_sample_logistic(postW, 0.3, 1, True)\n",
    "\n",
    "plt.plot([0, 1], [0, 1], 'k--')\n",
    "plt.plot(whole_fpr,whole_tpr)\n",
    "plt.plot(preW_fpr,preW_tpr)\n",
    "plt.plot(postW_fpr,postW_tpr)\n",
    "plt.legend(['benchmark', 'whole set', 'pre war', 'post war'])"
   ]
  },
  {
   "cell_type": "code",
   "execution_count": 96,
   "metadata": {},
   "outputs": [
    {
     "name": "stdout",
     "output_type": "stream",
     "text": [
      "0.5767590618336886\n",
      "0.6833259619637329\n",
      "0.6280080213903744\n",
      "0.6838235294117647\n"
     ]
    },
    {
     "data": {
      "text/plain": [
       "0.6429791436498902"
      ]
     },
     "execution_count": 96,
     "metadata": {},
     "output_type": "execute_result"
    }
   ],
   "source": [
    "total = 0.0\n",
    "for i in range(2, 6):\n",
    "    wholeSet = data[:int(data.shape[0]*(i/5.0))]\n",
    "    _, _, auc = out_of_sample_logistic(wholeSet, (1.0/i), -1)\n",
    "    total += auc\n",
    "\n",
    "avg = total/4\n",
    "avg\n"
   ]
  },
  {
   "cell_type": "code",
   "execution_count": null,
   "metadata": {},
   "outputs": [],
   "source": []
  }
 ],
 "metadata": {
  "kernelspec": {
   "display_name": "Python 3",
   "language": "python",
   "name": "python3"
  },
  "language_info": {
   "codemirror_mode": {
    "name": "ipython",
    "version": 3
   },
   "file_extension": ".py",
   "mimetype": "text/x-python",
   "name": "python",
   "nbconvert_exporter": "python",
   "pygments_lexer": "ipython3",
   "version": "3.6.3"
  }
 },
 "nbformat": 4,
 "nbformat_minor": 2
}
