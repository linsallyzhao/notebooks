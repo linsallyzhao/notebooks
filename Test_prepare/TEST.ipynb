{
 "cells": [
  {
   "cell_type": "code",
   "execution_count": 1,
   "metadata": {},
   "outputs": [
    {
     "name": "stderr",
     "output_type": "stream",
     "text": [
      "/home/lin/.pyenv/versions/3.6.3/lib/python3.6/site-packages/statsmodels/compat/pandas.py:56: FutureWarning: The pandas.core.datetools module is deprecated and will be removed in a future version. Please use the pandas.tseries module instead.\n",
      "  from pandas.core import datetools\n"
     ]
    }
   ],
   "source": [
    "import numpy as np\n",
    "import pandas as pd\n",
    "import matplotlib.pyplot as plt\n",
    "from statsmodels.tsa.stattools import adfuller\n",
    "from statsmodels.tsa.stattools import kpss\n",
    "import scipy.stats as stats"
   ]
  },
  {
   "cell_type": "code",
   "execution_count": 2,
   "metadata": {},
   "outputs": [],
   "source": [
    "my_data = pd.read_csv('/home/lin/教材/Financial_data/FinalTest/Dataset.csv')"
   ]
  },
  {
   "cell_type": "code",
   "execution_count": 3,
   "metadata": {},
   "outputs": [
    {
     "data": {
      "text/html": [
       "<div>\n",
       "<style scoped>\n",
       "    .dataframe tbody tr th:only-of-type {\n",
       "        vertical-align: middle;\n",
       "    }\n",
       "\n",
       "    .dataframe tbody tr th {\n",
       "        vertical-align: top;\n",
       "    }\n",
       "\n",
       "    .dataframe thead th {\n",
       "        text-align: right;\n",
       "    }\n",
       "</style>\n",
       "<table border=\"1\" class=\"dataframe\">\n",
       "  <thead>\n",
       "    <tr style=\"text-align: right;\">\n",
       "      <th></th>\n",
       "      <th>S1</th>\n",
       "      <th>S2</th>\n",
       "      <th>S3</th>\n",
       "    </tr>\n",
       "  </thead>\n",
       "  <tbody>\n",
       "    <tr>\n",
       "      <th>0</th>\n",
       "      <td>42.10</td>\n",
       "      <td>23.80</td>\n",
       "      <td>46.05</td>\n",
       "    </tr>\n",
       "    <tr>\n",
       "      <th>1</th>\n",
       "      <td>44.20</td>\n",
       "      <td>23.80</td>\n",
       "      <td>45.92</td>\n",
       "    </tr>\n",
       "    <tr>\n",
       "      <th>2</th>\n",
       "      <td>44.94</td>\n",
       "      <td>23.57</td>\n",
       "      <td>46.14</td>\n",
       "    </tr>\n",
       "    <tr>\n",
       "      <th>3</th>\n",
       "      <td>44.86</td>\n",
       "      <td>23.58</td>\n",
       "      <td>46.07</td>\n",
       "    </tr>\n",
       "    <tr>\n",
       "      <th>4</th>\n",
       "      <td>43.64</td>\n",
       "      <td>23.29</td>\n",
       "      <td>44.09</td>\n",
       "    </tr>\n",
       "  </tbody>\n",
       "</table>\n",
       "</div>"
      ],
      "text/plain": [
       "      S1     S2     S3\n",
       "0  42.10  23.80  46.05\n",
       "1  44.20  23.80  45.92\n",
       "2  44.94  23.57  46.14\n",
       "3  44.86  23.58  46.07\n",
       "4  43.64  23.29  44.09"
      ]
     },
     "execution_count": 3,
     "metadata": {},
     "output_type": "execute_result"
    }
   ],
   "source": [
    "my_data.head()"
   ]
  },
  {
   "cell_type": "code",
   "execution_count": 10,
   "metadata": {},
   "outputs": [],
   "source": [
    "logR = np.log(my_data).diff().dropna()"
   ]
  },
  {
   "cell_type": "markdown",
   "metadata": {},
   "source": [
    "## Q 1"
   ]
  },
  {
   "cell_type": "code",
   "execution_count": 15,
   "metadata": {},
   "outputs": [
    {
     "data": {
      "text/html": [
       "<div>\n",
       "<style scoped>\n",
       "    .dataframe tbody tr th:only-of-type {\n",
       "        vertical-align: middle;\n",
       "    }\n",
       "\n",
       "    .dataframe tbody tr th {\n",
       "        vertical-align: top;\n",
       "    }\n",
       "\n",
       "    .dataframe thead th {\n",
       "        text-align: right;\n",
       "    }\n",
       "</style>\n",
       "<table border=\"1\" class=\"dataframe\">\n",
       "  <thead>\n",
       "    <tr style=\"text-align: right;\">\n",
       "      <th></th>\n",
       "      <th>S1</th>\n",
       "      <th>S2</th>\n",
       "      <th>S3</th>\n",
       "    </tr>\n",
       "  </thead>\n",
       "  <tbody>\n",
       "    <tr>\n",
       "      <th>count</th>\n",
       "      <td>2499.000000</td>\n",
       "      <td>2499.000000</td>\n",
       "      <td>2499.000000</td>\n",
       "    </tr>\n",
       "    <tr>\n",
       "      <th>mean</th>\n",
       "      <td>0.000206</td>\n",
       "      <td>-0.000182</td>\n",
       "      <td>-0.000565</td>\n",
       "    </tr>\n",
       "    <tr>\n",
       "      <th>std</th>\n",
       "      <td>0.045696</td>\n",
       "      <td>0.031346</td>\n",
       "      <td>0.054522</td>\n",
       "    </tr>\n",
       "  </tbody>\n",
       "</table>\n",
       "</div>"
      ],
      "text/plain": [
       "                S1           S2           S3\n",
       "count  2499.000000  2499.000000  2499.000000\n",
       "mean      0.000206    -0.000182    -0.000565\n",
       "std       0.045696     0.031346     0.054522"
      ]
     },
     "execution_count": 15,
     "metadata": {},
     "output_type": "execute_result"
    }
   ],
   "source": [
    "logR.describe().iloc[:3]"
   ]
  },
  {
   "cell_type": "markdown",
   "metadata": {},
   "source": [
    "## Skewness for three stocks"
   ]
  },
  {
   "cell_type": "code",
   "execution_count": 13,
   "metadata": {},
   "outputs": [
    {
     "data": {
      "text/plain": [
       "array([-3.73482945e-03, -4.64590384e+00, -5.24419564e-01])"
      ]
     },
     "execution_count": 13,
     "metadata": {},
     "output_type": "execute_result"
    }
   ],
   "source": [
    "stats.skew(logR)"
   ]
  },
  {
   "cell_type": "markdown",
   "metadata": {},
   "source": [
    "## Kurtosis for three stocks"
   ]
  },
  {
   "cell_type": "code",
   "execution_count": 17,
   "metadata": {},
   "outputs": [
    {
     "data": {
      "text/plain": [
       "array([ 21.88308304, 131.78438552,  38.2654605 ])"
      ]
     },
     "execution_count": 17,
     "metadata": {},
     "output_type": "execute_result"
    }
   ],
   "source": [
    "stats.kurtosis(logR) + 3"
   ]
  },
  {
   "cell_type": "markdown",
   "metadata": {},
   "source": [
    "## Comments\n",
    "\n",
    "Skewness are negative which means more returns are negative while normal distribution is symetric. \n",
    "\n",
    "Kurtosis are way higher than 3 indicating fatter tails than normal with 3 as kurtosis. However, the fourth moments may not be defined which means kurtosis may eventually goes to infinity."
   ]
  },
  {
   "cell_type": "markdown",
   "metadata": {},
   "source": [
    "## Q 2"
   ]
  },
  {
   "cell_type": "code",
   "execution_count": 43,
   "metadata": {},
   "outputs": [],
   "source": [
    "sort_LR = pd.DataFrame(columns=logR.columns, dtype=float)\n",
    "\n",
    "for col in logR:\n",
    "    sort_LR[col] = logR[col].sort_values().values\n",
    "sort_LR.reset_index(inplace=True, drop=True)"
   ]
  },
  {
   "cell_type": "code",
   "execution_count": 106,
   "metadata": {},
   "outputs": [],
   "source": [
    "def HS_var_ES(data, alpha_one, alpha_two, alpha_es):\n",
    "    ind_var_one = int( data.size * (1-alpha_one))-1\n",
    "    ind_var_two = int( data.size * (1-alpha_two))-1\n",
    "    ind_es = int( data.size * (1-alpha_es))-1\n",
    "    HS_var_ones = data[ind_var_one]\n",
    "    HS_var_twos = data[ind_var_two]\n",
    "    HS_ES = data[:ind_es+1].mean()\n",
    "    \n",
    "    print(f'Historical 5% Var is : {HS_var_ones}')\n",
    "    #print(f'Historical {alpha_two * 100}% Var is : {HS_var_twos}')\n",
    "    #print(f'Historical {alpha_es * 100}% ES is : {HS_ES}')\n",
    "\n",
    "    return HS_var_ones\n",
    "\n",
    "#In put is sorted (accending) log returns, when calculating var and ES, using floor of the index (size * alpha)\n",
    "\n",
    "#example for sorting\n",
    "\n",
    "#sortedreturn = np.asarray(np.sort(re20))\n",
    "#sortedreturn = np.asarray(logR.sort_values())\n"
   ]
  },
  {
   "cell_type": "code",
   "execution_count": 51,
   "metadata": {},
   "outputs": [
    {
     "name": "stdout",
     "output_type": "stream",
     "text": [
      "For stock S1,\n",
      "Historical 5% Var is : -0.06415930785472801\n",
      "For stock S2,\n",
      "Historical 5% Var is : -0.03722934176835602\n",
      "For stock S3,\n",
      "Historical 5% Var is : -0.06178435253208292\n"
     ]
    }
   ],
   "source": [
    "for col in sort_LR:\n",
    "    print(f'For stock {col},')\n",
    "    HS_var_ES(sort_LR[col], 0.95, 0.95, 0.95)"
   ]
  },
  {
   "cell_type": "markdown",
   "metadata": {},
   "source": [
    "To calculate HS var of $\\alpha$, you first calculate the array size * $\\alpha$ = index, since this number is not generally integer, index can be floored or capped. HS var can be difined as the index-th return in a acending sorted reture series. It can also be difined as the meam of these two.\n",
    "\n",
    "The meanning of a x% var is that, the futrue return with the same time horizon will be equal or worse than this value with probability 1 - x%"
   ]
  },
  {
   "cell_type": "markdown",
   "metadata": {},
   "source": [
    "## Q3"
   ]
  },
  {
   "cell_type": "code",
   "execution_count": 93,
   "metadata": {},
   "outputs": [],
   "source": [
    "import powerlaw\n",
    "def get_alpha_and_start(data):\n",
    "    fit = powerlaw.Fit(data, xmin=min(data), fit_method='Likelihood')\n",
    "    alpha_expo = fit.power_law.alpha\n",
    "    fit.power_law.plot_ccdf\n",
    "    fit.plot_ccdf\n",
    "    return alpha_expo-1\n",
    "\n",
    "def tail_expo_powerlaw(left_tail):\n",
    "    alphaL = get_alpha_and_start(-left_tail)\n",
    "    print(f'Tail exponent for the left tail is {alphaL} based on max likelyhood estimation (using pythonpacage powerlaw)')\n",
    "\n",
    "    \n",
    "    \n",
    "    left = pd.DataFrame(-np.flip(left_tail, 0).values, columns=['x'], dtype=float)\n",
    "    #right = pd.DataFrame(right_tail, columns=['x'], dtype=float)\n",
    "    domain = np.linspace(min(left['x']), max(left['x']), 1000)\n",
    "\n",
    "    plt.figure()\n",
    "    plt.loglog(left['x'], 1 - (range(1, left.count()[0] + 1))/(left.count()[0] + 1), '+b', alpha = 0.5)\n",
    "    #plt.loglog(right['x'], 1 - (range(1, right.count()[0] + 1))/(right.count()[0] + 1), 'xr', alpha = 0.5)\n",
    "    plt.loglog(domain, (domain*15) ** (-alphaL), '-.b')\n",
    "    #plt.loglog(domain, (domain*110) ** (-alphaR), '-.r')"
   ]
  },
  {
   "cell_type": "code",
   "execution_count": 94,
   "metadata": {
    "scrolled": false
   },
   "outputs": [
    {
     "name": "stdout",
     "output_type": "stream",
     "text": [
      "For stock S1,\n",
      "Historical 5% Var is : -0.06415930785472801\n",
      "Tail exponent for the left tail is 2.093595854216556 based on max likelyhood estimation (using pythonpacage powerlaw)\n",
      "For stock S2,\n",
      "Historical 5% Var is : -0.03722934176835602\n",
      "Tail exponent for the left tail is 2.377002203068422 based on max likelyhood estimation (using pythonpacage powerlaw)\n",
      "For stock S3,\n",
      "Historical 5% Var is : -0.06178435253208292\n",
      "Tail exponent for the left tail is 1.809218385527358 based on max likelyhood estimation (using pythonpacage powerlaw)\n"
     ]
    },
    {
     "name": "stderr",
     "output_type": "stream",
     "text": [
      "/home/lin/.pyenv/versions/3.6.3/lib/python3.6/site-packages/powerlaw.py:697: RuntimeWarning: invalid value encountered in true_divide\n",
      "  (Theoretical_CDF * (1 - Theoretical_CDF))\n"
     ]
    },
    {
     "data": {
      "image/png": "[encoded data removed]",
      "text/plain": [
       "<Figure size 432x288 with 1 Axes>"
      ]
     },
     "metadata": {},
     "output_type": "display_data"
    },
    {
     "data": {
      "image/png": "[encoded data removed]",
      "text/plain": [
       "<Figure size 432x288 with 1 Axes>"
      ]
     },
     "metadata": {},
     "output_type": "display_data"
    },
    {
     "data": {
      "image/png": "[encoded data removed]",
      "text/plain": [
       "<Figure size 432x288 with 1 Axes>"
      ]
     },
     "metadata": {},
     "output_type": "display_data"
    }
   ],
   "source": [
    "for col in sort_LR:\n",
    "    print(f'For stock {col},')\n",
    "    left_tail = sort_LR[col][sort_LR[col] < HS_var_ES(sort_LR[col], 0.95, 0.95, 0.95)]\n",
    "    tail_expo_powerlaw(left_tail)"
   ]
  },
  {
   "cell_type": "markdown",
   "metadata": {},
   "source": [
    "## Q4"
   ]
  },
  {
   "cell_type": "code",
   "execution_count": 95,
   "metadata": {},
   "outputs": [],
   "source": [
    "def resample(data, days=5):\n",
    "    data = np.asarray(data)\n",
    "    resampled = np.zeros(int(len(data)/days))\n",
    "    j = days\n",
    "    for i in range(len(resampled)):\n",
    "        resampled[i] = sum(data[j-days:j])\n",
    "        j = j + days\n",
    "    return resampled\n",
    "\n",
    "#input is daily log return series"
   ]
  },
  {
   "cell_type": "code",
   "execution_count": 99,
   "metadata": {},
   "outputs": [],
   "source": [
    "Yearly = pd.DataFrame(columns=logR.columns, dtype=float)\n",
    "\n",
    "for col in logR:\n",
    "    Yearly[col] = resample(logR[col], days=250)\n",
    "Yearly.reset_index(inplace=True, drop=True)"
   ]
  },
  {
   "cell_type": "code",
   "execution_count": 102,
   "metadata": {},
   "outputs": [],
   "source": [
    "sort_LRY = pd.DataFrame(columns=Yearly.columns, dtype=float)\n",
    "\n",
    "for col in logR:\n",
    "    sort_LRY[col] = Yearly[col].sort_values().values\n",
    "sort_LRY.reset_index(inplace=True, drop=True)"
   ]
  },
  {
   "cell_type": "code",
   "execution_count": 107,
   "metadata": {},
   "outputs": [],
   "source": [
    "def HS_var_ESY(data, alpha_one, alpha_two, alpha_es):\n",
    "    ind_var_one = int( data.size * (1-alpha_one))\n",
    "    ind_var_two = int( data.size * (1-alpha_two))\n",
    "    ind_es = int( data.size * (1-alpha_es))-1\n",
    "    HS_var_ones = data[ind_var_one]\n",
    "    HS_var_twos = data[ind_var_two]\n",
    "    HS_ES = data[:ind_es+1].mean()\n",
    "    \n",
    "    print(f'Historical 5% Var is : {HS_var_ones}')\n",
    "    #print(f'Historical {alpha_two * 100}% Var is : {HS_var_twos}')\n",
    "    #print(f'Historical {alpha_es * 100}% ES is : {HS_ES}')\n",
    "\n",
    "    return HS_var_ones\n",
    "\n",
    "#In put is sorted (accending) log returns, when calculating var and ES, using floor of the index (size * alpha)\n",
    "\n",
    "#example for sorting\n",
    "\n",
    "#sortedreturn = np.asarray(np.sort(re20))\n",
    "#sortedreturn = np.asarray(logR.sort_values())\n"
   ]
  },
  {
   "cell_type": "markdown",
   "metadata": {},
   "source": [
    "## Diff : var index defined as cap of size*alpha"
   ]
  },
  {
   "cell_type": "code",
   "execution_count": 117,
   "metadata": {},
   "outputs": [
    {
     "name": "stdout",
     "output_type": "stream",
     "text": [
      "For stock S1 yearly return\n",
      "Historical 5% Var is : -1.8605826910411751\n",
      "For stock S2 yearly return\n",
      "Historical 5% Var is : -0.9472265321626683\n",
      "For stock S3 yearly return\n",
      "Historical 5% Var is : -1.7044290620873686\n"
     ]
    }
   ],
   "source": [
    "for col in sort_LR:\n",
    "    print(f'For stock {col} yearly return')\n",
    "    HS_var_ESY(sort_LRY[col], 0.95, 0.95, 0.95)"
   ]
  },
  {
   "cell_type": "markdown",
   "metadata": {},
   "source": [
    "For stock S1 daily return,\n",
    "Historical 5% Var is : -0.06415930785472801\n",
    "For stock S2 daily return,\n",
    "Historical 5% Var is : -0.03722934176835602\n",
    "For stock S3 daily return,\n",
    "Historical 5% Var is : -0.06178435253208292"
   ]
  },
  {
   "cell_type": "code",
   "execution_count": 113,
   "metadata": {},
   "outputs": [
    {
     "name": "stdout",
     "output_type": "stream",
     "text": [
      "Scaled yearly Var for S1 is -0.8966620198893082\n"
     ]
    }
   ],
   "source": [
    "VarScaled_S1 = 250 ** (1/2.093595854216556) * (-0.06415930785472801)\n",
    "print(f'Scaled yearly Var for S1 is {VarScaled_S1}')"
   ]
  },
  {
   "cell_type": "code",
   "execution_count": 115,
   "metadata": {},
   "outputs": [
    {
     "name": "stdout",
     "output_type": "stream",
     "text": [
      "Scaled yearly Var for S2 is -0.3799214814641398\n"
     ]
    }
   ],
   "source": [
    "VarScaled_S2 = 250 ** (1/2.377002203068422) * (-0.03722934176835602)\n",
    "print(f'Scaled yearly Var for S2 is {VarScaled_S2}')"
   ]
  },
  {
   "cell_type": "code",
   "execution_count": 116,
   "metadata": {},
   "outputs": [
    {
     "name": "stdout",
     "output_type": "stream",
     "text": [
      "Scaled yearly Var for S3 is -1.307012025597282\n"
     ]
    }
   ],
   "source": [
    "VarScaled_S3 = 250 ** (1/1.809218385527358) * (-0.06178435253208292)\n",
    "print(f'Scaled yearly Var for S3 is {VarScaled_S3}')"
   ]
  },
  {
   "cell_type": "markdown",
   "metadata": {},
   "source": [
    "Scaled Var have lower absolute value means they are not as save as HS ones. However we can see that the lower the tail exponents, the fatter tail it predict, and the higher losee it indicates, e.g. S3"
   ]
  },
  {
   "cell_type": "markdown",
   "metadata": {},
   "source": [
    "## Q5"
   ]
  },
  {
   "cell_type": "code",
   "execution_count": 118,
   "metadata": {},
   "outputs": [
    {
     "data": {
      "text/html": [
       "<div>\n",
       "<style scoped>\n",
       "    .dataframe tbody tr th:only-of-type {\n",
       "        vertical-align: middle;\n",
       "    }\n",
       "\n",
       "    .dataframe tbody tr th {\n",
       "        vertical-align: top;\n",
       "    }\n",
       "\n",
       "    .dataframe thead th {\n",
       "        text-align: right;\n",
       "    }\n",
       "</style>\n",
       "<table border=\"1\" class=\"dataframe\">\n",
       "  <thead>\n",
       "    <tr style=\"text-align: right;\">\n",
       "      <th></th>\n",
       "      <th>S1</th>\n",
       "      <th>S2</th>\n",
       "      <th>S3</th>\n",
       "    </tr>\n",
       "  </thead>\n",
       "  <tbody>\n",
       "    <tr>\n",
       "      <th>count</th>\n",
       "      <td>2499.000000</td>\n",
       "      <td>2499.000000</td>\n",
       "      <td>2499.000000</td>\n",
       "    </tr>\n",
       "    <tr>\n",
       "      <th>mean</th>\n",
       "      <td>0.000206</td>\n",
       "      <td>-0.000182</td>\n",
       "      <td>-0.000565</td>\n",
       "    </tr>\n",
       "    <tr>\n",
       "      <th>std</th>\n",
       "      <td>0.045696</td>\n",
       "      <td>0.031346</td>\n",
       "      <td>0.054522</td>\n",
       "    </tr>\n",
       "  </tbody>\n",
       "</table>\n",
       "</div>"
      ],
      "text/plain": [
       "                S1           S2           S3\n",
       "count  2499.000000  2499.000000  2499.000000\n",
       "mean      0.000206    -0.000182    -0.000565\n",
       "std       0.045696     0.031346     0.054522"
      ]
     },
     "execution_count": 118,
     "metadata": {},
     "output_type": "execute_result"
    }
   ],
   "source": [
    "logR.describe().iloc[:3]"
   ]
  },
  {
   "cell_type": "code",
   "execution_count": 119,
   "metadata": {},
   "outputs": [
    {
     "name": "stdout",
     "output_type": "stream",
     "text": [
      "Log likelyhood for stock S1 :\n",
      "4165.871528980833\n",
      "Log likelyhood for stock S2 :\n",
      "5107.753686042131\n",
      "Log likelyhood for stock S3 :\n",
      "3724.5310269669044\n"
     ]
    }
   ],
   "source": [
    "for col in logR:\n",
    "    a = logR[col]\n",
    "    print(f'Log likelyhood for stock {col} :')\n",
    "    b = np.log(stats.norm.pdf(a, loc = np.mean(a), scale = np.std(a))).sum()\n",
    "    print(b)"
   ]
  },
  {
   "cell_type": "markdown",
   "metadata": {},
   "source": [
    "## Q6"
   ]
  },
  {
   "cell_type": "markdown",
   "metadata": {},
   "source": [
    "## Q7"
   ]
  },
  {
   "cell_type": "code",
   "execution_count": 120,
   "metadata": {},
   "outputs": [
    {
     "data": {
      "text/html": [
       "<div>\n",
       "<style scoped>\n",
       "    .dataframe tbody tr th:only-of-type {\n",
       "        vertical-align: middle;\n",
       "    }\n",
       "\n",
       "    .dataframe tbody tr th {\n",
       "        vertical-align: top;\n",
       "    }\n",
       "\n",
       "    .dataframe thead th {\n",
       "        text-align: right;\n",
       "    }\n",
       "</style>\n",
       "<table border=\"1\" class=\"dataframe\">\n",
       "  <thead>\n",
       "    <tr style=\"text-align: right;\">\n",
       "      <th></th>\n",
       "      <th>S1</th>\n",
       "      <th>S2</th>\n",
       "      <th>S3</th>\n",
       "    </tr>\n",
       "  </thead>\n",
       "  <tbody>\n",
       "    <tr>\n",
       "      <th>S1</th>\n",
       "      <td>1.000000</td>\n",
       "      <td>0.196510</td>\n",
       "      <td>0.297266</td>\n",
       "    </tr>\n",
       "    <tr>\n",
       "      <th>S2</th>\n",
       "      <td>0.196510</td>\n",
       "      <td>1.000000</td>\n",
       "      <td>0.238568</td>\n",
       "    </tr>\n",
       "    <tr>\n",
       "      <th>S3</th>\n",
       "      <td>0.297266</td>\n",
       "      <td>0.238568</td>\n",
       "      <td>1.000000</td>\n",
       "    </tr>\n",
       "  </tbody>\n",
       "</table>\n",
       "</div>"
      ],
      "text/plain": [
       "          S1        S2        S3\n",
       "S1  1.000000  0.196510  0.297266\n",
       "S2  0.196510  1.000000  0.238568\n",
       "S3  0.297266  0.238568  1.000000"
      ]
     },
     "execution_count": 120,
     "metadata": {},
     "output_type": "execute_result"
    }
   ],
   "source": [
    "corrcoeff = logR.corr()\n",
    "corrcoeff"
   ]
  },
  {
   "cell_type": "markdown",
   "metadata": {},
   "source": [
    "Most correlated pair is S1 and S3 with correlation 0.297266"
   ]
  },
  {
   "cell_type": "code",
   "execution_count": 124,
   "metadata": {},
   "outputs": [
    {
     "data": {
      "text/html": [
       "<div>\n",
       "<style scoped>\n",
       "    .dataframe tbody tr th:only-of-type {\n",
       "        vertical-align: middle;\n",
       "    }\n",
       "\n",
       "    .dataframe tbody tr th {\n",
       "        vertical-align: top;\n",
       "    }\n",
       "\n",
       "    .dataframe thead th {\n",
       "        text-align: right;\n",
       "    }\n",
       "</style>\n",
       "<table border=\"1\" class=\"dataframe\">\n",
       "  <thead>\n",
       "    <tr style=\"text-align: right;\">\n",
       "      <th></th>\n",
       "      <th>S1</th>\n",
       "      <th>S2</th>\n",
       "      <th>S3</th>\n",
       "    </tr>\n",
       "  </thead>\n",
       "  <tbody>\n",
       "    <tr>\n",
       "      <th>S1</th>\n",
       "      <td>1.000000</td>\n",
       "      <td>0.204007</td>\n",
       "      <td>0.248653</td>\n",
       "    </tr>\n",
       "    <tr>\n",
       "      <th>S2</th>\n",
       "      <td>0.204007</td>\n",
       "      <td>1.000000</td>\n",
       "      <td>0.263681</td>\n",
       "    </tr>\n",
       "    <tr>\n",
       "      <th>S3</th>\n",
       "      <td>0.248653</td>\n",
       "      <td>0.263681</td>\n",
       "      <td>1.000000</td>\n",
       "    </tr>\n",
       "  </tbody>\n",
       "</table>\n",
       "</div>"
      ],
      "text/plain": [
       "          S1        S2        S3\n",
       "S1  1.000000  0.204007  0.248653\n",
       "S2  0.204007  1.000000  0.263681\n",
       "S3  0.248653  0.263681  1.000000"
      ]
     },
     "execution_count": 124,
     "metadata": {},
     "output_type": "execute_result"
    }
   ],
   "source": [
    "KenTau = logR.corr(method='kendall')\n",
    "KenTau"
   ]
  },
  {
   "cell_type": "code",
   "execution_count": 125,
   "metadata": {},
   "outputs": [
    {
     "data": {
      "text/html": [
       "<div>\n",
       "<style scoped>\n",
       "    .dataframe tbody tr th:only-of-type {\n",
       "        vertical-align: middle;\n",
       "    }\n",
       "\n",
       "    .dataframe tbody tr th {\n",
       "        vertical-align: top;\n",
       "    }\n",
       "\n",
       "    .dataframe thead th {\n",
       "        text-align: right;\n",
       "    }\n",
       "</style>\n",
       "<table border=\"1\" class=\"dataframe\">\n",
       "  <thead>\n",
       "    <tr style=\"text-align: right;\">\n",
       "      <th></th>\n",
       "      <th>S1</th>\n",
       "      <th>S2</th>\n",
       "      <th>S3</th>\n",
       "    </tr>\n",
       "  </thead>\n",
       "  <tbody>\n",
       "    <tr>\n",
       "      <th>S1</th>\n",
       "      <td>1.000000</td>\n",
       "      <td>0.294712</td>\n",
       "      <td>0.347430</td>\n",
       "    </tr>\n",
       "    <tr>\n",
       "      <th>S2</th>\n",
       "      <td>0.294712</td>\n",
       "      <td>1.000000</td>\n",
       "      <td>0.374042</td>\n",
       "    </tr>\n",
       "    <tr>\n",
       "      <th>S3</th>\n",
       "      <td>0.347430</td>\n",
       "      <td>0.374042</td>\n",
       "      <td>1.000000</td>\n",
       "    </tr>\n",
       "  </tbody>\n",
       "</table>\n",
       "</div>"
      ],
      "text/plain": [
       "          S1        S2        S3\n",
       "S1  1.000000  0.294712  0.347430\n",
       "S2  0.294712  1.000000  0.374042\n",
       "S3  0.347430  0.374042  1.000000"
      ]
     },
     "execution_count": 125,
     "metadata": {},
     "output_type": "execute_result"
    }
   ],
   "source": [
    "spearmanRank = logR.corr(method='spearman')\n",
    "spearmanRank"
   ]
  },
  {
   "cell_type": "markdown",
   "metadata": {},
   "source": [
    "These two agreed with that most correlated pair is S2 and S3 which are diff form Pearson.\n",
    "Potential reasons are 1) These two capture non-linear correlations that Pearson does not capture\n",
    "2) these two capture only monotonic correlations\n",
    "\n",
    "\n",
    "For all three type of correlations, all correlations are positive"
   ]
  },
  {
   "cell_type": "markdown",
   "metadata": {},
   "source": [
    "## Q8"
   ]
  },
  {
   "cell_type": "code",
   "execution_count": 133,
   "metadata": {},
   "outputs": [
    {
     "name": "stdout",
     "output_type": "stream",
     "text": [
      "Mean return of this portfolio is \n"
     ]
    },
    {
     "data": {
      "text/plain": [
       "0.00034691440498137827"
      ]
     },
     "execution_count": 133,
     "metadata": {},
     "output_type": "execute_result"
    }
   ],
   "source": [
    "R_Port = logR['S1'] - 0.297266 * (0.045696 / 0.054522) * logR['S3']\n",
    "\n",
    "print('Mean return of this portfolio is ')\n",
    "np.mean(R_Port)"
   ]
  },
  {
   "cell_type": "code",
   "execution_count": 134,
   "metadata": {},
   "outputs": [],
   "source": [
    "SortPort = R_Port.sort_values().reset_index(drop=True)"
   ]
  },
  {
   "cell_type": "code",
   "execution_count": 136,
   "metadata": {
    "scrolled": true
   },
   "outputs": [
    {
     "data": {
      "text/plain": [
       "0      -0.458405\n",
       "1      -0.336894\n",
       "2      -0.279572\n",
       "3      -0.243253\n",
       "4      -0.219205\n",
       "5      -0.218581\n",
       "6      -0.216567\n",
       "7      -0.204693\n",
       "8      -0.189592\n",
       "9      -0.171364\n",
       "10     -0.168541\n",
       "11     -0.167035\n",
       "12     -0.164339\n",
       "13     -0.162952\n",
       "14     -0.159540\n",
       "15     -0.158301\n",
       "16     -0.151918\n",
       "17     -0.149789\n",
       "18     -0.140624\n",
       "19     -0.140105\n",
       "20     -0.134969\n",
       "21     -0.131436\n",
       "22     -0.131292\n",
       "23     -0.131154\n",
       "24     -0.130966\n",
       "25     -0.128006\n",
       "26     -0.126725\n",
       "27     -0.124037\n",
       "28     -0.123290\n",
       "29     -0.123143\n",
       "          ...   \n",
       "2469    0.115284\n",
       "2470    0.117585\n",
       "2471    0.117822\n",
       "2472    0.119394\n",
       "2473    0.121088\n",
       "2474    0.122997\n",
       "2475    0.124338\n",
       "2476    0.125237\n",
       "2477    0.127945\n",
       "2478    0.129148\n",
       "2479    0.129395\n",
       "2480    0.129438\n",
       "2481    0.131391\n",
       "2482    0.141639\n",
       "2483    0.145360\n",
       "2484    0.149205\n",
       "2485    0.154092\n",
       "2486    0.159307\n",
       "2487    0.160251\n",
       "2488    0.162897\n",
       "2489    0.166323\n",
       "2490    0.169750\n",
       "2491    0.182962\n",
       "2492    0.208313\n",
       "2493    0.212509\n",
       "2494    0.218125\n",
       "2495    0.278788\n",
       "2496    0.290148\n",
       "2497    0.358988\n",
       "2498    0.524773\n",
       "Length: 2499, dtype: float64"
      ]
     },
     "execution_count": 136,
     "metadata": {},
     "output_type": "execute_result"
    }
   ],
   "source": [
    "SortPort"
   ]
  },
  {
   "cell_type": "code",
   "execution_count": 140,
   "metadata": {},
   "outputs": [
    {
     "name": "stdout",
     "output_type": "stream",
     "text": [
      "For portfolio,\n",
      "Historical 5% Var is : -0.05816242305521469\n"
     ]
    }
   ],
   "source": [
    "print('For portfolio,')\n",
    "c = HS_var_ES(SortPort, 0.95, 0.95, 0.95)\n"
   ]
  },
  {
   "cell_type": "markdown",
   "metadata": {},
   "source": [
    "For stock S1,\n",
    "Historical 5% Var is : -0.06415930785472801\n",
    "\n",
    "Confirmed the portfolio has lower absolute value of Var5%"
   ]
  },
  {
   "cell_type": "code",
   "execution_count": null,
   "metadata": {},
   "outputs": [],
   "source": [
    "def bootstrap_test(data, method='pearson', times=1000):\n",
    "    \n",
    "    realCorr = data.corr(method=method)\n",
    "    print(realCorr)\n",
    "    permuted = pd.DataFrame(columns=data.columns, dtype=float)\n",
    "    counts = pd.DataFrame(np.zeros((data.shape[1], data.shape[1])), columns=data.columns, index=data.columns, dtype=float)\n",
    "    minCorr = pd.DataFrame(np.ones((data.shape[1], data.shape[1])), columns=data.columns, index=data.columns, dtype=float)\n",
    "    maxCorr = pd.DataFrame(np.zeros((data.shape[1], data.shape[1])), columns=data.columns, index=data.columns, dtype=float)\n",
    "\n",
    "    for i in ['S1', 'S3']:\n",
    "        one_update = pd.DataFrame(np.zeros((data.shape[1], data.shape[1])), columns=data.columns, index=data.columns, dtype=float)\n",
    "\n",
    "        for col in data:\n",
    "            permuted[col] = data[col].sample(frac=1, replace=True).reset_index(drop=True)\n",
    "        ranCorr = permuted.corr(method = method)\n",
    "\n",
    "        for col in ranCorr:\n",
    "            for ref_col in ranCorr:\n",
    "                if ranCorr[col][ref_col] > realCorr[col][ref_col]:\n",
    "                    one_update[col][ref_col] = 1\n",
    "                if ranCorr[col][ref_col] < minCorr[col][ref_col]:\n",
    "                    minCorr[col][ref_col] = ranCorr[col][ref_col]\n",
    "                if ranCorr[col][ref_col] > maxCorr[col][ref_col]:\n",
    "                    maxCorr[col][ref_col] = ranCorr[col][ref_col]\n",
    "                    \n",
    "        #print(one_update)\n",
    "        counts = counts + one_update\n",
    "        \n",
    "    return counts/times, maxCorr, minCorr\n",
    "\n",
    "    "
   ]
  },
  {
   "cell_type": "code",
   "execution_count": null,
   "metadata": {},
   "outputs": [],
   "source": [
    "def bootstrap_test(data, method='pearson', times=1000):\n",
    "    Boot = pd.DataFrame(columns=data.columns, dtype=float)\n",
    "    for col in ['S1', 'S3']:\n",
    "        Boot[col] = data[col].sample(frac=1, replace=True).reset_index(drop=True)\n",
    "    R_Port = data['S1'] - Boot.corr()['S1']['S3'] * (np.std(data['S1']) / np.std(data['S2'])) * data['S3']\n",
    "\n"
   ]
  }
 ],
 "metadata": {
  "kernelspec": {
   "display_name": "Python 3",
   "language": "python",
   "name": "python3"
  },
  "language_info": {
   "codemirror_mode": {
    "name": "ipython",
    "version": 3
   },
   "file_extension": ".py",
   "mimetype": "text/x-python",
   "name": "python",
   "nbconvert_exporter": "python",
   "pygments_lexer": "ipython3",
   "version": "3.6.3"
  }
 },
 "nbformat": 4,
 "nbformat_minor": 2
}
