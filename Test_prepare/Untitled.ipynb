{
 "cells": [
  {
   "cell_type": "code",
   "execution_count": 1,
   "metadata": {},
   "outputs": [
    {
     "name": "stderr",
     "output_type": "stream",
     "text": [
      "/home/lin/.pyenv/versions/3.6.3/lib/python3.6/site-packages/statsmodels/compat/pandas.py:56: FutureWarning: The pandas.core.datetools module is deprecated and will be removed in a future version. Please use the pandas.tseries module instead.\n",
      "  from pandas.core import datetools\n"
     ]
    }
   ],
   "source": [
    "import numpy as np\n",
    "import pandas as pd\n",
    "import matplotlib.pyplot as plt\n",
    "from statsmodels.tsa.stattools import adfuller\n",
    "from statsmodels.tsa.stattools import kpss\n",
    "import scipy.stats as stats"
   ]
  },
  {
   "cell_type": "code",
   "execution_count": 2,
   "metadata": {},
   "outputs": [],
   "source": [
    "my_data = pd.read_csv('/home/lin/教材/Financial_data/FinalTest/2015/FSE250_cleaned.csv')"
   ]
  },
  {
   "cell_type": "code",
   "execution_count": 3,
   "metadata": {},
   "outputs": [
    {
     "data": {
      "text/plain": [
       "Index(['year', ' month', ' day', ' FSE250'], dtype='object')"
      ]
     },
     "execution_count": 3,
     "metadata": {},
     "output_type": "execute_result"
    }
   ],
   "source": [
    "my_data.columns"
   ]
  },
  {
   "cell_type": "code",
   "execution_count": 4,
   "metadata": {},
   "outputs": [
    {
     "data": {
      "text/html": [
       "<div>\n",
       "<style scoped>\n",
       "    .dataframe tbody tr th:only-of-type {\n",
       "        vertical-align: middle;\n",
       "    }\n",
       "\n",
       "    .dataframe tbody tr th {\n",
       "        vertical-align: top;\n",
       "    }\n",
       "\n",
       "    .dataframe thead th {\n",
       "        text-align: right;\n",
       "    }\n",
       "</style>\n",
       "<table border=\"1\" class=\"dataframe\">\n",
       "  <thead>\n",
       "    <tr style=\"text-align: right;\">\n",
       "      <th></th>\n",
       "      <th>year</th>\n",
       "      <th>month</th>\n",
       "      <th>day</th>\n",
       "      <th>FSE250</th>\n",
       "    </tr>\n",
       "  </thead>\n",
       "  <tbody>\n",
       "    <tr>\n",
       "      <th>0</th>\n",
       "      <td>2015</td>\n",
       "      <td>3</td>\n",
       "      <td>4</td>\n",
       "      <td>17135.6</td>\n",
       "    </tr>\n",
       "    <tr>\n",
       "      <th>1</th>\n",
       "      <td>2015</td>\n",
       "      <td>3</td>\n",
       "      <td>3</td>\n",
       "      <td>17146.0</td>\n",
       "    </tr>\n",
       "    <tr>\n",
       "      <th>2</th>\n",
       "      <td>2015</td>\n",
       "      <td>3</td>\n",
       "      <td>2</td>\n",
       "      <td>17249.9</td>\n",
       "    </tr>\n",
       "    <tr>\n",
       "      <th>3</th>\n",
       "      <td>2015</td>\n",
       "      <td>2</td>\n",
       "      <td>27</td>\n",
       "      <td>17273.8</td>\n",
       "    </tr>\n",
       "    <tr>\n",
       "      <th>4</th>\n",
       "      <td>2015</td>\n",
       "      <td>2</td>\n",
       "      <td>26</td>\n",
       "      <td>17249.8</td>\n",
       "    </tr>\n",
       "  </tbody>\n",
       "</table>\n",
       "</div>"
      ],
      "text/plain": [
       "   year   month   day   FSE250\n",
       "0  2015       3     4  17135.6\n",
       "1  2015       3     3  17146.0\n",
       "2  2015       3     2  17249.9\n",
       "3  2015       2    27  17273.8\n",
       "4  2015       2    26  17249.8"
      ]
     },
     "execution_count": 4,
     "metadata": {},
     "output_type": "execute_result"
    }
   ],
   "source": [
    "my_data.head()"
   ]
  },
  {
   "cell_type": "code",
   "execution_count": 5,
   "metadata": {},
   "outputs": [],
   "source": [
    "price = np.flip(my_data[' FSE250'], 0)"
   ]
  },
  {
   "cell_type": "code",
   "execution_count": 6,
   "metadata": {},
   "outputs": [
    {
     "data": {
      "text/plain": [
       "6816   -0.005884\n",
       "6815    0.005446\n",
       "6814    0.005939\n",
       "6813   -0.003664\n",
       "6812    0.007662\n",
       "6811    0.002512\n",
       "6810   -0.003380\n",
       "6809    0.004979\n",
       "6808   -0.000821\n",
       "6807   -0.001644\n",
       "Name:  FSE250, dtype: float64"
      ]
     },
     "execution_count": 6,
     "metadata": {},
     "output_type": "execute_result"
    }
   ],
   "source": [
    "logR = np.log(price).diff().dropna()\n",
    "logR.head(10)"
   ]
  },
  {
   "cell_type": "code",
   "execution_count": 168,
   "metadata": {},
   "outputs": [
    {
     "data": {
      "text/plain": [
       "6813   -0.003664\n",
       "6814    0.005939\n",
       "6815    0.005446\n",
       "6816   -0.005884\n",
       "6817         NaN\n",
       "Name:  FSE250, dtype: float64"
      ]
     },
     "execution_count": 168,
     "metadata": {},
     "output_type": "execute_result"
    }
   ],
   "source": [
    "lr = np.log(my_data[' FSE250']).diff(-1)\n",
    "lr.tail()"
   ]
  },
  {
   "cell_type": "code",
   "execution_count": 7,
   "metadata": {},
   "outputs": [
    {
     "name": "stdout",
     "output_type": "stream",
     "text": [
      "-0.014862710956004221\n",
      "-0.028797838980821666\n"
     ]
    }
   ],
   "source": [
    "ind_var_one = int(logR.size * (1-0.95))-1\n",
    "ind_var_two = int(logR.size * (1-0.99))-1\n",
    "sortedreturn = np.asarray(logR.sort_values())\n",
    "Var1_1 = sortedreturn[ind_var_one]\n",
    "Var2_1 = sortedreturn[ind_var_two]\n",
    "print(Var1_1)\n",
    "print(Var2_1)"
   ]
  },
  {
   "cell_type": "code",
   "execution_count": 93,
   "metadata": {},
   "outputs": [],
   "source": [
    "def HS_var_ES(data, alpha_one, alpha_two, alpha_es):\n",
    "    ind_var_one = int( data.size * (1-alpha_one))-1\n",
    "    ind_var_two = int( data.size * (1-alpha_two))-1\n",
    "    ind_es = int( data.size * (1-alpha_es))-1\n",
    "    HS_var_ones = data[ind_var_one]\n",
    "    HS_var_twos = data[ind_var_two]\n",
    "    HS_ES = data[:ind_es+1].mean()\n",
    "    \n",
    "    print(f'Historical {alpha_one * 100}% Var is : {HS_var_ones}')\n",
    "    print(f'Historical {alpha_two * 100}% Var is : {HS_var_twos}')\n",
    "    print(f'Historical {alpha_es * 100}% ES is : {HS_ES}')\n",
    "\n",
    "    return HS_var_ones, HS_var_twos, HS_ES\n",
    "\n",
    "\n",
    "#In put is sorted (accending) log returns, when calculating var and ES, using floor of the index (size * alpha)\n",
    "\n",
    "#example for sorting\n",
    "\n",
    "#sortedreturn = np.asarray(np.sort(re20))\n",
    "#sortedreturn = np.asarray(logR.sort_values())\n"
   ]
  },
  {
   "cell_type": "code",
   "execution_count": 94,
   "metadata": {},
   "outputs": [
    {
     "name": "stdout",
     "output_type": "stream",
     "text": [
      "Historical 95.0% Var is : -0.07809135343029716\n",
      "Historical 99.0% Var is : -0.12813632148758636\n",
      "Historical 97.5% ES is : -0.12446116236165972\n"
     ]
    },
    {
     "data": {
      "text/plain": [
       "(-0.07809135343029716, -0.12813632148758636, -0.12446116236165972)"
      ]
     },
     "execution_count": 94,
     "metadata": {},
     "output_type": "execute_result"
    }
   ],
   "source": [
    "HS_var_ES(sortedreturn, 0.95, 0.99, 0.975)"
   ]
  },
  {
   "cell_type": "code",
   "execution_count": 116,
   "metadata": {},
   "outputs": [],
   "source": [
    "import scipy.integrate as integrate\n",
    "def ES_normal(data, alpha_es):\n",
    "\n",
    "    mu = np.mean(data)\n",
    "    sigma = np.std(data)\n",
    "    x_ticks = np.linspace(min(data), max(abs(data)),2000)\n",
    "    norm_es_quantile = stats.norm.ppf(1 - alpha_es, loc = mu, scale = sigma)\n",
    "    domain = x_ticks[x_ticks <= norm_es_quantile]\n",
    "    pdf = stats.norm.pdf(domain, loc = mu, scale = sigma)\n",
    "    to_integral = pdf * domain\n",
    "    ES = integrate.trapz(to_integral, domain, dx = 0.01) / (1 - alpha_es)\n",
    "    \n",
    "    print(f'Assuming normal distribution, {alpha_es * 100}% ES is {ES} using numerical integration')\n",
    "    CF_ES = -(sigma * stats.norm.pdf(stats.norm.ppf(alpha_es))/(1-alpha_es)- mu)\n",
    "    print(f'{alpha_es * 100}% ES is {CF_ES} using closed form fomula')\n",
    "    \n",
    "    return ES\n",
    "    \n",
    "    \n",
    "#data need to be a series of log return"
   ]
  },
  {
   "cell_type": "markdown",
   "metadata": {},
   "source": [
    "$${\\rm ES}(\\Delta V_{k+1}) = V_k\\sigma \\frac{\\phi(\\Phi(\\alpha))}{1-\\alpha} - V_k \\mu_k  $$"
   ]
  },
  {
   "cell_type": "code",
   "execution_count": 117,
   "metadata": {},
   "outputs": [
    {
     "name": "stdout",
     "output_type": "stream",
     "text": [
      "Assuming normal distribution, 97.5% ES is -0.10447525621709018 using numerical integration\n",
      "97.5% ES is -0.10580005994826826 using closed form fomula\n"
     ]
    },
    {
     "data": {
      "text/plain": [
       "-0.10447525621709018"
      ]
     },
     "execution_count": 117,
     "metadata": {},
     "output_type": "execute_result"
    }
   ],
   "source": [
    "ES_normal(sortedreturn, 0.975)"
   ]
  },
  {
   "cell_type": "markdown",
   "metadata": {},
   "source": [
    "To calculate HS var of $\\alpha$, you first calculate the array size * $\\alpha$ = index, since this number is not generally integer, index can be floored or capped. HS var can be difined as the index-th return in a acending sorted reture series. It can also be difined as the meam of these two.\n",
    "\n",
    "The meanning of a x% var is that, the futrue return with the same time horizon will be equal or worse than this value with probability 1 - x%"
   ]
  },
  {
   "cell_type": "code",
   "execution_count": 8,
   "metadata": {},
   "outputs": [],
   "source": [
    "tail = int(len(sortedreturn) * 0.1) + 1\n",
    "body = int(len(sortedreturn) * 0.8)\n",
    "left_tail = sortedreturn[: tail]\n",
    "body = sortedreturn[tail : tail+body]\n",
    "right_tail = sortedreturn[-tail :]"
   ]
  },
  {
   "cell_type": "code",
   "execution_count": 63,
   "metadata": {},
   "outputs": [
    {
     "name": "stdout",
     "output_type": "stream",
     "text": [
      "6817\n",
      "6817\n",
      "-0.009356182066598606\n",
      "0.009439183899324632\n"
     ]
    }
   ],
   "source": [
    "print(len(sortedreturn))\n",
    "print(len(left_tail) + len(body) + len(right_tail))\n",
    "print(left_tail[-1])\n",
    "print(right_tail[0])"
   ]
  },
  {
   "cell_type": "code",
   "execution_count": 10,
   "metadata": {},
   "outputs": [],
   "source": [
    "import powerlaw\n",
    "def get_alpha_and_start(data):\n",
    "    fit = powerlaw.Fit(data, xmin=min(data))\n",
    "    alpha_expo = fit.power_law.alpha\n",
    "    fit.power_law.plot_ccdf\n",
    "    fit.plot_ccdf\n",
    "    return alpha_expo-1\n",
    "\n",
    "def tail_expo_powerlaw(left_tail, right_tail):\n",
    "    alphaL = get_alpha_and_start(-left_tail)\n",
    "    print(f'Tail exponent for the left tail is {alphaL} based on max likelyhood estimation (using pythonpacage powerlaw)')\n",
    "\n",
    "    alphaR = get_alpha_and_start(right_tail)\n",
    "    print(f'Tail exponent for the right tail is {alphaR} based on max likelyhood estimation (using pythonpacage powerlaw)')\n",
    "    \n",
    "    left = pd.DataFrame(-np.flip(left_tail, 0), columns=['x'], dtype=float)\n",
    "    right = pd.DataFrame(right_tail, columns=['x'], dtype=float)\n",
    "    domain = np.linspace(min(left['x']), max(left['x']), 1000)\n",
    "\n",
    "    plt.figure()\n",
    "    plt.loglog(left['x'], 1 - (range(1, left.count()[0] + 1))/(left.count()[0] + 1), '+b', alpha = 0.5)\n",
    "    plt.loglog(right['x'], 1 - (range(1, right.count()[0] + 1))/(right.count()[0] + 1), 'xr', alpha = 0.5)\n",
    "    plt.loglog(domain, (domain*110) ** (-alphaL), '-.b')\n",
    "    plt.loglog(domain, (domain*110) ** (-alphaR), '-.r')"
   ]
  },
  {
   "cell_type": "code",
   "execution_count": 153,
   "metadata": {},
   "outputs": [
    {
     "name": "stderr",
     "output_type": "stream",
     "text": [
      "/home/lin/.pyenv/versions/3.6.3/lib/python3.6/site-packages/powerlaw.py:697: RuntimeWarning: invalid value encountered in true_divide\n",
      "  (Theoretical_CDF * (1 - Theoretical_CDF))\n"
     ]
    },
    {
     "name": "stdout",
     "output_type": "stream",
     "text": [
      "Tail exponent for the left tail is 1.8986698556906911 based on max likelyhood estimation (using pythonpacage powerlaw)\n",
      "Tail exponent for the right tail is 2.2552008132588406 based on max likelyhood estimation (using pythonpacage powerlaw)\n"
     ]
    },
    {
     "data": {
      "image/png": "[encoded data removed]",
      "text/plain": [
       "<Figure size 432x288 with 1 Axes>"
      ]
     },
     "metadata": {},
     "output_type": "display_data"
    }
   ],
   "source": [
    "tail_expo_powerlaw(left_tail, right_tail)"
   ]
  },
  {
   "cell_type": "code",
   "execution_count": 11,
   "metadata": {},
   "outputs": [
    {
     "name": "stderr",
     "output_type": "stream",
     "text": [
      "/home/lin/.pyenv/versions/3.6.3/lib/python3.6/site-packages/powerlaw.py:697: RuntimeWarning: invalid value encountered in true_divide\n",
      "  (Theoretical_CDF * (1 - Theoretical_CDF))\n"
     ]
    },
    {
     "data": {
      "text/plain": [
       "1.8986698556906911"
      ]
     },
     "execution_count": 11,
     "metadata": {},
     "output_type": "execute_result"
    }
   ],
   "source": [
    "get_alpha_and_start(-left_tail)"
   ]
  },
  {
   "cell_type": "code",
   "execution_count": 12,
   "metadata": {},
   "outputs": [
    {
     "name": "stderr",
     "output_type": "stream",
     "text": [
      "/home/lin/.pyenv/versions/3.6.3/lib/python3.6/site-packages/powerlaw.py:697: RuntimeWarning: invalid value encountered in true_divide\n",
      "  (Theoretical_CDF * (1 - Theoretical_CDF))\n"
     ]
    },
    {
     "data": {
      "text/plain": [
       "2.2552008132588406"
      ]
     },
     "execution_count": 12,
     "metadata": {},
     "output_type": "execute_result"
    }
   ],
   "source": [
    "get_alpha_and_start(right_tail)"
   ]
  },
  {
   "cell_type": "code",
   "execution_count": 13,
   "metadata": {},
   "outputs": [
    {
     "name": "stderr",
     "output_type": "stream",
     "text": [
      "/home/lin/.pyenv/versions/3.6.3/lib/python3.6/site-packages/scipy/stats/_continuous_distns.py:2062: RuntimeWarning: divide by zero encountered in true_divide\n",
      "  val = val + cnk * (-1) ** ki / (1.0 - c * ki)\n",
      "/home/lin/.pyenv/versions/3.6.3/lib/python3.6/site-packages/scipy/stats/_distn_infrastructure.py:1037: RuntimeWarning: invalid value encountered in subtract\n",
      "  mu2 = mu2p - mu * mu\n",
      "/home/lin/.pyenv/versions/3.6.3/lib/python3.6/site-packages/scipy/stats/_distn_infrastructure.py:2306: RuntimeWarning: invalid value encountered in double_scalars\n",
      "  Lhat = muhat - Shat*mu\n"
     ]
    }
   ],
   "source": [
    "left_gen_para = stats.genpareto.fit(-left_tail)\n",
    "right_gen_para = stats.genpareto.fit(right_tail)"
   ]
  },
  {
   "cell_type": "code",
   "execution_count": 14,
   "metadata": {},
   "outputs": [
    {
     "data": {
      "text/plain": [
       "(0.0677012736493009, 0.009356181933238374, 0.0074280469785549565)"
      ]
     },
     "execution_count": 14,
     "metadata": {},
     "output_type": "execute_result"
    }
   ],
   "source": [
    "left_gen_para"
   ]
  },
  {
   "cell_type": "code",
   "execution_count": 15,
   "metadata": {},
   "outputs": [
    {
     "data": {
      "text/plain": [
       "(0.14087333589304923, 0.00943918347962876, 0.005537415141010858)"
      ]
     },
     "execution_count": 15,
     "metadata": {},
     "output_type": "execute_result"
    }
   ],
   "source": [
    "right_gen_para"
   ]
  },
  {
   "cell_type": "code",
   "execution_count": 43,
   "metadata": {},
   "outputs": [],
   "source": [
    "left = pd.DataFrame(-np.flip(left_tail, 0), columns=['x'], dtype=float)\n",
    "right = pd.DataFrame(right_tail, columns=['x'], dtype=float)"
   ]
  },
  {
   "cell_type": "code",
   "execution_count": 32,
   "metadata": {},
   "outputs": [
    {
     "data": {
      "text/plain": [
       "x    682\n",
       "dtype: int64"
      ]
     },
     "execution_count": 32,
     "metadata": {},
     "output_type": "execute_result"
    }
   ],
   "source": [
    "left.count()"
   ]
  },
  {
   "cell_type": "code",
   "execution_count": 44,
   "metadata": {},
   "outputs": [
    {
     "data": {
      "text/plain": [
       "[<matplotlib.lines.Line2D at 0x7fa6f3f0ecf8>]"
      ]
     },
     "execution_count": 44,
     "metadata": {},
     "output_type": "execute_result"
    },
    {
     "data": {
      "image/png": "[encoded data removed]",
      "text/plain": [
       "<Figure size 432x288 with 1 Axes>"
      ]
     },
     "metadata": {},
     "output_type": "display_data"
    }
   ],
   "source": [
    "\n",
    "plt.loglog(left, 1 - (range(1, left.count()[0] + 1))/(left.count()[0] + 1), '+b', alpha = 0.5)\n",
    "plt.loglog(right, 1 - (range(1, right.count()[0] + 1))/(right.count()[0] + 1), 'xr', alpha = 0.5)\n",
    "plt.loglog(left, 1 - stats.genpareto.cdf(left, c=left_gen_para[0] , loc = left_gen_para[1], scale = left_gen_para[2]), '--b')\n",
    "plt.loglog(right, 1 - stats.genpareto.cdf(right, c=right_gen_para[0] , loc = right_gen_para[1], scale = right_gen_para[2]), '--r')"
   ]
  },
  {
   "cell_type": "code",
   "execution_count": 45,
   "metadata": {
    "scrolled": true
   },
   "outputs": [
    {
     "data": {
      "text/plain": [
       "array([-3.30576442])"
      ]
     },
     "execution_count": 45,
     "metadata": {},
     "output_type": "execute_result"
    }
   ],
   "source": [
    "(np.log(1-1/(left.count()[0]+1)) - np.log(1 - (left.count()[0])/((left.count()[0]+1))))/(np.log(left.values[0]) - np.log(left.values[-1]))"
   ]
  },
  {
   "cell_type": "code",
   "execution_count": 46,
   "metadata": {},
   "outputs": [
    {
     "data": {
      "text/plain": [
       "array([-3.15593965])"
      ]
     },
     "execution_count": 46,
     "metadata": {},
     "output_type": "execute_result"
    }
   ],
   "source": [
    "(np.log(1-1/(right.count()[0]+1))  - np.log(1 - (right.count()[0])/((right.count()[0]+1))))/(np.log(right.values[0]) - np.log(right.values[-1]))"
   ]
  },
  {
   "cell_type": "code",
   "execution_count": 47,
   "metadata": {},
   "outputs": [
    {
     "data": {
      "text/plain": [
       "Index(['x', 'y', 'newx'], dtype='object')"
      ]
     },
     "execution_count": 47,
     "metadata": {},
     "output_type": "execute_result"
    }
   ],
   "source": [
    "left['y'] =  np.log(1 - (range(1, left.count()[0] + 1))/(left.count()[0] + 1))\n",
    "left['newx'] = np.log(left['x'])\n",
    "right['y'] = np.log(1 - (range(1, right.count()[0] + 1))/(right.count()[0] + 1))\n",
    "right['newx'] = np.log(right['x'])\n",
    "left.columns"
   ]
  },
  {
   "cell_type": "code",
   "execution_count": 48,
   "metadata": {},
   "outputs": [
    {
     "data": {
      "text/plain": [
       "-2.3951104413613007"
      ]
     },
     "execution_count": 48,
     "metadata": {},
     "output_type": "execute_result"
    }
   ],
   "source": [
    "import statsmodels.formula.api as smf\n",
    "resB = smf.ols(formula='y ~ newx', data=left).fit()\n",
    "resB.params[1]"
   ]
  },
  {
   "cell_type": "code",
   "execution_count": 49,
   "metadata": {},
   "outputs": [
    {
     "data": {
      "text/plain": [
       "-2.593766321769769"
      ]
     },
     "execution_count": 49,
     "metadata": {},
     "output_type": "execute_result"
    }
   ],
   "source": [
    "resB = smf.ols(formula='y ~ newx', data=right).fit()\n",
    "resB.params[1]"
   ]
  },
  {
   "cell_type": "code",
   "execution_count": 158,
   "metadata": {},
   "outputs": [],
   "source": [
    "import statsmodels.formula.api as smf\n",
    "\n",
    "def tail_expo_linRegression(left_tail, right_tail):\n",
    "    left = pd.DataFrame(-np.flip(left_tail, 0), columns=['x'], dtype=float)\n",
    "    right = pd.DataFrame(right_tail, columns=['x'], dtype=float)\n",
    "    left['y'] =  np.log(1 - (range(1, left.count()[0] + 1))/(left.count()[0] + 1))\n",
    "    left['newx'] = np.log(left['x'])\n",
    "    right['y'] = np.log(1 - (range(1, right.count()[0] + 1))/(right.count()[0] + 1))\n",
    "    right['newx'] = np.log(right['x'])\n",
    "    resB = smf.ols(formula='y ~ newx', data=left).fit()\n",
    "    alphaL = resB.params[1]\n",
    "    print(f'Tail exponent for the left tail is {-alphaL} based on a linear regression')\n",
    "    resB = smf.ols(formula='y ~ newx', data=right).fit()\n",
    "    alphaR = resB.params[1]\n",
    "    print(f'Tail exponent for the right tail is {-alphaR} based on a linear regression')\n",
    "\n",
    "    \n",
    "    domain = np.linspace(min(left['x']), max(left['x']), 1000)\n",
    "\n",
    "    plt.figure()\n",
    "    plt.loglog(left['x'], 1 - (range(1, left.count()[0] + 1))/(left.count()[0] + 1), '+b', alpha = 0.5)\n",
    "    plt.loglog(right['x'], 1 - (range(1, right.count()[0] + 1))/(right.count()[0] + 1), 'xr', alpha = 0.5)\n",
    "    plt.loglog(domain, (domain*100) ** (alphaL), '-.b')\n",
    "    plt.loglog(domain, (domain*100) ** (alphaR), '-.r')"
   ]
  },
  {
   "cell_type": "code",
   "execution_count": 159,
   "metadata": {},
   "outputs": [
    {
     "name": "stdout",
     "output_type": "stream",
     "text": [
      "Tail exponent for the left tail is 2.3951104413613007 based on a linear regression\n",
      "Tail exponent for the right tail is 2.593766321769769 based on a linear regression\n"
     ]
    },
    {
     "data": {
      "image/png": "[encoded data removed]",
      "text/plain": [
       "<Figure size 432x288 with 1 Axes>"
      ]
     },
     "metadata": {},
     "output_type": "display_data"
    }
   ],
   "source": [
    "tail_expo_linRegression(left_tail, right_tail)"
   ]
  },
  {
   "cell_type": "markdown",
   "metadata": {},
   "source": [
    "# This is not alpha, still don't know the relationship"
   ]
  },
  {
   "cell_type": "code",
   "execution_count": 95,
   "metadata": {},
   "outputs": [
    {
     "name": "stdout",
     "output_type": "stream",
     "text": [
      "alpha for left tail is : \n",
      "14.77077085994122\n",
      "alpha for right tail is : \n",
      "7.098575423522291\n"
     ]
    }
   ],
   "source": [
    "print('alpha for left tail is : ')\n",
    "print(1/left_gen_para[0])\n",
    "print('alpha for right tail is : ')\n",
    "print(1/right_gen_para[0])"
   ]
  },
  {
   "cell_type": "code",
   "execution_count": 44,
   "metadata": {},
   "outputs": [
    {
     "data": {
      "text/plain": [
       "0.19644028411278575"
      ]
     },
     "execution_count": 44,
     "metadata": {},
     "output_type": "execute_result"
    }
   ],
   "source": [
    "import scipy.integrate as integrate\n",
    "\n",
    "pdf = stats.genpareto.pdf(left_tail, c = left_gen_para[0] , loc = left_gen_para[1], scale = left_gen_para[2])\n",
    "A = 0.1 / integrate.trapz(pdf, left_tail, dx = 0.01)\n",
    "A"
   ]
  },
  {
   "cell_type": "code",
   "execution_count": 45,
   "metadata": {},
   "outputs": [
    {
     "data": {
      "text/plain": [
       "0.09998634131996074"
      ]
     },
     "execution_count": 45,
     "metadata": {},
     "output_type": "execute_result"
    }
   ],
   "source": [
    "pdf = stats.genpareto.pdf(right_tail, c = right_gen_para[0] , loc = right_gen_para[1], scale = right_gen_para[2])\n",
    "B = 0.1 / integrate.trapz(pdf, right_tail, dx = 0.01)\n",
    "B"
   ]
  },
  {
   "cell_type": "code",
   "execution_count": 50,
   "metadata": {},
   "outputs": [],
   "source": [
    "def function(x, x0, a):\n",
    "    return -(x0/a) * (x0/x) ** a"
   ]
  },
  {
   "cell_type": "code",
   "execution_count": 161,
   "metadata": {},
   "outputs": [
    {
     "data": {
      "text/plain": [
       "25.599228663065464"
      ]
     },
     "execution_count": 161,
     "metadata": {},
     "output_type": "execute_result"
    }
   ],
   "source": [
    "A = 0.1 / (function(max(left_tail), max(left_tail), 2.3951104413613007) - function(-np.inf, max(left_tail), 2.3951104413613007))\n",
    "A"
   ]
  },
  {
   "cell_type": "code",
   "execution_count": 162,
   "metadata": {},
   "outputs": [
    {
     "data": {
      "text/plain": [
       "23.89190461073863"
      ]
     },
     "execution_count": 162,
     "metadata": {},
     "output_type": "execute_result"
    }
   ],
   "source": [
    "B = 0.1 / (function(np.inf, min(right_tail), 2.2552008132588406) - function(min(right_tail), min(right_tail), 2.2552008132588406))\n",
    "B"
   ]
  },
  {
   "cell_type": "code",
   "execution_count": 53,
   "metadata": {},
   "outputs": [
    {
     "data": {
      "text/plain": [
       "0.0005412379942985588"
      ]
     },
     "execution_count": 53,
     "metadata": {},
     "output_type": "execute_result"
    }
   ],
   "source": [
    "mu = np.mean(body)\n",
    "mu"
   ]
  },
  {
   "cell_type": "code",
   "execution_count": 54,
   "metadata": {},
   "outputs": [
    {
     "data": {
      "text/plain": [
       "0.0043988280389262455"
      ]
     },
     "execution_count": 54,
     "metadata": {},
     "output_type": "execute_result"
    }
   ],
   "source": [
    "sigma = np.std(body)\n",
    "sigma"
   ]
  },
  {
   "cell_type": "code",
   "execution_count": 55,
   "metadata": {},
   "outputs": [
    {
     "data": {
      "text/plain": [
       "array([-0.00935198, -0.00935145, -0.00931985, ...,  0.00941958,\n",
       "        0.00943076,  0.00943241])"
      ]
     },
     "execution_count": 55,
     "metadata": {},
     "output_type": "execute_result"
    }
   ],
   "source": [
    "body"
   ]
  },
  {
   "cell_type": "code",
   "execution_count": 56,
   "metadata": {},
   "outputs": [],
   "source": [
    "from scipy.optimize import minimize\n",
    "from scipy.special import erf\n",
    "cost_fun = lambda x: ((erf((mu - body[0])/(2**0.5*x)) + erf((body[-1]-mu)/(2**0.5*x))) - 1.6) **2\n",
    "res = minimize(cost_fun, sigma, method = 'SLSQP')"
   ]
  },
  {
   "cell_type": "code",
   "execution_count": 57,
   "metadata": {},
   "outputs": [
    {
     "data": {
      "text/plain": [
       "     fun: 9.43884967350049e-08\n",
       "     jac: array([0.07546487])\n",
       " message: 'Optimization terminated successfully.'\n",
       "    nfev: 44\n",
       "     nit: 9\n",
       "    njev: 9\n",
       "  status: 0\n",
       " success: True\n",
       "       x: array([0.00731412])"
      ]
     },
     "execution_count": 57,
     "metadata": {},
     "output_type": "execute_result"
    }
   ],
   "source": [
    "res"
   ]
  },
  {
   "cell_type": "code",
   "execution_count": 58,
   "metadata": {},
   "outputs": [
    {
     "data": {
      "text/plain": [
       "array([0.00731412])"
      ]
     },
     "execution_count": 58,
     "metadata": {},
     "output_type": "execute_result"
    }
   ],
   "source": [
    "res.x"
   ]
  },
  {
   "cell_type": "markdown",
   "metadata": {},
   "source": [
    "sigma is saying what I see (body) is all the possibility, but res.x is saying what I see is only 80% of the possibility\n",
    "\n",
    "So res.x is giving a wider distribution"
   ]
  },
  {
   "cell_type": "code",
   "execution_count": 59,
   "metadata": {},
   "outputs": [],
   "source": [
    "def resample(data, days=5):\n",
    "    data = np.asarray(data)\n",
    "    resampled = np.zeros(int(len(data)/days))\n",
    "    j = days\n",
    "    for i in range(len(resampled)):\n",
    "        resampled[i] = sum(data[j-days:j])\n",
    "        j = j + days\n",
    "    return resampled\n",
    "\n",
    "#input is daily log return series"
   ]
  },
  {
   "cell_type": "code",
   "execution_count": 60,
   "metadata": {},
   "outputs": [],
   "source": [
    "re20 = resample(logR, 20)"
   ]
  },
  {
   "cell_type": "code",
   "execution_count": 95,
   "metadata": {},
   "outputs": [
    {
     "name": "stdout",
     "output_type": "stream",
     "text": [
      "-0.07809135343029716\n",
      "-0.12813632148758636\n"
     ]
    }
   ],
   "source": [
    "ind_var_one = int(re20.size * (1-0.95))-1\n",
    "ind_var_two = int(re20.size * (1-0.99))-1\n",
    "sortedreturn = np.asarray(np.sort(re20))\n",
    "Var1_20 = sortedreturn[ind_var_one]\n",
    "Var2_20 = sortedreturn[ind_var_two]\n",
    "print(Var1_20)\n",
    "print(Var2_20)"
   ]
  },
  {
   "cell_type": "code",
   "execution_count": 114,
   "metadata": {},
   "outputs": [
    {
     "data": {
      "text/plain": [
       "0.5537957774406126"
      ]
     },
     "execution_count": 114,
     "metadata": {},
     "output_type": "execute_result"
    }
   ],
   "source": [
    "import math\n",
    "Hest1 = math.log(Var1_20/Var1_1, 20)\n",
    "Hest1"
   ]
  },
  {
   "cell_type": "code",
   "execution_count": 113,
   "metadata": {},
   "outputs": [
    {
     "data": {
      "text/plain": [
       "0.49830699927981326"
      ]
     },
     "execution_count": 113,
     "metadata": {},
     "output_type": "execute_result"
    }
   ],
   "source": [
    "Hest2 = math.log(Var2_20/Var2_1, 20)\n",
    "Hest2"
   ]
  },
  {
   "cell_type": "code",
   "execution_count": 116,
   "metadata": {},
   "outputs": [
    {
     "data": {
      "text/plain": [
       "0.5260513883602129"
      ]
     },
     "execution_count": 116,
     "metadata": {},
     "output_type": "execute_result"
    }
   ],
   "source": [
    "H = 0.5 * (Hest1 + Hest2)\n",
    "H"
   ]
  },
  {
   "cell_type": "code",
   "execution_count": 163,
   "metadata": {},
   "outputs": [],
   "source": [
    "tail20 = int(len(re20) * 0.1)\n",
    "body20 = int(len(re20) * 0.8)\n",
    "left_tail20 = sortedreturn[: tail20]\n",
    "body20 = sortedreturn[tail20 : tail20+body20]\n",
    "right_tail20 = sortedreturn[-tail20 :]"
   ]
  },
  {
   "cell_type": "code",
   "execution_count": 164,
   "metadata": {},
   "outputs": [
    {
     "name": "stdout",
     "output_type": "stream",
     "text": [
      "340\n",
      "340\n"
     ]
    }
   ],
   "source": [
    "print(len(sortedreturn))\n",
    "print(len(left_tail20) + len(body20) + len(right_tail20))"
   ]
  },
  {
   "cell_type": "code",
   "execution_count": 165,
   "metadata": {},
   "outputs": [
    {
     "name": "stderr",
     "output_type": "stream",
     "text": [
      "/home/lin/.pyenv/versions/3.6.3/lib/python3.6/site-packages/powerlaw.py:697: RuntimeWarning: invalid value encountered in true_divide\n",
      "  (Theoretical_CDF * (1 - Theoretical_CDF))\n"
     ]
    },
    {
     "name": "stdout",
     "output_type": "stream",
     "text": [
      "Tail exponent for the left tail is 2.456358035254785 based on max likelyhood estimation (using pythonpacage powerlaw)\n",
      "Tail exponent for the right tail is 2.961122651737337 based on max likelyhood estimation (using pythonpacage powerlaw)\n"
     ]
    },
    {
     "data": {
      "image/png": "[encoded data removed]",
      "text/plain": [
       "<Figure size 432x288 with 1 Axes>"
      ]
     },
     "metadata": {},
     "output_type": "display_data"
    }
   ],
   "source": [
    "tail_expo_powerlaw(left_tail20, right_tail20)"
   ]
  },
  {
   "cell_type": "code",
   "execution_count": 166,
   "metadata": {},
   "outputs": [
    {
     "name": "stdout",
     "output_type": "stream",
     "text": [
      "Tail exponent for the left tail is 3.053438983215371 based on a linear regression\n",
      "Tail exponent for the right tail is 2.7099994615799528 based on a linear regression\n"
     ]
    },
    {
     "data": {
      "image/png": "[encoded data removed]",
      "text/plain": [
       "<Figure size 432x288 with 1 Axes>"
      ]
     },
     "metadata": {},
     "output_type": "display_data"
    }
   ],
   "source": [
    "tail_expo_linRegression(left_tail20, right_tail20)"
   ]
  },
  {
   "cell_type": "code",
   "execution_count": 122,
   "metadata": {},
   "outputs": [
    {
     "name": "stderr",
     "output_type": "stream",
     "text": [
      "/home/lin/.pyenv/versions/3.6.3/lib/python3.6/site-packages/powerlaw.py:697: RuntimeWarning: invalid value encountered in true_divide\n",
      "  (Theoretical_CDF * (1 - Theoretical_CDF))\n"
     ]
    },
    {
     "data": {
      "text/plain": [
       "2.456358035254785"
      ]
     },
     "execution_count": 122,
     "metadata": {},
     "output_type": "execute_result"
    }
   ],
   "source": [
    "get_alpha_and_start(-left_tail20)"
   ]
  },
  {
   "cell_type": "code",
   "execution_count": 123,
   "metadata": {},
   "outputs": [
    {
     "name": "stderr",
     "output_type": "stream",
     "text": [
      "/home/lin/.pyenv/versions/3.6.3/lib/python3.6/site-packages/powerlaw.py:697: RuntimeWarning: invalid value encountered in true_divide\n",
      "  (Theoretical_CDF * (1 - Theoretical_CDF))\n"
     ]
    },
    {
     "data": {
      "text/plain": [
       "2.961122651737337"
      ]
     },
     "execution_count": 123,
     "metadata": {},
     "output_type": "execute_result"
    }
   ],
   "source": [
    "get_alpha_and_start(right_tail20)"
   ]
  },
  {
   "cell_type": "code",
   "execution_count": 74,
   "metadata": {},
   "outputs": [],
   "source": [
    "port = pd.read_csv('/home/lin/教材/Financial_data/FinalTest/2015/portfolio_cleaned.csv')"
   ]
  },
  {
   "cell_type": "code",
   "execution_count": 75,
   "metadata": {},
   "outputs": [
    {
     "data": {
      "text/html": [
       "<div>\n",
       "<style scoped>\n",
       "    .dataframe tbody tr th:only-of-type {\n",
       "        vertical-align: middle;\n",
       "    }\n",
       "\n",
       "    .dataframe tbody tr th {\n",
       "        vertical-align: top;\n",
       "    }\n",
       "\n",
       "    .dataframe thead th {\n",
       "        text-align: right;\n",
       "    }\n",
       "</style>\n",
       "<table border=\"1\" class=\"dataframe\">\n",
       "  <thead>\n",
       "    <tr style=\"text-align: right;\">\n",
       "      <th></th>\n",
       "      <th>year</th>\n",
       "      <th>month</th>\n",
       "      <th>day</th>\n",
       "      <th>RSW</th>\n",
       "      <th>OXIG</th>\n",
       "      <th>MGAM</th>\n",
       "      <th>HLMA</th>\n",
       "      <th>DNO</th>\n",
       "    </tr>\n",
       "  </thead>\n",
       "  <tbody>\n",
       "    <tr>\n",
       "      <th>0</th>\n",
       "      <td>2015</td>\n",
       "      <td>3</td>\n",
       "      <td>4</td>\n",
       "      <td>2544.50</td>\n",
       "      <td>811.30</td>\n",
       "      <td>316.38</td>\n",
       "      <td>706.0</td>\n",
       "      <td>732.24</td>\n",
       "    </tr>\n",
       "    <tr>\n",
       "      <th>1</th>\n",
       "      <td>2015</td>\n",
       "      <td>3</td>\n",
       "      <td>3</td>\n",
       "      <td>2540.52</td>\n",
       "      <td>801.35</td>\n",
       "      <td>320.10</td>\n",
       "      <td>698.0</td>\n",
       "      <td>730.28</td>\n",
       "    </tr>\n",
       "    <tr>\n",
       "      <th>2</th>\n",
       "      <td>2015</td>\n",
       "      <td>3</td>\n",
       "      <td>2</td>\n",
       "      <td>2587.29</td>\n",
       "      <td>794.38</td>\n",
       "      <td>319.71</td>\n",
       "      <td>713.0</td>\n",
       "      <td>733.22</td>\n",
       "    </tr>\n",
       "    <tr>\n",
       "      <th>3</th>\n",
       "      <td>2015</td>\n",
       "      <td>2</td>\n",
       "      <td>27</td>\n",
       "      <td>2597.24</td>\n",
       "      <td>753.07</td>\n",
       "      <td>322.45</td>\n",
       "      <td>712.5</td>\n",
       "      <td>754.30</td>\n",
       "    </tr>\n",
       "    <tr>\n",
       "      <th>4</th>\n",
       "      <td>2015</td>\n",
       "      <td>2</td>\n",
       "      <td>26</td>\n",
       "      <td>2635.06</td>\n",
       "      <td>765.01</td>\n",
       "      <td>323.14</td>\n",
       "      <td>716.5</td>\n",
       "      <td>742.04</td>\n",
       "    </tr>\n",
       "  </tbody>\n",
       "</table>\n",
       "</div>"
      ],
      "text/plain": [
       "   year   month   day      RSW    OXIG    MGAM   HLMA     DNO\n",
       "0  2015       3     4  2544.50  811.30  316.38  706.0  732.24\n",
       "1  2015       3     3  2540.52  801.35  320.10  698.0  730.28\n",
       "2  2015       3     2  2587.29  794.38  319.71  713.0  733.22\n",
       "3  2015       2    27  2597.24  753.07  322.45  712.5  754.30\n",
       "4  2015       2    26  2635.06  765.01  323.14  716.5  742.04"
      ]
     },
     "execution_count": 75,
     "metadata": {},
     "output_type": "execute_result"
    }
   ],
   "source": [
    "port.head()"
   ]
  },
  {
   "cell_type": "code",
   "execution_count": 208,
   "metadata": {},
   "outputs": [],
   "source": [
    "newPort = port[port.columns[-5:]]"
   ]
  },
  {
   "cell_type": "code",
   "execution_count": 209,
   "metadata": {},
   "outputs": [
    {
     "data": {
      "text/html": [
       "<div>\n",
       "<style scoped>\n",
       "    .dataframe tbody tr th:only-of-type {\n",
       "        vertical-align: middle;\n",
       "    }\n",
       "\n",
       "    .dataframe tbody tr th {\n",
       "        vertical-align: top;\n",
       "    }\n",
       "\n",
       "    .dataframe thead th {\n",
       "        text-align: right;\n",
       "    }\n",
       "</style>\n",
       "<table border=\"1\" class=\"dataframe\">\n",
       "  <thead>\n",
       "    <tr style=\"text-align: right;\">\n",
       "      <th></th>\n",
       "      <th>RSW</th>\n",
       "      <th>OXIG</th>\n",
       "      <th>MGAM</th>\n",
       "      <th>HLMA</th>\n",
       "      <th>DNO</th>\n",
       "    </tr>\n",
       "  </thead>\n",
       "  <tbody>\n",
       "    <tr>\n",
       "      <th>6813</th>\n",
       "      <td>0.0</td>\n",
       "      <td>0.012569</td>\n",
       "      <td>-0.003881</td>\n",
       "      <td>0.011168</td>\n",
       "      <td>0.000000</td>\n",
       "    </tr>\n",
       "    <tr>\n",
       "      <th>6814</th>\n",
       "      <td>0.0</td>\n",
       "      <td>0.004225</td>\n",
       "      <td>0.023513</td>\n",
       "      <td>0.000000</td>\n",
       "      <td>0.015840</td>\n",
       "    </tr>\n",
       "    <tr>\n",
       "      <th>6815</th>\n",
       "      <td>0.0</td>\n",
       "      <td>0.012783</td>\n",
       "      <td>0.000000</td>\n",
       "      <td>0.017508</td>\n",
       "      <td>0.009673</td>\n",
       "    </tr>\n",
       "    <tr>\n",
       "      <th>6816</th>\n",
       "      <td>0.0</td>\n",
       "      <td>0.000000</td>\n",
       "      <td>-0.003957</td>\n",
       "      <td>0.011494</td>\n",
       "      <td>-0.015993</td>\n",
       "    </tr>\n",
       "    <tr>\n",
       "      <th>6817</th>\n",
       "      <td>NaN</td>\n",
       "      <td>NaN</td>\n",
       "      <td>NaN</td>\n",
       "      <td>NaN</td>\n",
       "      <td>NaN</td>\n",
       "    </tr>\n",
       "  </tbody>\n",
       "</table>\n",
       "</div>"
      ],
      "text/plain": [
       "      RSW      OXIG      MGAM      HLMA       DNO\n",
       "6813  0.0  0.012569 -0.003881  0.011168  0.000000\n",
       "6814  0.0  0.004225  0.023513  0.000000  0.015840\n",
       "6815  0.0  0.012783  0.000000  0.017508  0.009673\n",
       "6816  0.0  0.000000 -0.003957  0.011494 -0.015993\n",
       "6817  NaN       NaN       NaN       NaN       NaN"
      ]
     },
     "execution_count": 209,
     "metadata": {},
     "output_type": "execute_result"
    }
   ],
   "source": [
    "log_r = np.log(newPort).diff(-1)\n",
    "for col in log_r.columns:\n",
    "    log_r[col.strip()] = log_r[col]\n",
    "log_r = log_r[log_r.columns[-5 :]]\n",
    "log_r.tail()"
   ]
  },
  {
   "cell_type": "code",
   "execution_count": 210,
   "metadata": {},
   "outputs": [
    {
     "data": {
      "text/html": [
       "<div>\n",
       "<style scoped>\n",
       "    .dataframe tbody tr th:only-of-type {\n",
       "        vertical-align: middle;\n",
       "    }\n",
       "\n",
       "    .dataframe tbody tr th {\n",
       "        vertical-align: top;\n",
       "    }\n",
       "\n",
       "    .dataframe thead th {\n",
       "        text-align: right;\n",
       "    }\n",
       "</style>\n",
       "<table border=\"1\" class=\"dataframe\">\n",
       "  <thead>\n",
       "    <tr style=\"text-align: right;\">\n",
       "      <th></th>\n",
       "      <th>RSW</th>\n",
       "      <th>OXIG</th>\n",
       "      <th>MGAM</th>\n",
       "      <th>HLMA</th>\n",
       "      <th>DNO</th>\n",
       "    </tr>\n",
       "  </thead>\n",
       "  <tbody>\n",
       "    <tr>\n",
       "      <th>0</th>\n",
       "      <td>2544.50</td>\n",
       "      <td>811.30</td>\n",
       "      <td>316.38</td>\n",
       "      <td>706.0</td>\n",
       "      <td>732.24</td>\n",
       "    </tr>\n",
       "    <tr>\n",
       "      <th>1</th>\n",
       "      <td>2540.52</td>\n",
       "      <td>801.35</td>\n",
       "      <td>320.10</td>\n",
       "      <td>698.0</td>\n",
       "      <td>730.28</td>\n",
       "    </tr>\n",
       "    <tr>\n",
       "      <th>2</th>\n",
       "      <td>2587.29</td>\n",
       "      <td>794.38</td>\n",
       "      <td>319.71</td>\n",
       "      <td>713.0</td>\n",
       "      <td>733.22</td>\n",
       "    </tr>\n",
       "    <tr>\n",
       "      <th>3</th>\n",
       "      <td>2597.24</td>\n",
       "      <td>753.07</td>\n",
       "      <td>322.45</td>\n",
       "      <td>712.5</td>\n",
       "      <td>754.30</td>\n",
       "    </tr>\n",
       "    <tr>\n",
       "      <th>4</th>\n",
       "      <td>2635.06</td>\n",
       "      <td>765.01</td>\n",
       "      <td>323.14</td>\n",
       "      <td>716.5</td>\n",
       "      <td>742.04</td>\n",
       "    </tr>\n",
       "  </tbody>\n",
       "</table>\n",
       "</div>"
      ],
      "text/plain": [
       "       RSW    OXIG    MGAM   HLMA     DNO\n",
       "0  2544.50  811.30  316.38  706.0  732.24\n",
       "1  2540.52  801.35  320.10  698.0  730.28\n",
       "2  2587.29  794.38  319.71  713.0  733.22\n",
       "3  2597.24  753.07  322.45  712.5  754.30\n",
       "4  2635.06  765.01  323.14  716.5  742.04"
      ]
     },
     "execution_count": 210,
     "metadata": {},
     "output_type": "execute_result"
    }
   ],
   "source": [
    "newPort.head()"
   ]
  },
  {
   "cell_type": "code",
   "execution_count": 220,
   "metadata": {},
   "outputs": [
    {
     "data": {
      "text/html": [
       "<div>\n",
       "<style scoped>\n",
       "    .dataframe tbody tr th:only-of-type {\n",
       "        vertical-align: middle;\n",
       "    }\n",
       "\n",
       "    .dataframe tbody tr th {\n",
       "        vertical-align: top;\n",
       "    }\n",
       "\n",
       "    .dataframe thead th {\n",
       "        text-align: right;\n",
       "    }\n",
       "</style>\n",
       "<table border=\"1\" class=\"dataframe\">\n",
       "  <thead>\n",
       "    <tr style=\"text-align: right;\">\n",
       "      <th></th>\n",
       "      <th>RSW</th>\n",
       "      <th>OXIG</th>\n",
       "      <th>MGAM</th>\n",
       "      <th>HLMA</th>\n",
       "      <th>DNO</th>\n",
       "    </tr>\n",
       "  </thead>\n",
       "  <tbody>\n",
       "    <tr>\n",
       "      <th>RSW</th>\n",
       "      <td>1.000000</td>\n",
       "      <td>0.125404</td>\n",
       "      <td>0.133100</td>\n",
       "      <td>0.257032</td>\n",
       "      <td>0.162868</td>\n",
       "    </tr>\n",
       "    <tr>\n",
       "      <th>OXIG</th>\n",
       "      <td>0.125404</td>\n",
       "      <td>1.000000</td>\n",
       "      <td>0.068923</td>\n",
       "      <td>0.150399</td>\n",
       "      <td>0.156349</td>\n",
       "    </tr>\n",
       "    <tr>\n",
       "      <th>MGAM</th>\n",
       "      <td>0.133100</td>\n",
       "      <td>0.068923</td>\n",
       "      <td>1.000000</td>\n",
       "      <td>0.141977</td>\n",
       "      <td>0.100374</td>\n",
       "    </tr>\n",
       "    <tr>\n",
       "      <th>HLMA</th>\n",
       "      <td>0.257032</td>\n",
       "      <td>0.150399</td>\n",
       "      <td>0.141977</td>\n",
       "      <td>1.000000</td>\n",
       "      <td>0.187714</td>\n",
       "    </tr>\n",
       "    <tr>\n",
       "      <th>DNO</th>\n",
       "      <td>0.162868</td>\n",
       "      <td>0.156349</td>\n",
       "      <td>0.100374</td>\n",
       "      <td>0.187714</td>\n",
       "      <td>1.000000</td>\n",
       "    </tr>\n",
       "  </tbody>\n",
       "</table>\n",
       "</div>"
      ],
      "text/plain": [
       "           RSW      OXIG      MGAM      HLMA       DNO\n",
       "RSW   1.000000  0.125404  0.133100  0.257032  0.162868\n",
       "OXIG  0.125404  1.000000  0.068923  0.150399  0.156349\n",
       "MGAM  0.133100  0.068923  1.000000  0.141977  0.100374\n",
       "HLMA  0.257032  0.150399  0.141977  1.000000  0.187714\n",
       "DNO   0.162868  0.156349  0.100374  0.187714  1.000000"
      ]
     },
     "execution_count": 220,
     "metadata": {},
     "output_type": "execute_result"
    }
   ],
   "source": [
    "corrcoeff = log_r.corr()\n",
    "corrcoeff"
   ]
  },
  {
   "cell_type": "code",
   "execution_count": 212,
   "metadata": {},
   "outputs": [
    {
     "data": {
      "text/html": [
       "<div>\n",
       "<style scoped>\n",
       "    .dataframe tbody tr th:only-of-type {\n",
       "        vertical-align: middle;\n",
       "    }\n",
       "\n",
       "    .dataframe tbody tr th {\n",
       "        vertical-align: top;\n",
       "    }\n",
       "\n",
       "    .dataframe thead th {\n",
       "        text-align: right;\n",
       "    }\n",
       "</style>\n",
       "<table border=\"1\" class=\"dataframe\">\n",
       "  <thead>\n",
       "    <tr style=\"text-align: right;\">\n",
       "      <th></th>\n",
       "      <th>RSW</th>\n",
       "      <th>OXIG</th>\n",
       "      <th>MGAM</th>\n",
       "      <th>HLMA</th>\n",
       "      <th>DNO</th>\n",
       "    </tr>\n",
       "  </thead>\n",
       "  <tbody>\n",
       "    <tr>\n",
       "      <th>RSW</th>\n",
       "      <td>1.000000</td>\n",
       "      <td>0.098696</td>\n",
       "      <td>0.131978</td>\n",
       "      <td>0.184053</td>\n",
       "      <td>0.116964</td>\n",
       "    </tr>\n",
       "    <tr>\n",
       "      <th>OXIG</th>\n",
       "      <td>0.098696</td>\n",
       "      <td>1.000000</td>\n",
       "      <td>0.085888</td>\n",
       "      <td>0.093218</td>\n",
       "      <td>0.096260</td>\n",
       "    </tr>\n",
       "    <tr>\n",
       "      <th>MGAM</th>\n",
       "      <td>0.131978</td>\n",
       "      <td>0.085888</td>\n",
       "      <td>1.000000</td>\n",
       "      <td>0.145182</td>\n",
       "      <td>0.084082</td>\n",
       "    </tr>\n",
       "    <tr>\n",
       "      <th>HLMA</th>\n",
       "      <td>0.184053</td>\n",
       "      <td>0.093218</td>\n",
       "      <td>0.145182</td>\n",
       "      <td>1.000000</td>\n",
       "      <td>0.124430</td>\n",
       "    </tr>\n",
       "    <tr>\n",
       "      <th>DNO</th>\n",
       "      <td>0.116964</td>\n",
       "      <td>0.096260</td>\n",
       "      <td>0.084082</td>\n",
       "      <td>0.124430</td>\n",
       "      <td>1.000000</td>\n",
       "    </tr>\n",
       "  </tbody>\n",
       "</table>\n",
       "</div>"
      ],
      "text/plain": [
       "           RSW      OXIG      MGAM      HLMA       DNO\n",
       "RSW   1.000000  0.098696  0.131978  0.184053  0.116964\n",
       "OXIG  0.098696  1.000000  0.085888  0.093218  0.096260\n",
       "MGAM  0.131978  0.085888  1.000000  0.145182  0.084082\n",
       "HLMA  0.184053  0.093218  0.145182  1.000000  0.124430\n",
       "DNO   0.116964  0.096260  0.084082  0.124430  1.000000"
      ]
     },
     "execution_count": 212,
     "metadata": {},
     "output_type": "execute_result"
    }
   ],
   "source": [
    "KenTau = log_r.corr(method='kendall')\n",
    "KenTau"
   ]
  },
  {
   "cell_type": "markdown",
   "metadata": {},
   "source": [
    "Kendall tau is non-linear correlation while Pearson is capture only linear\n",
    "Kendall tau 's limitation is only capture monotonic correlation"
   ]
  },
  {
   "cell_type": "code",
   "execution_count": 213,
   "metadata": {},
   "outputs": [
    {
     "data": {
      "text/html": [
       "<div>\n",
       "<style scoped>\n",
       "    .dataframe tbody tr th:only-of-type {\n",
       "        vertical-align: middle;\n",
       "    }\n",
       "\n",
       "    .dataframe tbody tr th {\n",
       "        vertical-align: top;\n",
       "    }\n",
       "\n",
       "    .dataframe thead th {\n",
       "        text-align: right;\n",
       "    }\n",
       "</style>\n",
       "<table border=\"1\" class=\"dataframe\">\n",
       "  <thead>\n",
       "    <tr style=\"text-align: right;\">\n",
       "      <th></th>\n",
       "      <th>RSW</th>\n",
       "      <th>OXIG</th>\n",
       "      <th>MGAM</th>\n",
       "      <th>HLMA</th>\n",
       "      <th>DNO</th>\n",
       "    </tr>\n",
       "  </thead>\n",
       "  <tbody>\n",
       "    <tr>\n",
       "      <th>RSW</th>\n",
       "      <td>1.000000</td>\n",
       "      <td>0.132469</td>\n",
       "      <td>0.186138</td>\n",
       "      <td>0.250192</td>\n",
       "      <td>0.154328</td>\n",
       "    </tr>\n",
       "    <tr>\n",
       "      <th>OXIG</th>\n",
       "      <td>0.132469</td>\n",
       "      <td>1.000000</td>\n",
       "      <td>0.120467</td>\n",
       "      <td>0.128501</td>\n",
       "      <td>0.128939</td>\n",
       "    </tr>\n",
       "    <tr>\n",
       "      <th>MGAM</th>\n",
       "      <td>0.186138</td>\n",
       "      <td>0.120467</td>\n",
       "      <td>1.000000</td>\n",
       "      <td>0.204510</td>\n",
       "      <td>0.117709</td>\n",
       "    </tr>\n",
       "    <tr>\n",
       "      <th>HLMA</th>\n",
       "      <td>0.250192</td>\n",
       "      <td>0.128501</td>\n",
       "      <td>0.204510</td>\n",
       "      <td>1.000000</td>\n",
       "      <td>0.168804</td>\n",
       "    </tr>\n",
       "    <tr>\n",
       "      <th>DNO</th>\n",
       "      <td>0.154328</td>\n",
       "      <td>0.128939</td>\n",
       "      <td>0.117709</td>\n",
       "      <td>0.168804</td>\n",
       "      <td>1.000000</td>\n",
       "    </tr>\n",
       "  </tbody>\n",
       "</table>\n",
       "</div>"
      ],
      "text/plain": [
       "           RSW      OXIG      MGAM      HLMA       DNO\n",
       "RSW   1.000000  0.132469  0.186138  0.250192  0.154328\n",
       "OXIG  0.132469  1.000000  0.120467  0.128501  0.128939\n",
       "MGAM  0.186138  0.120467  1.000000  0.204510  0.117709\n",
       "HLMA  0.250192  0.128501  0.204510  1.000000  0.168804\n",
       "DNO   0.154328  0.128939  0.117709  0.168804  1.000000"
      ]
     },
     "execution_count": 213,
     "metadata": {},
     "output_type": "execute_result"
    }
   ],
   "source": [
    "KenTau = log_r.corr(method='spearman')\n",
    "KenTau"
   ]
  },
  {
   "cell_type": "code",
   "execution_count": 170,
   "metadata": {},
   "outputs": [
    {
     "data": {
      "text/plain": [
       "(6818, 5)"
      ]
     },
     "execution_count": 170,
     "metadata": {},
     "output_type": "execute_result"
    }
   ],
   "source": [
    "log_r.shape"
   ]
  },
  {
   "cell_type": "code",
   "execution_count": 171,
   "metadata": {},
   "outputs": [
    {
     "name": "stderr",
     "output_type": "stream",
     "text": [
      "/home/lin/.pyenv/versions/3.6.3/lib/python3.6/site-packages/ipykernel_launcher.py:2: SettingWithCopyWarning: \n",
      "A value is trying to be set on a copy of a slice from a DataFrame.\n",
      "Try using .loc[row_indexer,col_indexer] = value instead\n",
      "\n",
      "See the caveats in the documentation: http://pandas.pydata.org/pandas-docs/stable/indexing.html#indexing-view-versus-copy\n",
      "  \n"
     ]
    }
   ],
   "source": [
    "allAssets = newPort\n",
    "allAssets['Index'] = my_data[' FSE250']"
   ]
  },
  {
   "cell_type": "code",
   "execution_count": 214,
   "metadata": {},
   "outputs": [
    {
     "data": {
      "text/html": [
       "<div>\n",
       "<style scoped>\n",
       "    .dataframe tbody tr th:only-of-type {\n",
       "        vertical-align: middle;\n",
       "    }\n",
       "\n",
       "    .dataframe tbody tr th {\n",
       "        vertical-align: top;\n",
       "    }\n",
       "\n",
       "    .dataframe thead th {\n",
       "        text-align: right;\n",
       "    }\n",
       "</style>\n",
       "<table border=\"1\" class=\"dataframe\">\n",
       "  <thead>\n",
       "    <tr style=\"text-align: right;\">\n",
       "      <th></th>\n",
       "      <th>RSW</th>\n",
       "      <th>OXIG</th>\n",
       "      <th>MGAM</th>\n",
       "      <th>HLMA</th>\n",
       "      <th>DNO</th>\n",
       "      <th>Index</th>\n",
       "    </tr>\n",
       "  </thead>\n",
       "  <tbody>\n",
       "    <tr>\n",
       "      <th>0</th>\n",
       "      <td>2544.50</td>\n",
       "      <td>811.30</td>\n",
       "      <td>316.38</td>\n",
       "      <td>706.0</td>\n",
       "      <td>732.24</td>\n",
       "      <td>17135.6</td>\n",
       "    </tr>\n",
       "    <tr>\n",
       "      <th>1</th>\n",
       "      <td>2540.52</td>\n",
       "      <td>801.35</td>\n",
       "      <td>320.10</td>\n",
       "      <td>698.0</td>\n",
       "      <td>730.28</td>\n",
       "      <td>17146.0</td>\n",
       "    </tr>\n",
       "    <tr>\n",
       "      <th>2</th>\n",
       "      <td>2587.29</td>\n",
       "      <td>794.38</td>\n",
       "      <td>319.71</td>\n",
       "      <td>713.0</td>\n",
       "      <td>733.22</td>\n",
       "      <td>17249.9</td>\n",
       "    </tr>\n",
       "    <tr>\n",
       "      <th>3</th>\n",
       "      <td>2597.24</td>\n",
       "      <td>753.07</td>\n",
       "      <td>322.45</td>\n",
       "      <td>712.5</td>\n",
       "      <td>754.30</td>\n",
       "      <td>17273.8</td>\n",
       "    </tr>\n",
       "    <tr>\n",
       "      <th>4</th>\n",
       "      <td>2635.06</td>\n",
       "      <td>765.01</td>\n",
       "      <td>323.14</td>\n",
       "      <td>716.5</td>\n",
       "      <td>742.04</td>\n",
       "      <td>17249.8</td>\n",
       "    </tr>\n",
       "  </tbody>\n",
       "</table>\n",
       "</div>"
      ],
      "text/plain": [
       "       RSW    OXIG    MGAM   HLMA     DNO    Index\n",
       "0  2544.50  811.30  316.38  706.0  732.24  17135.6\n",
       "1  2540.52  801.35  320.10  698.0  730.28  17146.0\n",
       "2  2587.29  794.38  319.71  713.0  733.22  17249.9\n",
       "3  2597.24  753.07  322.45  712.5  754.30  17273.8\n",
       "4  2635.06  765.01  323.14  716.5  742.04  17249.8"
      ]
     },
     "execution_count": 214,
     "metadata": {},
     "output_type": "execute_result"
    }
   ],
   "source": [
    "allAssets.head()"
   ]
  },
  {
   "cell_type": "code",
   "execution_count": 215,
   "metadata": {},
   "outputs": [],
   "source": [
    "log_rAll = np.log(allAssets).diff(-1)"
   ]
  },
  {
   "cell_type": "code",
   "execution_count": 216,
   "metadata": {},
   "outputs": [
    {
     "data": {
      "text/html": [
       "<div>\n",
       "<style scoped>\n",
       "    .dataframe tbody tr th:only-of-type {\n",
       "        vertical-align: middle;\n",
       "    }\n",
       "\n",
       "    .dataframe tbody tr th {\n",
       "        vertical-align: top;\n",
       "    }\n",
       "\n",
       "    .dataframe thead th {\n",
       "        text-align: right;\n",
       "    }\n",
       "</style>\n",
       "<table border=\"1\" class=\"dataframe\">\n",
       "  <thead>\n",
       "    <tr style=\"text-align: right;\">\n",
       "      <th></th>\n",
       "      <th>RSW</th>\n",
       "      <th>OXIG</th>\n",
       "      <th>MGAM</th>\n",
       "      <th>HLMA</th>\n",
       "      <th>DNO</th>\n",
       "      <th>Index</th>\n",
       "    </tr>\n",
       "  </thead>\n",
       "  <tbody>\n",
       "    <tr>\n",
       "      <th>RSW</th>\n",
       "      <td>6.175372</td>\n",
       "      <td>4.713812</td>\n",
       "      <td>5.734084</td>\n",
       "      <td>5.261274</td>\n",
       "      <td>4.500765</td>\n",
       "      <td>6.175372</td>\n",
       "    </tr>\n",
       "    <tr>\n",
       "      <th>OXIG</th>\n",
       "      <td>4.713812</td>\n",
       "      <td>6.179978</td>\n",
       "      <td>5.681776</td>\n",
       "      <td>5.122417</td>\n",
       "      <td>4.389145</td>\n",
       "      <td>6.179174</td>\n",
       "    </tr>\n",
       "    <tr>\n",
       "      <th>MGAM</th>\n",
       "      <td>5.734084</td>\n",
       "      <td>5.681776</td>\n",
       "      <td>7.883123</td>\n",
       "      <td>6.353708</td>\n",
       "      <td>5.251469</td>\n",
       "      <td>7.882319</td>\n",
       "    </tr>\n",
       "    <tr>\n",
       "      <th>HLMA</th>\n",
       "      <td>5.261274</td>\n",
       "      <td>5.122417</td>\n",
       "      <td>6.353708</td>\n",
       "      <td>6.900247</td>\n",
       "      <td>4.778325</td>\n",
       "      <td>6.898640</td>\n",
       "    </tr>\n",
       "    <tr>\n",
       "      <th>DNO</th>\n",
       "      <td>4.500765</td>\n",
       "      <td>4.389145</td>\n",
       "      <td>5.251469</td>\n",
       "      <td>4.778325</td>\n",
       "      <td>5.688799</td>\n",
       "      <td>5.686391</td>\n",
       "    </tr>\n",
       "    <tr>\n",
       "      <th>Index</th>\n",
       "      <td>6.175372</td>\n",
       "      <td>6.179174</td>\n",
       "      <td>7.882319</td>\n",
       "      <td>6.898640</td>\n",
       "      <td>5.686391</td>\n",
       "      <td>8.768728</td>\n",
       "    </tr>\n",
       "  </tbody>\n",
       "</table>\n",
       "</div>"
      ],
      "text/plain": [
       "            RSW      OXIG      MGAM      HLMA       DNO     Index\n",
       " RSW   6.175372  4.713812  5.734084  5.261274  4.500765  6.175372\n",
       " OXIG  4.713812  6.179978  5.681776  5.122417  4.389145  6.179174\n",
       " MGAM  5.734084  5.681776  7.883123  6.353708  5.251469  7.882319\n",
       " HLMA  5.261274  5.122417  6.353708  6.900247  4.778325  6.898640\n",
       " DNO   4.500765  4.389145  5.251469  4.778325  5.688799  5.686391\n",
       "Index  6.175372  6.179174  7.882319  6.898640  5.686391  8.768728"
      ]
     },
     "execution_count": 216,
     "metadata": {},
     "output_type": "execute_result"
    }
   ],
   "source": [
    "from sklearn import metrics\n",
    "\n",
    "miMa = pd.DataFrame(index=log_rAll.columns, columns=log_rAll.columns, dtype=float)\n",
    "for ref_col in log_rAll:\n",
    "    for col in log_rAll:\n",
    "        miMa[ref_col][col] = metrics.mutual_info_score(log_rAll[ref_col], log_rAll[col])\n",
    "miMa"
   ]
  },
  {
   "cell_type": "code",
   "execution_count": 217,
   "metadata": {},
   "outputs": [
    {
     "data": {
      "text/html": [
       "<div>\n",
       "<style scoped>\n",
       "    .dataframe tbody tr th:only-of-type {\n",
       "        vertical-align: middle;\n",
       "    }\n",
       "\n",
       "    .dataframe tbody tr th {\n",
       "        vertical-align: top;\n",
       "    }\n",
       "\n",
       "    .dataframe thead th {\n",
       "        text-align: right;\n",
       "    }\n",
       "</style>\n",
       "<table border=\"1\" class=\"dataframe\">\n",
       "  <thead>\n",
       "    <tr style=\"text-align: right;\">\n",
       "      <th></th>\n",
       "      <th>RSW</th>\n",
       "      <th>OXIG</th>\n",
       "      <th>MGAM</th>\n",
       "      <th>HLMA</th>\n",
       "      <th>DNO</th>\n",
       "      <th>Index</th>\n",
       "    </tr>\n",
       "  </thead>\n",
       "  <tbody>\n",
       "    <tr>\n",
       "      <th>RSW</th>\n",
       "      <td>1.000000</td>\n",
       "      <td>0.098696</td>\n",
       "      <td>0.131978</td>\n",
       "      <td>0.184053</td>\n",
       "      <td>0.116964</td>\n",
       "      <td>0.256511</td>\n",
       "    </tr>\n",
       "    <tr>\n",
       "      <th>OXIG</th>\n",
       "      <td>0.098696</td>\n",
       "      <td>1.000000</td>\n",
       "      <td>0.085888</td>\n",
       "      <td>0.093218</td>\n",
       "      <td>0.096260</td>\n",
       "      <td>0.159465</td>\n",
       "    </tr>\n",
       "    <tr>\n",
       "      <th>MGAM</th>\n",
       "      <td>0.131978</td>\n",
       "      <td>0.085888</td>\n",
       "      <td>1.000000</td>\n",
       "      <td>0.145182</td>\n",
       "      <td>0.084082</td>\n",
       "      <td>0.253457</td>\n",
       "    </tr>\n",
       "    <tr>\n",
       "      <th>HLMA</th>\n",
       "      <td>0.184053</td>\n",
       "      <td>0.093218</td>\n",
       "      <td>0.145182</td>\n",
       "      <td>1.000000</td>\n",
       "      <td>0.124430</td>\n",
       "      <td>0.317071</td>\n",
       "    </tr>\n",
       "    <tr>\n",
       "      <th>DNO</th>\n",
       "      <td>0.116964</td>\n",
       "      <td>0.096260</td>\n",
       "      <td>0.084082</td>\n",
       "      <td>0.124430</td>\n",
       "      <td>1.000000</td>\n",
       "      <td>0.181358</td>\n",
       "    </tr>\n",
       "    <tr>\n",
       "      <th>Index</th>\n",
       "      <td>0.256511</td>\n",
       "      <td>0.159465</td>\n",
       "      <td>0.253457</td>\n",
       "      <td>0.317071</td>\n",
       "      <td>0.181358</td>\n",
       "      <td>1.000000</td>\n",
       "    </tr>\n",
       "  </tbody>\n",
       "</table>\n",
       "</div>"
      ],
      "text/plain": [
       "            RSW      OXIG      MGAM      HLMA       DNO     Index\n",
       " RSW   1.000000  0.098696  0.131978  0.184053  0.116964  0.256511\n",
       " OXIG  0.098696  1.000000  0.085888  0.093218  0.096260  0.159465\n",
       " MGAM  0.131978  0.085888  1.000000  0.145182  0.084082  0.253457\n",
       " HLMA  0.184053  0.093218  0.145182  1.000000  0.124430  0.317071\n",
       " DNO   0.116964  0.096260  0.084082  0.124430  1.000000  0.181358\n",
       "Index  0.256511  0.159465  0.253457  0.317071  0.181358  1.000000"
      ]
     },
     "execution_count": 217,
     "metadata": {},
     "output_type": "execute_result"
    }
   ],
   "source": [
    "KenTau = log_rAll.corr(method='kendall')\n",
    "KenTau"
   ]
  },
  {
   "cell_type": "code",
   "execution_count": 218,
   "metadata": {},
   "outputs": [
    {
     "data": {
      "text/html": [
       "<div>\n",
       "<style scoped>\n",
       "    .dataframe tbody tr th:only-of-type {\n",
       "        vertical-align: middle;\n",
       "    }\n",
       "\n",
       "    .dataframe tbody tr th {\n",
       "        vertical-align: top;\n",
       "    }\n",
       "\n",
       "    .dataframe thead th {\n",
       "        text-align: right;\n",
       "    }\n",
       "</style>\n",
       "<table border=\"1\" class=\"dataframe\">\n",
       "  <thead>\n",
       "    <tr style=\"text-align: right;\">\n",
       "      <th></th>\n",
       "      <th>RSW</th>\n",
       "      <th>OXIG</th>\n",
       "      <th>MGAM</th>\n",
       "      <th>HLMA</th>\n",
       "      <th>DNO</th>\n",
       "      <th>Index</th>\n",
       "    </tr>\n",
       "  </thead>\n",
       "  <tbody>\n",
       "    <tr>\n",
       "      <th>RSW</th>\n",
       "      <td>1.000000</td>\n",
       "      <td>0.125404</td>\n",
       "      <td>0.133100</td>\n",
       "      <td>0.257032</td>\n",
       "      <td>0.162868</td>\n",
       "      <td>0.390523</td>\n",
       "    </tr>\n",
       "    <tr>\n",
       "      <th>OXIG</th>\n",
       "      <td>0.125404</td>\n",
       "      <td>1.000000</td>\n",
       "      <td>0.068923</td>\n",
       "      <td>0.150399</td>\n",
       "      <td>0.156349</td>\n",
       "      <td>0.209303</td>\n",
       "    </tr>\n",
       "    <tr>\n",
       "      <th>MGAM</th>\n",
       "      <td>0.133100</td>\n",
       "      <td>0.068923</td>\n",
       "      <td>1.000000</td>\n",
       "      <td>0.141977</td>\n",
       "      <td>0.100374</td>\n",
       "      <td>0.239998</td>\n",
       "    </tr>\n",
       "    <tr>\n",
       "      <th>HLMA</th>\n",
       "      <td>0.257032</td>\n",
       "      <td>0.150399</td>\n",
       "      <td>0.141977</td>\n",
       "      <td>1.000000</td>\n",
       "      <td>0.187714</td>\n",
       "      <td>0.477661</td>\n",
       "    </tr>\n",
       "    <tr>\n",
       "      <th>DNO</th>\n",
       "      <td>0.162868</td>\n",
       "      <td>0.156349</td>\n",
       "      <td>0.100374</td>\n",
       "      <td>0.187714</td>\n",
       "      <td>1.000000</td>\n",
       "      <td>0.252723</td>\n",
       "    </tr>\n",
       "    <tr>\n",
       "      <th>Index</th>\n",
       "      <td>0.390523</td>\n",
       "      <td>0.209303</td>\n",
       "      <td>0.239998</td>\n",
       "      <td>0.477661</td>\n",
       "      <td>0.252723</td>\n",
       "      <td>1.000000</td>\n",
       "    </tr>\n",
       "  </tbody>\n",
       "</table>\n",
       "</div>"
      ],
      "text/plain": [
       "            RSW      OXIG      MGAM      HLMA       DNO     Index\n",
       " RSW   1.000000  0.125404  0.133100  0.257032  0.162868  0.390523\n",
       " OXIG  0.125404  1.000000  0.068923  0.150399  0.156349  0.209303\n",
       " MGAM  0.133100  0.068923  1.000000  0.141977  0.100374  0.239998\n",
       " HLMA  0.257032  0.150399  0.141977  1.000000  0.187714  0.477661\n",
       " DNO   0.162868  0.156349  0.100374  0.187714  1.000000  0.252723\n",
       "Index  0.390523  0.209303  0.239998  0.477661  0.252723  1.000000"
      ]
     },
     "execution_count": 218,
     "metadata": {},
     "output_type": "execute_result"
    }
   ],
   "source": [
    "corrcoeff = log_rAll.corr()\n",
    "corrcoeff"
   ]
  },
  {
   "cell_type": "code",
   "execution_count": 219,
   "metadata": {},
   "outputs": [],
   "source": [
    "def linRegre(data):\n",
    "    betaMa = pd.DataFrame(index=data.columns, columns=data.columns)\n",
    "    ssrMa = pd.DataFrame(index=data.columns, columns=data.columns)\n",
    "    lenMa = pd.DataFrame(index=data.columns, columns=data.columns)\n",
    "    varMa = pd.DataFrame(index=data.columns, columns=data.columns)\n",
    "    for ref_col in data.columns:\n",
    "        for col in data.columns:\n",
    "            formu = f'{ref_col} ~ {col}'\n",
    "            model = smf.ols(formula=formu, data=data)\n",
    "            res = model.fit()\n",
    "            betaMa[ref_col][col] = res.params[1]\n",
    "            ssrMa[ref_col][col] = res.ssr\n",
    "            lenMa[ref_col][col] = len(data[col].dropna())\n",
    "            varMa[ref_col][col] = np.var(data[ref_col])\n",
    "    return betaMa, ssrMa, lenMa, varMa"
   ]
  },
  {
   "cell_type": "code",
   "execution_count": 221,
   "metadata": {
    "scrolled": true
   },
   "outputs": [
    {
     "data": {
      "text/html": [
       "<div>\n",
       "<style scoped>\n",
       "    .dataframe tbody tr th:only-of-type {\n",
       "        vertical-align: middle;\n",
       "    }\n",
       "\n",
       "    .dataframe tbody tr th {\n",
       "        vertical-align: top;\n",
       "    }\n",
       "\n",
       "    .dataframe thead th {\n",
       "        text-align: right;\n",
       "    }\n",
       "</style>\n",
       "<table border=\"1\" class=\"dataframe\">\n",
       "  <thead>\n",
       "    <tr style=\"text-align: right;\">\n",
       "      <th></th>\n",
       "      <th>RSW</th>\n",
       "      <th>OXIG</th>\n",
       "      <th>MGAM</th>\n",
       "      <th>HLMA</th>\n",
       "      <th>DNO</th>\n",
       "    </tr>\n",
       "  </thead>\n",
       "  <tbody>\n",
       "    <tr>\n",
       "      <th>RSW</th>\n",
       "      <td>0</td>\n",
       "      <td>3.56312e-15</td>\n",
       "      <td>1.8735e-16</td>\n",
       "      <td>1.50713e-14</td>\n",
       "      <td>1.11751e-14</td>\n",
       "    </tr>\n",
       "    <tr>\n",
       "      <th>OXIG</th>\n",
       "      <td>5.22846e-15</td>\n",
       "      <td>0</td>\n",
       "      <td>1.23859e-15</td>\n",
       "      <td>2.5778e-15</td>\n",
       "      <td>7.45931e-15</td>\n",
       "    </tr>\n",
       "    <tr>\n",
       "      <th>MGAM</th>\n",
       "      <td>8.53484e-16</td>\n",
       "      <td>-6.48787e-16</td>\n",
       "      <td>0</td>\n",
       "      <td>1.09288e-15</td>\n",
       "      <td>6.15827e-16</td>\n",
       "    </tr>\n",
       "    <tr>\n",
       "      <th>HLMA</th>\n",
       "      <td>1.26288e-14</td>\n",
       "      <td>1.5786e-15</td>\n",
       "      <td>2.86923e-15</td>\n",
       "      <td>0</td>\n",
       "      <td>7.11237e-15</td>\n",
       "    </tr>\n",
       "    <tr>\n",
       "      <th>DNO</th>\n",
       "      <td>6.95624e-15</td>\n",
       "      <td>3.35149e-15</td>\n",
       "      <td>6.07153e-17</td>\n",
       "      <td>9.99895e-15</td>\n",
       "      <td>0</td>\n",
       "    </tr>\n",
       "  </tbody>\n",
       "</table>\n",
       "</div>"
      ],
      "text/plain": [
       "              RSW         OXIG         MGAM         HLMA          DNO\n",
       "RSW             0  3.56312e-15   1.8735e-16  1.50713e-14  1.11751e-14\n",
       "OXIG  5.22846e-15            0  1.23859e-15   2.5778e-15  7.45931e-15\n",
       "MGAM  8.53484e-16 -6.48787e-16            0  1.09288e-15  6.15827e-16\n",
       "HLMA  1.26288e-14   1.5786e-15  2.86923e-15            0  7.11237e-15\n",
       "DNO   6.95624e-15  3.35149e-15  6.07153e-17  9.99895e-15            0"
      ]
     },
     "execution_count": 221,
     "metadata": {},
     "output_type": "execute_result"
    }
   ],
   "source": [
    "            \n",
    "betaMa, ssrMa, lenMa, varMa = linRegre(log_r)\n",
    "        \n",
    "1 - ((ssrMa / lenMa) / varMa) - corrcoeff ** 2"
   ]
  },
  {
   "cell_type": "code",
   "execution_count": 254,
   "metadata": {},
   "outputs": [],
   "source": [
    "def permutation_test(data, method='pearson', times=1000):\n",
    "    \n",
    "    realCorr = data.corr(method=method)\n",
    "    print(realCorr)\n",
    "    permuted = pd.DataFrame(columns=data.columns, dtype=float)\n",
    "    counts = pd.DataFrame(np.zeros((data.shape[1], data.shape[1])), columns=data.columns, index=data.columns, dtype=float)\n",
    "    minCorr = pd.DataFrame(np.ones((data.shape[1], data.shape[1])), columns=data.columns, index=data.columns, dtype=float)\n",
    "    maxCorr = pd.DataFrame(np.zeros((data.shape[1], data.shape[1])), columns=data.columns, index=data.columns, dtype=float)\n",
    "\n",
    "    for i in range(times):\n",
    "        one_update = pd.DataFrame(np.zeros((data.shape[1], data.shape[1])), columns=data.columns, index=data.columns, dtype=float)\n",
    "\n",
    "        for col in data:\n",
    "            permuted[col] = data[col].sample(frac=1).reset_index(drop=True)\n",
    "        ranCorr = permuted.corr(method = method)\n",
    "\n",
    "        for col in ranCorr:\n",
    "            for ref_col in ranCorr:\n",
    "                if ranCorr[col][ref_col] > realCorr[col][ref_col]:\n",
    "                    one_update[col][ref_col] = 1\n",
    "                if ranCorr[col][ref_col] < minCorr[col][ref_col]:\n",
    "                    minCorr[col][ref_col] = ranCorr[col][ref_col]\n",
    "                if ranCorr[col][ref_col] > maxCorr[col][ref_col]:\n",
    "                    maxCorr[col][ref_col] = ranCorr[col][ref_col]\n",
    "                    \n",
    "        #print(one_update)\n",
    "        counts = counts + one_update\n",
    "        \n",
    "    return counts/times, maxCorr, minCorr\n",
    "\n",
    "    "
   ]
  },
  {
   "cell_type": "code",
   "execution_count": 255,
   "metadata": {
    "scrolled": false
   },
   "outputs": [
    {
     "name": "stdout",
     "output_type": "stream",
     "text": [
      "           RSW      OXIG      MGAM      HLMA       DNO\n",
      "RSW   1.000000  0.132469  0.186138  0.250192  0.154328\n",
      "OXIG  0.132469  1.000000  0.120467  0.128501  0.128939\n",
      "MGAM  0.186138  0.120467  1.000000  0.204510  0.117709\n",
      "HLMA  0.250192  0.128501  0.204510  1.000000  0.168804\n",
      "DNO   0.154328  0.128939  0.117709  0.168804  1.000000\n"
     ]
    },
    {
     "data": {
      "text/plain": [
       "(      RSW  OXIG  MGAM  HLMA  DNO\n",
       " RSW   0.0   0.0   0.0   0.0  0.0\n",
       " OXIG  0.0   0.0   0.0   0.0  0.0\n",
       " MGAM  0.0   0.0   0.0   0.0  0.0\n",
       " HLMA  0.0   0.0   0.0   0.0  0.0\n",
       " DNO   0.0   0.0   0.0   0.0  0.0,\n",
       "            RSW      OXIG      MGAM      HLMA       DNO\n",
       " RSW   1.000000  0.044243  0.045103  0.034450  0.037413\n",
       " OXIG  0.044243  1.000000  0.033035  0.037503  0.037562\n",
       " MGAM  0.045103  0.033035  1.000000  0.045391  0.031603\n",
       " HLMA  0.034450  0.037503  0.045391  1.000000  0.044403\n",
       " DNO   0.037413  0.037562  0.031603  0.044403  1.000000,\n",
       "            RSW      OXIG      MGAM      HLMA       DNO\n",
       " RSW   1.000000 -0.035964 -0.037458 -0.046428 -0.038681\n",
       " OXIG -0.035964  1.000000 -0.040921 -0.045072 -0.036792\n",
       " MGAM -0.037458 -0.040921  1.000000 -0.040534 -0.034863\n",
       " HLMA -0.046428 -0.045072 -0.040534  1.000000 -0.050770\n",
       " DNO  -0.038681 -0.036792 -0.034863 -0.050770  1.000000)"
      ]
     },
     "execution_count": 255,
     "metadata": {},
     "output_type": "execute_result"
    }
   ],
   "source": [
    "permutation_test(log_r, method='spearman')"
   ]
  },
  {
   "cell_type": "code",
   "execution_count": 256,
   "metadata": {},
   "outputs": [
    {
     "name": "stdout",
     "output_type": "stream",
     "text": [
      "           RSW      OXIG      MGAM      HLMA       DNO\n",
      "RSW   1.000000  0.053748  0.117600  0.237638  0.180935\n",
      "OXIG  0.053748  1.000000  0.141443  0.239256  0.098268\n",
      "MGAM  0.117600  0.141443  1.000000  0.227121  0.085301\n",
      "HLMA  0.237638  0.239256  0.227121  1.000000  0.186169\n",
      "DNO   0.180935  0.098268  0.085301  0.186169  1.000000\n"
     ]
    },
    {
     "data": {
      "text/plain": [
       "(        RSW   OXIG   MGAM   HLMA    DNO\n",
       " RSW   0.000  0.190  0.045  0.001  0.004\n",
       " OXIG  0.190  0.000  0.016  0.000  0.076\n",
       " MGAM  0.045  0.016  0.000  0.002  0.109\n",
       " HLMA  0.001  0.000  0.002  0.000  0.003\n",
       " DNO   0.004  0.076  0.109  0.003  0.000,\n",
       "            RSW      OXIG      MGAM      HLMA       DNO\n",
       " RSW   1.000000  0.226308  0.202061  0.244514  0.207680\n",
       " OXIG  0.226308  1.000000  0.201657  0.210942  0.199575\n",
       " MGAM  0.202061  0.201657  1.000000  0.266761  0.251850\n",
       " HLMA  0.244514  0.210942  0.266761  1.000000  0.248429\n",
       " DNO   0.207680  0.199575  0.251850  0.248429  1.000000,\n",
       "            RSW      OXIG      MGAM      HLMA       DNO\n",
       " RSW   1.000000 -0.243686 -0.206506 -0.230357 -0.211327\n",
       " OXIG -0.243686  1.000000 -0.261871 -0.285772 -0.231183\n",
       " MGAM -0.206506 -0.261871  1.000000 -0.210133 -0.238882\n",
       " HLMA -0.230357 -0.285772 -0.210133  1.000000 -0.212331\n",
       " DNO  -0.211327 -0.231183 -0.238882 -0.212331  1.000000)"
      ]
     },
     "execution_count": 256,
     "metadata": {},
     "output_type": "execute_result"
    }
   ],
   "source": [
    "permutation_test(log_r.iloc[:100], method='kendall')"
   ]
  },
  {
   "cell_type": "code",
   "execution_count": null,
   "metadata": {},
   "outputs": [],
   "source": []
  }
 ],
 "metadata": {
  "kernelspec": {
   "display_name": "Python 3",
   "language": "python",
   "name": "python3"
  },
  "language_info": {
   "codemirror_mode": {
    "name": "ipython",
    "version": 3
   },
   "file_extension": ".py",
   "mimetype": "text/x-python",
   "name": "python",
   "nbconvert_exporter": "python",
   "pygments_lexer": "ipython3",
   "version": "3.6.3"
  }
 },
 "nbformat": 4,
 "nbformat_minor": 2
}
