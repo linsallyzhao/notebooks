{
 "cells": [
  {
   "cell_type": "code",
   "execution_count": 1,
   "metadata": {},
   "outputs": [
    {
     "name": "stderr",
     "output_type": "stream",
     "text": [
      "/home/lin/.pyenv/versions/3.6.3/lib/python3.6/site-packages/statsmodels/compat/pandas.py:56: FutureWarning: The pandas.core.datetools module is deprecated and will be removed in a future version. Please use the pandas.tseries module instead.\n",
      "  from pandas.core import datetools\n",
      "/home/lin/.pyenv/versions/3.6.3/lib/python3.6/site-packages/sklearn/cross_validation.py:41: DeprecationWarning: This module was deprecated in version 0.18 in favor of the model_selection module into which all the refactored classes and functions are moved. Also note that the interface of the new CV iterators are different from that of this module. This module will be removed in 0.20.\n",
      "  \"This module will be removed in 0.20.\", DeprecationWarning)\n",
      "/home/lin/.pyenv/versions/3.6.3/lib/python3.6/site-packages/sklearn/grid_search.py:42: DeprecationWarning: This module was deprecated in version 0.18 in favor of the model_selection module into which all the refactored classes and functions are moved. This module will be removed in 0.20.\n",
      "  DeprecationWarning)\n"
     ]
    }
   ],
   "source": [
    "import numpy as np\n",
    "import pandas as pd\n",
    "import matplotlib.pyplot as plt\n",
    "from statsmodels.tsa.stattools import adfuller\n",
    "import scipy.stats as stats\n",
    "import scipy.integrate as integrate\n",
    "import statsmodels.graphics.gofplots as sgg\n",
    "from sklearn.grid_search import GridSearchCV\n",
    "from sklearn.neighbors import KernelDensity\n",
    "%matplotlib inline\n",
    "#%matplotlib tk"
   ]
  },
  {
   "cell_type": "code",
   "execution_count": 2,
   "metadata": {},
   "outputs": [
    {
     "data": {
      "text/plain": [
       "count    1618.000000\n",
       "mean        0.003731\n",
       "std         0.079982\n",
       "min        -0.616273\n",
       "25%        -0.021178\n",
       "50%        -0.002303\n",
       "75%         0.021177\n",
       "max         1.027356\n",
       "Name: Close, dtype: float64"
      ]
     },
     "execution_count": 2,
     "metadata": {},
     "output_type": "execute_result"
    }
   ],
   "source": [
    "my_data = pd.read_csv('/home/lin/教材/Financial_data/data/Ripple.csv')\n",
    "my_data['Date']=pd.to_datetime(my_data['Date'])\n",
    "my_data.set_index('Date', inplace = True)\n",
    "close = np.flip(my_data['Close'], 0)\n",
    "volume = my_data['Volume'].dropna()\n",
    "logR = np.log(close).diff()\n",
    "logR.drop(logR.index[0], inplace = True)\n",
    "logR.describe()"
   ]
  },
  {
   "cell_type": "code",
   "execution_count": 3,
   "metadata": {},
   "outputs": [],
   "source": [
    "test_set = logR[-252 :]\n",
    "training_set = logR[: -252]"
   ]
  },
  {
   "cell_type": "code",
   "execution_count": 4,
   "metadata": {},
   "outputs": [],
   "source": [
    "posiR = training_set[training_set > 0].dropna()\n",
    "negaR = training_set[training_set <= 0].dropna()\n",
    "sortedPosiR = posiR.sort_values()\n",
    "sortedNegaR = (-negaR).sort_values()\n",
    "mirrorNegative = sortedNegaR.append(-sortedNegaR)\n",
    "mirrorPosi = sortedPosiR.append(-sortedPosiR)\n",
    "numObs = training_set.count()"
   ]
  },
  {
   "cell_type": "code",
   "execution_count": 5,
   "metadata": {},
   "outputs": [
    {
     "data": {
      "text/plain": [
       "array([ True])"
      ]
     },
     "execution_count": 5,
     "metadata": {},
     "output_type": "execute_result"
    }
   ],
   "source": [
    "np.unique(negaR <= 0)"
   ]
  },
  {
   "cell_type": "code",
   "execution_count": 6,
   "metadata": {},
   "outputs": [
    {
     "data": {
      "text/plain": [
       "array([ True])"
      ]
     },
     "execution_count": 6,
     "metadata": {},
     "output_type": "execute_result"
    }
   ],
   "source": [
    "np.unique(posiR > 0)"
   ]
  },
  {
   "cell_type": "code",
   "execution_count": 7,
   "metadata": {},
   "outputs": [
    {
     "name": "stderr",
     "output_type": "stream",
     "text": [
      "/home/lin/.pyenv/versions/3.6.3/lib/python3.6/site-packages/scipy/stats/_continuous_distns.py:2062: RuntimeWarning: divide by zero encountered in true_divide\n",
      "  val = val + cnk * (-1) ** ki / (1.0 - c * ki)\n",
      "/home/lin/.pyenv/versions/3.6.3/lib/python3.6/site-packages/scipy/stats/_distn_infrastructure.py:1037: RuntimeWarning: invalid value encountered in subtract\n",
      "  mu2 = mu2p - mu * mu\n",
      "/home/lin/.pyenv/versions/3.6.3/lib/python3.6/site-packages/scipy/stats/_distn_infrastructure.py:2306: RuntimeWarning: invalid value encountered in double_scalars\n",
      "  Lhat = muhat - Shat*mu\n"
     ]
    }
   ],
   "source": [
    "mu_log = np.mean(training_set)\n",
    "sigma_log = np.std(training_set)\n",
    "t_para = stats.t.fit(training_set, loc = mu_log, scale = sigma_log)\n",
    "posi_t_para = stats.t.fit(mirrorPosi)\n",
    "nega_t_para = stats.t.fit(mirrorNegative)\n",
    "gen_para = stats.genextreme.fit(training_set, loc = mu_log, scale = sigma_log)\n",
    "nega_gen_para = stats.genpareto.fit(sortedNegaR, loc = mu_log, scale = sigma_log)\n",
    "posi_gen_para = stats.genpareto.fit(sortedPosiR, loc = mu_log, scale = sigma_log)"
   ]
  },
  {
   "cell_type": "code",
   "execution_count": 8,
   "metadata": {},
   "outputs": [
    {
     "name": "stdout",
     "output_type": "stream",
     "text": [
      "histgram of whole set plotted with whole set fitted gen extreme, t, normal\n"
     ]
    },
    {
     "data": {
      "text/plain": [
       "<matplotlib.legend.Legend at 0x7f5650f472e8>"
      ]
     },
     "execution_count": 8,
     "metadata": {},
     "output_type": "execute_result"
    },
    {
     "data": {
      "image/png": "[encoded data removed]",
      "text/plain": [
       "<matplotlib.figure.Figure at 0x7f5653057048>"
      ]
     },
     "metadata": {},
     "output_type": "display_data"
    }
   ],
   "source": [
    "print('histgram of whole set plotted with whole set fitted gen extreme, t, normal')\n",
    "#%matplotlib inline\n",
    "#%matplotlib qt\n",
    "numbins = int(60) \n",
    "training_set.hist(bins = numbins, normed=True)\n",
    "\n",
    "x_ticks = np.linspace(min(training_set), max(training_set),100)\n",
    "plt.plot(x_ticks, 1./((2.*np.pi)**0.5 *sigma_log)*np.exp(-((x_ticks - mu_log)/sigma_log)**2/2), 'r', alpha = 0.7)\n",
    "plt.plot(x_ticks, (stats.genextreme.pdf(x_ticks, c =gen_para[0] , loc = gen_para[1], scale = gen_para[2])), 'm', alpha = 0.7)\n",
    "plt.plot(x_ticks, (stats.t.pdf(x_ticks, df = t_para[0] , loc = t_para[1], scale = t_para[2])), '--b', alpha = 0.7)\n",
    "plt.legend(['normal', 'gen extreme', 't', 'hist log return'])"
   ]
  },
  {
   "cell_type": "code",
   "execution_count": 9,
   "metadata": {},
   "outputs": [
    {
     "name": "stdout",
     "output_type": "stream",
     "text": [
      "loglog halves with whole_gen_extreme and gen_pareto and normal\n"
     ]
    },
    {
     "data": {
      "text/plain": [
       "(0.0004, 1.05)"
      ]
     },
     "execution_count": 9,
     "metadata": {},
     "output_type": "execute_result"
    },
    {
     "data": {
      "image/png": "[encoded data removed]",
      "text/plain": [
       "<matplotlib.figure.Figure at 0x7f5650f56b70>"
      ]
     },
     "metadata": {},
     "output_type": "display_data"
    }
   ],
   "source": [
    "print('loglog halves with whole_gen_extreme and gen_pareto and normal')\n",
    "plt.figure()\n",
    "domain = np.linspace(max(abs(training_set))/1000, max(abs(training_set)), 1000)\n",
    "plt.loglog(sortedPosiR, 1 - (range(1, sortedPosiR.count() + 1))/(sortedPosiR.count() + 1), '+b', alpha = 0.5)\n",
    "plt.loglog(sortedNegaR, 1 - (range(1, sortedNegaR.count() + 1))/(sortedNegaR.count() + 1), 'xr', alpha = 0.5)\n",
    "plt.loglog(domain, 1 - (stats.genextreme.cdf(domain, c =gen_para[0] , loc = gen_para[1], scale = gen_para[2]) - 0.365) * 2, 'm')\n",
    "plt.loglog(domain, 1 - (stats.genpareto.cdf(domain, c =posi_gen_para[0] , loc = posi_gen_para[1], scale = posi_gen_para[2])), '--b')\n",
    "plt.loglog(domain, 1 - (stats.genpareto.cdf(domain, c =nega_gen_para[0] , loc = nega_gen_para[1], scale = nega_gen_para[2])), '--r')\n",
    "plt.loglog(domain, 1 - (stats.norm.cdf(domain, mu_log, sigma_log) - 0.5) * 2, 'y')\n",
    "plt.title('tail genextreme, genpareto positive and negative, normal')\n",
    "plt.legend(['posi data', 'nega data', 'genextreme whole set', 'genpareto posi', 'genpareto nega', 'normal'], loc = 3)\n",
    "plt.ylim([4e-4, 1.05])"
   ]
  },
  {
   "cell_type": "code",
   "execution_count": 10,
   "metadata": {},
   "outputs": [
    {
     "name": "stdout",
     "output_type": "stream",
     "text": [
      "loglog halves with whole_t and mirror_fitted_t and normal\n"
     ]
    },
    {
     "data": {
      "text/plain": [
       "(0.0001, 1.05)"
      ]
     },
     "execution_count": 10,
     "metadata": {},
     "output_type": "execute_result"
    },
    {
     "data": {
      "image/png": "[encoded data removed]",
      "text/plain": [
       "<matplotlib.figure.Figure at 0x7f5650d95198>"
      ]
     },
     "metadata": {},
     "output_type": "display_data"
    }
   ],
   "source": [
    "print('loglog halves with whole_t and mirror_fitted_t and normal')\n",
    "\n",
    "#%matplotlib tk\n",
    "plt.figure()\n",
    "domain = np.linspace(max(abs(training_set))/1000, max(abs(training_set)), 1000)\n",
    "plt.loglog(sortedPosiR, 1 - (range(1, sortedPosiR.count() + 1))/(sortedPosiR.count() + 1), '+b', alpha = 0.5)\n",
    "plt.loglog(sortedNegaR, 1 - (range(1, sortedNegaR.count() + 1))/(sortedNegaR.count() + 1), 'xr', alpha = 0.5)\n",
    "plt.loglog(domain, 1 - (stats.t.cdf(domain, df =t_para[0] , loc = t_para[1], scale = t_para[2]) - 0.474) * 2, 'm')\n",
    "plt.loglog(domain, 1 - (stats.t.cdf(domain, df =posi_t_para[0] , loc = posi_t_para[1], scale = posi_t_para[2]) - 0.5) * 2, '--b')\n",
    "plt.loglog(domain, 1 - (stats.t.cdf(domain, df =nega_t_para[0] , loc = nega_t_para[1], scale = nega_t_para[2]) - 0.5) * 2, '--r')\n",
    "\n",
    "plt.loglog(domain, 1 - (stats.norm.cdf(domain, mu_log, sigma_log) - 0.49) * 2, 'y')\n",
    "plt.title('compare t fited with whole set with fited with mirrored halves')\n",
    "plt.legend(['posi data', 'nega data', 't whole set', 't posi', 't nega', 'normal'])\n",
    "plt.ylim([1e-4, 1.05])"
   ]
  },
  {
   "cell_type": "code",
   "execution_count": 11,
   "metadata": {},
   "outputs": [
    {
     "name": "stdout",
     "output_type": "stream",
     "text": [
      "histgram of whole set plotted with whole set fitted t, mirror_fitted_t, and halves with gen pareto\n"
     ]
    },
    {
     "data": {
      "text/plain": [
       "<matplotlib.legend.Legend at 0x7f564c64ada0>"
      ]
     },
     "execution_count": 11,
     "metadata": {},
     "output_type": "execute_result"
    },
    {
     "data": {
      "image/png": "[encoded data removed]",
      "text/plain": [
       "<matplotlib.figure.Figure at 0x7f5650b89f98>"
      ]
     },
     "metadata": {},
     "output_type": "display_data"
    }
   ],
   "source": [
    "print('histgram of whole set plotted with whole set fitted t, mirror_fitted_t, and halves with gen pareto')\n",
    "%matplotlib tk\n",
    "numbins = int(60) \n",
    "training_set.hist(bins = numbins, normed=True, alpha = 0.5)\n",
    "x_ticks = np.linspace(min(training_set), max(abs(training_set)),2000)\n",
    "plt.plot(x_ticks, (stats.t.pdf(x_ticks, df = nega_t_para[0] , loc = nega_t_para[1], scale = nega_t_para[2])), '--g')\n",
    "plt.plot(x_ticks, (stats.t.pdf(x_ticks, df = posi_t_para[0] , loc = posi_t_para[1], scale = posi_t_para[2])), '--b')\n",
    "plt.plot(x_ticks, (stats.t.pdf(x_ticks, df = t_para[0] , loc = t_para[1], scale = t_para[2])), 'r', )\n",
    "plt.plot(domain, 0.5 *(stats.genpareto.pdf(domain, c =posi_gen_para[0] , loc = posi_gen_para[1], scale = posi_gen_para[2])), '--m')\n",
    "plt.plot(-domain, 0.5 *(stats.genpareto.pdf(domain, c =nega_gen_para[0] , loc = nega_gen_para[1], scale = nega_gen_para[2])), '--k')\n",
    "plt.legend(['negetive_t', 'positive_t', 'whole set t', 'posi gen', 'negative gen', 'hist log return'])\n"
   ]
  },
  {
   "cell_type": "code",
   "execution_count": 12,
   "metadata": {},
   "outputs": [],
   "source": [
    "final_pdf = stats.t.pdf(x_ticks, df = posi_t_para[0] , loc = posi_t_para[1], scale = posi_t_para[2])"
   ]
  },
  {
   "cell_type": "code",
   "execution_count": 13,
   "metadata": {},
   "outputs": [
    {
     "name": "stdout",
     "output_type": "stream",
     "text": [
      "check fit\n"
     ]
    },
    {
     "data": {
      "text/plain": [
       "<matplotlib.legend.Legend at 0x7f564cb09208>"
      ]
     },
     "execution_count": 13,
     "metadata": {},
     "output_type": "execute_result"
    }
   ],
   "source": [
    "print('check fit')\n",
    "%matplotlib tk\n",
    "numbins = int(60) \n",
    "training_set.hist(bins = numbins, normed=True, alpha = 0.5)\n",
    "plt.plot(x_ticks, final_pdf, '.m', linewidth = 0.4)\n",
    "\n",
    "plt.legend(['positive_t', 'hist log return'])"
   ]
  },
  {
   "cell_type": "code",
   "execution_count": 14,
   "metadata": {},
   "outputs": [],
   "source": [
    "alpha_one = 0.95\n",
    "alpha_two = 0.99\n",
    "i = 0\n",
    "while integrate.trapz(final_pdf[: i], x_ticks[: i], dx = 0.001) <= (1 - alpha_one):\n",
    "    i += 1\n",
    "index_var_one = i\n",
    "var_one = x_ticks[index_var_one]\n",
    "\n",
    "i = 0\n",
    "while integrate.trapz(final_pdf[: i], x_ticks[: i], dx = 0.001) <= (1 - alpha_two):\n",
    "    i += 1\n",
    "index_var_two = i\n",
    "var_two = x_ticks[index_var_two]\n",
    "\n",
    "alpha_ES = 0.975\n",
    "i = 0\n",
    "while integrate.trapz(final_pdf[: i], x_ticks[: i], dx = 0.001) <= (1 - alpha_ES):\n",
    "    i += 1\n",
    "index_ES = i\n",
    "ES_domain = x_ticks[: index_ES]\n",
    "ES_pdf = final_pdf[: index_ES]\n",
    "to_integral = ES_domain * ES_pdf\n",
    "ES = integrate.trapz(to_integral, ES_domain, dx = 0.001) / (1 - alpha_ES)"
   ]
  },
  {
   "cell_type": "code",
   "execution_count": 15,
   "metadata": {},
   "outputs": [
    {
     "data": {
      "text/plain": [
       "-0.09169296088516454"
      ]
     },
     "execution_count": 15,
     "metadata": {},
     "output_type": "execute_result"
    }
   ],
   "source": [
    "var_one"
   ]
  },
  {
   "cell_type": "code",
   "execution_count": 16,
   "metadata": {},
   "outputs": [
    {
     "data": {
      "text/plain": [
       "-0.2487380050682505"
      ]
     },
     "execution_count": 16,
     "metadata": {},
     "output_type": "execute_result"
    }
   ],
   "source": [
    "var_two"
   ]
  },
  {
   "cell_type": "code",
   "execution_count": 17,
   "metadata": {},
   "outputs": [
    {
     "data": {
      "text/plain": [
       "-0.26124957617741784"
      ]
     },
     "execution_count": 17,
     "metadata": {},
     "output_type": "execute_result"
    }
   ],
   "source": [
    "ES"
   ]
  },
  {
   "cell_type": "code",
   "execution_count": 18,
   "metadata": {
    "scrolled": false
   },
   "outputs": [
    {
     "data": {
      "text/plain": [
       "<matplotlib.legend.Legend at 0x7f564ca5f710>"
      ]
     },
     "execution_count": 18,
     "metadata": {},
     "output_type": "execute_result"
    }
   ],
   "source": [
    "a_line = np.ones(logR.count())\n",
    "another_line = np.ones(100)\n",
    "plt.plot(logR.values, 'r')\n",
    "plt.plot(a_line * var_one, 'b')\n",
    "plt.plot(a_line * var_two, 'g')\n",
    "plt.plot(a_line * ES, 'm')\n",
    "plt.plot(int(logR.count() - 252) * another_line, np.linspace(-0.05, 0.05,100), 'y')\n",
    "plt.legend(['log return', 'var 95%', 'var 99%', 'ES 97.5%', 'test set(one year)'])"
   ]
  },
  {
   "cell_type": "code",
   "execution_count": 19,
   "metadata": {},
   "outputs": [
    {
     "name": "stdout",
     "output_type": "stream",
     "text": [
      "{'bandwidth': 0.02}\n"
     ]
    }
   ],
   "source": [
    "grid = GridSearchCV(KernelDensity(),\n",
    "                    {'bandwidth': np.linspace(0.0001, 0.02, 500)},\n",
    "                    cv=10) \n",
    "grid.fit(training_set[:, None])\n",
    "kde = grid.best_estimator_\n",
    "print (grid.best_params_)"
   ]
  },
  {
   "cell_type": "code",
   "execution_count": 20,
   "metadata": {},
   "outputs": [],
   "source": [
    "training_grid = np.linspace(min(training_set) - 0.05, max(training_set) + 0.05, 1000)\n",
    "pdf = np.exp(kde.score_samples(training_grid[:, None]))"
   ]
  },
  {
   "cell_type": "code",
   "execution_count": 21,
   "metadata": {},
   "outputs": [
    {
     "data": {
      "text/plain": [
       "<matplotlib.legend.Legend at 0x7f5650cf7828>"
      ]
     },
     "execution_count": 21,
     "metadata": {},
     "output_type": "execute_result"
    }
   ],
   "source": [
    "%matplotlib tk\n",
    "pdf_002 = pdf\n",
    "numbins = int(60) \n",
    "logR.hist(bins = numbins, normed=True)\n",
    "plt.plot(training_grid, pdf_002)\n",
    "plt.plot(x_ticks, final_pdf, '.m', linewidth = 0.4, alpha = 0.5)\n",
    "plt.legend(['kds pdf', 'merdged pdf', 'histgram'])"
   ]
  },
  {
   "cell_type": "code",
   "execution_count": 22,
   "metadata": {},
   "outputs": [],
   "source": [
    "i = 0\n",
    "while integrate.trapz(pdf_002[: i], training_grid[: i], dx = 0.001) <= (1 - alpha_one):\n",
    "    i += 1\n",
    "index_var_one = i\n",
    "kds_var_one = training_grid[index_var_one]\n",
    "\n",
    "i = 0\n",
    "while integrate.trapz(pdf_002[: i], training_grid[: i], dx = 0.001) <= (1 - alpha_two):\n",
    "    i += 1\n",
    "index_var_two = i\n",
    "kds_var_two = training_grid[index_var_two]\n",
    "\n",
    "i = 0\n",
    "while integrate.trapz(pdf_002[: i], training_grid[: i], dx = 0.001) <= (1 - alpha_ES):\n",
    "    i += 1\n",
    "index_ES = i\n",
    "ES_domain = training_grid[: index_ES]\n",
    "ES_pdf = pdf_002[: index_ES]\n",
    "to_integral = ES_domain * ES_pdf\n",
    "kds_ES = integrate.trapz(to_integral, ES_domain, dx = 0.001) / (1 - alpha_ES)"
   ]
  },
  {
   "cell_type": "code",
   "execution_count": 23,
   "metadata": {},
   "outputs": [
    {
     "data": {
      "text/plain": [
       "-0.08680861616201074"
      ]
     },
     "execution_count": 23,
     "metadata": {},
     "output_type": "execute_result"
    }
   ],
   "source": [
    "kds_var_one"
   ]
  },
  {
   "cell_type": "code",
   "execution_count": 24,
   "metadata": {},
   "outputs": [
    {
     "data": {
      "text/plain": [
       "-0.19676717015729028"
      ]
     },
     "execution_count": 24,
     "metadata": {},
     "output_type": "execute_result"
    }
   ],
   "source": [
    "kds_var_two"
   ]
  },
  {
   "cell_type": "code",
   "execution_count": 25,
   "metadata": {},
   "outputs": [
    {
     "data": {
      "text/plain": [
       "-0.21867232166223594"
      ]
     },
     "execution_count": 25,
     "metadata": {},
     "output_type": "execute_result"
    }
   ],
   "source": [
    "kds_ES"
   ]
  },
  {
   "cell_type": "code",
   "execution_count": 26,
   "metadata": {},
   "outputs": [
    {
     "data": {
      "text/plain": [
       "<matplotlib.legend.Legend at 0x7f5650bf7438>"
      ]
     },
     "execution_count": 26,
     "metadata": {},
     "output_type": "execute_result"
    }
   ],
   "source": [
    "plt.plot(logR.values, 'r')\n",
    "plt.plot(a_line * kds_var_one, 'b')\n",
    "plt.plot(a_line * kds_var_two, 'g')\n",
    "plt.plot(a_line * kds_ES, 'm')\n",
    "plt.plot(int(logR.count() - 252) * another_line, np.linspace(-0.05, 0.05,100), 'y')\n",
    "plt.legend(['log return', 'var 95%', 'var 99%', 'ES 97.5%', 'test set(one year)'])"
   ]
  },
  {
   "cell_type": "code",
   "execution_count": 27,
   "metadata": {},
   "outputs": [
    {
     "data": {
      "text/plain": [
       "<matplotlib.legend.Legend at 0x7f5650bdb978>"
      ]
     },
     "execution_count": 27,
     "metadata": {},
     "output_type": "execute_result"
    }
   ],
   "source": [
    "plt.plot(logR.values, 'r', linewidth = 0.5)\n",
    "plt.plot(a_line * var_one, 'b')\n",
    "plt.plot(a_line * var_two, 'g')\n",
    "plt.plot(a_line * ES, 'm')\n",
    "plt.plot(a_line * kds_var_one, '--b')\n",
    "plt.plot(a_line * kds_var_two, '--g')\n",
    "plt.plot(a_line * kds_ES, '--m')\n",
    "plt.plot(int(logR.count() - 252) * another_line, np.linspace(-0.5, 0.5,100), 'y', linewidth = 1)\n",
    "plt.title('risk measures from KDE and T distribution')\n",
    "plt.xlabel('time')\n",
    "plt.ylabel('log return')\n",
    "plt.legend(['log return', 'Mer_pdf var 95%', 'Mer_pdf var 99%', 'Mer_pdf ES 97.5%', 'kde var 95%', 'kde var 99%', 'kde ES 97.5%','test set(one year)'])"
   ]
  },
  {
   "cell_type": "code",
   "execution_count": null,
   "metadata": {},
   "outputs": [],
   "source": []
  },
  {
   "cell_type": "code",
   "execution_count": null,
   "metadata": {},
   "outputs": [],
   "source": []
  }
 ],
 "metadata": {
  "kernelspec": {
   "display_name": "Python 3",
   "language": "python",
   "name": "python3"
  },
  "language_info": {
   "codemirror_mode": {
    "name": "ipython",
    "version": 3
   },
   "file_extension": ".py",
   "mimetype": "text/x-python",
   "name": "python",
   "nbconvert_exporter": "python",
   "pygments_lexer": "ipython3",
   "version": "3.6.3"
  }
 },
 "nbformat": 4,
 "nbformat_minor": 2
}
