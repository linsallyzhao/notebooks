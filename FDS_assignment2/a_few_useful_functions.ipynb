{
 "cells": [
  {
   "cell_type": "code",
   "execution_count": 30,
   "metadata": {},
   "outputs": [],
   "source": [
    "import numpy as np\n",
    "import pandas as pd\n",
    "import matplotlib.pyplot as plt\n",
    "from statsmodels.tsa.stattools import adfuller\n",
    "from statsmodels.tsa.stattools import kpss\n",
    "import scipy.stats as stats\n",
    "import powerlaw\n",
    "\n",
    "%matplotlib inline\n",
    "#%matplotlib tk"
   ]
  },
  {
   "cell_type": "code",
   "execution_count": 4,
   "metadata": {},
   "outputs": [],
   "source": [
    "my_data = pd.read_csv('/home/lin/教材/Financial_data/data/finance_M4/my_fx_data', header = None, usecols = [1], names = ['price'])\n",
    "logR = np.log(my_data).diff()\n",
    "logR.drop(logR.index[0], inplace = True)"
   ]
  },
  {
   "cell_type": "code",
   "execution_count": 190,
   "metadata": {},
   "outputs": [],
   "source": [
    "ripple = pd.read_csv('/home/lin/教材/Financial_data/data/Ripple.csv')\n",
    "ripple['Date']=pd.to_datetime(ripple['Date'])\n",
    "ripple.set_index('Date', inplace = True)\n",
    "close = np.flip(ripple['Close'], 0)\n",
    "logRR = np.log(close).diff()\n",
    "logRR.drop(logRR.index[0], inplace = True)"
   ]
  },
  {
   "cell_type": "code",
   "execution_count": 200,
   "metadata": {},
   "outputs": [],
   "source": [
    "def stationarity_tests(data, print_info=True):\n",
    "    adf_p = adfuller(data)[1]\n",
    "    KPSS_p = kpss(data)[1]\n",
    "    \n",
    "    if print_info:\n",
    "        print('adfuller test')\n",
    "        print(adfuller(data))\n",
    "        print('KPSS test')\n",
    "        print(kpss(data))\n",
    "        \n",
    "    return adf_p, KPSS_p\n"
   ]
  },
  {
   "cell_type": "code",
   "execution_count": 207,
   "metadata": {},
   "outputs": [],
   "source": [
    "#%matplotlib tk\n",
    "def plot_autocorrelations(data, financial=True):\n",
    "    autocorr_logR = [data.autocorr(lag=_) for _ in range(1,252)]\n",
    "    autocorr_abs_logR = [abs(data).autocorr(lag=_) for _ in range(1,252)]\n",
    "    autocorr_sqLogR = [(data ** 2).autocorr(lag=_) for _ in range(1,252)]\n",
    "    plt.plot(range(1, 252),autocorr_logR, range(1, 252), autocorr_abs_logR, range(1, 252), autocorr_sqLogR)\n",
    "    if financial:\n",
    "        plt.title('Estimated autocorrelation vs lag for financial data', fontsize=20)\n",
    "    else:\n",
    "        plt.title('Estimated autocorrelation vs lag for ripple data', fontsize=20)\n",
    "\n",
    "    plt.legend(['lot return', '|log return|', 'log return ^2'], loc = 1)\n",
    "    plt.xlabel('lag', fontsize=18)\n",
    "    plt.ylabel('autocorrelation', fontsize=18)\n",
    "    plt.grid(True)"
   ]
  },
  {
   "cell_type": "code",
   "execution_count": 205,
   "metadata": {},
   "outputs": [],
   "source": [
    "def fit_a_dist(data, distType, locAndScale=True):\n",
    "    \n",
    "    if locAndScale:\n",
    "        loc = np.mean(data)\n",
    "        scale = np.std(data)\n",
    "        para = distType.fit(data, loc = loc, scale = scale)\n",
    "    else:\n",
    "        para = distType.fit(data)\n",
    "        \n",
    "    return para\n",
    "\n"
   ]
  },
  {
   "cell_type": "code",
   "execution_count": 217,
   "metadata": {
    "scrolled": false
   },
   "outputs": [],
   "source": [
    "def sep_and_mirror(data):\n",
    "    posiR = data[data > 0].dropna()\n",
    "    negaR = data[data < 0].dropna()\n",
    "    sortedPosiR = posiR.sort_values()\n",
    "    sortedNegaR = (-negaR).sort_values()\n",
    "\n",
    "    mirrorNegative = sortedNegaR.append(-sortedNegaR)\n",
    "    mirrorPosi = sortedPosiR.append(-sortedPosiR)\n",
    "    return sortedPosiR, sortedNegaR, mirrorNegative, mirrorPosi\n"
   ]
  },
  {
   "cell_type": "code",
   "execution_count": 103,
   "metadata": {},
   "outputs": [],
   "source": [
    "def get_alpha_and_start(data):\n",
    "    fit = powerlaw.Fit(data)\n",
    "    alpha_expo = fit.power_law.alpha\n",
    "    start_x = fit.xmin\n",
    "    fit.power_law.plot_ccdf\n",
    "    fit.plot_ccdf\n",
    "    return start_x, alpha_expo\n"
   ]
  },
  {
   "cell_type": "code",
   "execution_count": 208,
   "metadata": {},
   "outputs": [
    {
     "name": "stderr",
     "output_type": "stream",
     "text": [
      "/home/lin/.pyenv/versions/3.6.3/lib/python3.6/site-packages/statsmodels/tsa/stattools.py:1260: InterpolationWarning: p-value is greater than the indicated p-value\n",
      "  warn(\"p-value is greater than the indicated p-value\", InterpolationWarning)\n"
     ]
    },
    {
     "name": "stdout",
     "output_type": "stream",
     "text": [
      "adfuller test\n",
      "(-23.262701610140457, 0.0, 6, 4189, {'1%': -3.4319120223653132, '5%': -2.8622302155703507, '10%': -2.5671374076308826}, -24993.19087817247)\n",
      "KPSS test\n",
      "(0.04591689237306045, 0.1, 31, {'10%': 0.347, '5%': 0.463, '2.5%': 0.574, '1%': 0.739})\n",
      "(0.0, 0.1)\n",
      "adfuller test\n",
      "(-10.924169213029211, 1.0201212291578786e-19, 11, 1606, {'1%': -3.4344283205802606, '5%': -2.8633413399051144, '10%': -2.5677289969277726}, -3606.664273929593)\n",
      "KPSS test\n",
      "(0.42111321712474087, 0.06805464779105998, 25, {'10%': 0.347, '5%': 0.463, '2.5%': 0.574, '1%': 0.739})\n",
      "(1.0201212291578786e-19, 0.06805464779105998)\n"
     ]
    }
   ],
   "source": [
    "print(stationarity_tests(logR['price']))\n",
    "print(stationarity_tests(logRR))\n",
    "plt.figure()\n",
    "plot_autocorrelations(logR['price'])\n",
    "plt.figure()\n",
    "plot_autocorrelations(logRR, False)"
   ]
  },
  {
   "cell_type": "code",
   "execution_count": 267,
   "metadata": {},
   "outputs": [
    {
     "name": "stderr",
     "output_type": "stream",
     "text": [
      "Calculating best minimal value for power law fit\n",
      "Calculating best minimal value for power law fit\n"
     ]
    },
    {
     "data": {
      "text/plain": [
       "Text(0,0.5,'rank/cdf')"
      ]
     },
     "execution_count": 267,
     "metadata": {},
     "output_type": "execute_result"
    }
   ],
   "source": [
    "posiTail, negaTail, mirrorNega, mirrorPosi = sep_and_mirror(logR['price'])\n",
    "nega_t_para = fit_a_dist(mirrorNega, stats.t, False)\n",
    "posi_t_para = fit_a_dist(mirrorPosi, stats.t, False)\n",
    "posiStart, posiAlpha = get_alpha_and_start(posiTail)\n",
    "negaStart, negaAlpha = get_alpha_and_start(negaTail)\n",
    "\n",
    "plt.figure()\n",
    "domain = np.linspace(max(abs(logR['price']))/1000, max(abs(logR['price'])), 1000)\n",
    "plt.loglog(posiTail, 1 - (range(1, posiTail.count() + 1))/(posiTail.count() + 1), '+b', alpha = 0.5)\n",
    "plt.loglog(negaTail, 1 - (range(1, negaTail.count() + 1))/(negaTail.count() + 1), 'xr', alpha = 0.5)\n",
    "plt.loglog(domain, 1 - (stats.t.cdf(domain, df =posi_t_para[0] , loc = posi_t_para[1], scale = posi_t_para[2]) - 0.5) * 2, '--b')\n",
    "plt.loglog(domain, 1 - (stats.t.cdf(domain, df =nega_t_para[0] , loc = nega_t_para[1], scale = nega_t_para[2]) - 0.5) * 2, '--r')\n",
    "\n",
    "plt.loglog(domain, (domain*115) ** (-3.3), '-.b')\n",
    "plt.loglog(domain, (domain*130) ** (-2.55), '-.r')\n",
    "plt.loglog(posiStart*np.ones(50), np.linspace(1e-4, 1.05), '--b')\n",
    "plt.loglog(negaStart*np.ones(50), np.linspace(1e-4, 1.05), '--r')\n",
    "\n",
    "plt.title('compare t fited with mirrored halves and power law', fontsize=20)\n",
    "plt.legend(['positive data', 'negative data', 't positive', 't negative', 'power law positive', 'power law negative'])\n",
    "plt.ylim([1e-4, 1.05])\n",
    "plt.xlim([1e-2, 0.2])\n",
    "plt.xlabel('log return', fontsize=18)\n",
    "plt.ylabel('rank/cdf', fontsize=18)"
   ]
  },
  {
   "cell_type": "code",
   "execution_count": 189,
   "metadata": {},
   "outputs": [],
   "source": [
    "#power law how to choose start point\n",
    "#The methods find this start point by creating a power law fit starting from each unique value \n",
    "#in the dataset, then selecting the one that results in the minimal Kolmogorov-Smirnov distance\n",
    "#between the data and the a fit. \n",
    "\n",
    "#I believe the selection of alpha is also based on the same principle, since it seem to fit well with the\n",
    "#very extreme values but not the majority. \n",
    "\n",
    "#I selected some alpha my self and plotted them together with t distribution fitted with mirrored data.\n",
    "#and it seems t distribution fit better anyway and alpha is greater than 2 which means the attractor is\n",
    "#nomal distribution"
   ]
  },
  {
   "cell_type": "code",
   "execution_count": 268,
   "metadata": {},
   "outputs": [
    {
     "name": "stderr",
     "output_type": "stream",
     "text": [
      "Calculating best minimal value for power law fit\n",
      "Calculating best minimal value for power law fit\n"
     ]
    },
    {
     "data": {
      "text/plain": [
       "Text(0,0.5,'rank/cdf')"
      ]
     },
     "execution_count": 268,
     "metadata": {},
     "output_type": "execute_result"
    }
   ],
   "source": [
    "posiTail, negaTail, mirrorNega, mirrorPosi = sep_and_mirror(logRR)\n",
    "nega_gen_para = fit_a_dist(negaTail, stats.genpareto, False)\n",
    "posi_gen_para = fit_a_dist(posiTail, stats.genpareto, False)\n",
    "posiStart, posiAlpha = get_alpha_and_start(posiTail)\n",
    "negaStart, negaAlpha = get_alpha_and_start(negaTail)\n",
    "\n",
    "plt.figure()\n",
    "domain = np.linspace(max(abs(logRR))/1000, max(abs(logRR)), 1000)\n",
    "plt.loglog(posiTail, 1 - (range(1, posiTail.count() + 1))/(posiTail.count() + 1), '+b', alpha = 0.5)\n",
    "plt.loglog(negaTail, 1 - (range(1, negaTail.count() + 1))/(negaTail.count() + 1), 'xr', alpha = 0.5)\n",
    "plt.loglog(domain, 1 - stats.genpareto.cdf(domain, c=posi_gen_para[0] , loc = posi_gen_para[1], scale = posi_gen_para[2]), '--b')\n",
    "plt.loglog(domain, 1 - stats.genpareto.cdf(domain, c=nega_gen_para[0] , loc = nega_gen_para[1], scale = nega_gen_para[2]), '--r')\n",
    "\n",
    "plt.loglog(domain, (domain*21) ** (-2.15), '-.b')\n",
    "plt.loglog(domain, (domain*27) ** (-2.4), '-.r')\n",
    "plt.loglog(posiStart*np.ones(50), np.linspace(1e-4, 1.05), '--b')\n",
    "plt.loglog(negaStart*np.ones(50), np.linspace(1e-4, 1.05), '--r')\n",
    "\n",
    "plt.title('compare gen_pareto fited with halves and power law', fontsize=20)\n",
    "plt.legend(['positive data', 'negative data', 'gen_pareto positive', 'gen_pareto negative', 'power law positive', 'power law negative'])\n",
    "plt.ylim([1e-4, 1.1])\n",
    "plt.xlim([10**(-1.2), 1.2])\n",
    "plt.xlabel('log return', fontsize=18)\n",
    "plt.ylabel('rank/cdf', fontsize=18)"
   ]
  },
  {
   "cell_type": "code",
   "execution_count": null,
   "metadata": {},
   "outputs": [],
   "source": [
    "#same for ripple, cannot say power law fit better than the gen_pareto and alpha is higher than 2. Both \n",
    "#alpha are lower than those for financial data indicating fatter tails but still higher than 2 \n",
    "#Ripple's positive tail is fatter than negative tail, this is opposite to financial data"
   ]
  },
  {
   "cell_type": "code",
   "execution_count": 120,
   "metadata": {},
   "outputs": [
    {
     "name": "stderr",
     "output_type": "stream",
     "text": [
      "Calculating best minimal value for power law fit\n"
     ]
    },
    {
     "data": {
      "text/plain": [
       "<matplotlib.axes._subplots.AxesSubplot at 0x7fde2d3c5a20>"
      ]
     },
     "execution_count": 120,
     "metadata": {},
     "output_type": "execute_result"
    }
   ],
   "source": [
    "%matplotlib tk   \n",
    "fit = powerlaw.Fit(posiTail)\n",
    "alpha_expo = fit.power_law.alpha\n",
    "start_x = fit.xmin\n",
    "fit.power_law.plot_ccdf()\n",
    "fit.plot_ccdf()\n"
   ]
  }
 ],
 "metadata": {
  "kernelspec": {
   "display_name": "Python 3",
   "language": "python",
   "name": "python3"
  },
  "language_info": {
   "codemirror_mode": {
    "name": "ipython",
    "version": 3
   },
   "file_extension": ".py",
   "mimetype": "text/x-python",
   "name": "python",
   "nbconvert_exporter": "python",
   "pygments_lexer": "ipython3",
   "version": "3.6.3"
  }
 },
 "nbformat": 4,
 "nbformat_minor": 2
}
