{
 "cells": [
  {
   "cell_type": "code",
   "execution_count": 1,
   "metadata": {},
   "outputs": [
    {
     "name": "stderr",
     "output_type": "stream",
     "text": [
      "/home/lin/.pyenv/versions/3.6.3/lib/python3.6/site-packages/statsmodels/compat/pandas.py:56: FutureWarning: The pandas.core.datetools module is deprecated and will be removed in a future version. Please use the pandas.tseries module instead.\n",
      "  from pandas.core import datetools\n"
     ]
    }
   ],
   "source": [
    "import numpy as np\n",
    "import pandas as pd\n",
    "import matplotlib.pyplot as plt\n",
    "import statsmodels.formula.api as smf\n",
    "from sklearn import metrics\n",
    "from statsmodels.tsa.stattools import grangercausalitytests\n",
    "\n",
    "%matplotlib inline"
   ]
  },
  {
   "cell_type": "code",
   "execution_count": 2,
   "metadata": {},
   "outputs": [
    {
     "name": "stdout",
     "output_type": "stream",
     "text": [
      "             Bitcoin  Ethereum    Ripple       NEM  Litecoin   Stellar  \\\n",
      "Date                                                                     \n",
      "2015-08-28  0.029070  0.034191 -0.015750 -0.042111  0.013841  0.160472   \n",
      "2015-08-29 -0.007025 -0.008439  0.041892  0.031749 -0.010363  0.090510   \n",
      "2015-08-30 -0.004449  0.112117  0.037850  0.080043 -0.010471 -0.086694   \n",
      "2015-08-31  0.005667  0.029853 -0.020837 -0.101096 -0.003515  0.047923   \n",
      "2015-09-01 -0.008468 -0.007380 -0.008790  0.061875 -0.007067 -0.017908   \n",
      "\n",
      "                Dash    Monero     Verge    Siacon  \n",
      "Date                                                \n",
      "2015-08-28  0.015504  0.034112 -0.133531  0.047628  \n",
      "2015-08-29  0.000000 -0.010597  0.000000 -0.097638  \n",
      "2015-08-30 -0.015504 -0.037503  0.133531 -0.137201  \n",
      "2015-08-31  0.007782  0.017769 -0.133531 -0.060625  \n",
      "2015-09-01 -0.015625 -0.018841  0.000000 -0.064539  \n"
     ]
    },
    {
     "name": "stderr",
     "output_type": "stream",
     "text": [
      "/home/lin/.pyenv/versions/3.6.3/lib/python3.6/site-packages/ipykernel_launcher.py:5: RuntimeWarning: divide by zero encountered in log\n",
      "  \"\"\"\n"
     ]
    }
   ],
   "source": [
    "crypto = pd.read_csv('/home/lin/教材/Financial_data/data/cryptocurrency/allcrypto.csv')\n",
    "crypto['Date']=pd.to_datetime(crypto['Date'])\n",
    "crypto.set_index('Date', inplace = True)\n",
    "crypto.sort_index(inplace=True)\n",
    "logRC = np.log(crypto).diff()\n",
    "logRC.drop(logRC.index[0], inplace = True)\n",
    "logRC.replace([np.inf, -np.inf], np.nan, inplace=True)\n",
    "logRC.dropna(inplace=True)\n",
    "print(logRC.head())"
   ]
  },
  {
   "cell_type": "code",
   "execution_count": 3,
   "metadata": {},
   "outputs": [
    {
     "data": {
      "text/html": [
       "<div>\n",
       "<style scoped>\n",
       "    .dataframe tbody tr th:only-of-type {\n",
       "        vertical-align: middle;\n",
       "    }\n",
       "\n",
       "    .dataframe tbody tr th {\n",
       "        vertical-align: top;\n",
       "    }\n",
       "\n",
       "    .dataframe thead th {\n",
       "        text-align: right;\n",
       "    }\n",
       "</style>\n",
       "<table border=\"1\" class=\"dataframe\">\n",
       "  <thead>\n",
       "    <tr style=\"text-align: right;\">\n",
       "      <th></th>\n",
       "      <th>Bitcoin</th>\n",
       "      <th>Ethereum</th>\n",
       "      <th>Ripple</th>\n",
       "      <th>NEM</th>\n",
       "      <th>Litecoin</th>\n",
       "      <th>Stellar</th>\n",
       "      <th>Dash</th>\n",
       "      <th>Monero</th>\n",
       "      <th>Verge</th>\n",
       "      <th>Siacon</th>\n",
       "    </tr>\n",
       "  </thead>\n",
       "  <tbody>\n",
       "    <tr>\n",
       "      <th>Bitcoin</th>\n",
       "      <td>1.000000</td>\n",
       "      <td>0.251753</td>\n",
       "      <td>0.139084</td>\n",
       "      <td>0.268532</td>\n",
       "      <td>0.494269</td>\n",
       "      <td>0.234865</td>\n",
       "      <td>0.289117</td>\n",
       "      <td>0.338252</td>\n",
       "      <td>0.156368</td>\n",
       "      <td>0.224386</td>\n",
       "    </tr>\n",
       "    <tr>\n",
       "      <th>Ethereum</th>\n",
       "      <td>0.251753</td>\n",
       "      <td>1.000000</td>\n",
       "      <td>0.127481</td>\n",
       "      <td>0.178049</td>\n",
       "      <td>0.248787</td>\n",
       "      <td>0.177486</td>\n",
       "      <td>0.259046</td>\n",
       "      <td>0.282242</td>\n",
       "      <td>0.087976</td>\n",
       "      <td>0.240185</td>\n",
       "    </tr>\n",
       "    <tr>\n",
       "      <th>Ripple</th>\n",
       "      <td>0.139084</td>\n",
       "      <td>0.127481</td>\n",
       "      <td>1.000000</td>\n",
       "      <td>0.186073</td>\n",
       "      <td>0.222997</td>\n",
       "      <td>0.493780</td>\n",
       "      <td>0.066912</td>\n",
       "      <td>0.161131</td>\n",
       "      <td>0.028562</td>\n",
       "      <td>0.101187</td>\n",
       "    </tr>\n",
       "    <tr>\n",
       "      <th>NEM</th>\n",
       "      <td>0.268532</td>\n",
       "      <td>0.178049</td>\n",
       "      <td>0.186073</td>\n",
       "      <td>1.000000</td>\n",
       "      <td>0.284975</td>\n",
       "      <td>0.314188</td>\n",
       "      <td>0.214994</td>\n",
       "      <td>0.200316</td>\n",
       "      <td>0.127590</td>\n",
       "      <td>0.199980</td>\n",
       "    </tr>\n",
       "    <tr>\n",
       "      <th>Litecoin</th>\n",
       "      <td>0.494269</td>\n",
       "      <td>0.248787</td>\n",
       "      <td>0.222997</td>\n",
       "      <td>0.284975</td>\n",
       "      <td>1.000000</td>\n",
       "      <td>0.281944</td>\n",
       "      <td>0.279734</td>\n",
       "      <td>0.287184</td>\n",
       "      <td>0.077032</td>\n",
       "      <td>0.224882</td>\n",
       "    </tr>\n",
       "    <tr>\n",
       "      <th>Stellar</th>\n",
       "      <td>0.234865</td>\n",
       "      <td>0.177486</td>\n",
       "      <td>0.493780</td>\n",
       "      <td>0.314188</td>\n",
       "      <td>0.281944</td>\n",
       "      <td>1.000000</td>\n",
       "      <td>0.153701</td>\n",
       "      <td>0.288804</td>\n",
       "      <td>0.084698</td>\n",
       "      <td>0.231455</td>\n",
       "    </tr>\n",
       "    <tr>\n",
       "      <th>Dash</th>\n",
       "      <td>0.289117</td>\n",
       "      <td>0.259046</td>\n",
       "      <td>0.066912</td>\n",
       "      <td>0.214994</td>\n",
       "      <td>0.279734</td>\n",
       "      <td>0.153701</td>\n",
       "      <td>1.000000</td>\n",
       "      <td>0.338380</td>\n",
       "      <td>0.147918</td>\n",
       "      <td>0.218835</td>\n",
       "    </tr>\n",
       "    <tr>\n",
       "      <th>Monero</th>\n",
       "      <td>0.338252</td>\n",
       "      <td>0.282242</td>\n",
       "      <td>0.161131</td>\n",
       "      <td>0.200316</td>\n",
       "      <td>0.287184</td>\n",
       "      <td>0.288804</td>\n",
       "      <td>0.338380</td>\n",
       "      <td>1.000000</td>\n",
       "      <td>0.122108</td>\n",
       "      <td>0.200843</td>\n",
       "    </tr>\n",
       "    <tr>\n",
       "      <th>Verge</th>\n",
       "      <td>0.156368</td>\n",
       "      <td>0.087976</td>\n",
       "      <td>0.028562</td>\n",
       "      <td>0.127590</td>\n",
       "      <td>0.077032</td>\n",
       "      <td>0.084698</td>\n",
       "      <td>0.147918</td>\n",
       "      <td>0.122108</td>\n",
       "      <td>1.000000</td>\n",
       "      <td>0.125942</td>\n",
       "    </tr>\n",
       "    <tr>\n",
       "      <th>Siacon</th>\n",
       "      <td>0.224386</td>\n",
       "      <td>0.240185</td>\n",
       "      <td>0.101187</td>\n",
       "      <td>0.199980</td>\n",
       "      <td>0.224882</td>\n",
       "      <td>0.231455</td>\n",
       "      <td>0.218835</td>\n",
       "      <td>0.200843</td>\n",
       "      <td>0.125942</td>\n",
       "      <td>1.000000</td>\n",
       "    </tr>\n",
       "  </tbody>\n",
       "</table>\n",
       "</div>"
      ],
      "text/plain": [
       "           Bitcoin  Ethereum    Ripple       NEM  Litecoin   Stellar  \\\n",
       "Bitcoin   1.000000  0.251753  0.139084  0.268532  0.494269  0.234865   \n",
       "Ethereum  0.251753  1.000000  0.127481  0.178049  0.248787  0.177486   \n",
       "Ripple    0.139084  0.127481  1.000000  0.186073  0.222997  0.493780   \n",
       "NEM       0.268532  0.178049  0.186073  1.000000  0.284975  0.314188   \n",
       "Litecoin  0.494269  0.248787  0.222997  0.284975  1.000000  0.281944   \n",
       "Stellar   0.234865  0.177486  0.493780  0.314188  0.281944  1.000000   \n",
       "Dash      0.289117  0.259046  0.066912  0.214994  0.279734  0.153701   \n",
       "Monero    0.338252  0.282242  0.161131  0.200316  0.287184  0.288804   \n",
       "Verge     0.156368  0.087976  0.028562  0.127590  0.077032  0.084698   \n",
       "Siacon    0.224386  0.240185  0.101187  0.199980  0.224882  0.231455   \n",
       "\n",
       "              Dash    Monero     Verge    Siacon  \n",
       "Bitcoin   0.289117  0.338252  0.156368  0.224386  \n",
       "Ethereum  0.259046  0.282242  0.087976  0.240185  \n",
       "Ripple    0.066912  0.161131  0.028562  0.101187  \n",
       "NEM       0.214994  0.200316  0.127590  0.199980  \n",
       "Litecoin  0.279734  0.287184  0.077032  0.224882  \n",
       "Stellar   0.153701  0.288804  0.084698  0.231455  \n",
       "Dash      1.000000  0.338380  0.147918  0.218835  \n",
       "Monero    0.338380  1.000000  0.122108  0.200843  \n",
       "Verge     0.147918  0.122108  1.000000  0.125942  \n",
       "Siacon    0.218835  0.200843  0.125942  1.000000  "
      ]
     },
     "execution_count": 3,
     "metadata": {},
     "output_type": "execute_result"
    }
   ],
   "source": [
    "corrcoeff = logRC.corr()\n",
    "corrcoeff"
   ]
  },
  {
   "cell_type": "code",
   "execution_count": 4,
   "metadata": {},
   "outputs": [
    {
     "data": {
      "text/html": [
       "<div>\n",
       "<style scoped>\n",
       "    .dataframe tbody tr th:only-of-type {\n",
       "        vertical-align: middle;\n",
       "    }\n",
       "\n",
       "    .dataframe tbody tr th {\n",
       "        vertical-align: top;\n",
       "    }\n",
       "\n",
       "    .dataframe thead th {\n",
       "        text-align: right;\n",
       "    }\n",
       "</style>\n",
       "<table border=\"1\" class=\"dataframe\">\n",
       "  <thead>\n",
       "    <tr style=\"text-align: right;\">\n",
       "      <th></th>\n",
       "      <th>Bitcoin</th>\n",
       "      <th>Ethereum</th>\n",
       "      <th>Ripple</th>\n",
       "      <th>NEM</th>\n",
       "      <th>Litecoin</th>\n",
       "      <th>Stellar</th>\n",
       "      <th>Dash</th>\n",
       "      <th>Monero</th>\n",
       "      <th>Verge</th>\n",
       "      <th>Siacon</th>\n",
       "    </tr>\n",
       "  </thead>\n",
       "  <tbody>\n",
       "    <tr>\n",
       "      <th>Bitcoin</th>\n",
       "      <td>1.000000</td>\n",
       "      <td>0.130544</td>\n",
       "      <td>0.146645</td>\n",
       "      <td>0.191949</td>\n",
       "      <td>0.449870</td>\n",
       "      <td>0.158448</td>\n",
       "      <td>0.166142</td>\n",
       "      <td>0.229290</td>\n",
       "      <td>0.155958</td>\n",
       "      <td>0.153605</td>\n",
       "    </tr>\n",
       "    <tr>\n",
       "      <th>Ethereum</th>\n",
       "      <td>0.130544</td>\n",
       "      <td>1.000000</td>\n",
       "      <td>0.140540</td>\n",
       "      <td>0.150541</td>\n",
       "      <td>0.159724</td>\n",
       "      <td>0.167038</td>\n",
       "      <td>0.204423</td>\n",
       "      <td>0.252394</td>\n",
       "      <td>0.073045</td>\n",
       "      <td>0.163056</td>\n",
       "    </tr>\n",
       "    <tr>\n",
       "      <th>Ripple</th>\n",
       "      <td>0.146645</td>\n",
       "      <td>0.140540</td>\n",
       "      <td>1.000000</td>\n",
       "      <td>0.205839</td>\n",
       "      <td>0.217995</td>\n",
       "      <td>0.316807</td>\n",
       "      <td>0.152273</td>\n",
       "      <td>0.172147</td>\n",
       "      <td>0.041373</td>\n",
       "      <td>0.147993</td>\n",
       "    </tr>\n",
       "    <tr>\n",
       "      <th>NEM</th>\n",
       "      <td>0.191949</td>\n",
       "      <td>0.150541</td>\n",
       "      <td>0.205839</td>\n",
       "      <td>1.000000</td>\n",
       "      <td>0.182682</td>\n",
       "      <td>0.235501</td>\n",
       "      <td>0.188961</td>\n",
       "      <td>0.189323</td>\n",
       "      <td>0.110369</td>\n",
       "      <td>0.187156</td>\n",
       "    </tr>\n",
       "    <tr>\n",
       "      <th>Litecoin</th>\n",
       "      <td>0.449870</td>\n",
       "      <td>0.159724</td>\n",
       "      <td>0.217995</td>\n",
       "      <td>0.182682</td>\n",
       "      <td>1.000000</td>\n",
       "      <td>0.231749</td>\n",
       "      <td>0.185582</td>\n",
       "      <td>0.217628</td>\n",
       "      <td>0.091371</td>\n",
       "      <td>0.168379</td>\n",
       "    </tr>\n",
       "    <tr>\n",
       "      <th>Stellar</th>\n",
       "      <td>0.158448</td>\n",
       "      <td>0.167038</td>\n",
       "      <td>0.316807</td>\n",
       "      <td>0.235501</td>\n",
       "      <td>0.231749</td>\n",
       "      <td>1.000000</td>\n",
       "      <td>0.170578</td>\n",
       "      <td>0.245895</td>\n",
       "      <td>0.065280</td>\n",
       "      <td>0.204456</td>\n",
       "    </tr>\n",
       "    <tr>\n",
       "      <th>Dash</th>\n",
       "      <td>0.166142</td>\n",
       "      <td>0.204423</td>\n",
       "      <td>0.152273</td>\n",
       "      <td>0.188961</td>\n",
       "      <td>0.185582</td>\n",
       "      <td>0.170578</td>\n",
       "      <td>1.000000</td>\n",
       "      <td>0.243950</td>\n",
       "      <td>0.070023</td>\n",
       "      <td>0.196408</td>\n",
       "    </tr>\n",
       "    <tr>\n",
       "      <th>Monero</th>\n",
       "      <td>0.229290</td>\n",
       "      <td>0.252394</td>\n",
       "      <td>0.172147</td>\n",
       "      <td>0.189323</td>\n",
       "      <td>0.217628</td>\n",
       "      <td>0.245895</td>\n",
       "      <td>0.243950</td>\n",
       "      <td>1.000000</td>\n",
       "      <td>0.102924</td>\n",
       "      <td>0.182310</td>\n",
       "    </tr>\n",
       "    <tr>\n",
       "      <th>Verge</th>\n",
       "      <td>0.155958</td>\n",
       "      <td>0.073045</td>\n",
       "      <td>0.041373</td>\n",
       "      <td>0.110369</td>\n",
       "      <td>0.091371</td>\n",
       "      <td>0.065280</td>\n",
       "      <td>0.070023</td>\n",
       "      <td>0.102924</td>\n",
       "      <td>1.000000</td>\n",
       "      <td>0.105098</td>\n",
       "    </tr>\n",
       "    <tr>\n",
       "      <th>Siacon</th>\n",
       "      <td>0.153605</td>\n",
       "      <td>0.163056</td>\n",
       "      <td>0.147993</td>\n",
       "      <td>0.187156</td>\n",
       "      <td>0.168379</td>\n",
       "      <td>0.204456</td>\n",
       "      <td>0.196408</td>\n",
       "      <td>0.182310</td>\n",
       "      <td>0.105098</td>\n",
       "      <td>1.000000</td>\n",
       "    </tr>\n",
       "  </tbody>\n",
       "</table>\n",
       "</div>"
      ],
      "text/plain": [
       "           Bitcoin  Ethereum    Ripple       NEM  Litecoin   Stellar  \\\n",
       "Bitcoin   1.000000  0.130544  0.146645  0.191949  0.449870  0.158448   \n",
       "Ethereum  0.130544  1.000000  0.140540  0.150541  0.159724  0.167038   \n",
       "Ripple    0.146645  0.140540  1.000000  0.205839  0.217995  0.316807   \n",
       "NEM       0.191949  0.150541  0.205839  1.000000  0.182682  0.235501   \n",
       "Litecoin  0.449870  0.159724  0.217995  0.182682  1.000000  0.231749   \n",
       "Stellar   0.158448  0.167038  0.316807  0.235501  0.231749  1.000000   \n",
       "Dash      0.166142  0.204423  0.152273  0.188961  0.185582  0.170578   \n",
       "Monero    0.229290  0.252394  0.172147  0.189323  0.217628  0.245895   \n",
       "Verge     0.155958  0.073045  0.041373  0.110369  0.091371  0.065280   \n",
       "Siacon    0.153605  0.163056  0.147993  0.187156  0.168379  0.204456   \n",
       "\n",
       "              Dash    Monero     Verge    Siacon  \n",
       "Bitcoin   0.166142  0.229290  0.155958  0.153605  \n",
       "Ethereum  0.204423  0.252394  0.073045  0.163056  \n",
       "Ripple    0.152273  0.172147  0.041373  0.147993  \n",
       "NEM       0.188961  0.189323  0.110369  0.187156  \n",
       "Litecoin  0.185582  0.217628  0.091371  0.168379  \n",
       "Stellar   0.170578  0.245895  0.065280  0.204456  \n",
       "Dash      1.000000  0.243950  0.070023  0.196408  \n",
       "Monero    0.243950  1.000000  0.102924  0.182310  \n",
       "Verge     0.070023  0.102924  1.000000  0.105098  \n",
       "Siacon    0.196408  0.182310  0.105098  1.000000  "
      ]
     },
     "execution_count": 4,
     "metadata": {},
     "output_type": "execute_result"
    }
   ],
   "source": [
    "KenTau = logRC.corr(method='kendall')\n",
    "KenTau"
   ]
  },
  {
   "cell_type": "code",
   "execution_count": 5,
   "metadata": {},
   "outputs": [
    {
     "data": {
      "text/html": [
       "<div>\n",
       "<style scoped>\n",
       "    .dataframe tbody tr th:only-of-type {\n",
       "        vertical-align: middle;\n",
       "    }\n",
       "\n",
       "    .dataframe tbody tr th {\n",
       "        vertical-align: top;\n",
       "    }\n",
       "\n",
       "    .dataframe thead th {\n",
       "        text-align: right;\n",
       "    }\n",
       "</style>\n",
       "<table border=\"1\" class=\"dataframe\">\n",
       "  <thead>\n",
       "    <tr style=\"text-align: right;\">\n",
       "      <th></th>\n",
       "      <th>Bitcoin</th>\n",
       "      <th>Ethereum</th>\n",
       "      <th>Ripple</th>\n",
       "      <th>NEM</th>\n",
       "      <th>Litecoin</th>\n",
       "      <th>Stellar</th>\n",
       "      <th>Dash</th>\n",
       "      <th>Monero</th>\n",
       "      <th>Verge</th>\n",
       "      <th>Siacon</th>\n",
       "    </tr>\n",
       "  </thead>\n",
       "  <tbody>\n",
       "    <tr>\n",
       "      <th>Bitcoin</th>\n",
       "      <td>1.000000</td>\n",
       "      <td>0.190639</td>\n",
       "      <td>0.210115</td>\n",
       "      <td>0.276235</td>\n",
       "      <td>0.587050</td>\n",
       "      <td>0.229330</td>\n",
       "      <td>0.239289</td>\n",
       "      <td>0.329770</td>\n",
       "      <td>0.218730</td>\n",
       "      <td>0.221849</td>\n",
       "    </tr>\n",
       "    <tr>\n",
       "      <th>Ethereum</th>\n",
       "      <td>0.190639</td>\n",
       "      <td>1.000000</td>\n",
       "      <td>0.204828</td>\n",
       "      <td>0.216761</td>\n",
       "      <td>0.231653</td>\n",
       "      <td>0.244067</td>\n",
       "      <td>0.290216</td>\n",
       "      <td>0.357954</td>\n",
       "      <td>0.105615</td>\n",
       "      <td>0.234744</td>\n",
       "    </tr>\n",
       "    <tr>\n",
       "      <th>Ripple</th>\n",
       "      <td>0.210115</td>\n",
       "      <td>0.204828</td>\n",
       "      <td>1.000000</td>\n",
       "      <td>0.293820</td>\n",
       "      <td>0.302654</td>\n",
       "      <td>0.439828</td>\n",
       "      <td>0.218032</td>\n",
       "      <td>0.251641</td>\n",
       "      <td>0.060905</td>\n",
       "      <td>0.215115</td>\n",
       "    </tr>\n",
       "    <tr>\n",
       "      <th>NEM</th>\n",
       "      <td>0.276235</td>\n",
       "      <td>0.216761</td>\n",
       "      <td>0.293820</td>\n",
       "      <td>1.000000</td>\n",
       "      <td>0.263046</td>\n",
       "      <td>0.336210</td>\n",
       "      <td>0.271617</td>\n",
       "      <td>0.274789</td>\n",
       "      <td>0.159462</td>\n",
       "      <td>0.270167</td>\n",
       "    </tr>\n",
       "    <tr>\n",
       "      <th>Litecoin</th>\n",
       "      <td>0.587050</td>\n",
       "      <td>0.231653</td>\n",
       "      <td>0.302654</td>\n",
       "      <td>0.263046</td>\n",
       "      <td>1.000000</td>\n",
       "      <td>0.329288</td>\n",
       "      <td>0.266357</td>\n",
       "      <td>0.313142</td>\n",
       "      <td>0.133027</td>\n",
       "      <td>0.243782</td>\n",
       "    </tr>\n",
       "    <tr>\n",
       "      <th>Stellar</th>\n",
       "      <td>0.229330</td>\n",
       "      <td>0.244067</td>\n",
       "      <td>0.439828</td>\n",
       "      <td>0.336210</td>\n",
       "      <td>0.329288</td>\n",
       "      <td>1.000000</td>\n",
       "      <td>0.244504</td>\n",
       "      <td>0.357372</td>\n",
       "      <td>0.096570</td>\n",
       "      <td>0.293311</td>\n",
       "    </tr>\n",
       "    <tr>\n",
       "      <th>Dash</th>\n",
       "      <td>0.239289</td>\n",
       "      <td>0.290216</td>\n",
       "      <td>0.218032</td>\n",
       "      <td>0.271617</td>\n",
       "      <td>0.266357</td>\n",
       "      <td>0.244504</td>\n",
       "      <td>1.000000</td>\n",
       "      <td>0.344270</td>\n",
       "      <td>0.101574</td>\n",
       "      <td>0.281809</td>\n",
       "    </tr>\n",
       "    <tr>\n",
       "      <th>Monero</th>\n",
       "      <td>0.329770</td>\n",
       "      <td>0.357954</td>\n",
       "      <td>0.251641</td>\n",
       "      <td>0.274789</td>\n",
       "      <td>0.313142</td>\n",
       "      <td>0.357372</td>\n",
       "      <td>0.344270</td>\n",
       "      <td>1.000000</td>\n",
       "      <td>0.150434</td>\n",
       "      <td>0.265961</td>\n",
       "    </tr>\n",
       "    <tr>\n",
       "      <th>Verge</th>\n",
       "      <td>0.218730</td>\n",
       "      <td>0.105615</td>\n",
       "      <td>0.060905</td>\n",
       "      <td>0.159462</td>\n",
       "      <td>0.133027</td>\n",
       "      <td>0.096570</td>\n",
       "      <td>0.101574</td>\n",
       "      <td>0.150434</td>\n",
       "      <td>1.000000</td>\n",
       "      <td>0.148019</td>\n",
       "    </tr>\n",
       "    <tr>\n",
       "      <th>Siacon</th>\n",
       "      <td>0.221849</td>\n",
       "      <td>0.234744</td>\n",
       "      <td>0.215115</td>\n",
       "      <td>0.270167</td>\n",
       "      <td>0.243782</td>\n",
       "      <td>0.293311</td>\n",
       "      <td>0.281809</td>\n",
       "      <td>0.265961</td>\n",
       "      <td>0.148019</td>\n",
       "      <td>1.000000</td>\n",
       "    </tr>\n",
       "  </tbody>\n",
       "</table>\n",
       "</div>"
      ],
      "text/plain": [
       "           Bitcoin  Ethereum    Ripple       NEM  Litecoin   Stellar  \\\n",
       "Bitcoin   1.000000  0.190639  0.210115  0.276235  0.587050  0.229330   \n",
       "Ethereum  0.190639  1.000000  0.204828  0.216761  0.231653  0.244067   \n",
       "Ripple    0.210115  0.204828  1.000000  0.293820  0.302654  0.439828   \n",
       "NEM       0.276235  0.216761  0.293820  1.000000  0.263046  0.336210   \n",
       "Litecoin  0.587050  0.231653  0.302654  0.263046  1.000000  0.329288   \n",
       "Stellar   0.229330  0.244067  0.439828  0.336210  0.329288  1.000000   \n",
       "Dash      0.239289  0.290216  0.218032  0.271617  0.266357  0.244504   \n",
       "Monero    0.329770  0.357954  0.251641  0.274789  0.313142  0.357372   \n",
       "Verge     0.218730  0.105615  0.060905  0.159462  0.133027  0.096570   \n",
       "Siacon    0.221849  0.234744  0.215115  0.270167  0.243782  0.293311   \n",
       "\n",
       "              Dash    Monero     Verge    Siacon  \n",
       "Bitcoin   0.239289  0.329770  0.218730  0.221849  \n",
       "Ethereum  0.290216  0.357954  0.105615  0.234744  \n",
       "Ripple    0.218032  0.251641  0.060905  0.215115  \n",
       "NEM       0.271617  0.274789  0.159462  0.270167  \n",
       "Litecoin  0.266357  0.313142  0.133027  0.243782  \n",
       "Stellar   0.244504  0.357372  0.096570  0.293311  \n",
       "Dash      1.000000  0.344270  0.101574  0.281809  \n",
       "Monero    0.344270  1.000000  0.150434  0.265961  \n",
       "Verge     0.101574  0.150434  1.000000  0.148019  \n",
       "Siacon    0.281809  0.265961  0.148019  1.000000  "
      ]
     },
     "execution_count": 5,
     "metadata": {},
     "output_type": "execute_result"
    }
   ],
   "source": [
    "spearmanRank = logRC.corr(method='spearman')\n",
    "spearmanRank"
   ]
  },
  {
   "cell_type": "code",
   "execution_count": 6,
   "metadata": {},
   "outputs": [
    {
     "data": {
      "text/plain": [
       "[None, None]"
      ]
     },
     "execution_count": 6,
     "metadata": {},
     "output_type": "execute_result"
    },
    {
     "data": {
      "image/png": "[encoded data removed]",
      "text/plain": [
       "<Figure size 1080x360 with 2 Axes>"
      ]
     },
     "metadata": {},
     "output_type": "display_data"
    }
   ],
   "source": [
    "diff = pd.DataFrame(columns=['Difference between Pearson and Kendall', 'Difference between Pearson and Spearman'])\n",
    "diffSP = abs(spearmanRank - np.arcsin(corrcoeff/2) * (6 / np.pi)) / corrcoeff\n",
    "diff['Difference between Pearson and Spearman'] = diffSP.values.flatten()\n",
    "\n",
    "diffKtauP = abs(KenTau - np.arcsin(corrcoeff) * (2 / np.pi)) / corrcoeff\n",
    "diff['Difference between Pearson and Kendall'] = diffKtauP.values.flatten()\n",
    "fig = diff.hist(bins=25, figsize = (15, 5), sharex=True, sharey=True)\n",
    "[x.title.set_size(20) for x in fig.ravel()]"
   ]
  },
  {
   "cell_type": "code",
   "execution_count": 7,
   "metadata": {},
   "outputs": [],
   "source": [
    "#Here plotted the histogram of absolut values of difference between the two, nomalized by the Pearson corr coeff"
   ]
  },
  {
   "cell_type": "code",
   "execution_count": 8,
   "metadata": {},
   "outputs": [
    {
     "data": {
      "text/plain": [
       "<matplotlib.colorbar.Colorbar at 0x7f39c5427208>"
      ]
     },
     "execution_count": 8,
     "metadata": {},
     "output_type": "execute_result"
    },
    {
     "data": {
      "image/png": "[encoded data removed]",
      "text/plain": [
       "<Figure size 288x288 with 2 Axes>"
      ]
     },
     "metadata": {},
     "output_type": "display_data"
    }
   ],
   "source": [
    "#%matplotlib tk\n",
    "%matplotlib inline\n",
    "plt.matshow(corrcoeff)\n",
    "plt.xticks(range(len(logRC.columns)), logRC.columns)\n",
    "plt.yticks(range(len(logRC.columns)), logRC.columns)\n",
    "plt.title('Pearson corr coeff of cryptocurrency', fontsize=20)\n",
    "plt.colorbar()"
   ]
  },
  {
   "cell_type": "code",
   "execution_count": 9,
   "metadata": {},
   "outputs": [
    {
     "data": {
      "text/plain": [
       "<matplotlib.colorbar.Colorbar at 0x7f39c55029b0>"
      ]
     },
     "execution_count": 9,
     "metadata": {},
     "output_type": "execute_result"
    },
    {
     "data": {
      "image/png": "[encoded data removed]",
      "text/plain": [
       "<Figure size 288x288 with 2 Axes>"
      ]
     },
     "metadata": {},
     "output_type": "display_data"
    }
   ],
   "source": [
    "plt.matshow(spearmanRank)\n",
    "plt.xticks(range(len(logRC.columns)), logRC.columns)\n",
    "plt.yticks(range(len(logRC.columns)), logRC.columns)\n",
    "plt.title('Spearman Rho of cryptocurrency', fontsize=20)\n",
    "plt.colorbar()"
   ]
  },
  {
   "cell_type": "code",
   "execution_count": 10,
   "metadata": {},
   "outputs": [
    {
     "data": {
      "text/plain": [
       "<matplotlib.colorbar.Colorbar at 0x7f39c53dfdd8>"
      ]
     },
     "execution_count": 10,
     "metadata": {},
     "output_type": "execute_result"
    },
    {
     "data": {
      "image/png": "[encoded data removed]",
      "text/plain": [
       "<Figure size 288x288 with 2 Axes>"
      ]
     },
     "metadata": {},
     "output_type": "display_data"
    }
   ],
   "source": [
    "plt.matshow(KenTau)\n",
    "plt.xticks(range(len(logRC.columns)), logRC.columns)\n",
    "plt.yticks(range(len(logRC.columns)), logRC.columns)\n",
    "plt.title('Kendall\\'s Tau of cryptocurrency', fontsize=20)\n",
    "plt.colorbar()"
   ]
  },
  {
   "cell_type": "code",
   "execution_count": 11,
   "metadata": {},
   "outputs": [
    {
     "data": {
      "text/plain": [
       "[None, None, None, None]"
      ]
     },
     "execution_count": 11,
     "metadata": {},
     "output_type": "execute_result"
    },
    {
     "data": {
      "image/png": "[encoded data removed]",
      "text/plain": [
       "<Figure size 1080x360 with 4 Axes>"
      ]
     },
     "metadata": {},
     "output_type": "display_data"
    }
   ],
   "source": [
    "%matplotlib inline\n",
    "ThreeCor = pd.DataFrame(columns=['Pearson', 'Kendall', 'Spearman'])\n",
    "ThreeCor['Spearman'] = spearmanRank.values.flatten()[np.where(spearmanRank.values.flatten()!=1.0)]\n",
    "ThreeCor['Kendall'] = KenTau.values.flatten()[np.where(KenTau.values.flatten()!=1.0)]\n",
    "ThreeCor['Pearson'] = corrcoeff.values.flatten()[np.where(corrcoeff.values.flatten()!=1.0)]\n",
    "fig = ThreeCor.hist(bins=20, figsize = (15, 5), sharex=True, sharey=True)\n",
    "[x.title.set_size(20) for x in fig.ravel()]\n"
   ]
  },
  {
   "cell_type": "code",
   "execution_count": 12,
   "metadata": {
    "scrolled": true
   },
   "outputs": [],
   "source": [
    "betaMa = pd.DataFrame(index=logRC.columns, columns=logRC.columns)\n",
    "ssrMa = pd.DataFrame(index=logRC.columns, columns=logRC.columns)\n",
    "lenMa = pd.DataFrame(index=logRC.columns, columns=logRC.columns)\n",
    "varMa = pd.DataFrame(index=logRC.columns, columns=logRC.columns)\n",
    "for ref_col in logRC:\n",
    "    for col in logRC:\n",
    "        formu = f'{ref_col} ~ {col}'\n",
    "        model = smf.ols(formula=formu, data=logRC)\n",
    "        res = model.fit()\n",
    "        betaMa[ref_col][col] = res.params[1]\n",
    "        ssrMa[ref_col][col] = res.ssr\n",
    "        lenMa[ref_col][col] = len(logRC[col].dropna())\n",
    "        varMa[ref_col][col] = np.var(logRC[col])"
   ]
  },
  {
   "cell_type": "code",
   "execution_count": 13,
   "metadata": {},
   "outputs": [
    {
     "data": {
      "text/html": [
       "<div>\n",
       "<style scoped>\n",
       "    .dataframe tbody tr th:only-of-type {\n",
       "        vertical-align: middle;\n",
       "    }\n",
       "\n",
       "    .dataframe tbody tr th {\n",
       "        vertical-align: top;\n",
       "    }\n",
       "\n",
       "    .dataframe thead th {\n",
       "        text-align: right;\n",
       "    }\n",
       "</style>\n",
       "<table border=\"1\" class=\"dataframe\">\n",
       "  <thead>\n",
       "    <tr style=\"text-align: right;\">\n",
       "      <th></th>\n",
       "      <th>Bitcoin</th>\n",
       "      <th>Ethereum</th>\n",
       "      <th>Ripple</th>\n",
       "      <th>NEM</th>\n",
       "      <th>Litecoin</th>\n",
       "      <th>Stellar</th>\n",
       "      <th>Dash</th>\n",
       "      <th>Monero</th>\n",
       "      <th>Verge</th>\n",
       "      <th>Siacon</th>\n",
       "    </tr>\n",
       "  </thead>\n",
       "  <tbody>\n",
       "    <tr>\n",
       "      <th>Bitcoin</th>\n",
       "      <td>0</td>\n",
       "      <td>-4.16334e-17</td>\n",
       "      <td>1.04083e-17</td>\n",
       "      <td>1.38778e-16</td>\n",
       "      <td>4.996e-16</td>\n",
       "      <td>-8.32667e-17</td>\n",
       "      <td>1.38778e-16</td>\n",
       "      <td>-8.32667e-17</td>\n",
       "      <td>4.85723e-17</td>\n",
       "      <td>2.08167e-17</td>\n",
       "    </tr>\n",
       "    <tr>\n",
       "      <th>Ethereum</th>\n",
       "      <td>-4.16334e-17</td>\n",
       "      <td>0</td>\n",
       "      <td>1.73472e-17</td>\n",
       "      <td>-4.16334e-17</td>\n",
       "      <td>6.93889e-18</td>\n",
       "      <td>2.77556e-17</td>\n",
       "      <td>0</td>\n",
       "      <td>-8.32667e-17</td>\n",
       "      <td>1.47451e-17</td>\n",
       "      <td>6.93889e-18</td>\n",
       "    </tr>\n",
       "    <tr>\n",
       "      <th>Ripple</th>\n",
       "      <td>1.04083e-17</td>\n",
       "      <td>1.73472e-17</td>\n",
       "      <td>4.44089e-16</td>\n",
       "      <td>7.63278e-17</td>\n",
       "      <td>1.45717e-16</td>\n",
       "      <td>-8.32667e-17</td>\n",
       "      <td>-3.46945e-18</td>\n",
       "      <td>2.42861e-17</td>\n",
       "      <td>2.1684e-18</td>\n",
       "      <td>1.21431e-17</td>\n",
       "    </tr>\n",
       "    <tr>\n",
       "      <th>NEM</th>\n",
       "      <td>1.38778e-16</td>\n",
       "      <td>-4.16334e-17</td>\n",
       "      <td>7.63278e-17</td>\n",
       "      <td>-4.44089e-16</td>\n",
       "      <td>-1.38778e-17</td>\n",
       "      <td>-1.38778e-17</td>\n",
       "      <td>-2.77556e-17</td>\n",
       "      <td>-1.38778e-17</td>\n",
       "      <td>1.73472e-17</td>\n",
       "      <td>0</td>\n",
       "    </tr>\n",
       "    <tr>\n",
       "      <th>Litecoin</th>\n",
       "      <td>4.996e-16</td>\n",
       "      <td>6.93889e-18</td>\n",
       "      <td>1.45717e-16</td>\n",
       "      <td>-1.38778e-17</td>\n",
       "      <td>-2.22045e-16</td>\n",
       "      <td>5.55112e-17</td>\n",
       "      <td>1.52656e-16</td>\n",
       "      <td>-4.16334e-17</td>\n",
       "      <td>1.82146e-17</td>\n",
       "      <td>2.77556e-17</td>\n",
       "    </tr>\n",
       "    <tr>\n",
       "      <th>Stellar</th>\n",
       "      <td>-8.32667e-17</td>\n",
       "      <td>2.77556e-17</td>\n",
       "      <td>-8.32667e-17</td>\n",
       "      <td>-1.38778e-17</td>\n",
       "      <td>5.55112e-17</td>\n",
       "      <td>8.88178e-16</td>\n",
       "      <td>0</td>\n",
       "      <td>-2.22045e-16</td>\n",
       "      <td>1.82146e-17</td>\n",
       "      <td>1.38778e-17</td>\n",
       "    </tr>\n",
       "    <tr>\n",
       "      <th>Dash</th>\n",
       "      <td>1.38778e-16</td>\n",
       "      <td>0</td>\n",
       "      <td>-3.46945e-18</td>\n",
       "      <td>-2.77556e-17</td>\n",
       "      <td>1.52656e-16</td>\n",
       "      <td>0</td>\n",
       "      <td>-8.88178e-16</td>\n",
       "      <td>1.38778e-16</td>\n",
       "      <td>1.11022e-16</td>\n",
       "      <td>1.38778e-17</td>\n",
       "    </tr>\n",
       "    <tr>\n",
       "      <th>Monero</th>\n",
       "      <td>-8.32667e-17</td>\n",
       "      <td>-8.32667e-17</td>\n",
       "      <td>2.42861e-17</td>\n",
       "      <td>-1.38778e-17</td>\n",
       "      <td>-4.16334e-17</td>\n",
       "      <td>-2.22045e-16</td>\n",
       "      <td>1.38778e-16</td>\n",
       "      <td>-8.88178e-16</td>\n",
       "      <td>1.21431e-17</td>\n",
       "      <td>-4.85723e-17</td>\n",
       "    </tr>\n",
       "    <tr>\n",
       "      <th>Verge</th>\n",
       "      <td>4.85723e-17</td>\n",
       "      <td>1.47451e-17</td>\n",
       "      <td>2.1684e-18</td>\n",
       "      <td>1.73472e-17</td>\n",
       "      <td>1.82146e-17</td>\n",
       "      <td>1.82146e-17</td>\n",
       "      <td>1.11022e-16</td>\n",
       "      <td>1.21431e-17</td>\n",
       "      <td>8.88178e-16</td>\n",
       "      <td>3.81639e-17</td>\n",
       "    </tr>\n",
       "    <tr>\n",
       "      <th>Siacon</th>\n",
       "      <td>2.08167e-17</td>\n",
       "      <td>6.93889e-18</td>\n",
       "      <td>1.21431e-17</td>\n",
       "      <td>0</td>\n",
       "      <td>2.77556e-17</td>\n",
       "      <td>1.38778e-17</td>\n",
       "      <td>1.38778e-17</td>\n",
       "      <td>-4.85723e-17</td>\n",
       "      <td>3.81639e-17</td>\n",
       "      <td>8.88178e-16</td>\n",
       "    </tr>\n",
       "  </tbody>\n",
       "</table>\n",
       "</div>"
      ],
      "text/plain": [
       "              Bitcoin     Ethereum       Ripple          NEM     Litecoin  \\\n",
       "Bitcoin             0 -4.16334e-17  1.04083e-17  1.38778e-16    4.996e-16   \n",
       "Ethereum -4.16334e-17            0  1.73472e-17 -4.16334e-17  6.93889e-18   \n",
       "Ripple    1.04083e-17  1.73472e-17  4.44089e-16  7.63278e-17  1.45717e-16   \n",
       "NEM       1.38778e-16 -4.16334e-17  7.63278e-17 -4.44089e-16 -1.38778e-17   \n",
       "Litecoin    4.996e-16  6.93889e-18  1.45717e-16 -1.38778e-17 -2.22045e-16   \n",
       "Stellar  -8.32667e-17  2.77556e-17 -8.32667e-17 -1.38778e-17  5.55112e-17   \n",
       "Dash      1.38778e-16            0 -3.46945e-18 -2.77556e-17  1.52656e-16   \n",
       "Monero   -8.32667e-17 -8.32667e-17  2.42861e-17 -1.38778e-17 -4.16334e-17   \n",
       "Verge     4.85723e-17  1.47451e-17   2.1684e-18  1.73472e-17  1.82146e-17   \n",
       "Siacon    2.08167e-17  6.93889e-18  1.21431e-17            0  2.77556e-17   \n",
       "\n",
       "              Stellar         Dash       Monero        Verge       Siacon  \n",
       "Bitcoin  -8.32667e-17  1.38778e-16 -8.32667e-17  4.85723e-17  2.08167e-17  \n",
       "Ethereum  2.77556e-17            0 -8.32667e-17  1.47451e-17  6.93889e-18  \n",
       "Ripple   -8.32667e-17 -3.46945e-18  2.42861e-17   2.1684e-18  1.21431e-17  \n",
       "NEM      -1.38778e-17 -2.77556e-17 -1.38778e-17  1.73472e-17            0  \n",
       "Litecoin  5.55112e-17  1.52656e-16 -4.16334e-17  1.82146e-17  2.77556e-17  \n",
       "Stellar   8.88178e-16            0 -2.22045e-16  1.82146e-17  1.38778e-17  \n",
       "Dash                0 -8.88178e-16  1.38778e-16  1.11022e-16  1.38778e-17  \n",
       "Monero   -2.22045e-16  1.38778e-16 -8.88178e-16  1.21431e-17 -4.85723e-17  \n",
       "Verge     1.82146e-17  1.11022e-16  1.21431e-17  8.88178e-16  3.81639e-17  \n",
       "Siacon    1.38778e-17  1.38778e-17 -4.85723e-17  3.81639e-17  8.88178e-16  "
      ]
     },
     "execution_count": 13,
     "metadata": {},
     "output_type": "execute_result"
    }
   ],
   "source": [
    "betaMa * betaMa.T - corrcoeff ** 2"
   ]
  },
  {
   "cell_type": "code",
   "execution_count": 14,
   "metadata": {},
   "outputs": [
    {
     "data": {
      "text/html": [
       "<div>\n",
       "<style scoped>\n",
       "    .dataframe tbody tr th:only-of-type {\n",
       "        vertical-align: middle;\n",
       "    }\n",
       "\n",
       "    .dataframe tbody tr th {\n",
       "        vertical-align: top;\n",
       "    }\n",
       "\n",
       "    .dataframe thead th {\n",
       "        text-align: right;\n",
       "    }\n",
       "</style>\n",
       "<table border=\"1\" class=\"dataframe\">\n",
       "  <thead>\n",
       "    <tr style=\"text-align: right;\">\n",
       "      <th></th>\n",
       "      <th>Bitcoin</th>\n",
       "      <th>Ethereum</th>\n",
       "      <th>Ripple</th>\n",
       "      <th>NEM</th>\n",
       "      <th>Litecoin</th>\n",
       "      <th>Stellar</th>\n",
       "      <th>Dash</th>\n",
       "      <th>Monero</th>\n",
       "      <th>Verge</th>\n",
       "      <th>Siacon</th>\n",
       "    </tr>\n",
       "  </thead>\n",
       "  <tbody>\n",
       "    <tr>\n",
       "      <th>Bitcoin</th>\n",
       "      <td>0</td>\n",
       "      <td>-1.66533e-16</td>\n",
       "      <td>0</td>\n",
       "      <td>2.22045e-16</td>\n",
       "      <td>4.44089e-16</td>\n",
       "      <td>-3.05311e-16</td>\n",
       "      <td>1.66533e-16</td>\n",
       "      <td>-1.66533e-16</td>\n",
       "      <td>8.32667e-17</td>\n",
       "      <td>0</td>\n",
       "    </tr>\n",
       "    <tr>\n",
       "      <th>Ethereum</th>\n",
       "      <td>-5.55112e-17</td>\n",
       "      <td>0</td>\n",
       "      <td>5.55112e-17</td>\n",
       "      <td>-2.77556e-17</td>\n",
       "      <td>0</td>\n",
       "      <td>0</td>\n",
       "      <td>1.11022e-16</td>\n",
       "      <td>-5.55112e-17</td>\n",
       "      <td>6.93889e-17</td>\n",
       "      <td>-5.55112e-17</td>\n",
       "    </tr>\n",
       "    <tr>\n",
       "      <th>Ripple</th>\n",
       "      <td>1.38778e-16</td>\n",
       "      <td>8.32667e-17</td>\n",
       "      <td>0</td>\n",
       "      <td>2.498e-16</td>\n",
       "      <td>3.60822e-16</td>\n",
       "      <td>-5.55112e-17</td>\n",
       "      <td>0</td>\n",
       "      <td>1.66533e-16</td>\n",
       "      <td>2.77556e-17</td>\n",
       "      <td>5.55112e-17</td>\n",
       "    </tr>\n",
       "    <tr>\n",
       "      <th>NEM</th>\n",
       "      <td>2.77556e-16</td>\n",
       "      <td>-2.22045e-16</td>\n",
       "      <td>2.22045e-16</td>\n",
       "      <td>0</td>\n",
       "      <td>0</td>\n",
       "      <td>-1.66533e-16</td>\n",
       "      <td>0</td>\n",
       "      <td>-5.55112e-17</td>\n",
       "      <td>5.55112e-17</td>\n",
       "      <td>-1.11022e-16</td>\n",
       "    </tr>\n",
       "    <tr>\n",
       "      <th>Litecoin</th>\n",
       "      <td>6.66134e-16</td>\n",
       "      <td>0</td>\n",
       "      <td>3.33067e-16</td>\n",
       "      <td>5.55112e-17</td>\n",
       "      <td>0</td>\n",
       "      <td>0</td>\n",
       "      <td>3.33067e-16</td>\n",
       "      <td>0</td>\n",
       "      <td>1.11022e-16</td>\n",
       "      <td>2.77556e-17</td>\n",
       "    </tr>\n",
       "    <tr>\n",
       "      <th>Stellar</th>\n",
       "      <td>-5.55112e-17</td>\n",
       "      <td>1.66533e-16</td>\n",
       "      <td>-2.22045e-16</td>\n",
       "      <td>1.11022e-16</td>\n",
       "      <td>2.22045e-16</td>\n",
       "      <td>0</td>\n",
       "      <td>1.11022e-16</td>\n",
       "      <td>-2.77556e-16</td>\n",
       "      <td>1.38778e-16</td>\n",
       "      <td>2.77556e-17</td>\n",
       "    </tr>\n",
       "    <tr>\n",
       "      <th>Dash</th>\n",
       "      <td>2.77556e-16</td>\n",
       "      <td>-5.55112e-17</td>\n",
       "      <td>-5.55112e-17</td>\n",
       "      <td>-5.55112e-17</td>\n",
       "      <td>2.77556e-16</td>\n",
       "      <td>-8.32667e-17</td>\n",
       "      <td>0</td>\n",
       "      <td>3.33067e-16</td>\n",
       "      <td>3.88578e-16</td>\n",
       "      <td>-8.32667e-17</td>\n",
       "    </tr>\n",
       "    <tr>\n",
       "      <th>Monero</th>\n",
       "      <td>-2.22045e-16</td>\n",
       "      <td>-2.77556e-16</td>\n",
       "      <td>0</td>\n",
       "      <td>-5.55112e-17</td>\n",
       "      <td>-5.55112e-17</td>\n",
       "      <td>-4.996e-16</td>\n",
       "      <td>2.22045e-16</td>\n",
       "      <td>0</td>\n",
       "      <td>-1.38778e-17</td>\n",
       "      <td>-1.94289e-16</td>\n",
       "    </tr>\n",
       "    <tr>\n",
       "      <th>Verge</th>\n",
       "      <td>2.22045e-16</td>\n",
       "      <td>6.93889e-17</td>\n",
       "      <td>4.51028e-17</td>\n",
       "      <td>1.11022e-16</td>\n",
       "      <td>1.38778e-16</td>\n",
       "      <td>9.71445e-17</td>\n",
       "      <td>4.16334e-16</td>\n",
       "      <td>1.249e-16</td>\n",
       "      <td>0</td>\n",
       "      <td>1.11022e-16</td>\n",
       "    </tr>\n",
       "    <tr>\n",
       "      <th>Siacon</th>\n",
       "      <td>1.11022e-16</td>\n",
       "      <td>2.77556e-17</td>\n",
       "      <td>4.16334e-17</td>\n",
       "      <td>1.11022e-16</td>\n",
       "      <td>8.32667e-17</td>\n",
       "      <td>2.77556e-17</td>\n",
       "      <td>1.38778e-16</td>\n",
       "      <td>-2.77556e-17</td>\n",
       "      <td>1.94289e-16</td>\n",
       "      <td>0</td>\n",
       "    </tr>\n",
       "  </tbody>\n",
       "</table>\n",
       "</div>"
      ],
      "text/plain": [
       "              Bitcoin     Ethereum       Ripple          NEM     Litecoin  \\\n",
       "Bitcoin             0 -1.66533e-16            0  2.22045e-16  4.44089e-16   \n",
       "Ethereum -5.55112e-17            0  5.55112e-17 -2.77556e-17            0   \n",
       "Ripple    1.38778e-16  8.32667e-17            0    2.498e-16  3.60822e-16   \n",
       "NEM       2.77556e-16 -2.22045e-16  2.22045e-16            0            0   \n",
       "Litecoin  6.66134e-16            0  3.33067e-16  5.55112e-17            0   \n",
       "Stellar  -5.55112e-17  1.66533e-16 -2.22045e-16  1.11022e-16  2.22045e-16   \n",
       "Dash      2.77556e-16 -5.55112e-17 -5.55112e-17 -5.55112e-17  2.77556e-16   \n",
       "Monero   -2.22045e-16 -2.77556e-16            0 -5.55112e-17 -5.55112e-17   \n",
       "Verge     2.22045e-16  6.93889e-17  4.51028e-17  1.11022e-16  1.38778e-16   \n",
       "Siacon    1.11022e-16  2.77556e-17  4.16334e-17  1.11022e-16  8.32667e-17   \n",
       "\n",
       "              Stellar         Dash       Monero        Verge       Siacon  \n",
       "Bitcoin  -3.05311e-16  1.66533e-16 -1.66533e-16  8.32667e-17            0  \n",
       "Ethereum            0  1.11022e-16 -5.55112e-17  6.93889e-17 -5.55112e-17  \n",
       "Ripple   -5.55112e-17            0  1.66533e-16  2.77556e-17  5.55112e-17  \n",
       "NEM      -1.66533e-16            0 -5.55112e-17  5.55112e-17 -1.11022e-16  \n",
       "Litecoin            0  3.33067e-16            0  1.11022e-16  2.77556e-17  \n",
       "Stellar             0  1.11022e-16 -2.77556e-16  1.38778e-16  2.77556e-17  \n",
       "Dash     -8.32667e-17            0  3.33067e-16  3.88578e-16 -8.32667e-17  \n",
       "Monero     -4.996e-16  2.22045e-16            0 -1.38778e-17 -1.94289e-16  \n",
       "Verge     9.71445e-17  4.16334e-16    1.249e-16            0  1.11022e-16  \n",
       "Siacon    2.77556e-17  1.38778e-16 -2.77556e-17  1.94289e-16            0  "
      ]
     },
     "execution_count": 14,
     "metadata": {},
     "output_type": "execute_result"
    }
   ],
   "source": [
    "betaMa / ((ssrMa / lenMa) / varMa + betaMa ** 2) ** 0.5 - corrcoeff"
   ]
  },
  {
   "cell_type": "code",
   "execution_count": 15,
   "metadata": {},
   "outputs": [],
   "source": [
    "def linear_regression_for_two(name1, name2):\n",
    "    plt.scatter(logRC[name1], logRC[name2], s=3, c='g')\n",
    "    resB = smf.ols(formula=f\"{name2} ~ {name1}\", data=logRC).fit()\n",
    "    plt.plot(logRC[name1], resB.params[0] + logRC[name1] * resB.params[1], 'r')\n",
    "    resR = smf.ols(formula=f\"{name1} ~ {name2}\", data=logRC).fit()\n",
    "    plt.plot(resR.params[0] + logRC[name2] * resR.params[1], logRC[name2], 'b')\n",
    "    plt.legend([f'{name2} ~ {name1}', f'{name1} ~ {name2}'])\n",
    "    plt.title(f'Linear fit {name2} vs {name1} and vice-versa', fontsize=20)\n",
    "    plt.xlabel(f'{name1} returns', fontsize=18)\n",
    "    plt.ylabel(f'{name2} returns', fontsize=18)\n",
    "    \n",
    "    print(f'Beta for {name1} is {resB.params[1]}')\n",
    "    print(f'Beta for {name2} is {resR.params[1]}')\n",
    "    print(f'R ^ 2 is {resB.rsquared} for {name1} and {resR.rsquared} for {name2}')\n",
    "    print(f'Beta1 * Beta2 = {resB.params[1] * resR.params[1]}')"
   ]
  },
  {
   "cell_type": "code",
   "execution_count": 16,
   "metadata": {},
   "outputs": [
    {
     "name": "stdout",
     "output_type": "stream",
     "text": [
      "Beta for Ripple is 0.050687421362870085\n",
      "Beta for Dash is 0.08832953671801405\n",
      "R ^ 2 is 0.004477196446413201 for Ripple and 0.004477196446412979 for Dash\n",
      "Beta1 * Beta2 = 0.004477196446413083\n"
     ]
    },
    {
     "data": {
      "image/png": "[encoded data removed]",
      "text/plain": [
       "<Figure size 432x288 with 1 Axes>"
      ]
     },
     "metadata": {},
     "output_type": "display_data"
    }
   ],
   "source": [
    "linear_regression_for_two('Ripple', 'Dash')"
   ]
  },
  {
   "cell_type": "code",
   "execution_count": 17,
   "metadata": {},
   "outputs": [
    {
     "name": "stdout",
     "output_type": "stream",
     "text": [
      "Beta for Ripple is 0.5650773927124212\n",
      "Beta for Stellar is 0.43147780453662876\n",
      "R ^ 2 is 0.24381835280083775 for Ripple and 0.24381835280083775 for Stellar\n",
      "Beta1 * Beta2 = 0.24381835280083788\n"
     ]
    },
    {
     "data": {
      "image/png": "[encoded data removed]",
      "text/plain": [
       "<Figure size 432x288 with 1 Axes>"
      ]
     },
     "metadata": {},
     "output_type": "display_data"
    }
   ],
   "source": [
    "linear_regression_for_two('Ripple', 'Stellar')"
   ]
  },
  {
   "cell_type": "code",
   "execution_count": 18,
   "metadata": {},
   "outputs": [
    {
     "name": "stdout",
     "output_type": "stream",
     "text": [
      "Beta for Litecoin is 0.32503806865560514\n",
      "Beta for Bitcoin is 0.7516094218296505\n",
      "R ^ 2 is 0.24430167485486565 for Litecoin and 0.24430167485486565 for Bitcoin\n",
      "Beta1 * Beta2 = 0.24430167485486562\n"
     ]
    },
    {
     "data": {
      "image/png": "[encoded data removed]",
      "text/plain": [
       "<Figure size 432x288 with 1 Axes>"
      ]
     },
     "metadata": {},
     "output_type": "display_data"
    }
   ],
   "source": [
    "linear_regression_for_two('Litecoin', 'Bitcoin')"
   ]
  },
  {
   "cell_type": "code",
   "execution_count": 19,
   "metadata": {},
   "outputs": [],
   "source": [
    "def correlation_ratio(X, Y, binx=200):\n",
    "    binE = np.linspace(min(X), max(X), binx)\n",
    "    binC = (binE[1:] + binE[:-1]) / 2\n",
    "    coRatio = pd.DataFrame(columns=['X', 'Y', 'center'])\n",
    "    coRatio['X'] = X\n",
    "    coRatio['Y'] = Y\n",
    "    for j in coRatio['X'].index:\n",
    "        for i in range(len(binE)-1):\n",
    "            if (coRatio['X'][j] >= binE[i]) & (coRatio['X'][j] < binE[i+1]):\n",
    "                coRatio['center'][j] = (binE[i] + binE[1+i]) / 2\n",
    "                \n",
    "    return coRatio\n",
    "    "
   ]
  },
  {
   "cell_type": "code",
   "execution_count": 20,
   "metadata": {},
   "outputs": [],
   "source": [
    "def plot_relaRatio(name1, name2, binx=200, selectBin=5):\n",
    "    coRatio = correlation_ratio(logRC[name1], logRC[name2], binx=binx).dropna()\n",
    "    coRatio.reset_index(drop=True, inplace=True)\n",
    "    binC = pd.DataFrame(np.unique(coRatio['center']))\n",
    "    selectedBC = np.asarray(binC[binC.index % selectBin == 0])\n",
    "    getASample = pd.DataFrame(index=range(len(coRatio)), columns=['Y', 'center'])\n",
    "    j = 0\n",
    "    for i in coRatio.index:\n",
    "        if coRatio['center'][i] in selectedBC:\n",
    "            getASample['Y'][j] = coRatio['Y'][i]\n",
    "            getASample['center'][j] = coRatio['center'][i]\n",
    "            j = j + 1\n",
    "    plt.scatter(getASample['center'], getASample['Y'])\n",
    "    regroup = coRatio.groupby(['center']).mean()\n",
    "    plt.plot(regroup['Y'], 'r')\n",
    "\n",
    "    varEYX = np.var(regroup['Y'], 0)\n",
    "    varY = np.var(coRatio['Y'])\n",
    "    print(f'correlation ratio : {varEYX / varY}')\n",
    "    return (varEYX / varY)"
   ]
  },
  {
   "cell_type": "code",
   "execution_count": 21,
   "metadata": {},
   "outputs": [
    {
     "name": "stderr",
     "output_type": "stream",
     "text": [
      "/home/lin/.pyenv/versions/3.6.3/lib/python3.6/site-packages/ipykernel_launcher.py:10: SettingWithCopyWarning: \n",
      "A value is trying to be set on a copy of a slice from a DataFrame\n",
      "\n",
      "See the caveats in the documentation: http://pandas.pydata.org/pandas-docs/stable/indexing.html#indexing-view-versus-copy\n",
      "  # Remove the CWD from sys.path while we load stuff.\n"
     ]
    },
    {
     "name": "stdout",
     "output_type": "stream",
     "text": [
      "correlation ratio : 0.4038945824175453\n"
     ]
    },
    {
     "data": {
      "text/plain": [
       "0.4038945824175453"
      ]
     },
     "execution_count": 21,
     "metadata": {},
     "output_type": "execute_result"
    },
    {
     "data": {
      "image/png": "[encoded data removed]",
      "text/plain": [
       "<Figure size 432x288 with 1 Axes>"
      ]
     },
     "metadata": {},
     "output_type": "display_data"
    }
   ],
   "source": [
    "plot_relaRatio('Bitcoin', 'Ripple')"
   ]
  },
  {
   "cell_type": "code",
   "execution_count": null,
   "metadata": {},
   "outputs": [
    {
     "name": "stderr",
     "output_type": "stream",
     "text": [
      "/home/lin/.pyenv/versions/3.6.3/lib/python3.6/site-packages/ipykernel_launcher.py:10: SettingWithCopyWarning: \n",
      "A value is trying to be set on a copy of a slice from a DataFrame\n",
      "\n",
      "See the caveats in the documentation: http://pandas.pydata.org/pandas-docs/stable/indexing.html#indexing-view-versus-copy\n",
      "  # Remove the CWD from sys.path while we load stuff.\n"
     ]
    },
    {
     "name": "stdout",
     "output_type": "stream",
     "text": [
      "correlation ratio : 0.6943167678389011\n",
      "correlation ratio : 0.45449606944701393\n",
      "correlation ratio : 0.46362801324184644\n",
      "correlation ratio : 0.4219532102036201\n",
      "correlation ratio : 0.41352355079397\n",
      "correlation ratio : 0.4911362000286451\n"
     ]
    }
   ],
   "source": [
    "binCoRatio = pd.DataFrame(index=range(0, 30), columns=['binx', 'coRatio'])\n",
    "j = 0\n",
    "for i in range(20, 500, 30):\n",
    "    binCoRatio['coRatio'][j] =  plot_relaRatio('Bitcoin', 'Ripple', binx=i)\n",
    "    binCoRatio['binx'][j] = i\n",
    "    j = j + 1"
   ]
  },
  {
   "cell_type": "code",
   "execution_count": null,
   "metadata": {},
   "outputs": [],
   "source": [
    "plt.plot(binCoRatio['binx'], binCoRatio['coRatio'])"
   ]
  },
  {
   "cell_type": "code",
   "execution_count": null,
   "metadata": {},
   "outputs": [],
   "source": [
    "#if binx is too high, each x is one bin, then the Var[E[Y|X]] can totally explain Var[Y], but what is a good bin\n",
    "#number? 20 looks good, it's very low in this set but still achieve quite high correlation ratio"
   ]
  },
  {
   "cell_type": "code",
   "execution_count": null,
   "metadata": {},
   "outputs": [],
   "source": [
    "miMa = pd.DataFrame(index=logRC.columns, columns=logRC.columns, dtype=float)\n",
    "for ref_col in logRC:\n",
    "    for col in logRC:\n",
    "        miMa[ref_col][col] = metrics.mutual_info_score(logRC[ref_col], logRC[col])\n",
    "miMa"
   ]
  },
  {
   "cell_type": "code",
   "execution_count": null,
   "metadata": {},
   "outputs": [],
   "source": [
    "plt.matshow(miMa)\n",
    "plt.xticks(range(len(logRC.columns)), logRC.columns)\n",
    "plt.yticks(range(len(logRC.columns)), logRC.columns)\n",
    "plt.title('Mutual information of cryptocurrency', fontsize=20)\n",
    "plt.colorbar()"
   ]
  },
  {
   "cell_type": "code",
   "execution_count": null,
   "metadata": {},
   "outputs": [],
   "source": [
    "miMa = pd.DataFrame(index=logRC.columns, columns=logRC.columns, dtype=float)\n",
    "for ref_col in logRC:\n",
    "    for col in logRC:\n",
    "        miMa[ref_col][col] = metrics.normalized_mutual_info_score(logRC[ref_col], logRC[col])\n",
    "miMa"
   ]
  },
  {
   "cell_type": "code",
   "execution_count": null,
   "metadata": {},
   "outputs": [],
   "source": [
    "plt.matshow(miMa)\n",
    "plt.xticks(range(len(logRC.columns)), logRC.columns)\n",
    "plt.yticks(range(len(logRC.columns)), logRC.columns)\n",
    "plt.title('Mutual information of cryptocurrency', fontsize=20)\n",
    "plt.colorbar()"
   ]
  },
  {
   "cell_type": "code",
   "execution_count": null,
   "metadata": {},
   "outputs": [],
   "source": [
    "-0.5 * np.log(1 - corrcoeff ** 2)"
   ]
  },
  {
   "cell_type": "code",
   "execution_count": null,
   "metadata": {},
   "outputs": [],
   "source": [
    "#Doesn't match, not linear dependant"
   ]
  },
  {
   "cell_type": "code",
   "execution_count": null,
   "metadata": {
    "scrolled": true
   },
   "outputs": [],
   "source": [
    "def report_GrangerC_test(name1, name2, maxL = 20):\n",
    "    \n",
    "    testRe = pd.DataFrame(index=range(maxL), columns=['lag', 'ssr F', 'ssr chi2', 'likelihood', 'para F'], dtype=float)\n",
    "    results = grangercausalitytests(logRC[[name1, name2]], maxlag=maxL, verbose=False)\n",
    "    for i in range(maxL):\n",
    "        testRe['lag'][i] = i + 1\n",
    "        testRe['ssr F'][i] = results[i+1][0]['ssr_ftest'][1]\n",
    "        testRe['ssr chi2'][i] = results[i+1][0]['ssr_chi2test'][1]\n",
    "        testRe['likelihood'][i] = results[i+1][0]['lrtest'][1]\n",
    "        testRe['para F'][i] = results[i+1][0]['params_ftest'][1]\n",
    "        \n",
    "    return testRe\n"
   ]
  },
  {
   "cell_type": "code",
   "execution_count": null,
   "metadata": {},
   "outputs": [],
   "source": [
    "def loop_greanger(name1, name2, maxL):\n",
    "    bitForRip = report_GrangerC_test(name1, name2, maxL)\n",
    "    plt.figure()\n",
    "    plt.plot(bitForRip['lag'], bitForRip['ssr F'], bitForRip['lag'], bitForRip['ssr chi2'], bitForRip['lag'], bitForRip['likelihood'], bitForRip['lag'], bitForRip['para F'])\n",
    "    plt.plot(bitForRip['lag'], np.ones(len(bitForRip['lag'])) * 0.05)\n",
    "    plt.plot(bitForRip['lag'], np.ones(len(bitForRip['lag'])) * 0.025)\n",
    "    plt.plot(bitForRip['lag'], np.ones(len(bitForRip['lag'])) * 0.01)\n",
    "    plt.legend(['ssr F', 'ssr chi2', 'likelihood', 'para F', '0.05', '0.025', '0.01'])\n",
    "    plt.title(f'{name2} cause {name1}', fontsize=20)\n",
    "    plt.xlabel('lags', fontsize=18)\n",
    "    plt.ylabel('p-values', fontsize=18)"
   ]
  },
  {
   "cell_type": "code",
   "execution_count": null,
   "metadata": {},
   "outputs": [],
   "source": [
    "#The Null hypothesis for grangercausalitytests is that the time series in the second column, x2, does NOT Granger\n",
    "#cause the time series in the first column, x1."
   ]
  },
  {
   "cell_type": "code",
   "execution_count": null,
   "metadata": {},
   "outputs": [],
   "source": [
    "loop_greanger('Bitcoin', 'Ripple', 20)"
   ]
  },
  {
   "cell_type": "code",
   "execution_count": null,
   "metadata": {
    "scrolled": true
   },
   "outputs": [],
   "source": [
    "for ref_col in logRC:\n",
    "\n",
    "    #for col in logRC:\n",
    "    loop_greanger('Ripple', ref_col, 20)"
   ]
  },
  {
   "cell_type": "code",
   "execution_count": null,
   "metadata": {},
   "outputs": [],
   "source": [
    "def form_portfolio(corMa, name, nAssets, data):\n",
    "    \n",
    "    allCor = corMa[name].sort_values()\n",
    "    weights = allCor[-(nAssets+1) : -1] / sum(allCor[-(nAssets+1) : -1])\n",
    "    portfolio = (data[weights.index] * weights).sum(axis=1)\n",
    "    \n",
    "    return portfolio"
   ]
  },
  {
   "cell_type": "code",
   "execution_count": null,
   "metadata": {
    "scrolled": true
   },
   "outputs": [],
   "source": [
    "def long_short(corMa, corName, name, nAssets, data, plot=True):\n",
    "    hedge = form_portfolio(corMa, name, nAssets, data)\n",
    "    LS = data[name] - hedge\n",
    "    if plot:\n",
    "        plt.figure()\n",
    "        plt.plot(data[name])\n",
    "        plt.plot(LS, alpha=0.5)\n",
    "        plt.legend([f'{name}', 'hedged portfolio'])\n",
    "        plt.title(f'Hedge {name} with {nAssets} most related assets by {corName}', fontsize=20)\n",
    "        plt.xlabel('time', fontsize=18)\n",
    "        plt.ylabel('return', fontsize=18)\n",
    "    return np.var(LS)\n"
   ]
  },
  {
   "cell_type": "code",
   "execution_count": null,
   "metadata": {
    "scrolled": false
   },
   "outputs": [],
   "source": [
    "long_short(corrcoeff, 'Pearson', 'Ripple', 3, logRC)"
   ]
  },
  {
   "cell_type": "code",
   "execution_count": null,
   "metadata": {
    "scrolled": true
   },
   "outputs": [],
   "source": [
    "hedgeResult = pd.DataFrame(index=range(1, 10), columns=['Pearson', 'Spearman', 'Kendall', 'MI', 'original'], dtype=float)\n",
    "hedgeResult['original'][:] = np.var(logRC['Ripple'])\n",
    "for i in range(1, 10):\n",
    "    hedgeResult['Pearson'][i] = long_short(corrcoeff, 'Pearson', 'Ripple', i, logRC)\n",
    "    hedgeResult['Spearman'][i] = long_short(spearmanRank, 'Spearman', 'Ripple', i, logRC)\n",
    "    hedgeResult['Kendall'][i] = long_short(KenTau, 'Kendall', 'Ripple', i, logRC)\n",
    "    hedgeResult['MI'][i] = long_short(miMa, 'MI', 'Ripple', i, logRC)"
   ]
  },
  {
   "cell_type": "code",
   "execution_count": null,
   "metadata": {},
   "outputs": [],
   "source": [
    "hedgeResult"
   ]
  },
  {
   "cell_type": "code",
   "execution_count": null,
   "metadata": {},
   "outputs": [],
   "source": [
    "def moving_window_outOfSample(train, test, name):\n",
    "    finalRe = pd.DataFrame(columns=['Pearson', 'Spearman', 'Kendall', 'MI', 'original'], dtype=float)\n",
    "    for i in range(len(logRC[name]) - train - test):\n",
    "        trainSet = logRC.iloc[i : i+train]\n",
    "        testSet = logRC.iloc[i+train : i+train+test]\n",
    "        KenTau = trainSet.corr(method='kendall')\n",
    "        corrcoeff = trainSet.corr()\n",
    "        spearmanRank = trainSet.corr(method='spearman')\n",
    "        miMa = pd.DataFrame(index=logRC.columns, columns=logRC.columns, dtype=float)\n",
    "        for ref_col in logRC:\n",
    "            for col in logRC:\n",
    "                miMa[ref_col][col] = metrics.normalized_mutual_info_score(trainSet[ref_col], trainSet[col])\n",
    "\n",
    "        hedgeResult = pd.DataFrame(index=range(1, 10), columns=['Pearson', 'Spearman', 'Kendall', 'MI', 'original'], dtype=float)\n",
    "        hedgeResult['original'][:] = np.var(testSet['Ripple'])\n",
    "        for j in range(1, 10):\n",
    "            hedgeResult['PearoutOfSampleson'][j] = long_short(corrcoeff, 'Pearson', 'Ripple', j, testSet, plot=False)\n",
    "            hedgeResult['Spearman'][j] = long_short(spearmanRank, 'Spearman', 'Ripple', j, testSet, plot=False)\n",
    "            hedgeResult['Kendall'][j] = long_short(KenTau, 'Kendall', 'Ripple', j, testSet, plot=False)\n",
    "            hedgeResult['MI'][j] = long_short(miMa, 'MI', 'Ripple', j, testSet, plot=False)\n",
    "        \n",
    "        finalRe = finalRe.append(hedgeResult)\n",
    "    return finalRe\n",
    "        "
   ]
  },
  {
   "cell_type": "code",
   "execution_count": null,
   "metadata": {},
   "outputs": [],
   "source": [
    "outOfSample = moving_window_outOfSample(365, 91, 'Ripple')\n",
    "testRe = outOfSample.groupby([outOfSample.index]).mean()\n",
    "testRe365_91"
   ]
  },
  {
   "cell_type": "code",
   "execution_count": null,
   "metadata": {},
   "outputs": [],
   "source": [
    "outOfSample = moving_window_outOfSample(182, 91, 'Ripple')\n",
    "testRe = outOfSample.groupby([outOfSample.index]).mean()\n",
    "testRe182_91"
   ]
  },
  {
   "cell_type": "code",
   "execution_count": null,
   "metadata": {
    "scrolled": true
   },
   "outputs": [],
   "source": [
    "outOfSample = moving_window_outOfSample(730, 91, 'Ripple')\n",
    "testRe = outOfSample.groupby([outOfSample.index]).mean()\n",
    "testRe730_91"
   ]
  },
  {
   "cell_type": "code",
   "execution_count": null,
   "metadata": {},
   "outputs": [],
   "source": [
    "outOfSample = moving_window_outOfSample(365, 30, 'Ripple')\n",
    "testRe = outOfSample.groupby([outOfSample.index]).mean()\n",
    "testRe365_30"
   ]
  },
  {
   "cell_type": "code",
   "execution_count": null,
   "metadata": {},
   "outputs": [],
   "source": [
    "outOfSample = moving_window_outOfSample(365, 182, 'Ripple')\n",
    "testRe = outOfSample.groupby([outOfSample.index]).mean()\n",
    "testRe365_182"
   ]
  },
  {
   "cell_type": "code",
   "execution_count": null,
   "metadata": {},
   "outputs": [],
   "source": []
  }
 ],
 "metadata": {
  "kernelspec": {
   "display_name": "Python 3",
   "language": "python",
   "name": "python3"
  },
  "language_info": {
   "codemirror_mode": {
    "name": "ipython",
    "version": 3
   },
   "file_extension": ".py",
   "mimetype": "text/x-python",
   "name": "python",
   "nbconvert_exporter": "python",
   "pygments_lexer": "ipython3",
   "version": "3.6.3"
  }
 },
 "nbformat": 4,
 "nbformat_minor": 2
}
