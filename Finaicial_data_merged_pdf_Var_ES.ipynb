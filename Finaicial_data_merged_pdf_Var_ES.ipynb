{
 "cells": [
  {
   "cell_type": "code",
   "execution_count": 1,
   "metadata": {},
   "outputs": [
    {
     "name": "stderr",
     "output_type": "stream",
     "text": [
      "/home/lin/.pyenv/versions/3.6.3/lib/python3.6/site-packages/statsmodels/compat/pandas.py:56: FutureWarning: The pandas.core.datetools module is deprecated and will be removed in a future version. Please use the pandas.tseries module instead.\n",
      "  from pandas.core import datetools\n",
      "/home/lin/.pyenv/versions/3.6.3/lib/python3.6/site-packages/sklearn/cross_validation.py:41: DeprecationWarning: This module was deprecated in version 0.18 in favor of the model_selection module into which all the refactored classes and functions are moved. Also note that the interface of the new CV iterators are different from that of this module. This module will be removed in 0.20.\n",
      "  \"This module will be removed in 0.20.\", DeprecationWarning)\n",
      "/home/lin/.pyenv/versions/3.6.3/lib/python3.6/site-packages/sklearn/grid_search.py:42: DeprecationWarning: This module was deprecated in version 0.18 in favor of the model_selection module into which all the refactored classes and functions are moved. This module will be removed in 0.20.\n",
      "  DeprecationWarning)\n"
     ]
    }
   ],
   "source": [
    "import numpy as np\n",
    "import pandas as pd\n",
    "import matplotlib.pyplot as plt\n",
    "from statsmodels.tsa.stattools import adfuller\n",
    "import scipy.stats as stats\n",
    "import scipy.integrate as integrate\n",
    "import statsmodels.graphics.gofplots as sgg\n",
    "from sklearn.grid_search import GridSearchCV\n",
    "from sklearn.neighbors import KernelDensity\n",
    "%matplotlib inline\n",
    "#%matplotlib tk"
   ]
  },
  {
   "cell_type": "code",
   "execution_count": 2,
   "metadata": {},
   "outputs": [],
   "source": [
    "my_data = pd.read_csv('/home/lin/教材/Financial_data/data/finance_M4/my_fx_data', header = None, usecols = [1], names = ['price'])"
   ]
  },
  {
   "cell_type": "code",
   "execution_count": 3,
   "metadata": {},
   "outputs": [
    {
     "data": {
      "text/html": [
       "<div>\n",
       "<style scoped>\n",
       "    .dataframe tbody tr th:only-of-type {\n",
       "        vertical-align: middle;\n",
       "    }\n",
       "\n",
       "    .dataframe tbody tr th {\n",
       "        vertical-align: top;\n",
       "    }\n",
       "\n",
       "    .dataframe thead th {\n",
       "        text-align: right;\n",
       "    }\n",
       "</style>\n",
       "<table border=\"1\" class=\"dataframe\">\n",
       "  <thead>\n",
       "    <tr style=\"text-align: right;\">\n",
       "      <th></th>\n",
       "      <th>price</th>\n",
       "    </tr>\n",
       "  </thead>\n",
       "  <tbody>\n",
       "    <tr>\n",
       "      <th>count</th>\n",
       "      <td>4196.000000</td>\n",
       "    </tr>\n",
       "    <tr>\n",
       "      <th>mean</th>\n",
       "      <td>0.000267</td>\n",
       "    </tr>\n",
       "    <tr>\n",
       "      <th>std</th>\n",
       "      <td>0.012079</td>\n",
       "    </tr>\n",
       "    <tr>\n",
       "      <th>min</th>\n",
       "      <td>-0.149340</td>\n",
       "    </tr>\n",
       "    <tr>\n",
       "      <th>25%</th>\n",
       "      <td>-0.005606</td>\n",
       "    </tr>\n",
       "    <tr>\n",
       "      <th>50%</th>\n",
       "      <td>0.000742</td>\n",
       "    </tr>\n",
       "    <tr>\n",
       "      <th>75%</th>\n",
       "      <td>0.006732</td>\n",
       "    </tr>\n",
       "    <tr>\n",
       "      <th>max</th>\n",
       "      <td>0.060968</td>\n",
       "    </tr>\n",
       "  </tbody>\n",
       "</table>\n",
       "</div>"
      ],
      "text/plain": [
       "             price\n",
       "count  4196.000000\n",
       "mean      0.000267\n",
       "std       0.012079\n",
       "min      -0.149340\n",
       "25%      -0.005606\n",
       "50%       0.000742\n",
       "75%       0.006732\n",
       "max       0.060968"
      ]
     },
     "execution_count": 3,
     "metadata": {},
     "output_type": "execute_result"
    }
   ],
   "source": [
    "logR = np.log(my_data).diff()\n",
    "logR.drop(logR.index[0], inplace = True)\n",
    "logR.describe()"
   ]
  },
  {
   "cell_type": "code",
   "execution_count": 4,
   "metadata": {},
   "outputs": [],
   "source": [
    "test_set = logR[-252 :]\n",
    "training_set = logR[: -252]"
   ]
  },
  {
   "cell_type": "code",
   "execution_count": 5,
   "metadata": {},
   "outputs": [],
   "source": [
    "posiR = training_set[training_set > 0].dropna()\n",
    "negaR = training_set[training_set <= 0].dropna()\n",
    "sortedPosiR = posiR['price'].sort_values()\n",
    "sortedNegaR = (-negaR['price']).sort_values()\n",
    "mirrorNegative = sortedNegaR.append(-sortedNegaR)\n",
    "mirrorPosi = sortedPosiR.append(-sortedPosiR)\n",
    "numObs = training_set['price'].count()"
   ]
  },
  {
   "cell_type": "code",
   "execution_count": 6,
   "metadata": {},
   "outputs": [
    {
     "data": {
      "text/plain": [
       "array([ True])"
      ]
     },
     "execution_count": 6,
     "metadata": {},
     "output_type": "execute_result"
    }
   ],
   "source": [
    "np.unique(negaR <= 0)"
   ]
  },
  {
   "cell_type": "code",
   "execution_count": 7,
   "metadata": {},
   "outputs": [
    {
     "data": {
      "text/plain": [
       "array([ True])"
      ]
     },
     "execution_count": 7,
     "metadata": {},
     "output_type": "execute_result"
    }
   ],
   "source": [
    "np.unique(posiR > 0)"
   ]
  },
  {
   "cell_type": "code",
   "execution_count": 8,
   "metadata": {},
   "outputs": [
    {
     "name": "stderr",
     "output_type": "stream",
     "text": [
      "/home/lin/.pyenv/versions/3.6.3/lib/python3.6/site-packages/scipy/stats/_continuous_distns.py:2062: RuntimeWarning: divide by zero encountered in true_divide\n",
      "  val = val + cnk * (-1) ** ki / (1.0 - c * ki)\n",
      "/home/lin/.pyenv/versions/3.6.3/lib/python3.6/site-packages/scipy/stats/_distn_infrastructure.py:1037: RuntimeWarning: invalid value encountered in subtract\n",
      "  mu2 = mu2p - mu * mu\n",
      "/home/lin/.pyenv/versions/3.6.3/lib/python3.6/site-packages/scipy/stats/_distn_infrastructure.py:2306: RuntimeWarning: invalid value encountered in double_scalars\n",
      "  Lhat = muhat - Shat*mu\n"
     ]
    }
   ],
   "source": [
    "mu_log = np.mean(training_set['price'])\n",
    "sigma_log = np.std(training_set['price'])\n",
    "t_para = stats.t.fit(training_set['price'], loc = mu_log, scale = sigma_log)\n",
    "posi_t_para = stats.t.fit(mirrorPosi)\n",
    "nega_t_para = stats.t.fit(mirrorNegative)\n",
    "gen_para = stats.genextreme.fit(training_set['price'], loc = mu_log, scale = sigma_log)\n",
    "nega_gen_para = stats.genpareto.fit(sortedNegaR, loc = mu_log, scale = sigma_log)\n",
    "posi_gen_para = stats.genpareto.fit(sortedPosiR, loc = mu_log, scale = sigma_log)"
   ]
  },
  {
   "cell_type": "code",
   "execution_count": 39,
   "metadata": {},
   "outputs": [
    {
     "name": "stdout",
     "output_type": "stream",
     "text": [
      "histgram of whole set plotted with whole set fitted gen extreme, t, normal\n"
     ]
    },
    {
     "data": {
      "text/plain": [
       "Text(0.5,1,'histogram of whole set plotted with whole set fitted gen extreme, t, normal')"
      ]
     },
     "execution_count": 39,
     "metadata": {},
     "output_type": "execute_result"
    }
   ],
   "source": [
    "print('histgram of whole set plotted with whole set fitted gen extreme, t, normal')\n",
    "#%matplotlib inline\n",
    "%matplotlib tk\n",
    "numbins = int(60) \n",
    "training_set.hist(bins = numbins, normed=True)\n",
    "\n",
    "x_ticks = np.linspace(min(training_set['price']), max(training_set['price']),100)\n",
    "plt.plot(x_ticks, 1./((2.*np.pi)**0.5 *sigma_log)*np.exp(-((x_ticks - mu_log)/sigma_log)**2/2), 'r', alpha = 0.7)\n",
    "plt.plot(x_ticks, (stats.genextreme.pdf(x_ticks, c =gen_para[0] , loc = gen_para[1], scale = gen_para[2])), 'm', alpha = 0.7)\n",
    "plt.plot(x_ticks, (stats.t.pdf(x_ticks, df = t_para[0] , loc = t_para[1], scale = t_para[2])), '--b', alpha = 0.7)\n",
    "plt.legend(['normal', 'gen extreme', 't', 'hist log return'])\n",
    "plt.xlabel('log return')\n",
    "plt.ylabel('probability density')\n",
    "plt.title('histogram of whole set plotted with whole set fitted gen extreme, t, normal')"
   ]
  },
  {
   "cell_type": "code",
   "execution_count": 10,
   "metadata": {},
   "outputs": [
    {
     "name": "stdout",
     "output_type": "stream",
     "text": [
      "loglog halves with whole_gen_extreme and gen_pareto and normal\n"
     ]
    },
    {
     "data": {
      "text/plain": [
       "(0.0004, 1.05)"
      ]
     },
     "execution_count": 10,
     "metadata": {},
     "output_type": "execute_result"
    }
   ],
   "source": [
    "print('loglog halves with whole_gen_extreme and gen_pareto and normal')\n",
    "plt.figure()\n",
    "domain = np.linspace(max(abs(training_set['price']))/1000, max(abs(training_set['price'])), 1000)\n",
    "plt.loglog(sortedPosiR, 1 - (range(1, sortedPosiR.count() + 1))/(sortedPosiR.count() + 1), '+b', alpha = 0.5)\n",
    "plt.loglog(sortedNegaR, 1 - (range(1, sortedNegaR.count() + 1))/(sortedNegaR.count() + 1), 'xr', alpha = 0.5)\n",
    "plt.loglog(domain, 1 - (stats.genextreme.cdf(domain, c =gen_para[0] , loc = gen_para[1], scale = gen_para[2]) - 0.365) * 2, 'm')\n",
    "plt.loglog(domain, 1 - (stats.genpareto.cdf(domain, c =posi_gen_para[0] , loc = posi_gen_para[1], scale = posi_gen_para[2])), '--b')\n",
    "plt.loglog(domain, 1 - (stats.genpareto.cdf(domain, c =nega_gen_para[0] , loc = nega_gen_para[1], scale = nega_gen_para[2])), '--r')\n",
    "plt.loglog(domain, 1 - (stats.norm.cdf(domain, mu_log, sigma_log) - 0.5) * 2, 'y')\n",
    "plt.title('tail genextreme, genpareto positive and negative, normal')\n",
    "plt.legend(['posi data', 'nega data', 'genextreme whole set', 'genpareto posi', 'genpareto nega', 'normal'], loc = 3)\n",
    "plt.ylim([4e-4, 1.05])"
   ]
  },
  {
   "cell_type": "code",
   "execution_count": 40,
   "metadata": {},
   "outputs": [
    {
     "name": "stdout",
     "output_type": "stream",
     "text": [
      "loglog halves with whole_t and mirror_fitted_t and normal\n"
     ]
    },
    {
     "data": {
      "text/plain": [
       "(0.0001, 1.05)"
      ]
     },
     "execution_count": 40,
     "metadata": {},
     "output_type": "execute_result"
    }
   ],
   "source": [
    "print('loglog halves with whole_t and mirror_fitted_t and normal')\n",
    "\n",
    "#%matplotlib tk\n",
    "plt.figure()\n",
    "domain = np.linspace(max(abs(training_set['price']))/1000, max(abs(training_set['price'])), 1000)\n",
    "plt.loglog(sortedPosiR, 1 - (range(1, sortedPosiR.count() + 1))/(sortedPosiR.count() + 1), '+b', alpha = 0.5)\n",
    "plt.loglog(sortedNegaR, 1 - (range(1, sortedNegaR.count() + 1))/(sortedNegaR.count() + 1), 'xr', alpha = 0.5)\n",
    "plt.loglog(domain, 1 - (stats.t.cdf(domain, df =t_para[0] , loc = t_para[1], scale = t_para[2]) - 0.474) * 2, 'm')\n",
    "plt.loglog(domain, 1 - (stats.t.cdf(domain, df =posi_t_para[0] , loc = posi_t_para[1], scale = posi_t_para[2]) - 0.5) * 2, '--b')\n",
    "plt.loglog(domain, 1 - (stats.t.cdf(domain, df =nega_t_para[0] , loc = nega_t_para[1], scale = nega_t_para[2]) - 0.5) * 2, '--r')\n",
    "\n",
    "plt.loglog(domain, 1 - (stats.norm.cdf(domain, mu_log, sigma_log) - 0.49) * 2, 'y')\n",
    "plt.title('compare t fited with whole set with fited with mirrored halves')\n",
    "plt.xlabel('log return')\n",
    "plt.ylabel('complemetary cumulative distribution')\n",
    "plt.legend(['posi data', 'nega data', 't whole set', 't posi', 't nega', 'normal'])\n",
    "plt.ylim([1e-4, 1.05])"
   ]
  },
  {
   "cell_type": "code",
   "execution_count": 12,
   "metadata": {},
   "outputs": [
    {
     "name": "stdout",
     "output_type": "stream",
     "text": [
      "histgram of whole set plotted with whole set fitted t, mirror_fitted_t, and halves with gen pareto\n"
     ]
    },
    {
     "data": {
      "text/plain": [
       "Text(0.5,1,'')"
      ]
     },
     "execution_count": 12,
     "metadata": {},
     "output_type": "execute_result"
    }
   ],
   "source": [
    "print('histgram of whole set plotted with whole set fitted t, mirror_fitted_t, and halves with gen pareto')\n",
    "#%matplotlib tk\n",
    "numbins = int(60) \n",
    "training_set.hist(bins = numbins, normed=True, alpha = 0.5)\n",
    "x_ticks = np.linspace(min(training_set['price']), max(abs(training_set['price'])),2000)\n",
    "plt.plot(x_ticks, (stats.t.pdf(x_ticks, df = nega_t_para[0] , loc = nega_t_para[1], scale = nega_t_para[2])), '--g')\n",
    "plt.plot(x_ticks, (stats.t.pdf(x_ticks, df = posi_t_para[0] , loc = posi_t_para[1], scale = posi_t_para[2])), '--b')\n",
    "plt.plot(x_ticks, (stats.t.pdf(x_ticks, df = t_para[0] , loc = t_para[1], scale = t_para[2])), 'r', )\n",
    "plt.plot(domain, 0.5 *(stats.genpareto.pdf(domain, c =posi_gen_para[0] , loc = posi_gen_para[1], scale = posi_gen_para[2])), '--m')\n",
    "plt.plot(-domain, 0.5 *(stats.genpareto.pdf(domain, c =nega_gen_para[0] , loc = nega_gen_para[1], scale = nega_gen_para[2])), '--k')\n",
    "plt.legend(['negetive_t', 'positive_t', 'whole set t', 'posi gen', 'negative gen', 'hist log return'])\n",
    "plt.title('')"
   ]
  },
  {
   "cell_type": "code",
   "execution_count": 13,
   "metadata": {},
   "outputs": [],
   "source": [
    "green_one_domain = x_ticks[x_ticks < -0.0547887]\n",
    "green_one_pdf = stats.t.pdf(green_one_domain, df = nega_t_para[0] , loc = nega_t_para[1], scale = nega_t_para[2])"
   ]
  },
  {
   "cell_type": "code",
   "execution_count": 14,
   "metadata": {},
   "outputs": [],
   "source": [
    "black_two_domain = np.flip(-domain[(-domain >= -0.0547887) & (-domain < -0.015666)], 0)\n",
    "black_two_pdf = 0.5 *(stats.genpareto.pdf(-black_two_domain, c =nega_gen_para[0] , loc = nega_gen_para[1], scale = nega_gen_para[2]))"
   ]
  },
  {
   "cell_type": "code",
   "execution_count": 15,
   "metadata": {},
   "outputs": [],
   "source": [
    "green_three_domain = x_ticks[(x_ticks >= -0.015666) & (x_ticks < 0.00174923)]\n",
    "green_three_pdf = stats.t.pdf(green_three_domain, df = nega_t_para[0] , loc = nega_t_para[1], scale = nega_t_para[2])"
   ]
  },
  {
   "cell_type": "code",
   "execution_count": 16,
   "metadata": {},
   "outputs": [],
   "source": [
    "red_four_domain = x_ticks[(x_ticks >= 0.00174923) & (x_ticks < 0.028755)]\n",
    "red_four_pdf = stats.t.pdf(red_four_domain, df = t_para[0] , loc = t_para[1], scale = t_para[2])"
   ]
  },
  {
   "cell_type": "code",
   "execution_count": 17,
   "metadata": {},
   "outputs": [],
   "source": [
    "green_five_domain = x_ticks[x_ticks >= 0.028755]\n",
    "green_five_pdf = stats.t.pdf(green_five_domain, df = nega_t_para[0] , loc = nega_t_para[1], scale = nega_t_para[2])"
   ]
  },
  {
   "cell_type": "code",
   "execution_count": 18,
   "metadata": {},
   "outputs": [],
   "source": [
    "merged_domain = np.append(green_one_domain, black_two_domain)\n",
    "merged_domain = np.append(merged_domain, green_three_domain)\n",
    "merged_domain = np.append(merged_domain, red_four_domain)\n",
    "merged_domain = np.append(merged_domain, green_five_domain)\n",
    "\n",
    "\n",
    "merged_pdf = np.append(green_one_pdf, black_two_pdf)\n",
    "merged_pdf = np.append(merged_pdf, green_three_pdf)\n",
    "merged_pdf = np.append(merged_pdf, red_four_pdf)\n",
    "merged_pdf = np.append(merged_pdf, green_five_pdf)"
   ]
  },
  {
   "cell_type": "code",
   "execution_count": 19,
   "metadata": {},
   "outputs": [],
   "source": [
    "total_area = integrate.trapz(merged_pdf, merged_domain, dx = 0.01)"
   ]
  },
  {
   "cell_type": "code",
   "execution_count": 20,
   "metadata": {},
   "outputs": [
    {
     "data": {
      "text/plain": [
       "1.0"
      ]
     },
     "execution_count": 20,
     "metadata": {},
     "output_type": "execute_result"
    }
   ],
   "source": [
    "integrate.trapz(merged_pdf/total_area, merged_domain, dx = 0.01)"
   ]
  },
  {
   "cell_type": "code",
   "execution_count": 21,
   "metadata": {},
   "outputs": [],
   "source": [
    "final_pdf = merged_pdf/total_area"
   ]
  },
  {
   "cell_type": "code",
   "execution_count": 45,
   "metadata": {},
   "outputs": [
    {
     "name": "stdout",
     "output_type": "stream",
     "text": [
      "check fit\n"
     ]
    },
    {
     "data": {
      "text/plain": [
       "<matplotlib.legend.Legend at 0x7ff42707a198>"
      ]
     },
     "execution_count": 45,
     "metadata": {},
     "output_type": "execute_result"
    }
   ],
   "source": [
    "print('check fit')\n",
    "#%matplotlib tk\n",
    "numbins = int(60) \n",
    "training_set.hist(bins = numbins, normed=True, alpha = 0.5)\n",
    "plt.plot(x_ticks, (stats.t.pdf(x_ticks, df = nega_t_para[0] , loc = nega_t_para[1], scale = nega_t_para[2])), 'g', linewidth = 0.5, alpha = 0.5)\n",
    "plt.plot(x_ticks, (stats.t.pdf(x_ticks, df = t_para[0] , loc = t_para[1], scale = t_para[2])), 'r', linewidth = 0.5, alpha = 0.5)\n",
    "plt.plot(-domain, 0.5 *(stats.genpareto.pdf(domain, c =nega_gen_para[0] , loc = nega_gen_para[1], scale = nega_gen_para[2])), 'k', linewidth = 0.5, alpha = 0.5)\n",
    "plt.plot(merged_domain, merged_pdf, '--y', linewidth = 0.7)\n",
    "plt.plot(merged_domain, final_pdf, '-.m', linewidth = 0.8)\n",
    "plt.title('merged pdf')\n",
    "plt.xlabel('log return')\n",
    "plt.ylabel('probability density')\n",
    "plt.legend(['negetive_t', 'whole set t', 'negative gen pareto', 'merged pdf', 'nomalized merged pdf', 'hist log return'])"
   ]
  },
  {
   "cell_type": "code",
   "execution_count": 41,
   "metadata": {},
   "outputs": [
    {
     "name": "stdout",
     "output_type": "stream",
     "text": [
      "check fit\n"
     ]
    },
    {
     "data": {
      "text/plain": [
       "<matplotlib.legend.Legend at 0x7ff427311cc0>"
      ]
     },
     "execution_count": 41,
     "metadata": {},
     "output_type": "execute_result"
    }
   ],
   "source": [
    "print('check fit')\n",
    "#%matplotlib tk\n",
    "numbins = int(60) \n",
    "training_set.hist(bins = numbins, normed=True, alpha = 0.5)\n",
    "plt.plot(x_ticks, (stats.t.pdf(x_ticks, df = nega_t_para[0] , loc = nega_t_para[1], scale = nega_t_para[2])), 'g')\n",
    "\n",
    "plt.plot(-domain, 0.5 *(stats.genpareto.pdf(domain, c =nega_gen_para[0] , loc = nega_gen_para[1], scale = nega_gen_para[2])), 'k')\n",
    "plt.plot(merged_domain, merged_pdf, '--r')\n",
    "plt.title('example of one merging point')\n",
    "plt.xlabel('log return')\n",
    "plt.ylabel('probability density')\n",
    "plt.legend(['negetive_t','negative gen pareto', 'merged pdf', 'hist log return'])"
   ]
  },
  {
   "cell_type": "code",
   "execution_count": 24,
   "metadata": {},
   "outputs": [],
   "source": [
    "alpha_one = 0.95\n",
    "alpha_two = 0.99\n",
    "i = 0\n",
    "while integrate.trapz(final_pdf[: i], merged_domain[: i], dx = 0.001) <= (1 - alpha_one):\n",
    "    i += 1\n",
    "index_var_one = i\n",
    "var_one = merged_domain[index_var_one]\n",
    "\n",
    "i = 0\n",
    "while integrate.trapz(final_pdf[: i], merged_domain[: i], dx = 0.001) <= (1 - alpha_two):\n",
    "    i += 1\n",
    "index_var_two = i\n",
    "var_two = merged_domain[index_var_two]\n",
    "\n",
    "alpha_ES = 0.975\n",
    "i = 0\n",
    "while integrate.trapz(final_pdf[: i], merged_domain[: i], dx = 0.001) <= (1 - alpha_ES):\n",
    "    i += 1\n",
    "index_ES = i\n",
    "ES_domain = merged_domain[: index_ES]\n",
    "ES_pdf = final_pdf[: index_ES]\n",
    "to_integral = ES_domain * ES_pdf\n",
    "ES = integrate.trapz(to_integral, ES_domain, dx = 0.001) / (1 - alpha_ES)"
   ]
  },
  {
   "cell_type": "code",
   "execution_count": 25,
   "metadata": {},
   "outputs": [
    {
     "data": {
      "text/plain": [
       "-0.020459515558606166"
      ]
     },
     "execution_count": 25,
     "metadata": {},
     "output_type": "execute_result"
    }
   ],
   "source": [
    "var_one"
   ]
  },
  {
   "cell_type": "code",
   "execution_count": 26,
   "metadata": {},
   "outputs": [
    {
     "data": {
      "text/plain": [
       "0.02503167558754718"
      ]
     },
     "execution_count": 26,
     "metadata": {},
     "output_type": "execute_result"
    }
   ],
   "source": [
    "integrate.trapz(final_pdf[: index_ES], merged_domain[: index_ES], dx = 0.01)"
   ]
  },
  {
   "cell_type": "code",
   "execution_count": 27,
   "metadata": {},
   "outputs": [
    {
     "data": {
      "text/plain": [
       "-0.037932240524715076"
      ]
     },
     "execution_count": 27,
     "metadata": {},
     "output_type": "execute_result"
    }
   ],
   "source": [
    "var_two"
   ]
  },
  {
   "cell_type": "code",
   "execution_count": 28,
   "metadata": {},
   "outputs": [
    {
     "data": {
      "text/plain": [
       "-0.04094372977264025"
      ]
     },
     "execution_count": 28,
     "metadata": {},
     "output_type": "execute_result"
    }
   ],
   "source": [
    "ES"
   ]
  },
  {
   "cell_type": "code",
   "execution_count": 46,
   "metadata": {
    "scrolled": false
   },
   "outputs": [
    {
     "data": {
      "text/plain": [
       "Text(0,0.5,'log return')"
      ]
     },
     "execution_count": 46,
     "metadata": {},
     "output_type": "execute_result"
    }
   ],
   "source": [
    "a_line = np.ones(logR.count())\n",
    "another_line = np.ones(100)\n",
    "plt.plot(logR.values, 'r', linewidth = 0.5)\n",
    "plt.plot(a_line * var_one, 'b')\n",
    "plt.plot(a_line * var_two, 'g')\n",
    "plt.plot(a_line * ES, 'm')\n",
    "plt.plot(int(logR.count() - 252) * another_line, np.linspace(-0.05, 0.05,100), 'y')\n",
    "plt.legend(['log return', 'var 95%', 'var 99%', 'ES 97.5%', 'test set(one year)'])\n",
    "plt.title('Risk measures from merged pdf')\n",
    "plt.xlabel('time')\n",
    "plt.ylabel('log return')"
   ]
  },
  {
   "cell_type": "code",
   "execution_count": 30,
   "metadata": {},
   "outputs": [
    {
     "name": "stdout",
     "output_type": "stream",
     "text": [
      "{'bandwidth': 0.002}\n"
     ]
    }
   ],
   "source": [
    "grid = GridSearchCV(KernelDensity(),\n",
    "                    {'bandwidth': np.linspace(0.0001, 0.002, 50)},\n",
    "                    cv=10) \n",
    "grid.fit(training_set['price'][:, None])\n",
    "kde = grid.best_estimator_\n",
    "print (grid.best_params_)"
   ]
  },
  {
   "cell_type": "code",
   "execution_count": 31,
   "metadata": {},
   "outputs": [],
   "source": [
    "training_grid = np.linspace(min(training_set['price']) - 0.05, max(training_set['price']) + 0.05, 1000)\n",
    "pdf = np.exp(kde.score_samples(training_grid[:, None]))"
   ]
  },
  {
   "cell_type": "code",
   "execution_count": 47,
   "metadata": {},
   "outputs": [
    {
     "data": {
      "text/plain": [
       "<matplotlib.legend.Legend at 0x7ff425de2710>"
      ]
     },
     "execution_count": 47,
     "metadata": {},
     "output_type": "execute_result"
    }
   ],
   "source": [
    "#%matplotlib tk\n",
    "pdf_002 = pdf\n",
    "numbins = int(60) \n",
    "logR.hist(bins = numbins, normed=True)\n",
    "plt.plot(training_grid, pdf_002)\n",
    "plt.plot(merged_domain, final_pdf, '.m', linewidth = 0.4, alpha = 0.5)\n",
    "plt.xlabel('log return')\n",
    "plt.ylabel('probability density')\n",
    "plt.title('left tail zoom in to compare kds and merged pdf')\n",
    "plt.legend(['kds pdf', 'merged pdf', 'histogram'])"
   ]
  },
  {
   "cell_type": "code",
   "execution_count": 33,
   "metadata": {},
   "outputs": [],
   "source": [
    "i = 0\n",
    "while integrate.trapz(pdf_002[: i], training_grid[: i], dx = 0.001) <= (1 - alpha_one):\n",
    "    i += 1\n",
    "index_var_one = i\n",
    "kds_var_one = training_grid[index_var_one]\n",
    "\n",
    "i = 0\n",
    "while integrate.trapz(pdf_002[: i], training_grid[: i], dx = 0.001) <= (1 - alpha_two):\n",
    "    i += 1\n",
    "index_var_two = i\n",
    "kds_var_two = training_grid[index_var_two]\n",
    "\n",
    "i = 0\n",
    "while integrate.trapz(pdf_002[: i], training_grid[: i], dx = 0.001) <= (1 - alpha_ES):\n",
    "    i += 1\n",
    "index_ES = i\n",
    "ES_domain = training_grid[: index_ES]\n",
    "ES_pdf = pdf_002[: index_ES]\n",
    "to_integral = ES_domain * ES_pdf\n",
    "kds_ES = integrate.trapz(to_integral, ES_domain, dx = 0.001) / (1 - alpha_ES)"
   ]
  },
  {
   "cell_type": "code",
   "execution_count": 34,
   "metadata": {},
   "outputs": [
    {
     "data": {
      "text/plain": [
       "-0.01887050772715876"
      ]
     },
     "execution_count": 34,
     "metadata": {},
     "output_type": "execute_result"
    }
   ],
   "source": [
    "kds_var_one"
   ]
  },
  {
   "cell_type": "code",
   "execution_count": 35,
   "metadata": {},
   "outputs": [
    {
     "data": {
      "text/plain": [
       "-0.036886348123142954"
      ]
     },
     "execution_count": 35,
     "metadata": {},
     "output_type": "execute_result"
    }
   ],
   "source": [
    "kds_var_two"
   ]
  },
  {
   "cell_type": "code",
   "execution_count": 36,
   "metadata": {},
   "outputs": [
    {
     "data": {
      "text/plain": [
       "-0.04010775247525712"
      ]
     },
     "execution_count": 36,
     "metadata": {},
     "output_type": "execute_result"
    }
   ],
   "source": [
    "kds_ES"
   ]
  },
  {
   "cell_type": "code",
   "execution_count": 37,
   "metadata": {},
   "outputs": [
    {
     "data": {
      "text/plain": [
       "<matplotlib.legend.Legend at 0x7ff42695bc18>"
      ]
     },
     "execution_count": 37,
     "metadata": {},
     "output_type": "execute_result"
    }
   ],
   "source": [
    "plt.plot(logR.values, 'r')\n",
    "plt.plot(a_line * kds_var_one, 'b')\n",
    "plt.plot(a_line * kds_var_two, 'g')\n",
    "plt.plot(a_line * kds_ES, 'm')\n",
    "plt.plot(int(logR.count() - 252) * another_line, np.linspace(-0.05, 0.05,100), 'y')\n",
    "plt.legend(['log return', 'var 95%', 'var 99%', 'ES 97.5%', 'test set(one year)'])"
   ]
  },
  {
   "cell_type": "code",
   "execution_count": 38,
   "metadata": {},
   "outputs": [
    {
     "data": {
      "text/plain": [
       "<matplotlib.legend.Legend at 0x7ff42690ff60>"
      ]
     },
     "execution_count": 38,
     "metadata": {},
     "output_type": "execute_result"
    }
   ],
   "source": [
    "plt.plot(logR.values, 'r', linewidth = 0.4)\n",
    "plt.plot(a_line * var_one, 'b')\n",
    "plt.plot(a_line * var_two, 'g')\n",
    "plt.plot(a_line * ES, 'm')\n",
    "plt.plot(a_line * kds_var_one, '--b')\n",
    "plt.plot(a_line * kds_var_two, '--g')\n",
    "plt.plot(a_line * kds_ES, '--m')\n",
    "plt.plot(int(logR.count() - 252) * another_line, np.linspace(-0.05, 0.05,100), 'y')\n",
    "plt.title('KDE risk measures vs Merged pdf risk measure')\n",
    "plt.xlabel('time')\n",
    "plt.ylabel('log return')\n",
    "plt.legend(['log return', 'Mer_pdf var 95%', 'Mer_pdf var 99%', 'Mer_pdf ES 97.5%', 'kde var 95%', 'kde var 99%', 'kde ES 97.5%','test set(one year)'])"
   ]
  },
  {
   "cell_type": "code",
   "execution_count": null,
   "metadata": {},
   "outputs": [],
   "source": []
  }
 ],
 "metadata": {
  "kernelspec": {
   "display_name": "Python 3",
   "language": "python",
   "name": "python3"
  },
  "language_info": {
   "codemirror_mode": {
    "name": "ipython",
    "version": 3
   },
   "file_extension": ".py",
   "mimetype": "text/x-python",
   "name": "python",
   "nbconvert_exporter": "python",
   "pygments_lexer": "ipython3",
   "version": "3.6.3"
  }
 },
 "nbformat": 4,
 "nbformat_minor": 2
}
