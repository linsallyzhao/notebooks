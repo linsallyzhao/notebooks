{
 "cells": [
  {
   "cell_type": "code",
   "execution_count": 1,
   "metadata": {},
   "outputs": [
    {
     "name": "stderr",
     "output_type": "stream",
     "text": [
      "/home/lin/.pyenv/versions/3.6.3/lib/python3.6/site-packages/statsmodels/compat/pandas.py:56: FutureWarning: The pandas.core.datetools module is deprecated and will be removed in a future version. Please use the pandas.tseries module instead.\n",
      "  from pandas.core import datetools\n",
      "/home/lin/.pyenv/versions/3.6.3/lib/python3.6/site-packages/sklearn/cross_validation.py:41: DeprecationWarning: This module was deprecated in version 0.18 in favor of the model_selection module into which all the refactored classes and functions are moved. Also note that the interface of the new CV iterators are different from that of this module. This module will be removed in 0.20.\n",
      "  \"This module will be removed in 0.20.\", DeprecationWarning)\n",
      "/home/lin/.pyenv/versions/3.6.3/lib/python3.6/site-packages/sklearn/grid_search.py:42: DeprecationWarning: This module was deprecated in version 0.18 in favor of the model_selection module into which all the refactored classes and functions are moved. This module will be removed in 0.20.\n",
      "  DeprecationWarning)\n"
     ]
    }
   ],
   "source": [
    "import numpy as np\n",
    "import pandas as pd\n",
    "import matplotlib.pyplot as plt\n",
    "from statsmodels.tsa.stattools import adfuller\n",
    "from statsmodels.tsa.stattools import kpss\n",
    "import scipy.stats as stats\n",
    "import statsmodels.graphics.gofplots as sgg\n",
    "from sklearn.grid_search import GridSearchCV\n",
    "from sklearn.neighbors import KernelDensity\n",
    "%matplotlib inline\n",
    "#%matplotlib tk"
   ]
  },
  {
   "cell_type": "code",
   "execution_count": 2,
   "metadata": {},
   "outputs": [
    {
     "data": {
      "text/plain": [
       "Date          datetime64[ns]\n",
       "Open                 float64\n",
       "High                 float64\n",
       "Low                  float64\n",
       "Close                float64\n",
       "Volume               float64\n",
       "Market Cap           float64\n",
       "dtype: object"
      ]
     },
     "execution_count": 2,
     "metadata": {},
     "output_type": "execute_result"
    }
   ],
   "source": [
    "my_data = pd.read_csv('/home/lin/教材/Financial_data/data/Ripple.csv')\n",
    "my_data['Date']=pd.to_datetime(my_data['Date'])\n",
    "my_data.dtypes"
   ]
  },
  {
   "cell_type": "code",
   "execution_count": 3,
   "metadata": {
    "scrolled": true
   },
   "outputs": [
    {
     "data": {
      "text/html": [
       "<div>\n",
       "<style scoped>\n",
       "    .dataframe tbody tr th:only-of-type {\n",
       "        vertical-align: middle;\n",
       "    }\n",
       "\n",
       "    .dataframe tbody tr th {\n",
       "        vertical-align: top;\n",
       "    }\n",
       "\n",
       "    .dataframe thead th {\n",
       "        text-align: right;\n",
       "    }\n",
       "</style>\n",
       "<table border=\"1\" class=\"dataframe\">\n",
       "  <thead>\n",
       "    <tr style=\"text-align: right;\">\n",
       "      <th></th>\n",
       "      <th>Open</th>\n",
       "      <th>High</th>\n",
       "      <th>Low</th>\n",
       "      <th>Close</th>\n",
       "      <th>Volume</th>\n",
       "      <th>Market Cap</th>\n",
       "    </tr>\n",
       "    <tr>\n",
       "      <th>Date</th>\n",
       "      <th></th>\n",
       "      <th></th>\n",
       "      <th></th>\n",
       "      <th></th>\n",
       "      <th></th>\n",
       "      <th></th>\n",
       "    </tr>\n",
       "  </thead>\n",
       "  <tbody>\n",
       "    <tr>\n",
       "      <th>2018-01-08</th>\n",
       "      <td>3.36</td>\n",
       "      <td>3.36</td>\n",
       "      <td>2.07</td>\n",
       "      <td>2.46</td>\n",
       "      <td>3.315260e+09</td>\n",
       "      <td>1.303020e+11</td>\n",
       "    </tr>\n",
       "    <tr>\n",
       "      <th>2018-01-07</th>\n",
       "      <td>3.09</td>\n",
       "      <td>3.49</td>\n",
       "      <td>3.08</td>\n",
       "      <td>3.38</td>\n",
       "      <td>2.395150e+09</td>\n",
       "      <td>1.198190e+11</td>\n",
       "    </tr>\n",
       "    <tr>\n",
       "      <th>2018-01-06</th>\n",
       "      <td>3.02</td>\n",
       "      <td>3.24</td>\n",
       "      <td>2.99</td>\n",
       "      <td>3.09</td>\n",
       "      <td>2.777560e+09</td>\n",
       "      <td>1.170330e+11</td>\n",
       "    </tr>\n",
       "    <tr>\n",
       "      <th>2018-01-05</th>\n",
       "      <td>3.30</td>\n",
       "      <td>3.56</td>\n",
       "      <td>2.83</td>\n",
       "      <td>3.05</td>\n",
       "      <td>6.288500e+09</td>\n",
       "      <td>1.278700e+11</td>\n",
       "    </tr>\n",
       "    <tr>\n",
       "      <th>2018-01-04</th>\n",
       "      <td>3.12</td>\n",
       "      <td>3.84</td>\n",
       "      <td>3.12</td>\n",
       "      <td>3.20</td>\n",
       "      <td>8.103660e+09</td>\n",
       "      <td>1.207630e+11</td>\n",
       "    </tr>\n",
       "  </tbody>\n",
       "</table>\n",
       "</div>"
      ],
      "text/plain": [
       "            Open  High   Low  Close        Volume    Market Cap\n",
       "Date                                                           \n",
       "2018-01-08  3.36  3.36  2.07   2.46  3.315260e+09  1.303020e+11\n",
       "2018-01-07  3.09  3.49  3.08   3.38  2.395150e+09  1.198190e+11\n",
       "2018-01-06  3.02  3.24  2.99   3.09  2.777560e+09  1.170330e+11\n",
       "2018-01-05  3.30  3.56  2.83   3.05  6.288500e+09  1.278700e+11\n",
       "2018-01-04  3.12  3.84  3.12   3.20  8.103660e+09  1.207630e+11"
      ]
     },
     "execution_count": 3,
     "metadata": {},
     "output_type": "execute_result"
    }
   ],
   "source": [
    "my_data.set_index('Date', inplace = True)\n",
    "my_data.head()"
   ]
  },
  {
   "cell_type": "code",
   "execution_count": 4,
   "metadata": {},
   "outputs": [
    {
     "data": {
      "text/html": [
       "<div>\n",
       "<style scoped>\n",
       "    .dataframe tbody tr th:only-of-type {\n",
       "        vertical-align: middle;\n",
       "    }\n",
       "\n",
       "    .dataframe tbody tr th {\n",
       "        vertical-align: top;\n",
       "    }\n",
       "\n",
       "    .dataframe thead th {\n",
       "        text-align: right;\n",
       "    }\n",
       "</style>\n",
       "<table border=\"1\" class=\"dataframe\">\n",
       "  <thead>\n",
       "    <tr style=\"text-align: right;\">\n",
       "      <th></th>\n",
       "      <th>Open</th>\n",
       "      <th>High</th>\n",
       "      <th>Low</th>\n",
       "      <th>Close</th>\n",
       "      <th>Volume</th>\n",
       "      <th>Market Cap</th>\n",
       "    </tr>\n",
       "  </thead>\n",
       "  <tbody>\n",
       "    <tr>\n",
       "      <th>count</th>\n",
       "      <td>1619.000000</td>\n",
       "      <td>1619.000000</td>\n",
       "      <td>1619.000000</td>\n",
       "      <td>1619.000000</td>\n",
       "      <td>1.474000e+03</td>\n",
       "      <td>1.619000e+03</td>\n",
       "    </tr>\n",
       "    <tr>\n",
       "      <th>mean</th>\n",
       "      <td>0.065686</td>\n",
       "      <td>0.071800</td>\n",
       "      <td>0.061426</td>\n",
       "      <td>0.067220</td>\n",
       "      <td>9.482681e+07</td>\n",
       "      <td>2.423942e+09</td>\n",
       "    </tr>\n",
       "    <tr>\n",
       "      <th>std</th>\n",
       "      <td>0.246393</td>\n",
       "      <td>0.279678</td>\n",
       "      <td>0.225367</td>\n",
       "      <td>0.253546</td>\n",
       "      <td>5.595052e+08</td>\n",
       "      <td>9.562257e+09</td>\n",
       "    </tr>\n",
       "    <tr>\n",
       "      <th>min</th>\n",
       "      <td>0.002809</td>\n",
       "      <td>0.003082</td>\n",
       "      <td>0.002802</td>\n",
       "      <td>0.002810</td>\n",
       "      <td>8.316000e+03</td>\n",
       "      <td>2.196030e+07</td>\n",
       "    </tr>\n",
       "    <tr>\n",
       "      <th>25%</th>\n",
       "      <td>0.006046</td>\n",
       "      <td>0.006161</td>\n",
       "      <td>0.005956</td>\n",
       "      <td>0.006050</td>\n",
       "      <td>2.930168e+05</td>\n",
       "      <td>1.456445e+08</td>\n",
       "    </tr>\n",
       "    <tr>\n",
       "      <th>50%</th>\n",
       "      <td>0.007878</td>\n",
       "      <td>0.008014</td>\n",
       "      <td>0.007707</td>\n",
       "      <td>0.007879</td>\n",
       "      <td>7.020645e+05</td>\n",
       "      <td>2.362570e+08</td>\n",
       "    </tr>\n",
       "    <tr>\n",
       "      <th>75%</th>\n",
       "      <td>0.016074</td>\n",
       "      <td>0.016893</td>\n",
       "      <td>0.015446</td>\n",
       "      <td>0.016123</td>\n",
       "      <td>2.812955e+06</td>\n",
       "      <td>3.484395e+08</td>\n",
       "    </tr>\n",
       "    <tr>\n",
       "      <th>max</th>\n",
       "      <td>3.360000</td>\n",
       "      <td>3.840000</td>\n",
       "      <td>3.120000</td>\n",
       "      <td>3.380000</td>\n",
       "      <td>8.108390e+09</td>\n",
       "      <td>1.303020e+11</td>\n",
       "    </tr>\n",
       "  </tbody>\n",
       "</table>\n",
       "</div>"
      ],
      "text/plain": [
       "              Open         High          Low        Close        Volume  \\\n",
       "count  1619.000000  1619.000000  1619.000000  1619.000000  1.474000e+03   \n",
       "mean      0.065686     0.071800     0.061426     0.067220  9.482681e+07   \n",
       "std       0.246393     0.279678     0.225367     0.253546  5.595052e+08   \n",
       "min       0.002809     0.003082     0.002802     0.002810  8.316000e+03   \n",
       "25%       0.006046     0.006161     0.005956     0.006050  2.930168e+05   \n",
       "50%       0.007878     0.008014     0.007707     0.007879  7.020645e+05   \n",
       "75%       0.016074     0.016893     0.015446     0.016123  2.812955e+06   \n",
       "max       3.360000     3.840000     3.120000     3.380000  8.108390e+09   \n",
       "\n",
       "         Market Cap  \n",
       "count  1.619000e+03  \n",
       "mean   2.423942e+09  \n",
       "std    9.562257e+09  \n",
       "min    2.196030e+07  \n",
       "25%    1.456445e+08  \n",
       "50%    2.362570e+08  \n",
       "75%    3.484395e+08  \n",
       "max    1.303020e+11  "
      ]
     },
     "execution_count": 4,
     "metadata": {},
     "output_type": "execute_result"
    }
   ],
   "source": [
    "my_data.describe()"
   ]
  },
  {
   "cell_type": "code",
   "execution_count": 5,
   "metadata": {},
   "outputs": [
    {
     "data": {
      "text/plain": [
       "Date\n",
       "2013-08-04    0.005882\n",
       "2013-08-05    0.005613\n",
       "2013-08-06    0.004680\n",
       "2013-08-07    0.004417\n",
       "2013-08-08    0.004254\n",
       "Name: Close, dtype: float64"
      ]
     },
     "execution_count": 5,
     "metadata": {},
     "output_type": "execute_result"
    }
   ],
   "source": [
    "close = np.flip(my_data['Close'], 0)\n",
    "close.head()"
   ]
  },
  {
   "cell_type": "code",
   "execution_count": 6,
   "metadata": {},
   "outputs": [
    {
     "data": {
      "text/plain": [
       "Date\n",
       "2013-12-27    148422.0\n",
       "2013-12-28    143404.0\n",
       "2013-12-29     56772.0\n",
       "2013-12-30     72634.0\n",
       "2013-12-31     63621.0\n",
       "Name: Volume, dtype: float64"
      ]
     },
     "execution_count": 6,
     "metadata": {},
     "output_type": "execute_result"
    }
   ],
   "source": [
    "volume = np.flip(my_data['Volume'].dropna(), 0)\n",
    "volume.head()"
   ]
  },
  {
   "cell_type": "code",
   "execution_count": 7,
   "metadata": {},
   "outputs": [
    {
     "name": "stdout",
     "output_type": "stream",
     "text": [
      "plot raw data\n"
     ]
    },
    {
     "data": {
      "text/plain": [
       "Text(0.5,1,'Ripple close price')"
      ]
     },
     "execution_count": 7,
     "metadata": {},
     "output_type": "execute_result"
    }
   ],
   "source": [
    "print('plot raw data')\n",
    "%matplotlib tk\n",
    "close.plot(linewidth = 0.4)\n",
    "plt.xlabel('date')\n",
    "plt.ylabel('close price')\n",
    "plt.title('Ripple close price')"
   ]
  },
  {
   "cell_type": "code",
   "execution_count": 8,
   "metadata": {},
   "outputs": [
    {
     "data": {
      "text/plain": [
       "Date\n",
       "2013-08-04         NaN\n",
       "2013-08-05   -0.046812\n",
       "2013-08-06   -0.181787\n",
       "2013-08-07   -0.057837\n",
       "2013-08-08   -0.037601\n",
       "2013-08-09    0.008660\n",
       "2013-08-10    0.005346\n",
       "2013-08-11    0.023142\n",
       "2013-08-12    0.007672\n",
       "2013-08-13   -0.046938\n",
       "Name: Close, dtype: float64"
      ]
     },
     "execution_count": 8,
     "metadata": {},
     "output_type": "execute_result"
    }
   ],
   "source": [
    "logR = np.log(close).diff()\n",
    "logR.head(10)"
   ]
  },
  {
   "cell_type": "code",
   "execution_count": 9,
   "metadata": {},
   "outputs": [
    {
     "data": {
      "text/plain": [
       "array([        nan, -0.0468115 , -0.18178723, ...,  0.0130295 ,\n",
       "        0.08970462, -0.31771436])"
      ]
     },
     "execution_count": 9,
     "metadata": {},
     "output_type": "execute_result"
    }
   ],
   "source": [
    "logR.values"
   ]
  },
  {
   "cell_type": "code",
   "execution_count": 10,
   "metadata": {},
   "outputs": [],
   "source": [
    "logR.drop(logR.index[0], inplace = True)"
   ]
  },
  {
   "cell_type": "code",
   "execution_count": 55,
   "metadata": {},
   "outputs": [
    {
     "name": "stdout",
     "output_type": "stream",
     "text": [
      "plot log return\n"
     ]
    },
    {
     "data": {
      "text/plain": [
       "Text(0.5,1,'Ripple log return')"
      ]
     },
     "execution_count": 55,
     "metadata": {},
     "output_type": "execute_result"
    }
   ],
   "source": [
    "print('plot log return')\n",
    "\n",
    "#%matplotlib tk\n",
    "logR.plot(linewidth = 0.4)\n",
    "\n",
    "plt.xlabel('date')\n",
    "plt.ylabel('log return')\n",
    "plt.title('Ripple log return')"
   ]
  },
  {
   "cell_type": "code",
   "execution_count": 11,
   "metadata": {},
   "outputs": [
    {
     "data": {
      "text/plain": [
       "count    1618.000000\n",
       "mean        0.003731\n",
       "std         0.079982\n",
       "min        -0.616273\n",
       "25%        -0.021178\n",
       "50%        -0.002303\n",
       "75%         0.021177\n",
       "max         1.027356\n",
       "Name: Close, dtype: float64"
      ]
     },
     "execution_count": 11,
     "metadata": {},
     "output_type": "execute_result"
    }
   ],
   "source": [
    "logR.describe()"
   ]
  },
  {
   "cell_type": "code",
   "execution_count": 12,
   "metadata": {},
   "outputs": [
    {
     "data": {
      "text/plain": [
       "2.1810699878397064"
      ]
     },
     "execution_count": 12,
     "metadata": {},
     "output_type": "execute_result"
    }
   ],
   "source": [
    "stats.skew(logR)"
   ]
  },
  {
   "cell_type": "code",
   "execution_count": 13,
   "metadata": {},
   "outputs": [
    {
     "data": {
      "text/plain": [
       "28.450608026769"
      ]
     },
     "execution_count": 13,
     "metadata": {},
     "output_type": "execute_result"
    }
   ],
   "source": [
    "stats.kurtosis(logR)  #exess kurtosis"
   ]
  },
  {
   "cell_type": "code",
   "execution_count": 14,
   "metadata": {},
   "outputs": [
    {
     "data": {
      "text/plain": [
       "(-10.924169213029211,\n",
       " 1.0201212291578786e-19,\n",
       " 11,\n",
       " 1606,\n",
       " {'1%': -3.4344283205802606,\n",
       "  '10%': -2.5677289969277726,\n",
       "  '5%': -2.8633413399051144},\n",
       " -3606.664273929593)"
      ]
     },
     "execution_count": 14,
     "metadata": {},
     "output_type": "execute_result"
    }
   ],
   "source": [
    "adfuller(logR) #reject having unit root, stationary"
   ]
  },
  {
   "cell_type": "code",
   "execution_count": 15,
   "metadata": {
    "scrolled": true
   },
   "outputs": [
    {
     "data": {
      "text/plain": [
       "(0.42111321712474087,\n",
       " 0.06805464779105998,\n",
       " 25,\n",
       " {'1%': 0.739, '10%': 0.347, '2.5%': 0.574, '5%': 0.463})"
      ]
     },
     "execution_count": 15,
     "metadata": {},
     "output_type": "execute_result"
    }
   ],
   "source": [
    "kpss(logR) # null hypothesis that x is level or trend stationary, cannot only reject 6.8% or higher, kinda stationary"
   ]
  },
  {
   "cell_type": "code",
   "execution_count": 16,
   "metadata": {},
   "outputs": [
    {
     "data": {
      "text/plain": [
       "AndersonResult(statistic=102.33883952356314, critical_values=array([0.575, 0.654, 0.785, 0.916, 1.089]), significance_level=array([15. , 10. ,  5. ,  2.5,  1. ]))"
      ]
     },
     "execution_count": 16,
     "metadata": {},
     "output_type": "execute_result"
    }
   ],
   "source": [
    "stats.anderson(logR) #test for normal distribution"
   ]
  },
  {
   "cell_type": "code",
   "execution_count": 18,
   "metadata": {},
   "outputs": [
    {
     "name": "stdout",
     "output_type": "stream",
     "text": [
      "plot bin number score\n"
     ]
    },
    {
     "data": {
      "text/plain": [
       "<matplotlib.legend.Legend at 0x7f666a140ba8>"
      ]
     },
     "execution_count": 18,
     "metadata": {},
     "output_type": "execute_result"
    }
   ],
   "source": [
    "print('plot bin number score')\n",
    "%matplotlib tk\n",
    "numSmoothingFactor = 900\n",
    "#this guy should be a input to the optimized bin number function, it should also take nomalized data\n",
    "scores = np.zeros(numSmoothingFactor)\n",
    "binNums = range(1,numSmoothingFactor + 1)\n",
    "for binNum in binNums:\n",
    "    frequen, binEdges = np.histogram(logR, bins = binNum)\n",
    "    numObser = logR.count().astype(float)\n",
    "    proEst = frequen / numObser\n",
    "    sumFreqSqua = np.sum(proEst ** 2)\n",
    "    score = ((2. * binNum) / ( numObser - 1.)) - (sumFreqSqua * (numObser + 1.) * binNum/ (numObser - 1.))\n",
    "    scores[binNum - 1] = score\n",
    "\n",
    "plt.plot(binNums, scores)\n",
    "plt.legend(['L^2 loss function'])"
   ]
  },
  {
   "cell_type": "code",
   "execution_count": 11,
   "metadata": {},
   "outputs": [
    {
     "name": "stdout",
     "output_type": "stream",
     "text": [
      "histgram and Gaussian\n"
     ]
    },
    {
     "data": {
      "text/plain": [
       "<matplotlib.legend.Legend at 0x7f5dbdb0ee10>"
      ]
     },
     "execution_count": 11,
     "metadata": {},
     "output_type": "execute_result"
    }
   ],
   "source": [
    "print('histgram and Gaussian')\n",
    "numbins = int(130) \n",
    "logR.hist(bins = numbins, normed=True)\n",
    "\n",
    "\n",
    "mu_log = np.mean(logR)\n",
    "sigma_log = np.std(logR)\n",
    "x_ticks = np.linspace(min(logR), max(logR),100)\n",
    "plt.plot(x_ticks, 1./((2.*np.pi)**0.5 *sigma_log)*np.exp(-((x_ticks - mu_log)/sigma_log)**2/2), 'r', alpha = 0.4)\n",
    "plt.xlabel('log return')\n",
    "plt.ylabel('probability density')\n",
    "plt.title('Histogram of log-retunrs and Gaussian with the same mean and variance')\n",
    "plt.legend(['normal', 'histogram'])"
   ]
  },
  {
   "cell_type": "code",
   "execution_count": 20,
   "metadata": {},
   "outputs": [
    {
     "name": "stdout",
     "output_type": "stream",
     "text": [
      "autocorrelations\n"
     ]
    }
   ],
   "source": [
    "print('autocorrelations')\n",
    "autocorr_logR = [logR.autocorr(lag=_) for _ in range(1,252)]\n",
    "autocorr_abs_logR = [abs(logR).autocorr(lag=_) for _ in range(1,252)]\n",
    "autocorr_sqLogR = [(logR ** 2).autocorr(lag=_) for _ in range(1,252)]\n",
    "plt.plot(range(1, 252),autocorr_logR, range(1, 252), autocorr_abs_logR, range(1, 252), autocorr_sqLogR)\n",
    "plt.title('Estimated autocorrelation vs lag for Ripple')\n",
    "plt.legend(['lot return', '|log return|', 'log return ^2'], loc = 1)\n",
    "plt.xlabel('lag')\n",
    "plt.ylabel('autocorrelation')\n",
    "plt.grid(True)"
   ]
  },
  {
   "cell_type": "code",
   "execution_count": 17,
   "metadata": {},
   "outputs": [],
   "source": [
    "posiR = logR[logR > 0].dropna()\n",
    "negaR = logR[logR <= 0].dropna()"
   ]
  },
  {
   "cell_type": "code",
   "execution_count": 18,
   "metadata": {},
   "outputs": [
    {
     "data": {
      "text/plain": [
       "array([ True])"
      ]
     },
     "execution_count": 18,
     "metadata": {},
     "output_type": "execute_result"
    }
   ],
   "source": [
    "np.unique(posiR > 0)"
   ]
  },
  {
   "cell_type": "code",
   "execution_count": 19,
   "metadata": {},
   "outputs": [
    {
     "data": {
      "text/plain": [
       "array([ True])"
      ]
     },
     "execution_count": 19,
     "metadata": {},
     "output_type": "execute_result"
    }
   ],
   "source": [
    "np.unique(negaR <= 0)"
   ]
  },
  {
   "cell_type": "code",
   "execution_count": 20,
   "metadata": {},
   "outputs": [],
   "source": [
    "sortedPosiR = posiR.sort_values()\n",
    "sortedNegaR = (-negaR).sort_values()\n",
    "mirrorNegative = sortedNegaR.append(-sortedNegaR)\n",
    "numObs = logR.count()"
   ]
  },
  {
   "cell_type": "code",
   "execution_count": 21,
   "metadata": {},
   "outputs": [],
   "source": [
    "mirrorPosi = sortedPosiR.append(-sortedPosiR)"
   ]
  },
  {
   "cell_type": "code",
   "execution_count": 26,
   "metadata": {},
   "outputs": [
    {
     "name": "stdout",
     "output_type": "stream",
     "text": [
      "loglog data and Gaussion\n"
     ]
    }
   ],
   "source": [
    "print('loglog data and Gaussion')\n",
    "plt.loglog(sortedPosiR, 1 - (range(1, sortedPosiR.count() + 1))/(sortedPosiR.count() + 1), '+b')\n",
    "plt.loglog(sortedNegaR, 1 - (range(1, sortedNegaR.count() + 1))/(sortedNegaR.count() + 1), 'xr')\n",
    "domain = np.linspace(mu_log, max(abs(logR)), 1000)\n",
    "plt.loglog(domain, 1 - (stats.norm.cdf(domain, mu_log, sigma_log) - 0.5) * 2, 'm')\n",
    "plt.ylim([1e-4, 1.05])\n",
    "plt.xlim([1e-5, 1])\n",
    "plt.legend(['pos return', 'nega return', 'normal'], loc = 3)\n",
    "plt.grid(True)"
   ]
  },
  {
   "cell_type": "code",
   "execution_count": 61,
   "metadata": {},
   "outputs": [
    {
     "data": {
      "text/plain": [
       "Date\n",
       "2013-12-27    1.484220e+05\n",
       "2013-12-28    1.434040e+05\n",
       "2013-12-29    5.677200e+04\n",
       "2013-12-30    7.263400e+04\n",
       "2013-12-31    6.362100e+04\n",
       "2014-01-01    5.853300e+04\n",
       "2014-01-02    1.289140e+05\n",
       "2014-01-03    8.978000e+04\n",
       "2014-01-04    6.097300e+04\n",
       "2014-01-05    2.004380e+05\n",
       "2014-01-06    1.844780e+05\n",
       "2014-01-07    7.376100e+04\n",
       "2014-01-08    8.294100e+04\n",
       "2014-01-09    1.003570e+05\n",
       "2014-01-10    6.411100e+04\n",
       "2014-01-11    7.039000e+04\n",
       "2014-01-12    4.258100e+04\n",
       "2014-01-13    1.532800e+04\n",
       "2014-01-14    4.191600e+04\n",
       "2014-01-15    2.518900e+04\n",
       "2014-01-16    5.885100e+04\n",
       "2014-01-17    7.257200e+04\n",
       "2014-01-18    2.124200e+04\n",
       "2014-01-19    6.984200e+04\n",
       "2014-01-20    6.771200e+04\n",
       "2014-01-21    8.245300e+04\n",
       "2014-01-22    6.070300e+04\n",
       "2014-01-23    1.067550e+05\n",
       "2014-01-24    1.366220e+05\n",
       "2014-01-25    7.502900e+04\n",
       "                  ...     \n",
       "2017-12-10    1.981740e+08\n",
       "2017-12-11    1.761010e+08\n",
       "2017-12-12    1.555040e+09\n",
       "2017-12-13    2.738760e+09\n",
       "2017-12-14    6.358700e+09\n",
       "2017-12-15    3.194210e+09\n",
       "2017-12-16    1.334770e+09\n",
       "2017-12-17    8.052000e+08\n",
       "2017-12-18    1.342720e+09\n",
       "2017-12-19    1.449670e+09\n",
       "2017-12-20    1.007420e+09\n",
       "2017-12-21    3.626110e+09\n",
       "2017-12-22    4.644700e+09\n",
       "2017-12-23    1.497590e+09\n",
       "2017-12-24    7.549590e+08\n",
       "2017-12-25    6.860140e+08\n",
       "2017-12-26    9.388470e+08\n",
       "2017-12-27    2.854260e+09\n",
       "2017-12-28    2.843300e+09\n",
       "2017-12-29    7.545740e+09\n",
       "2017-12-30    8.108390e+09\n",
       "2017-12-31    4.642080e+09\n",
       "2018-01-01    1.894230e+09\n",
       "2018-01-02    3.171010e+09\n",
       "2018-01-03    6.635880e+09\n",
       "2018-01-04    8.103660e+09\n",
       "2018-01-05    6.288500e+09\n",
       "2018-01-06    2.777560e+09\n",
       "2018-01-07    2.395150e+09\n",
       "2018-01-08    3.315260e+09\n",
       "Name: Volume, Length: 1474, dtype: float64"
      ]
     },
     "execution_count": 61,
     "metadata": {},
     "output_type": "execute_result"
    }
   ],
   "source": [
    "volume"
   ]
  },
  {
   "cell_type": "code",
   "execution_count": 68,
   "metadata": {},
   "outputs": [
    {
     "name": "stdout",
     "output_type": "stream",
     "text": [
      "volatility of log return\n"
     ]
    },
    {
     "data": {
      "text/plain": [
       "<matplotlib.legend.Legend at 0x7f46298552b0>"
      ]
     },
     "execution_count": 68,
     "metadata": {},
     "output_type": "execute_result"
    }
   ],
   "source": [
    "print('volatility of log return')\n",
    "window = 30\n",
    "cumlogR = logR.cumsum()\n",
    "cumlogRSq = (logR ** 2).cumsum()\n",
    "sqRunAvg = (cumlogRSq.iloc[window :] - cumlogRSq.iloc[: cumlogRSq.count() - window].values)/window\n",
    "RuningAvg = (cumlogR.iloc[window :] - cumlogR.iloc[: cumlogR.count() - window].values)/window\n",
    "volatility = np.sqrt(sqRunAvg - RuningAvg ** 2)\n",
    "plt.figure()\n",
    "plt.title('volatility vs volume')\n",
    "plt.subplot(2, 1, 1)\n",
    "plt.plot(volatility.loc[(volatility.index>='2014-01-01') & (volatility.index < '2017-02-01')])\n",
    "plt.legend(['volatility'])\n",
    "plt.title('volatility vs volume')\n",
    "plt.subplot(2, 1, 2)\n",
    "vol = volume.loc[(volume.index>='2014-01-01') & (volume.index < '2017-02-01')]\n",
    "plt.plot(vol)\n",
    "plt.legend(['volume'])\n"
   ]
  },
  {
   "cell_type": "code",
   "execution_count": 28,
   "metadata": {},
   "outputs": [
    {
     "name": "stdout",
     "output_type": "stream",
     "text": [
      "qq fit whole set with Gaussian\n"
     ]
    }
   ],
   "source": [
    "print('qq fit whole set with Gaussian')\n",
    "normal_para = [mu_log, sigma_log]\n",
    "sgg.qqplot(logR, stats.norm, fit = True, line = '45')\n",
    "plt.title('normal whole set')\n",
    "plt.xlim([-4, 4])\n",
    "plt.grid(True)"
   ]
  },
  {
   "cell_type": "code",
   "execution_count": 14,
   "metadata": {},
   "outputs": [
    {
     "name": "stdout",
     "output_type": "stream",
     "text": [
      "qq fit whole set with t\n"
     ]
    }
   ],
   "source": [
    "print('qq fit whole set with t')\n",
    "t_para = stats.t.fit(logR, loc = mu_log, scale = sigma_log)\n",
    "loc, scale = t_para[1:]\n",
    "fake_distargs = (t_para[0],)\n",
    "sgg.qqplot(logR, stats.t, fit = False, line = '45',distargs = fake_distargs, loc=loc, scale=scale)\n",
    "plt.title('t whole set')\n",
    "plt.grid(True)"
   ]
  },
  {
   "cell_type": "code",
   "execution_count": 30,
   "metadata": {},
   "outputs": [
    {
     "name": "stdout",
     "output_type": "stream",
     "text": [
      "qq fit mirrored positive with t\n"
     ]
    }
   ],
   "source": [
    "print('qq fit mirrored positive with t')\n",
    "posi_t_para = stats.t.fit(mirrorPosi)\n",
    "loc, scale = posi_t_para[1:]\n",
    "fake_distargs = (posi_t_para[0],)\n",
    "sgg.qqplot(logR, stats.t, fit = False, line = '45',distargs = fake_distargs, loc=loc, scale=scale)\n",
    "plt.title ('t posi')\n",
    "plt.grid(True)"
   ]
  },
  {
   "cell_type": "code",
   "execution_count": 31,
   "metadata": {},
   "outputs": [
    {
     "name": "stdout",
     "output_type": "stream",
     "text": [
      "qq fit mirrored negative with t\n"
     ]
    }
   ],
   "source": [
    "print('qq fit mirrored negative with t')\n",
    "nega_t_para = stats.t.fit(mirrorNegative)\n",
    "loc, scale = nega_t_para[1:]\n",
    "fake_distargs = (nega_t_para[0],)\n",
    "sgg.qqplot(logR, stats.t, fit = False, line = '45',distargs = fake_distargs, loc=loc, scale=scale)\n",
    "plt.title('t nega')\n",
    "plt.grid(True)"
   ]
  },
  {
   "cell_type": "code",
   "execution_count": 32,
   "metadata": {},
   "outputs": [
    {
     "name": "stdout",
     "output_type": "stream",
     "text": [
      "qq fit whole set with gen extreme\n"
     ]
    }
   ],
   "source": [
    "print('qq fit whole set with gen extreme')\n",
    "gen_para = stats.genextreme.fit(logR, loc = mu_log, scale = sigma_log)\n",
    "#gen_para = list(gen_para)\n",
    "#gen_para[0] = gen_para[0] * (-1)\n",
    "\n",
    "# it's this one\n",
    "\n",
    "loc, scale = gen_para[1:]\n",
    "fake_distargs = (gen_para[0],)\n",
    "\n",
    "pp = sgg.ProbPlot(logR, dist=stats.genextreme, distargs=fake_distargs, fit=False, loc=loc, scale=scale)\n",
    "fig = pp.qqplot(line='45')\n",
    "plt.title('gen extreme whole set')\n",
    "plt.grid(True)"
   ]
  },
  {
   "cell_type": "code",
   "execution_count": 33,
   "metadata": {},
   "outputs": [
    {
     "name": "stdout",
     "output_type": "stream",
     "text": [
      "qq fit negative half with gen pareto\n"
     ]
    },
    {
     "name": "stderr",
     "output_type": "stream",
     "text": [
      "/home/lin/.pyenv/versions/3.6.3/lib/python3.6/site-packages/scipy/stats/_continuous_distns.py:2062: RuntimeWarning: divide by zero encountered in true_divide\n",
      "  val = val + cnk * (-1) ** ki / (1.0 - c * ki)\n",
      "/home/lin/.pyenv/versions/3.6.3/lib/python3.6/site-packages/scipy/stats/_distn_infrastructure.py:1037: RuntimeWarning: invalid value encountered in subtract\n",
      "  mu2 = mu2p - mu * mu\n",
      "/home/lin/.pyenv/versions/3.6.3/lib/python3.6/site-packages/scipy/stats/_distn_infrastructure.py:2306: RuntimeWarning: invalid value encountered in double_scalars\n",
      "  Lhat = muhat - Shat*mu\n"
     ]
    }
   ],
   "source": [
    "print('qq fit negative half with gen pareto')\n",
    "nega_gen_para = stats.genpareto.fit(sortedNegaR, loc = mu_log, scale = sigma_log)\n",
    "\n",
    "#gen_para = list(gen_para)\n",
    "#gen_para[0] = gen_para[0] * (-1)\n",
    "\n",
    "# it's this one\n",
    "\n",
    "loc, scale = nega_gen_para[1:]\n",
    "fake_distargs = (nega_gen_para[0],)\n",
    "\n",
    "pp = sgg.ProbPlot(sortedNegaR, dist=stats.genpareto, distargs=fake_distargs, fit=False, loc=loc, scale=scale)\n",
    "fig = pp.qqplot(line='45')\n",
    "plt.title('gen pareto negative')\n",
    "plt.grid(True)"
   ]
  },
  {
   "cell_type": "code",
   "execution_count": 34,
   "metadata": {},
   "outputs": [
    {
     "data": {
      "text/plain": [
       "(0.28568260574688875, -5.170894848096893e-11, 0.026269242669344807)"
      ]
     },
     "execution_count": 34,
     "metadata": {},
     "output_type": "execute_result"
    }
   ],
   "source": [
    "nega_gen_para"
   ]
  },
  {
   "cell_type": "code",
   "execution_count": 35,
   "metadata": {},
   "outputs": [
    {
     "name": "stdout",
     "output_type": "stream",
     "text": [
      "qq fit positive half with gen pareto\n"
     ]
    },
    {
     "name": "stderr",
     "output_type": "stream",
     "text": [
      "/home/lin/.pyenv/versions/3.6.3/lib/python3.6/site-packages/scipy/stats/_continuous_distns.py:2062: RuntimeWarning: divide by zero encountered in true_divide\n",
      "  val = val + cnk * (-1) ** ki / (1.0 - c * ki)\n",
      "/home/lin/.pyenv/versions/3.6.3/lib/python3.6/site-packages/scipy/stats/_distn_infrastructure.py:1037: RuntimeWarning: invalid value encountered in subtract\n",
      "  mu2 = mu2p - mu * mu\n",
      "/home/lin/.pyenv/versions/3.6.3/lib/python3.6/site-packages/scipy/stats/_distn_infrastructure.py:2306: RuntimeWarning: invalid value encountered in double_scalars\n",
      "  Lhat = muhat - Shat*mu\n"
     ]
    }
   ],
   "source": [
    "print('qq fit positive half with gen pareto')\n",
    "posi_gen_para = stats.genpareto.fit(sortedPosiR, loc = mu_log, scale = sigma_log)\n",
    "\n",
    "#gen_para = list(gen_para)\n",
    "#gen_para[0] = gen_para[0] * (-1)\n",
    "\n",
    "# it's this one\n",
    "\n",
    "loc, scale = posi_gen_para[1:]\n",
    "fake_distargs = (posi_gen_para[0],)\n",
    "\n",
    "pp = sgg.ProbPlot(sortedPosiR, dist=stats.genpareto, distargs=fake_distargs, fit=False, loc=loc, scale=scale)\n",
    "fig = pp.qqplot(line='45')\n",
    "plt.title('gen pareto positivt')\n",
    "plt.grid(True)"
   ]
  },
  {
   "cell_type": "code",
   "execution_count": 36,
   "metadata": {},
   "outputs": [
    {
     "data": {
      "text/plain": [
       "(0.40798454909670245, 0.00011950982293544837, 0.030437897578615473)"
      ]
     },
     "execution_count": 36,
     "metadata": {},
     "output_type": "execute_result"
    }
   ],
   "source": [
    "posi_gen_para"
   ]
  },
  {
   "cell_type": "code",
   "execution_count": 37,
   "metadata": {},
   "outputs": [
    {
     "name": "stdout",
     "output_type": "stream",
     "text": [
      "negative return, hist, fitted gen pareto and mirrored negative t\n"
     ]
    },
    {
     "data": {
      "text/plain": [
       "[<matplotlib.lines.Line2D at 0x7f66694fa780>]"
      ]
     },
     "execution_count": 37,
     "metadata": {},
     "output_type": "execute_result"
    }
   ],
   "source": [
    "print('negative return, hist, fitted gen pareto and mirrored negative t')\n",
    "numbins = int(60) \n",
    "sortedNegaR.hist(bins = numbins, normed=True)\n",
    "x_ticks = np.linspace(min(sortedNegaR), max(sortedNegaR),100)\n",
    "plt.plot(x_ticks, stats.genpareto.pdf(x_ticks, c =nega_gen_para[0] , loc = nega_gen_para[1], scale = nega_gen_para[2]),'g', alpha = 0.4)\n",
    "plt.plot(x_ticks, stats.t.pdf(x_ticks, df =nega_t_para[0] , loc = nega_t_para[1], scale = nega_t_para[2]) * 2, 'r', alpha = 0.4)"
   ]
  },
  {
   "cell_type": "code",
   "execution_count": 38,
   "metadata": {},
   "outputs": [
    {
     "data": {
      "text/plain": [
       "[<matplotlib.lines.Line2D at 0x7f66694663c8>]"
      ]
     },
     "execution_count": 38,
     "metadata": {},
     "output_type": "execute_result"
    }
   ],
   "source": [
    "plt.plot(logR.sort_values(), stats.genextreme.cdf(logR.sort_values(), c =gen_para[0] , loc = gen_para[1], scale = gen_para[2]), linewidth = 0.4)\n",
    "plt.plot(logR.sort_values(), stats.norm.cdf(logR.sort_values(), mu_log, sigma_log), linewidth = 0.4)"
   ]
  },
  {
   "cell_type": "code",
   "execution_count": 15,
   "metadata": {},
   "outputs": [
    {
     "data": {
      "text/plain": [
       "(1.455265745293747, -0.0022507700885327072, 0.02479560679814534)"
      ]
     },
     "execution_count": 15,
     "metadata": {},
     "output_type": "execute_result"
    }
   ],
   "source": [
    "t_para"
   ]
  },
  {
   "cell_type": "code",
   "execution_count": 22,
   "metadata": {},
   "outputs": [
    {
     "data": {
      "text/plain": [
       "-0.4905427656136414"
      ]
     },
     "execution_count": 22,
     "metadata": {},
     "output_type": "execute_result"
    }
   ],
   "source": [
    "import scipy.integrate as integrate\n",
    "alpha_es = 0.99\n",
    "x_ticks = np.linspace(min(logR), max(logR),1000)\n",
    "t_es_quantile = stats.t.ppf(alpha_es, df = t_para[0] , loc = t_para[1], scale = t_para[2])\n",
    "domain_t = x_ticks[x_ticks <= t_es_quantile]\n",
    "pdf_t = stats.t.pdf(domain_t, df = t_para[0] , loc = t_para[1], scale = t_para[2])\n",
    "to_integral = pdf_t * domain_t\n",
    "t_ES = integrate.trapz(to_integral, domain_t, dx = 0.01) / (1 - alpha_es)\n",
    "t_ES"
   ]
  },
  {
   "cell_type": "code",
   "execution_count": 40,
   "metadata": {},
   "outputs": [
    {
     "name": "stdout",
     "output_type": "stream",
     "text": [
      "loglog data halves with whole gen extreme, t, normal\n"
     ]
    },
    {
     "data": {
      "text/plain": [
       "(0.0001, 1.2)"
      ]
     },
     "execution_count": 40,
     "metadata": {},
     "output_type": "execute_result"
    }
   ],
   "source": [
    "print('loglog data halves with whole gen extreme, t, normal')\n",
    "#%matplotlib tk\n",
    "domain = np.linspace(mu_log, max(abs(logR)), 1000)\n",
    "plt.figure()\n",
    "plt.loglog(sortedPosiR, 1 - (range(1, sortedPosiR.count() + 1))/(sortedPosiR.count() + 1), '+b')\n",
    "plt.loglog(sortedNegaR, 1 - (range(1, sortedNegaR.count() + 1))/(sortedNegaR.count() + 1), 'xr')\n",
    "plt.loglog(domain, 1 - (stats.genextreme.cdf(domain, c =gen_para[0] , loc = gen_para[1], scale = gen_para[2]) - 0.357 + 0.012 ) * 2, 'm')\n",
    "plt.loglog(domain, 1 - (stats.t.cdf(domain, df = t_para[0] , loc = t_para[1], scale = t_para[2]) - 0.544  ) * 2, '--b')\n",
    "plt.loglog(domain, 1 - (stats.norm.cdf(domain, mu_log, sigma_log) - 0.486 + 0.012 ) * 2, 'y')\n",
    "plt.title('posi nega data with parametric distibutinos')\n",
    "plt.legend(['posi lreturn', 'nega lreturn', 'gen', 't','normal'])\n",
    "plt.ylim([1e-4, 1.2])"
   ]
  },
  {
   "cell_type": "code",
   "execution_count": 41,
   "metadata": {},
   "outputs": [
    {
     "name": "stdout",
     "output_type": "stream",
     "text": [
      "pdf of three whole set fitted distribution\n"
     ]
    },
    {
     "data": {
      "text/plain": [
       "[<matplotlib.lines.Line2D at 0x7f66696d9400>]"
      ]
     },
     "execution_count": 41,
     "metadata": {},
     "output_type": "execute_result"
    }
   ],
   "source": [
    "print('pdf of three whole set fitted distribution')\n",
    "plt.figure()\n",
    "plt.plot(domain, (stats.genextreme.pdf(domain, c =gen_para[0] , loc = gen_para[1], scale = gen_para[2])) * 2, 'm')\n",
    "plt.plot(domain, (stats.t.pdf(domain, df = t_para[0] , loc = t_para[1], scale = t_para[2])) * 2, '--b')\n",
    "plt.plot(domain, (stats.norm.pdf(domain, mu_log, sigma_log)) * 2, 'y')"
   ]
  },
  {
   "cell_type": "code",
   "execution_count": 42,
   "metadata": {},
   "outputs": [
    {
     "name": "stdout",
     "output_type": "stream",
     "text": [
      "histgram of whole set plotted with whole set fitted gen extreme, t, normal\n"
     ]
    },
    {
     "data": {
      "text/plain": [
       "<matplotlib.legend.Legend at 0x7f6669421358>"
      ]
     },
     "execution_count": 42,
     "metadata": {},
     "output_type": "execute_result"
    }
   ],
   "source": [
    "print('histgram of whole set plotted with whole set fitted gen extreme, t, normal')\n",
    "#%matplotlib inline\n",
    "#%matplotlib qt\n",
    "numbins = int(60) \n",
    "logR.hist(bins = numbins, normed=True)\n",
    "\n",
    "\n",
    "mu_log = np.mean(logR)\n",
    "sigma_log = np.std(logR)\n",
    "x_ticks = np.linspace(min(logR), max(logR),100)\n",
    "plt.plot(x_ticks, 1./((2.*np.pi)**0.5 *sigma_log)*np.exp(-((x_ticks - mu_log)/sigma_log)**2/2), 'r', alpha = 0.4)\n",
    "plt.plot(x_ticks, (stats.genextreme.pdf(x_ticks, c =gen_para[0] , loc = gen_para[1], scale = gen_para[2])), 'm', alpha = 0.4)\n",
    "plt.plot(x_ticks, (stats.t.pdf(x_ticks, df = t_para[0] , loc = t_para[1], scale = t_para[2])), '--b', alpha = 0.5)\n",
    "#plt.plot(logR_grid, pdf, '--r')\n",
    "plt.legend(['normal', 'gen extreme', 't', 'hist log return'])"
   ]
  },
  {
   "cell_type": "code",
   "execution_count": 43,
   "metadata": {},
   "outputs": [
    {
     "name": "stdout",
     "output_type": "stream",
     "text": [
      "loglog halves with whole_gen_extreme and gen_pareto and normal\n"
     ]
    },
    {
     "data": {
      "text/plain": [
       "(0.0004, 1.05)"
      ]
     },
     "execution_count": 43,
     "metadata": {},
     "output_type": "execute_result"
    }
   ],
   "source": [
    "print('loglog halves with whole_gen_extreme and gen_pareto and normal')\n",
    "plt.figure()\n",
    "domain = np.linspace(max(abs(logR))/1000, max(abs(logR)), 1000)\n",
    "plt.loglog(sortedPosiR, 1 - (range(1, sortedPosiR.count() + 1))/(sortedPosiR.count() + 1), '+b', alpha = 0.5)\n",
    "plt.loglog(sortedNegaR, 1 - (range(1, sortedNegaR.count() + 1))/(sortedNegaR.count() + 1), 'xr', alpha = 0.5)\n",
    "plt.loglog(domain, 1 - (stats.genextreme.cdf(domain, c =gen_para[0] , loc = gen_para[1], scale = gen_para[2]) - 0.365 + 0.012) * 2, 'm')\n",
    "plt.loglog(domain, 1 - (stats.genpareto.cdf(domain, c =posi_gen_para[0] , loc = posi_gen_para[1], scale = posi_gen_para[2])), '--b')\n",
    "plt.loglog(domain, 1 - (stats.genpareto.cdf(domain, c =nega_gen_para[0] , loc = nega_gen_para[1], scale = nega_gen_para[2])), '--r')\n",
    "plt.loglog(domain, 1 - (stats.norm.cdf(domain, mu_log, sigma_log) - 0.5 + 0.012) * 2, 'y')\n",
    "plt.title('tail genextreme, genpareto positive and negative, normal')\n",
    "plt.legend(['posi data', 'nega data', 'genextreme whole set', 'genpareto posi', 'genpareto nega', 'normal'], loc = 3)\n",
    "plt.ylim([4e-4, 1.05])"
   ]
  },
  {
   "cell_type": "code",
   "execution_count": 44,
   "metadata": {},
   "outputs": [
    {
     "data": {
      "text/plain": [
       "(0.28568260574688875, -5.170894848096893e-11, 0.026269242669344807)"
      ]
     },
     "execution_count": 44,
     "metadata": {},
     "output_type": "execute_result"
    }
   ],
   "source": [
    "nega_gen_para"
   ]
  },
  {
   "cell_type": "code",
   "execution_count": 45,
   "metadata": {},
   "outputs": [
    {
     "data": {
      "text/plain": [
       "(0.40798454909670245, 0.00011950982293544837, 0.030437897578615473)"
      ]
     },
     "execution_count": 45,
     "metadata": {},
     "output_type": "execute_result"
    }
   ],
   "source": [
    "posi_gen_para"
   ]
  },
  {
   "cell_type": "code",
   "execution_count": 46,
   "metadata": {},
   "outputs": [
    {
     "name": "stdout",
     "output_type": "stream",
     "text": [
      "loglog halves with whole_t and mirror_fitted_t and normal\n"
     ]
    },
    {
     "data": {
      "text/plain": [
       "(0.0001, 1.05)"
      ]
     },
     "execution_count": 46,
     "metadata": {},
     "output_type": "execute_result"
    }
   ],
   "source": [
    "print('loglog halves with whole_t and mirror_fitted_t and normal')\n",
    "\n",
    "#%matplotlib tk\n",
    "plt.figure()\n",
    "domain = np.linspace(max(abs(logR))/1000, max(abs(logR)), 1000)\n",
    "plt.loglog(sortedPosiR, 1 - (range(1, sortedPosiR.count() + 1))/(sortedPosiR.count() + 1), '+b', alpha = 0.5)\n",
    "plt.loglog(sortedNegaR, 1 - (range(1, sortedNegaR.count() + 1))/(sortedNegaR.count() + 1), 'xr', alpha = 0.5)\n",
    "plt.loglog(domain, 1 - (stats.t.cdf(domain, df =t_para[0] , loc = t_para[1], scale = t_para[2]) - 0.544) * 2, 'm')\n",
    "plt.loglog(domain, 1 - (stats.t.cdf(domain, df =posi_t_para[0] , loc = posi_t_para[1], scale = posi_t_para[2]) - 0.5) * 2, '--b')\n",
    "plt.loglog(domain, 1 - (stats.t.cdf(domain, df =nega_t_para[0] , loc = nega_t_para[1], scale = nega_t_para[2]) - 0.5) * 2, '--r')\n",
    "\n",
    "plt.loglog(domain, 1 - (stats.norm.cdf(domain, mu_log, sigma_log) - 0.486) * 2, 'y')\n",
    "plt.title('compare t fited with whole set with fited with mirrored halves')\n",
    "plt.legend(['posi data', 'nega data', 't whole set', 't posi', 't nega', 'normal'])\n",
    "plt.ylim([1e-4, 1.05])"
   ]
  },
  {
   "cell_type": "code",
   "execution_count": 47,
   "metadata": {},
   "outputs": [
    {
     "name": "stdout",
     "output_type": "stream",
     "text": [
      "histgram of whole set plotted with whole set fitted t and mirror_fitted_t\n"
     ]
    },
    {
     "data": {
      "text/plain": [
       "<matplotlib.legend.Legend at 0x7f6668f20d68>"
      ]
     },
     "execution_count": 47,
     "metadata": {},
     "output_type": "execute_result"
    }
   ],
   "source": [
    "print('histgram of whole set plotted with whole set fitted t and mirror_fitted_t')\n",
    "\n",
    "numbins = int(60) \n",
    "logR.hist(bins = numbins, normed=True, alpha = 0.5)\n",
    "plt.plot(domain, (stats.t.pdf(domain, df = nega_t_para[0] , loc = nega_t_para[1], scale = nega_t_para[2])), '--g')\n",
    "plt.plot(domain, (stats.t.pdf(domain, df = posi_t_para[0] , loc = posi_t_para[1], scale = posi_t_para[2])), '--b')\n",
    "plt.plot(domain, (stats.t.pdf(domain, df = t_para[0] , loc = t_para[1], scale = t_para[2])), 'r', )\n",
    "\n",
    "plt.legend(['negetive_t', 'positive_t', 'whole set t', 'hist log return'])"
   ]
  },
  {
   "cell_type": "code",
   "execution_count": 48,
   "metadata": {},
   "outputs": [
    {
     "name": "stdout",
     "output_type": "stream",
     "text": [
      "histgram of whole set plotted with halves fitted gen pareto\n"
     ]
    },
    {
     "data": {
      "text/plain": [
       "<matplotlib.legend.Legend at 0x7f6668ebc828>"
      ]
     },
     "execution_count": 48,
     "metadata": {},
     "output_type": "execute_result"
    }
   ],
   "source": [
    "print('histgram of whole set plotted with halves fitted gen pareto')\n",
    "\n",
    "numbins = int(60) \n",
    "logR.hist(bins = numbins, normed=True, alpha = 0.5)\n",
    "x_ticks = np.linspace(min(logR), max(abs(logR)),1000)\n",
    "plt.plot(domain, 0.5 *(stats.genpareto.pdf(domain, c =posi_gen_para[0] , loc = posi_gen_para[1], scale = posi_gen_para[2])), '--b')\n",
    "plt.plot(-domain, 0.5 *(stats.genpareto.pdf(domain, c =nega_gen_para[0] , loc = nega_gen_para[1], scale = nega_gen_para[2])), '--r')\n",
    "plt.plot(x_ticks, (stats.norm.pdf(x_ticks, mu_log, sigma_log)), 'y')\n",
    "\n",
    "plt.legend(['positive gen pareto', 'negative gen pareto', 'naomal', 'hist log return'])"
   ]
  },
  {
   "cell_type": "code",
   "execution_count": 49,
   "metadata": {},
   "outputs": [
    {
     "name": "stdout",
     "output_type": "stream",
     "text": [
      "histgram of whole set plotted with whole set fitted t, mirror_fitted_t, and halves with gen pareto\n"
     ]
    },
    {
     "data": {
      "text/plain": [
       "<matplotlib.legend.Legend at 0x7f6668d83d68>"
      ]
     },
     "execution_count": 49,
     "metadata": {},
     "output_type": "execute_result"
    }
   ],
   "source": [
    "print('histgram of whole set plotted with whole set fitted t, mirror_fitted_t, and halves with gen pareto')\n",
    "\n",
    "numbins = int(60) \n",
    "logR.hist(bins = numbins, normed=True, alpha = 0.5)\n",
    "x_ticks = np.linspace(min(logR), max(abs(logR)),1000)\n",
    "plt.plot(x_ticks, (stats.t.pdf(x_ticks, df = nega_t_para[0] , loc = nega_t_para[1], scale = nega_t_para[2])), '--g')\n",
    "plt.plot(x_ticks, (stats.t.pdf(x_ticks, df = posi_t_para[0] , loc = posi_t_para[1], scale = posi_t_para[2])), '--b')\n",
    "plt.plot(x_ticks, (stats.t.pdf(x_ticks, df = t_para[0] , loc = t_para[1], scale = t_para[2])), 'r', )\n",
    "#plt.plot(logR_grid, pdf, '--r')\n",
    "plt.plot(domain, 0.5 *(stats.genpareto.pdf(domain, c =posi_gen_para[0] , loc = posi_gen_para[1], scale = posi_gen_para[2])), '--m')\n",
    "plt.plot(-domain, 0.5 *(stats.genpareto.pdf(domain, c =nega_gen_para[0] , loc = nega_gen_para[1], scale = nega_gen_para[2])), '--k')\n",
    "plt.legend(['negetive_t', 'positive_t', 'whole set t', 'posi gen', 'negative gen', 'hist log return'])\n"
   ]
  },
  {
   "cell_type": "code",
   "execution_count": 50,
   "metadata": {},
   "outputs": [],
   "source": [
    "#what is this magical * 2 thing? Should I do it for all the fitted distribution for the whole set of data while plot with \n",
    "#halves? why distribution fitted with halves match worse than fitted with whole? Data points? still 2000+\n",
    "#lay out of report"
   ]
  },
  {
   "cell_type": "code",
   "execution_count": 51,
   "metadata": {},
   "outputs": [
    {
     "name": "stdout",
     "output_type": "stream",
     "text": [
      "{'bandwidth': 0.02}\n"
     ]
    }
   ],
   "source": [
    "grid = GridSearchCV(KernelDensity(),\n",
    "                    {'bandwidth': np.linspace(0.0001, 0.02, 500)},\n",
    "                    cv=10) \n",
    "grid.fit(logR[:, None])\n",
    "kde = grid.best_estimator_\n",
    "print (grid.best_params_)"
   ]
  },
  {
   "cell_type": "code",
   "execution_count": 52,
   "metadata": {},
   "outputs": [],
   "source": [
    "logR_grid = np.linspace(min(logR) - 0.05, max(logR) + 0.05, 1000)\n",
    "pdf = np.exp(kde.score_samples(logR_grid[:, None]))"
   ]
  },
  {
   "cell_type": "code",
   "execution_count": 53,
   "metadata": {},
   "outputs": [
    {
     "data": {
      "text/plain": [
       "[<matplotlib.lines.Line2D at 0x7f6668e6d518>]"
      ]
     },
     "execution_count": 53,
     "metadata": {},
     "output_type": "execute_result"
    }
   ],
   "source": [
    "#%matplotlib tk\n",
    "pdf_002 = pdf\n",
    "numbins = int(60) \n",
    "logR.hist(bins = numbins, normed=True)\n",
    "plt.plot(logR_grid, pdf_002)"
   ]
  },
  {
   "cell_type": "code",
   "execution_count": null,
   "metadata": {},
   "outputs": [],
   "source": []
  }
 ],
 "metadata": {
  "kernelspec": {
   "display_name": "Python 3",
   "language": "python",
   "name": "python3"
  },
  "language_info": {
   "codemirror_mode": {
    "name": "ipython",
    "version": 3
   },
   "file_extension": ".py",
   "mimetype": "text/x-python",
   "name": "python",
   "nbconvert_exporter": "python",
   "pygments_lexer": "ipython3",
   "version": "3.6.3"
  }
 },
 "nbformat": 4,
 "nbformat_minor": 2
}
