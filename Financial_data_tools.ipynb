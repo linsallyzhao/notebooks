{
 "cells": [
  {
   "cell_type": "code",
   "execution_count": 1,
   "metadata": {},
   "outputs": [
    {
     "name": "stderr",
     "output_type": "stream",
     "text": [
      "/home/lin/.pyenv/versions/3.6.3/lib/python3.6/site-packages/statsmodels/compat/pandas.py:56: FutureWarning: The pandas.core.datetools module is deprecated and will be removed in a future version. Please use the pandas.tseries module instead.\n",
      "  from pandas.core import datetools\n",
      "/home/lin/.pyenv/versions/3.6.3/lib/python3.6/site-packages/sklearn/cross_validation.py:41: DeprecationWarning: This module was deprecated in version 0.18 in favor of the model_selection module into which all the refactored classes and functions are moved. Also note that the interface of the new CV iterators are different from that of this module. This module will be removed in 0.20.\n",
      "  \"This module will be removed in 0.20.\", DeprecationWarning)\n",
      "/home/lin/.pyenv/versions/3.6.3/lib/python3.6/site-packages/sklearn/grid_search.py:42: DeprecationWarning: This module was deprecated in version 0.18 in favor of the model_selection module into which all the refactored classes and functions are moved. This module will be removed in 0.20.\n",
      "  DeprecationWarning)\n"
     ]
    }
   ],
   "source": [
    "import numpy as np\n",
    "import pandas as pd\n",
    "import matplotlib.pyplot as plt\n",
    "from statsmodels.tsa.stattools import adfuller\n",
    "import scipy.stats as stats\n",
    "import statsmodels.graphics.gofplots as sgg\n",
    "from sklearn.grid_search import GridSearchCV\n",
    "from sklearn.neighbors import KernelDensity\n",
    "#%matplotlib inline\n",
    "%matplotlib tk"
   ]
  },
  {
   "cell_type": "code",
   "execution_count": 2,
   "metadata": {},
   "outputs": [],
   "source": [
    "my_data = pd.read_csv('/home/lin/教材/Financial_data/data/finance_M4/my_fx_data', header = None, usecols = [1], names = ['price'])"
   ]
  },
  {
   "cell_type": "code",
   "execution_count": 3,
   "metadata": {
    "scrolled": true
   },
   "outputs": [
    {
     "data": {
      "text/html": [
       "<div>\n",
       "<style scoped>\n",
       "    .dataframe tbody tr th:only-of-type {\n",
       "        vertical-align: middle;\n",
       "    }\n",
       "\n",
       "    .dataframe tbody tr th {\n",
       "        vertical-align: top;\n",
       "    }\n",
       "\n",
       "    .dataframe thead th {\n",
       "        text-align: right;\n",
       "    }\n",
       "</style>\n",
       "<table border=\"1\" class=\"dataframe\">\n",
       "  <thead>\n",
       "    <tr style=\"text-align: right;\">\n",
       "      <th></th>\n",
       "      <th>price</th>\n",
       "    </tr>\n",
       "  </thead>\n",
       "  <tbody>\n",
       "    <tr>\n",
       "      <th>0</th>\n",
       "      <td>4915.1</td>\n",
       "    </tr>\n",
       "    <tr>\n",
       "      <th>1</th>\n",
       "      <td>4867.6</td>\n",
       "    </tr>\n",
       "    <tr>\n",
       "      <th>2</th>\n",
       "      <td>4679.8</td>\n",
       "    </tr>\n",
       "    <tr>\n",
       "      <th>3</th>\n",
       "      <td>4595.8</td>\n",
       "    </tr>\n",
       "    <tr>\n",
       "      <th>4</th>\n",
       "      <td>4609.2</td>\n",
       "    </tr>\n",
       "  </tbody>\n",
       "</table>\n",
       "</div>"
      ],
      "text/plain": [
       "    price\n",
       "0  4915.1\n",
       "1  4867.6\n",
       "2  4679.8\n",
       "3  4595.8\n",
       "4  4609.2"
      ]
     },
     "execution_count": 3,
     "metadata": {},
     "output_type": "execute_result"
    }
   ],
   "source": [
    "my_data.head()"
   ]
  },
  {
   "cell_type": "code",
   "execution_count": 4,
   "metadata": {},
   "outputs": [
    {
     "data": {
      "text/html": [
       "<div>\n",
       "<style scoped>\n",
       "    .dataframe tbody tr th:only-of-type {\n",
       "        vertical-align: middle;\n",
       "    }\n",
       "\n",
       "    .dataframe tbody tr th {\n",
       "        vertical-align: top;\n",
       "    }\n",
       "\n",
       "    .dataframe thead th {\n",
       "        text-align: right;\n",
       "    }\n",
       "</style>\n",
       "<table border=\"1\" class=\"dataframe\">\n",
       "  <thead>\n",
       "    <tr style=\"text-align: right;\">\n",
       "      <th></th>\n",
       "      <th>price</th>\n",
       "    </tr>\n",
       "  </thead>\n",
       "  <tbody>\n",
       "    <tr>\n",
       "      <th>count</th>\n",
       "      <td>4197.000000</td>\n",
       "    </tr>\n",
       "    <tr>\n",
       "      <th>mean</th>\n",
       "      <td>8665.180105</td>\n",
       "    </tr>\n",
       "    <tr>\n",
       "      <th>std</th>\n",
       "      <td>2891.102233</td>\n",
       "    </tr>\n",
       "    <tr>\n",
       "      <th>min</th>\n",
       "      <td>3613.400000</td>\n",
       "    </tr>\n",
       "    <tr>\n",
       "      <th>25%</th>\n",
       "      <td>5867.900000</td>\n",
       "    </tr>\n",
       "    <tr>\n",
       "      <th>50%</th>\n",
       "      <td>8626.700000</td>\n",
       "    </tr>\n",
       "    <tr>\n",
       "      <th>75%</th>\n",
       "      <td>10569.800000</td>\n",
       "    </tr>\n",
       "    <tr>\n",
       "      <th>max</th>\n",
       "      <td>15178.000000</td>\n",
       "    </tr>\n",
       "  </tbody>\n",
       "</table>\n",
       "</div>"
      ],
      "text/plain": [
       "              price\n",
       "count   4197.000000\n",
       "mean    8665.180105\n",
       "std     2891.102233\n",
       "min     3613.400000\n",
       "25%     5867.900000\n",
       "50%     8626.700000\n",
       "75%    10569.800000\n",
       "max    15178.000000"
      ]
     },
     "execution_count": 4,
     "metadata": {},
     "output_type": "execute_result"
    }
   ],
   "source": [
    "my_data.describe()"
   ]
  },
  {
   "cell_type": "code",
   "execution_count": 154,
   "metadata": {},
   "outputs": [
    {
     "name": "stdout",
     "output_type": "stream",
     "text": [
      "plot raw data\n"
     ]
    },
    {
     "data": {
      "text/plain": [
       "<matplotlib.axes._subplots.AxesSubplot at 0x7f1b1a75eb38>"
      ]
     },
     "execution_count": 154,
     "metadata": {},
     "output_type": "execute_result"
    }
   ],
   "source": [
    "print('plot raw data')\n",
    "%matplotlib tk\n",
    "my_data.plot(linewidth = 0.4)"
   ]
  },
  {
   "cell_type": "code",
   "execution_count": 9,
   "metadata": {},
   "outputs": [
    {
     "data": {
      "text/html": [
       "<div>\n",
       "<style scoped>\n",
       "    .dataframe tbody tr th:only-of-type {\n",
       "        vertical-align: middle;\n",
       "    }\n",
       "\n",
       "    .dataframe tbody tr th {\n",
       "        vertical-align: top;\n",
       "    }\n",
       "\n",
       "    .dataframe thead th {\n",
       "        text-align: right;\n",
       "    }\n",
       "</style>\n",
       "<table border=\"1\" class=\"dataframe\">\n",
       "  <thead>\n",
       "    <tr style=\"text-align: right;\">\n",
       "      <th></th>\n",
       "      <th>price</th>\n",
       "    </tr>\n",
       "  </thead>\n",
       "  <tbody>\n",
       "    <tr>\n",
       "      <th>0</th>\n",
       "      <td>NaN</td>\n",
       "    </tr>\n",
       "    <tr>\n",
       "      <th>1</th>\n",
       "      <td>-0.009711</td>\n",
       "    </tr>\n",
       "    <tr>\n",
       "      <th>2</th>\n",
       "      <td>-0.039346</td>\n",
       "    </tr>\n",
       "    <tr>\n",
       "      <th>3</th>\n",
       "      <td>-0.018113</td>\n",
       "    </tr>\n",
       "    <tr>\n",
       "      <th>4</th>\n",
       "      <td>0.002911</td>\n",
       "    </tr>\n",
       "  </tbody>\n",
       "</table>\n",
       "</div>"
      ],
      "text/plain": [
       "      price\n",
       "0       NaN\n",
       "1 -0.009711\n",
       "2 -0.039346\n",
       "3 -0.018113\n",
       "4  0.002911"
      ]
     },
     "execution_count": 9,
     "metadata": {},
     "output_type": "execute_result"
    }
   ],
   "source": [
    "logR = np.log(my_data).diff()\n",
    "logR.head()"
   ]
  },
  {
   "cell_type": "code",
   "execution_count": 10,
   "metadata": {},
   "outputs": [
    {
     "data": {
      "text/plain": [
       "array([[        nan],\n",
       "       [-0.0097111 ],\n",
       "       [-0.03934563],\n",
       "       ...,\n",
       "       [ 0.00020826],\n",
       "       [ 0.00679489],\n",
       "       [ 0.00697432]])"
      ]
     },
     "execution_count": 10,
     "metadata": {},
     "output_type": "execute_result"
    }
   ],
   "source": [
    "logR.values"
   ]
  },
  {
   "cell_type": "code",
   "execution_count": 11,
   "metadata": {},
   "outputs": [],
   "source": [
    "logR.drop(logR.index[0], inplace = True)"
   ]
  },
  {
   "cell_type": "code",
   "execution_count": 186,
   "metadata": {},
   "outputs": [
    {
     "name": "stdout",
     "output_type": "stream",
     "text": [
      "plot log return\n"
     ]
    }
   ],
   "source": [
    "print('plot log return')\n",
    "\n",
    "#%matplotlib tk\n",
    "logR.plot(linewidth = 0.4)\n",
    "plt.legend(['log return'])\n",
    "plt.show()"
   ]
  },
  {
   "cell_type": "code",
   "execution_count": 13,
   "metadata": {},
   "outputs": [
    {
     "data": {
      "text/html": [
       "<div>\n",
       "<style scoped>\n",
       "    .dataframe tbody tr th:only-of-type {\n",
       "        vertical-align: middle;\n",
       "    }\n",
       "\n",
       "    .dataframe tbody tr th {\n",
       "        vertical-align: top;\n",
       "    }\n",
       "\n",
       "    .dataframe thead th {\n",
       "        text-align: right;\n",
       "    }\n",
       "</style>\n",
       "<table border=\"1\" class=\"dataframe\">\n",
       "  <thead>\n",
       "    <tr style=\"text-align: right;\">\n",
       "      <th></th>\n",
       "      <th>price</th>\n",
       "    </tr>\n",
       "  </thead>\n",
       "  <tbody>\n",
       "    <tr>\n",
       "      <th>count</th>\n",
       "      <td>4196.000000</td>\n",
       "    </tr>\n",
       "    <tr>\n",
       "      <th>mean</th>\n",
       "      <td>0.000267</td>\n",
       "    </tr>\n",
       "    <tr>\n",
       "      <th>std</th>\n",
       "      <td>0.012079</td>\n",
       "    </tr>\n",
       "    <tr>\n",
       "      <th>min</th>\n",
       "      <td>-0.149340</td>\n",
       "    </tr>\n",
       "    <tr>\n",
       "      <th>25%</th>\n",
       "      <td>-0.005606</td>\n",
       "    </tr>\n",
       "    <tr>\n",
       "      <th>50%</th>\n",
       "      <td>0.000742</td>\n",
       "    </tr>\n",
       "    <tr>\n",
       "      <th>75%</th>\n",
       "      <td>0.006732</td>\n",
       "    </tr>\n",
       "    <tr>\n",
       "      <th>max</th>\n",
       "      <td>0.060968</td>\n",
       "    </tr>\n",
       "  </tbody>\n",
       "</table>\n",
       "</div>"
      ],
      "text/plain": [
       "             price\n",
       "count  4196.000000\n",
       "mean      0.000267\n",
       "std       0.012079\n",
       "min      -0.149340\n",
       "25%      -0.005606\n",
       "50%       0.000742\n",
       "75%       0.006732\n",
       "max       0.060968"
      ]
     },
     "execution_count": 13,
     "metadata": {},
     "output_type": "execute_result"
    }
   ],
   "source": [
    "logR.describe()"
   ]
  },
  {
   "cell_type": "code",
   "execution_count": 14,
   "metadata": {},
   "outputs": [
    {
     "data": {
      "text/plain": [
       "-1.1502129828839347"
      ]
     },
     "execution_count": 14,
     "metadata": {},
     "output_type": "execute_result"
    }
   ],
   "source": [
    "stats.skew(logR['price'])"
   ]
  },
  {
   "cell_type": "code",
   "execution_count": 15,
   "metadata": {},
   "outputs": [
    {
     "data": {
      "text/plain": [
       "11.260451026283784"
      ]
     },
     "execution_count": 15,
     "metadata": {},
     "output_type": "execute_result"
    }
   ],
   "source": [
    "stats.kurtosis(logR['price'])"
   ]
  },
  {
   "cell_type": "code",
   "execution_count": 16,
   "metadata": {},
   "outputs": [
    {
     "data": {
      "text/plain": [
       "(-23.262701610140457,\n",
       " 0.0,\n",
       " 6,\n",
       " 4189,\n",
       " {'1%': -3.4319120223653132,\n",
       "  '10%': -2.5671374076308826,\n",
       "  '5%': -2.8622302155703507},\n",
       " -24993.19087817247)"
      ]
     },
     "execution_count": 16,
     "metadata": {},
     "output_type": "execute_result"
    }
   ],
   "source": [
    "adfuller(logR['price']) #test for stationary"
   ]
  },
  {
   "cell_type": "code",
   "execution_count": 17,
   "metadata": {},
   "outputs": [
    {
     "data": {
      "text/plain": [
       "AndersonResult(statistic=44.06294861250717, critical_values=array([0.575, 0.655, 0.786, 0.917, 1.091]), significance_level=array([15. , 10. ,  5. ,  2.5,  1. ]))"
      ]
     },
     "execution_count": 17,
     "metadata": {},
     "output_type": "execute_result"
    }
   ],
   "source": [
    "stats.anderson(logR['price']) #test for normal distribution"
   ]
  },
  {
   "cell_type": "code",
   "execution_count": 155,
   "metadata": {},
   "outputs": [
    {
     "name": "stdout",
     "output_type": "stream",
     "text": [
      "plot bin number score\n"
     ]
    },
    {
     "data": {
      "text/plain": [
       "<matplotlib.legend.Legend at 0x7f1b1ab28a90>"
      ]
     },
     "execution_count": 155,
     "metadata": {},
     "output_type": "execute_result"
    }
   ],
   "source": [
    "print('plot bin number score')\n",
    "numSmoothingFactor = 900\n",
    "#this guy should be a input to the optimized bin number function, it should also take nomalized data\n",
    "scores = np.zeros(numSmoothingFactor)\n",
    "binNums = range(1,numSmoothingFactor + 1)\n",
    "for binNum in binNums:\n",
    "    frequen, binEdges = np.histogram(logR, bins = binNum)\n",
    "    numObser = logR['price'].count().astype(float)\n",
    "    proEst = frequen / numObser\n",
    "    sumFreqSqua = np.sum(proEst ** 2)\n",
    "    score = ((2. * binNum) / ( numObser - 1.)) - (sumFreqSqua * (numObser + 1.) * binNum/ (numObser - 1.))\n",
    "    scores[binNum - 1] = score\n",
    "\n",
    "plt.plot(binNums, scores)\n",
    "plt.legend(['L^2 loss function'])"
   ]
  },
  {
   "cell_type": "code",
   "execution_count": 156,
   "metadata": {},
   "outputs": [
    {
     "name": "stdout",
     "output_type": "stream",
     "text": [
      "histgram and Gaussian\n"
     ]
    },
    {
     "data": {
      "text/plain": [
       "<matplotlib.legend.Legend at 0x7f1b1bbb9240>"
      ]
     },
     "execution_count": 156,
     "metadata": {},
     "output_type": "execute_result"
    }
   ],
   "source": [
    "print('histgram and Gaussian')\n",
    "numbins = int(60) \n",
    "logR.hist(bins = numbins, normed=True)\n",
    "\n",
    "\n",
    "mu_log = np.mean(logR['price'])\n",
    "sigma_log = np.std(logR['price'])\n",
    "x_ticks = np.linspace(min(logR['price']), max(logR['price']),100)\n",
    "plt.plot(x_ticks, 1./((2.*np.pi)**0.5 *sigma_log)*np.exp(-((x_ticks - mu_log)/sigma_log)**2/2), 'r', alpha = 0.4)\n",
    "plt.title('Histogram of log-retunrs and Gaussian with the same mean and variance')\n",
    "plt.legend(['normal', 'histgram'])"
   ]
  },
  {
   "cell_type": "code",
   "execution_count": 158,
   "metadata": {},
   "outputs": [
    {
     "name": "stdout",
     "output_type": "stream",
     "text": [
      "autocorrelations\n"
     ]
    }
   ],
   "source": [
    "print('autocorrelations')\n",
    "autocorr_logR = [logR['price'].autocorr(lag=_) for _ in range(1,252)]\n",
    "autocorr_abs_logR = [abs(logR['price']).autocorr(lag=_) for _ in range(1,252)]\n",
    "autocorr_sqLogR = [(logR['price'] ** 2).autocorr(lag=_) for _ in range(1,252)]\n",
    "plt.plot(range(1, 252),autocorr_logR, range(1, 252), autocorr_abs_logR, range(1, 252), autocorr_sqLogR, linewidth = 0.4)\n",
    "plt.title('Estimated autocorrelation vs. lag')\n",
    "plt.legend(['lot return', '|log return|', 'log return ^2'], loc = 1)\n",
    "plt.xlabel('lag')\n",
    "plt.ylabel('autocorrelation')\n",
    "plt.grid(True)"
   ]
  },
  {
   "cell_type": "code",
   "execution_count": 24,
   "metadata": {},
   "outputs": [],
   "source": [
    "posiR = logR[logR > 0].dropna()\n",
    "negaR = logR[logR <= 0].dropna()"
   ]
  },
  {
   "cell_type": "code",
   "execution_count": 25,
   "metadata": {},
   "outputs": [
    {
     "data": {
      "text/plain": [
       "array([ True])"
      ]
     },
     "execution_count": 25,
     "metadata": {},
     "output_type": "execute_result"
    }
   ],
   "source": [
    "np.unique(posiR > 0)"
   ]
  },
  {
   "cell_type": "code",
   "execution_count": 26,
   "metadata": {},
   "outputs": [
    {
     "data": {
      "text/plain": [
       "array([ True])"
      ]
     },
     "execution_count": 26,
     "metadata": {},
     "output_type": "execute_result"
    }
   ],
   "source": [
    "np.unique(negaR <= 0)"
   ]
  },
  {
   "cell_type": "code",
   "execution_count": 89,
   "metadata": {},
   "outputs": [],
   "source": [
    "sortedPosiR = posiR['price'].sort_values()\n",
    "sortedNegaR = (-negaR['price']).sort_values()\n",
    "mirrorNegative = sortedNegaR.append(-sortedNegaR)\n",
    "numObs = logR['price'].count()"
   ]
  },
  {
   "cell_type": "code",
   "execution_count": 137,
   "metadata": {},
   "outputs": [],
   "source": [
    "mirrorPosi = sortedPosiR.append(-sortedPosiR)"
   ]
  },
  {
   "cell_type": "code",
   "execution_count": 159,
   "metadata": {},
   "outputs": [
    {
     "name": "stdout",
     "output_type": "stream",
     "text": [
      "loglog data and Gaussion\n"
     ]
    }
   ],
   "source": [
    "print('loglog data and Gaussion')\n",
    "plt.loglog(sortedPosiR, 1 - (range(1, sortedPosiR.count() + 1))/(sortedPosiR.count() + 1), '+b')\n",
    "plt.loglog(sortedNegaR, 1 - (range(1, sortedNegaR.count() + 1))/(sortedNegaR.count() + 1), 'xr')\n",
    "domain = np.linspace(mu_log, max(abs(logR['price'])), 1000)\n",
    "plt.loglog(domain, 1 - (stats.norm.cdf(domain, mu_log, sigma_log) - 0.5) * 2, 'm')\n",
    "plt.ylim([1e-4, 1.05])\n",
    "plt.xlim([1e-5, 1])\n",
    "plt.legend(['pos return', 'nega return', 'normal'], loc = 3)\n",
    "plt.grid(True)"
   ]
  },
  {
   "cell_type": "code",
   "execution_count": 160,
   "metadata": {},
   "outputs": [
    {
     "name": "stdout",
     "output_type": "stream",
     "text": [
      "volatility of log return\n"
     ]
    },
    {
     "data": {
      "text/plain": [
       "<matplotlib.legend.Legend at 0x7f1b1a718fd0>"
      ]
     },
     "execution_count": 160,
     "metadata": {},
     "output_type": "execute_result"
    }
   ],
   "source": [
    "print('volatility of log return')\n",
    "window = 252\n",
    "cumlogR = logR['price'].cumsum()\n",
    "cumlogRSq = (logR['price'] ** 2).cumsum()\n",
    "sqRunAvg = (cumlogRSq[cumlogRSq.index[window :]].values - cumlogRSq[cumlogRSq.index[: cumlogRSq.count() - window]].values)/window\n",
    "RuningAvg = (cumlogR[cumlogR.index[window :]].values - cumlogR[cumlogR.index[: cumlogR.count() - window]].values)/window\n",
    "volatility = np.sqrt(sqRunAvg - RuningAvg ** 2)\n",
    "plt.figure()\n",
    "plt.plot(volatility)\n",
    "plt.legend(['volatility'])"
   ]
  },
  {
   "cell_type": "code",
   "execution_count": 165,
   "metadata": {},
   "outputs": [
    {
     "name": "stdout",
     "output_type": "stream",
     "text": [
      "qq fit whole set with Gaussian\n"
     ]
    }
   ],
   "source": [
    "print('qq fit whole set with Gaussian')\n",
    "normal_para = [mu_log, sigma_log]\n",
    "sgg.qqplot(logR['price'], stats.norm, fit = True, line = '45')\n",
    "plt.title('normal whole set')\n",
    "plt.xlim([-4, 4])\n",
    "plt.grid(True)"
   ]
  },
  {
   "cell_type": "code",
   "execution_count": 166,
   "metadata": {},
   "outputs": [
    {
     "name": "stdout",
     "output_type": "stream",
     "text": [
      "qq fit whole set with t\n"
     ]
    }
   ],
   "source": [
    "print('qq fit whole set with t')\n",
    "t_para = stats.t.fit(logR['price'], loc = mu_log, scale = sigma_log)\n",
    "loc, scale = t_para[1:]\n",
    "fake_distargs = (t_para[0],)\n",
    "sgg.qqplot(logR['price'], stats.t, fit = False, line = '45',distargs = fake_distargs, loc=loc, scale=scale)\n",
    "plt.title('t whole set')\n",
    "plt.grid(True)"
   ]
  },
  {
   "cell_type": "code",
   "execution_count": 167,
   "metadata": {},
   "outputs": [
    {
     "name": "stdout",
     "output_type": "stream",
     "text": [
      "qq fit mirrored positive with t\n"
     ]
    }
   ],
   "source": [
    "print('qq fit mirrored positive with t')\n",
    "posi_t_para = stats.t.fit(mirrorPosi)\n",
    "loc, scale = posi_t_para[1:]\n",
    "fake_distargs = (posi_t_para[0],)\n",
    "sgg.qqplot(logR['price'], stats.t, fit = False, line = '45',distargs = fake_distargs, loc=loc, scale=scale)\n",
    "plt.title ('t posi')\n",
    "plt.grid(True)"
   ]
  },
  {
   "cell_type": "code",
   "execution_count": 168,
   "metadata": {},
   "outputs": [
    {
     "name": "stdout",
     "output_type": "stream",
     "text": [
      "qq fit mirrored negative with t\n"
     ]
    }
   ],
   "source": [
    "print('qq fit mirrored negative with t')\n",
    "nega_t_para = stats.t.fit(mirrorNegative)\n",
    "loc, scale = nega_t_para[1:]\n",
    "fake_distargs = (nega_t_para[0],)\n",
    "sgg.qqplot(logR['price'], stats.t, fit = False, line = '45',distargs = fake_distargs, loc=loc, scale=scale)\n",
    "plt.title('t nega')\n",
    "plt.grid(True)"
   ]
  },
  {
   "cell_type": "code",
   "execution_count": 170,
   "metadata": {},
   "outputs": [
    {
     "name": "stdout",
     "output_type": "stream",
     "text": [
      "qq fit mirrored positive with gen extreme\n"
     ]
    }
   ],
   "source": [
    "print('qq fit whole set with gen extreme')\n",
    "gen_para = stats.genextreme.fit(logR['price'], loc = mu_log, scale = sigma_log)\n",
    "#gen_para = list(gen_para)\n",
    "#gen_para[0] = gen_para[0] * (-1)\n",
    "\n",
    "# it's this one\n",
    "\n",
    "loc, scale = gen_para[1:]\n",
    "fake_distargs = (gen_para[0],)\n",
    "\n",
    "pp = sgg.ProbPlot(logR['price'], dist=stats.genextreme, distargs=fake_distargs, fit=False, loc=loc, scale=scale)\n",
    "fig = pp.qqplot(line='45')\n",
    "plt.title('gen extreme whole set')\n",
    "plt.grid(True)"
   ]
  },
  {
   "cell_type": "code",
   "execution_count": 171,
   "metadata": {},
   "outputs": [
    {
     "name": "stdout",
     "output_type": "stream",
     "text": [
      "qq fit negative half with gen pareto\n"
     ]
    },
    {
     "name": "stderr",
     "output_type": "stream",
     "text": [
      "/home/lin/.pyenv/versions/3.6.3/lib/python3.6/site-packages/scipy/stats/_continuous_distns.py:2062: RuntimeWarning: divide by zero encountered in true_divide\n",
      "  val = val + cnk * (-1) ** ki / (1.0 - c * ki)\n",
      "/home/lin/.pyenv/versions/3.6.3/lib/python3.6/site-packages/scipy/stats/_distn_infrastructure.py:1037: RuntimeWarning: invalid value encountered in subtract\n",
      "  mu2 = mu2p - mu * mu\n",
      "/home/lin/.pyenv/versions/3.6.3/lib/python3.6/site-packages/scipy/stats/_distn_infrastructure.py:2306: RuntimeWarning: invalid value encountered in double_scalars\n",
      "  Lhat = muhat - Shat*mu\n"
     ]
    }
   ],
   "source": [
    "print('qq fit negative half with gen pareto')\n",
    "nega_gen_para = stats.genpareto.fit(sortedNegaR, loc = mu_log, scale = sigma_log)\n",
    "\n",
    "#gen_para = list(gen_para)\n",
    "#gen_para[0] = gen_para[0] * (-1)\n",
    "\n",
    "# it's this one\n",
    "\n",
    "loc, scale = nega_gen_para[1:]\n",
    "fake_distargs = (nega_gen_para[0],)\n",
    "\n",
    "pp = sgg.ProbPlot(sortedNegaR, dist=stats.genpareto, distargs=fake_distargs, fit=False, loc=loc, scale=scale)\n",
    "fig = pp.qqplot(line='45')\n",
    "plt.title('gen pareto whole set')\n",
    "plt.grid(True)"
   ]
  },
  {
   "cell_type": "code",
   "execution_count": 126,
   "metadata": {},
   "outputs": [
    {
     "data": {
      "text/plain": [
       "(0.06745991821862588, -1.1063684670825943e-10, 0.008160063901092524)"
      ]
     },
     "execution_count": 126,
     "metadata": {},
     "output_type": "execute_result"
    }
   ],
   "source": [
    "nega_gen_para"
   ]
  },
  {
   "cell_type": "code",
   "execution_count": 172,
   "metadata": {},
   "outputs": [
    {
     "name": "stdout",
     "output_type": "stream",
     "text": [
      "qq fit positive half with gen pareto\n"
     ]
    },
    {
     "name": "stderr",
     "output_type": "stream",
     "text": [
      "/home/lin/.pyenv/versions/3.6.3/lib/python3.6/site-packages/scipy/stats/_continuous_distns.py:2062: RuntimeWarning: divide by zero encountered in true_divide\n",
      "  val = val + cnk * (-1) ** ki / (1.0 - c * ki)\n",
      "/home/lin/.pyenv/versions/3.6.3/lib/python3.6/site-packages/scipy/stats/_distn_infrastructure.py:1037: RuntimeWarning: invalid value encountered in subtract\n",
      "  mu2 = mu2p - mu * mu\n",
      "/home/lin/.pyenv/versions/3.6.3/lib/python3.6/site-packages/scipy/stats/_distn_infrastructure.py:2306: RuntimeWarning: invalid value encountered in double_scalars\n",
      "  Lhat = muhat - Shat*mu\n"
     ]
    }
   ],
   "source": [
    "print('qq fit positive half with gen pareto')\n",
    "posi_gen_para = stats.genpareto.fit(sortedPosiR, loc = mu_log, scale = sigma_log)\n",
    "\n",
    "#gen_para = list(gen_para)\n",
    "#gen_para[0] = gen_para[0] * (-1)\n",
    "\n",
    "# it's this one\n",
    "\n",
    "loc, scale = posi_gen_para[1:]\n",
    "fake_distargs = (posi_gen_para[0],)\n",
    "\n",
    "pp = sgg.ProbPlot(sortedPosiR, dist=stats.genpareto, distargs=fake_distargs, fit=False, loc=loc, scale=scale)\n",
    "fig = pp.qqplot(line='45')\n",
    "plt.title('gen whole set')\n",
    "plt.grid(True)"
   ]
  },
  {
   "cell_type": "code",
   "execution_count": 127,
   "metadata": {},
   "outputs": [
    {
     "data": {
      "text/plain": [
       "(-0.08145170068265845, -5.4005132009578286e-05, 0.00892150742470711)"
      ]
     },
     "execution_count": 127,
     "metadata": {},
     "output_type": "execute_result"
    }
   ],
   "source": [
    "posi_gen_para"
   ]
  },
  {
   "cell_type": "code",
   "execution_count": 174,
   "metadata": {},
   "outputs": [
    {
     "name": "stdout",
     "output_type": "stream",
     "text": [
      "negative return, hist, fitted gen pareto and mirrored negative t\n"
     ]
    },
    {
     "data": {
      "text/plain": [
       "[<matplotlib.lines.Line2D at 0x7f1b1c57aa90>]"
      ]
     },
     "execution_count": 174,
     "metadata": {},
     "output_type": "execute_result"
    }
   ],
   "source": [
    "print('negative return, hist, fitted gen pareto and mirrored negative t')\n",
    "numbins = int(60) \n",
    "sortedNegaR.hist(bins = numbins, normed=True)\n",
    "x_ticks = np.linspace(min(sortedNegaR), max(sortedNegaR),100)\n",
    "plt.plot(x_ticks, stats.genpareto.pdf(x_ticks, c =nega_gen_para[0] , loc = nega_gen_para[1], scale = nega_gen_para[2]),'g', alpha = 0.4)\n",
    "plt.plot(x_ticks, stats.t.pdf(x_ticks, df =nega_t_para[0] , loc = nega_t_para[1], scale = nega_t_para[2]) * 2, 'r', alpha = 0.4)"
   ]
  },
  {
   "cell_type": "code",
   "execution_count": 67,
   "metadata": {},
   "outputs": [
    {
     "data": {
      "text/plain": [
       "[<matplotlib.lines.Line2D at 0x7f1b1c5886a0>]"
      ]
     },
     "execution_count": 67,
     "metadata": {},
     "output_type": "execute_result"
    },
    {
     "data": {
      "image/png": "[encoded data removed]",
      "text/plain": [
       "<matplotlib.figure.Figure at 0x7f1b1c588f60>"
      ]
     },
     "metadata": {},
     "output_type": "display_data"
    }
   ],
   "source": [
    "plt.plot(logR['price'].sort_values(), stats.genextreme.cdf(logR['price'].sort_values(), c =gen_para[0] , loc = gen_para[1], scale = gen_para[2]), linewidth = 0.4)\n",
    "plt.plot(logR['price'].sort_values(), stats.norm.cdf(logR['price'].sort_values(), mu_log, sigma_log), linewidth = 0.4)"
   ]
  },
  {
   "cell_type": "code",
   "execution_count": 175,
   "metadata": {},
   "outputs": [
    {
     "name": "stdout",
     "output_type": "stream",
     "text": [
      "loglog data halves with whole gen extreme, t, normal\n"
     ]
    },
    {
     "data": {
      "text/plain": [
       "(0.0001, 1.2)"
      ]
     },
     "execution_count": 175,
     "metadata": {},
     "output_type": "execute_result"
    }
   ],
   "source": [
    "print('loglog data halves with whole gen extreme, t, normal')\n",
    "%matplotlib tk\n",
    "domain = np.linspace(mu_log, max(abs(logR['price'])), 1000)\n",
    "plt.figure()\n",
    "plt.loglog(sortedPosiR, 1 - (range(1, sortedPosiR.count() + 1))/(sortedPosiR.count() + 1), '+b')\n",
    "plt.loglog(sortedNegaR, 1 - (range(1, sortedNegaR.count() + 1))/(sortedNegaR.count() + 1), 'xr')\n",
    "plt.loglog(domain, 1 - (stats.genextreme.cdf(domain, c =gen_para[0] , loc = gen_para[1], scale = gen_para[2]) - 0.485 + 0.012 ) * 2, 'm')\n",
    "plt.loglog(domain, 1 - (stats.t.cdf(domain, df = t_para[0] , loc = t_para[1], scale = t_para[2]) - 0.479 + 0.012 ) * 2, '--b')\n",
    "plt.loglog(domain, 1 - (stats.norm.cdf(domain, mu_log, sigma_log) - 0.5 + 0.012 ) * 2, 'y')\n",
    "plt.title('posi nega data with parametric distibutinos')\n",
    "plt.legend(['posi lreturn', 'nega lreturn', 'gen', 't','normal'])\n",
    "plt.ylim([1e-4, 1.2])"
   ]
  },
  {
   "cell_type": "code",
   "execution_count": 176,
   "metadata": {},
   "outputs": [
    {
     "name": "stdout",
     "output_type": "stream",
     "text": [
      "pdf of three whole set fitted distribution\n"
     ]
    },
    {
     "data": {
      "text/plain": [
       "[<matplotlib.lines.Line2D at 0x7f1b1be71198>]"
      ]
     },
     "execution_count": 176,
     "metadata": {},
     "output_type": "execute_result"
    }
   ],
   "source": [
    "print('pdf of three whole set fitted distribution')\n",
    "plt.figure()\n",
    "plt.plot(domain, (stats.genextreme.pdf(domain, c =gen_para[0] , loc = gen_para[1], scale = gen_para[2])) * 2, 'm')\n",
    "plt.plot(domain, (stats.t.pdf(domain, df = t_para[0] , loc = t_para[1], scale = t_para[2])) * 2, '--b')\n",
    "plt.plot(domain, (stats.norm.pdf(domain, mu_log, sigma_log)) * 2, 'y')"
   ]
  },
  {
   "cell_type": "code",
   "execution_count": 218,
   "metadata": {},
   "outputs": [
    {
     "name": "stdout",
     "output_type": "stream",
     "text": [
      "histgram of whole set plotted with whole set fitted gen extreme, t, normal\n"
     ]
    },
    {
     "data": {
      "text/plain": [
       "<matplotlib.legend.Legend at 0x7f1b17955240>"
      ]
     },
     "execution_count": 218,
     "metadata": {},
     "output_type": "execute_result"
    }
   ],
   "source": [
    "print('histgram of whole set plotted with whole set fitted gen extreme, t, normal')\n",
    "#%matplotlib inline\n",
    "#%matplotlib qt\n",
    "numbins = int(60) \n",
    "logR.hist(bins = numbins, normed=True)\n",
    "\n",
    "\n",
    "mu_log = np.mean(logR['price'])\n",
    "sigma_log = np.std(logR['price'])\n",
    "x_ticks = np.linspace(min(logR['price']), max(logR['price']),100)\n",
    "plt.plot(x_ticks, 1./((2.*np.pi)**0.5 *sigma_log)*np.exp(-((x_ticks - mu_log)/sigma_log)**2/2), 'r', alpha = 0.4)\n",
    "plt.plot(x_ticks, (stats.genextreme.pdf(x_ticks, c =gen_para[0] , loc = gen_para[1], scale = gen_para[2])), 'm', alpha = 0.4)\n",
    "plt.plot(x_ticks, (stats.t.pdf(x_ticks, df = t_para[0] , loc = t_para[1], scale = t_para[2])), '--b', alpha = 0.5)\n",
    "#plt.plot(logR_grid, pdf, '--r')\n",
    "plt.legend(['normal', 'gen extreme', 't', 'hist log return'])"
   ]
  },
  {
   "cell_type": "code",
   "execution_count": 212,
   "metadata": {},
   "outputs": [
    {
     "name": "stdout",
     "output_type": "stream",
     "text": [
      "loglog halves with whole_gen_extreme and gen_pareto and normal\n"
     ]
    },
    {
     "data": {
      "text/plain": [
       "(0.0004, 1.05)"
      ]
     },
     "execution_count": 212,
     "metadata": {},
     "output_type": "execute_result"
    }
   ],
   "source": [
    "print('loglog halves with whole_gen_extreme and gen_pareto and normal')\n",
    "plt.figure()\n",
    "domain = np.linspace(max(abs(logR['price']))/1000, max(abs(logR['price'])), 1000)\n",
    "plt.loglog(sortedPosiR, 1 - (range(1, sortedPosiR.count() + 1))/(sortedPosiR.count() + 1), '+b', alpha = 0.5)\n",
    "plt.loglog(sortedNegaR, 1 - (range(1, sortedNegaR.count() + 1))/(sortedNegaR.count() + 1), 'xr', alpha = 0.5)\n",
    "plt.loglog(domain, 1 - (stats.genextreme.cdf(domain, c =gen_para[0] , loc = gen_para[1], scale = gen_para[2]) - 0.48) * 2, 'm')\n",
    "plt.loglog(domain, 1 - (stats.genpareto.cdf(domain, c =posi_gen_para[0] , loc = posi_gen_para[1], scale = posi_gen_para[2])), '--b')\n",
    "plt.loglog(domain, 1 - (stats.genpareto.cdf(domain, c =nega_gen_para[0] , loc = nega_gen_para[1], scale = nega_gen_para[2])), '--r')\n",
    "plt.loglog(domain, 1 - (stats.norm.cdf(domain, mu_log, sigma_log) - 0.5) * 2, 'y')\n",
    "plt.title('tail genextreme, genpareto positive and negative, normal')\n",
    "plt.legend(['posi data', 'nega data', 'genextreme whole set', 'genpareto posi', 'genpareto nega', 'normal'], loc = 3)\n",
    "plt.ylim([4e-4, 1.05])"
   ]
  },
  {
   "cell_type": "code",
   "execution_count": 219,
   "metadata": {},
   "outputs": [
    {
     "name": "stdout",
     "output_type": "stream",
     "text": [
      "loglog halves with whole_t and mirror_fitted_t and normal\n"
     ]
    },
    {
     "data": {
      "text/plain": [
       "(0.0001, 1.05)"
      ]
     },
     "execution_count": 219,
     "metadata": {},
     "output_type": "execute_result"
    }
   ],
   "source": [
    "print('loglog halves with whole_t and mirror_fitted_t and normal')\n",
    "\n",
    "#%matplotlib tk\n",
    "plt.figure()\n",
    "domain = np.linspace(max(abs(logR['price']))/1000, max(abs(logR['price'])), 1000)\n",
    "plt.loglog(sortedPosiR, 1 - (range(1, sortedPosiR.count() + 1))/(sortedPosiR.count() + 1), '+b', alpha = 0.5)\n",
    "plt.loglog(sortedNegaR, 1 - (range(1, sortedNegaR.count() + 1))/(sortedNegaR.count() + 1), 'xr', alpha = 0.5)\n",
    "plt.loglog(domain, 1 - (stats.t.cdf(domain, df =t_para[0] , loc = t_para[1], scale = t_para[2]) - 0.48) * 2, 'm')\n",
    "plt.loglog(domain, 1 - (stats.t.cdf(domain, df =posi_t_para[0] , loc = posi_t_para[1], scale = posi_t_para[2]) - 0.5) * 2, '--b')\n",
    "plt.loglog(domain, 1 - (stats.t.cdf(domain, df =nega_t_para[0] , loc = nega_t_para[1], scale = nega_t_para[2]) - 0.5) * 2, '--r')\n",
    "\n",
    "plt.loglog(domain, 1 - (stats.norm.cdf(domain, mu_log, sigma_log) - 0.5) * 2, 'y')\n",
    "plt.title('compare t fited with whole set with fited with mirrored halves')\n",
    "plt.legend(['posi data', 'nega data', 't whole set', 't posi', 't nega', 'normal'])\n",
    "plt.ylim([1e-4, 1.05])"
   ]
  },
  {
   "cell_type": "code",
   "execution_count": 199,
   "metadata": {},
   "outputs": [
    {
     "name": "stdout",
     "output_type": "stream",
     "text": [
      "histgram of whole set plotted with whole set fitted tand mirror_fitted_t\n"
     ]
    },
    {
     "data": {
      "text/plain": [
       "<matplotlib.legend.Legend at 0x7f1b1925b128>"
      ]
     },
     "execution_count": 199,
     "metadata": {},
     "output_type": "execute_result"
    }
   ],
   "source": [
    "print('histgram of whole set plotted with whole set fitted t and mirror_fitted_t')\n",
    "\n",
    "numbins = int(60) \n",
    "logR.hist(bins = numbins, normed=True, alpha = 0.5)\n",
    "plt.plot(domain, (stats.t.pdf(domain, df = nega_t_para[0] , loc = nega_t_para[1], scale = nega_t_para[2])), '--g')\n",
    "plt.plot(domain, (stats.t.pdf(domain, df = posi_t_para[0] , loc = posi_t_para[1], scale = posi_t_para[2])), '--b')\n",
    "plt.plot(domain, (stats.t.pdf(domain, df = t_para[0] , loc = t_para[1], scale = t_para[2])), 'r', )\n",
    "#plt.plot(logR_grid, pdf, '--r')\n",
    "plt.legend(['negetive_t', 'positive_t', 'whole set t', 'hist log return'])"
   ]
  },
  {
   "cell_type": "code",
   "execution_count": 210,
   "metadata": {},
   "outputs": [
    {
     "name": "stdout",
     "output_type": "stream",
     "text": [
      "histgram of whole set plotted with halves fitted gen pareto\n"
     ]
    },
    {
     "data": {
      "text/plain": [
       "<matplotlib.legend.Legend at 0x7f1b18506550>"
      ]
     },
     "execution_count": 210,
     "metadata": {},
     "output_type": "execute_result"
    }
   ],
   "source": [
    "print('histgram of whole set plotted with halves fitted gen pareto')\n",
    "\n",
    "numbins = int(60) \n",
    "logR.hist(bins = numbins, normed=True, alpha = 0.5)\n",
    "x_ticks = np.linspace(min(logR['price']), max(abs(logR['price'])),1000)\n",
    "plt.plot(domain, 0.5 *(stats.genpareto.pdf(domain, c =posi_gen_para[0] , loc = posi_gen_para[1], scale = posi_gen_para[2])), '--b')\n",
    "plt.plot(-domain, 0.5 *(stats.genpareto.pdf(domain, c =nega_gen_para[0] , loc = nega_gen_para[1], scale = nega_gen_para[2])), '--r')\n",
    "plt.plot(x_ticks, (stats.norm.pdf(x_ticks, mu_log, sigma_log)), 'y')\n",
    "#plt.plot(logR_grid, pdf, '--r')\n",
    "plt.legend(['positive gen pareto', 'negative gen pareto', 'naomal', 'hist log return'])"
   ]
  },
  {
   "cell_type": "code",
   "execution_count": 211,
   "metadata": {},
   "outputs": [
    {
     "name": "stdout",
     "output_type": "stream",
     "text": [
      "histgram of whole set plotted with whole set fitted t, mirror_fitted_t, and halves with gen pareto\n"
     ]
    },
    {
     "data": {
      "text/plain": [
       "<matplotlib.legend.Legend at 0x7f1b18417e10>"
      ]
     },
     "execution_count": 211,
     "metadata": {},
     "output_type": "execute_result"
    }
   ],
   "source": [
    "print('histgram of whole set plotted with whole set fitted t, mirror_fitted_t, and halves with gen pareto')\n",
    "\n",
    "numbins = int(60) \n",
    "logR.hist(bins = numbins, normed=True, alpha = 0.5)\n",
    "x_ticks = np.linspace(min(logR['price']), max(abs(logR['price'])),1000)\n",
    "plt.plot(x_ticks, (stats.t.pdf(x_ticks, df = nega_t_para[0] , loc = nega_t_para[1], scale = nega_t_para[2])), '--g')\n",
    "plt.plot(x_ticks, (stats.t.pdf(x_ticks, df = posi_t_para[0] , loc = posi_t_para[1], scale = posi_t_para[2])), '--b')\n",
    "plt.plot(x_ticks, (stats.t.pdf(x_ticks, df = t_para[0] , loc = t_para[1], scale = t_para[2])), 'r', )\n",
    "#plt.plot(logR_grid, pdf, '--r')\n",
    "plt.plot(domain, 0.5 *(stats.genpareto.pdf(domain, c =posi_gen_para[0] , loc = posi_gen_para[1], scale = posi_gen_para[2])), '--m')\n",
    "plt.plot(-domain, 0.5 *(stats.genpareto.pdf(domain, c =nega_gen_para[0] , loc = nega_gen_para[1], scale = nega_gen_para[2])), '--k')\n",
    "plt.legend(['negetive_t', 'positive_t', 'whole set t', 'posi gen', 'negative gen', 'hist log return'])\n"
   ]
  },
  {
   "cell_type": "code",
   "execution_count": 41,
   "metadata": {},
   "outputs": [],
   "source": [
    "#what is this magical * 2 thing? Should I do it for all the fitted distribution for the whole set of data while plot with \n",
    "#halves? why distribution fitted with halves match worse than fitted with whole? Data points? still 2000+\n",
    "#lay out of report"
   ]
  },
  {
   "cell_type": "code",
   "execution_count": 215,
   "metadata": {},
   "outputs": [
    {
     "name": "stdout",
     "output_type": "stream",
     "text": [
      "{'bandwidth': 0.002}\n"
     ]
    }
   ],
   "source": [
    "grid = GridSearchCV(KernelDensity(),\n",
    "                    {'bandwidth': np.linspace(0.0001, 0.002, 50)},\n",
    "                    cv=10) \n",
    "grid.fit(logR['price'][:, None])\n",
    "kde = grid.best_estimator_\n",
    "print (grid.best_params_)"
   ]
  },
  {
   "cell_type": "code",
   "execution_count": 217,
   "metadata": {},
   "outputs": [
    {
     "data": {
      "text/plain": [
       "[<matplotlib.lines.Line2D at 0x7f1b17c88ba8>]"
      ]
     },
     "execution_count": 217,
     "metadata": {},
     "output_type": "execute_result"
    }
   ],
   "source": [
    "logR_grid = np.linspace(min(logR['price']) - 0.05, max(logR['price']) + 0.05, 1000)\n",
    "pdf = np.exp(kde.score_samples(logR_grid[:, None]))\n",
    "numbins = int(60) \n",
    "logR.hist(bins = numbins, normed=True)\n",
    "plt.plot(logR_grid, pdf)\n"
   ]
  },
  {
   "cell_type": "code",
   "execution_count": 44,
   "metadata": {},
   "outputs": [
    {
     "data": {
      "text/plain": [
       "'module://ipykernel.pylab.backend_inline'"
      ]
     },
     "execution_count": 44,
     "metadata": {},
     "output_type": "execute_result"
    }
   ],
   "source": [
    "plt.get_backend()"
   ]
  },
  {
   "cell_type": "code",
   "execution_count": null,
   "metadata": {},
   "outputs": [],
   "source": []
  }
 ],
 "metadata": {
  "kernelspec": {
   "display_name": "Python 3",
   "language": "python",
   "name": "python3"
  },
  "language_info": {
   "codemirror_mode": {
    "name": "ipython",
    "version": 3
   },
   "file_extension": ".py",
   "mimetype": "text/x-python",
   "name": "python",
   "nbconvert_exporter": "python",
   "pygments_lexer": "ipython3",
   "version": "3.6.3"
  }
 },
 "nbformat": 4,
 "nbformat_minor": 2
}
