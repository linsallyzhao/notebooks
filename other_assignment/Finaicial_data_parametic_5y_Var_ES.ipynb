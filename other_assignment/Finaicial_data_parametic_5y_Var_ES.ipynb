{
 "cells": [
  {
   "cell_type": "code",
   "execution_count": 1,
   "metadata": {},
   "outputs": [
    {
     "name": "stderr",
     "output_type": "stream",
     "text": [
      "/home/lin/.pyenv/versions/3.6.3/lib/python3.6/site-packages/statsmodels/compat/pandas.py:56: FutureWarning: The pandas.core.datetools module is deprecated and will be removed in a future version. Please use the pandas.tseries module instead.\n",
      "  from pandas.core import datetools\n",
      "/home/lin/.pyenv/versions/3.6.3/lib/python3.6/site-packages/sklearn/cross_validation.py:41: DeprecationWarning: This module was deprecated in version 0.18 in favor of the model_selection module into which all the refactored classes and functions are moved. Also note that the interface of the new CV iterators are different from that of this module. This module will be removed in 0.20.\n",
      "  \"This module will be removed in 0.20.\", DeprecationWarning)\n",
      "/home/lin/.pyenv/versions/3.6.3/lib/python3.6/site-packages/sklearn/grid_search.py:42: DeprecationWarning: This module was deprecated in version 0.18 in favor of the model_selection module into which all the refactored classes and functions are moved. This module will be removed in 0.20.\n",
      "  DeprecationWarning)\n"
     ]
    }
   ],
   "source": [
    "import numpy as np\n",
    "import pandas as pd\n",
    "import matplotlib.pyplot as plt\n",
    "from statsmodels.tsa.stattools import adfuller\n",
    "import scipy.stats as stats\n",
    "import scipy.integrate as integrate\n",
    "import statsmodels.graphics.gofplots as sgg\n",
    "from sklearn.grid_search import GridSearchCV\n",
    "from sklearn.neighbors import KernelDensity\n",
    "import matplotlib as mpl\n",
    "%matplotlib inline\n",
    "#%matplotlib tk"
   ]
  },
  {
   "cell_type": "code",
   "execution_count": 2,
   "metadata": {},
   "outputs": [],
   "source": [
    "my_data = pd.read_csv('/home/lin/教材/Financial_data/data/finance_M4/my_fx_data', header = None, usecols = [1], names = ['price'])"
   ]
  },
  {
   "cell_type": "code",
   "execution_count": 3,
   "metadata": {},
   "outputs": [
    {
     "data": {
      "text/html": [
       "<div>\n",
       "<style scoped>\n",
       "    .dataframe tbody tr th:only-of-type {\n",
       "        vertical-align: middle;\n",
       "    }\n",
       "\n",
       "    .dataframe tbody tr th {\n",
       "        vertical-align: top;\n",
       "    }\n",
       "\n",
       "    .dataframe thead th {\n",
       "        text-align: right;\n",
       "    }\n",
       "</style>\n",
       "<table border=\"1\" class=\"dataframe\">\n",
       "  <thead>\n",
       "    <tr style=\"text-align: right;\">\n",
       "      <th></th>\n",
       "      <th>price</th>\n",
       "    </tr>\n",
       "  </thead>\n",
       "  <tbody>\n",
       "    <tr>\n",
       "      <th>count</th>\n",
       "      <td>4196.000000</td>\n",
       "    </tr>\n",
       "    <tr>\n",
       "      <th>mean</th>\n",
       "      <td>0.000267</td>\n",
       "    </tr>\n",
       "    <tr>\n",
       "      <th>std</th>\n",
       "      <td>0.012079</td>\n",
       "    </tr>\n",
       "    <tr>\n",
       "      <th>min</th>\n",
       "      <td>-0.149340</td>\n",
       "    </tr>\n",
       "    <tr>\n",
       "      <th>25%</th>\n",
       "      <td>-0.005606</td>\n",
       "    </tr>\n",
       "    <tr>\n",
       "      <th>50%</th>\n",
       "      <td>0.000742</td>\n",
       "    </tr>\n",
       "    <tr>\n",
       "      <th>75%</th>\n",
       "      <td>0.006732</td>\n",
       "    </tr>\n",
       "    <tr>\n",
       "      <th>max</th>\n",
       "      <td>0.060968</td>\n",
       "    </tr>\n",
       "  </tbody>\n",
       "</table>\n",
       "</div>"
      ],
      "text/plain": [
       "             price\n",
       "count  4196.000000\n",
       "mean      0.000267\n",
       "std       0.012079\n",
       "min      -0.149340\n",
       "25%      -0.005606\n",
       "50%       0.000742\n",
       "75%       0.006732\n",
       "max       0.060968"
      ]
     },
     "execution_count": 3,
     "metadata": {},
     "output_type": "execute_result"
    }
   ],
   "source": [
    "logR = np.log(my_data).diff()\n",
    "logR.drop(logR.index[0], inplace = True)\n",
    "logR.describe()"
   ]
  },
  {
   "cell_type": "code",
   "execution_count": 4,
   "metadata": {},
   "outputs": [],
   "source": [
    "total_obs = logR['price'].count()"
   ]
  },
  {
   "cell_type": "code",
   "execution_count": 5,
   "metadata": {},
   "outputs": [],
   "source": [
    "start_test = int(1260)\n",
    "alpha_one = 0.95\n",
    "alpha_two = 0.99\n",
    "alpha_es = 0.975\n",
    "report_size = total_obs - start_test\n",
    "norm_var_ones = np.zeros(report_size)\n",
    "norm_var_twos = np.zeros(report_size)\n",
    "norm_ES = np.zeros(report_size)\n",
    "t_var_ones = np.zeros(report_size)\n",
    "t_var_twos = np.zeros(report_size)\n",
    "t_ES = np.zeros(report_size)\n",
    "HS_var_ones = np.zeros(report_size)\n",
    "HS_var_twos = np.zeros(report_size)\n",
    "HS_ES = np.zeros(report_size)\n",
    "\n",
    "\n",
    "for i in range(start_test, logR['price'].count()):\n",
    "    training_set = logR[i - start_test : i]\n",
    "    x_ticks = np.linspace(min(training_set['price']), max(abs(training_set['price'])),2000)\n",
    "    hs_prices = training_set['price'].sort_values()\n",
    "    negaR = training_set[training_set <= 0].dropna()\n",
    "    sortedNegaR = (-negaR['price']).sort_values()\n",
    "    mirrorNegative = sortedNegaR.append(-sortedNegaR)\n",
    "    mu_log = np.mean(training_set['price'])\n",
    "    sigma_log = np.std(training_set['price'])\n",
    "    nega_t_para = stats.t.fit(mirrorNegative)\n",
    "    norm_var_ones[i - start_test] = -(sigma_log * stats.norm.ppf(alpha_one) - mu_log)\n",
    "    norm_var_twos[i - start_test] = -(sigma_log * stats.norm.ppf(alpha_two) - mu_log)\n",
    "    norm_ES[i - start_test]  = -(sigma_log * stats.norm.pdf(stats.norm.ppf(alpha_es))/(1-alpha_es)- mu_log)\n",
    "    t_var_ones[i - start_test] = stats.t.ppf(1 - alpha_one, df = nega_t_para[0] , loc = nega_t_para[1], scale = nega_t_para[2])\n",
    "    t_var_twos[i - start_test] = stats.t.ppf(1 - alpha_two, df = nega_t_para[0] , loc = nega_t_para[1], scale = nega_t_para[2])\n",
    "    t_es_quantile = stats.t.ppf(1 - alpha_es, df = nega_t_para[0] , loc = nega_t_para[1], scale = nega_t_para[2])\n",
    "    domain_t = x_ticks[x_ticks <= t_es_quantile]\n",
    "    pdf_t = stats.t.pdf(domain_t, df = nega_t_para[0] , loc = nega_t_para[1], scale = nega_t_para[2])\n",
    "    to_integral = pdf_t * domain_t\n",
    "    t_ES[i - start_test] = integrate.trapz(to_integral, domain_t, dx = 0.01) / (1 - alpha_es)\n",
    "    \n",
    "    ind_var_one = int( hs_prices.size * (1-alpha_one))-1\n",
    "    ind_var_two = int( hs_prices.size * (1-alpha_two))-1\n",
    "    ind_es = int( hs_prices.size * (1-alpha_es))-1\n",
    "    HS_var_ones[i - start_test] = hs_prices.iloc[ind_var_one]\n",
    "    HS_var_twos[i - start_test] = hs_prices.iloc[ind_var_two]\n",
    "    HS_ES[i - start_test] = hs_prices.iloc[:ind_es+1].mean()"
   ]
  },
  {
   "cell_type": "code",
   "execution_count": 7,
   "metadata": {
    "scrolled": false
   },
   "outputs": [
    {
     "ename": "AttributeError",
     "evalue": "Unknown property fontsieze",
     "output_type": "error",
     "traceback": [
      "---------------------------------------------------------------------------",
      "AttributeError                            Traceback (most recent call last)",
      "<ipython-input-7-3fb2bf72e92b> in <module>()\n     10 plt.plot(HS_var_twos, 'g')\n     11 plt.plot(HS_ES, 'm')\n---> 12 plt.title('Risk measures estimated with 5Y moving window', fontsieze=20)\n     13 plt.xlabel('Time', fontsieze=18)\n     14 plt.ylabel('Log-return', fontsieze=18)\n",
      "~/.pyenv/versions/3.6.3/lib/python3.6/site-packages/matplotlib/pyplot.py in title(s, *args, **kwargs)\n   1425 \n   1426     \"\"\"\n-> 1427     return gca().set_title(s, *args, **kwargs)\n   1428 \n   1429 ## Axis ##\n",
      "~/.pyenv/versions/3.6.3/lib/python3.6/site-packages/matplotlib/axes/_axes.py in set_title(self, label, fontdict, loc, pad, **kwargs)\n    199         if fontdict is not None:\n    200             title.update(fontdict)\n--> 201         title.update(kwargs)\n    202         return title\n    203 \n",
      "~/.pyenv/versions/3.6.3/lib/python3.6/site-packages/matplotlib/text.py in update(self, kwargs)\n    183         sentinel = object()  # bbox can be None, so use another sentinel.\n    184         bbox = kwargs.pop(\"bbox\", sentinel)\n--> 185         super(Text, self).update(kwargs)\n    186         if bbox is not sentinel:\n    187             self.set_bbox(bbox)\n",
      "~/.pyenv/versions/3.6.3/lib/python3.6/site-packages/matplotlib/artist.py in update(self, props)\n    886         try:\n    887             ret = [_update_property(self, k, v)\n--> 888                    for k, v in props.items()]\n    889         finally:\n    890             self.eventson = store\n",
      "~/.pyenv/versions/3.6.3/lib/python3.6/site-packages/matplotlib/artist.py in <listcomp>(.0)\n    886         try:\n    887             ret = [_update_property(self, k, v)\n--> 888                    for k, v in props.items()]\n    889         finally:\n    890             self.eventson = store\n",
      "~/.pyenv/versions/3.6.3/lib/python3.6/site-packages/matplotlib/artist.py in _update_property(self, k, v)\n    879                 func = getattr(self, 'set_' + k, None)\n    880                 if not callable(func):\n--> 881                     raise AttributeError('Unknown property %s' % k)\n    882                 return func(v)\n    883 \n",
      "AttributeError: Unknown property fontsieze"
     ]
    }
   ],
   "source": [
    "%matplotlib tk\n",
    "plt.plot(logR[start_test:].values, 'r', linewidth = 0.5)\n",
    "plt.plot(norm_var_ones, '-.b')\n",
    "plt.plot(norm_var_twos, '-.g')\n",
    "plt.plot(norm_ES, '-.m')\n",
    "plt.plot(t_var_ones, '--b')\n",
    "plt.plot(t_var_twos, '--g')\n",
    "plt.plot(t_ES, '--m')\n",
    "plt.plot(HS_var_ones, 'b')\n",
    "plt.plot(HS_var_twos, 'g')\n",
    "plt.plot(HS_ES, 'm')\n",
    "plt.title('Risk measures estimated with 5Y moving window', fontsize=20)\n",
    "plt.xlabel('Time', fontsieze=18)\n",
    "plt.ylabel('Log-return', fontsieze=18)\n",
    "plt.legend(['log return', 'normal var 95%', 'normal var 99%', 'normal ES 97.5%', 't var 95%', 't var 99%', 't ES 97.5%', 'HS 95%', 'HS 99%', 'HS ES'], loc = 3)"
   ]
  },
  {
   "cell_type": "code",
   "execution_count": null,
   "metadata": {},
   "outputs": [],
   "source": []
  }
 ],
 "metadata": {
  "kernelspec": {
   "display_name": "Python 3",
   "language": "python",
   "name": "python3"
  },
  "language_info": {
   "codemirror_mode": {
    "name": "ipython",
    "version": 3
   },
   "file_extension": ".py",
   "mimetype": "text/x-python",
   "name": "python",
   "nbconvert_exporter": "python",
   "pygments_lexer": "ipython3",
   "version": "3.6.3"
  }
 },
 "nbformat": 4,
 "nbformat_minor": 2
}
