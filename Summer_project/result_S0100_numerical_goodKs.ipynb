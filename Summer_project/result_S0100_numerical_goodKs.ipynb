{
 "cells": [
  {
   "cell_type": "code",
   "execution_count": 1,
   "metadata": {},
   "outputs": [],
   "source": [
    "import numpy as np\n",
    "import pandas as pd\n",
    "import matplotlib.pyplot as plt\n",
    "from scipy.special import erf\n",
    "from scipy.stats import norm\n",
    "from mpl_toolkits.mplot3d import Axes3D\n",
    "%matplotlib inline\n",
    "#%matplotlib tk"
   ]
  },
  {
   "cell_type": "code",
   "execution_count": 534,
   "metadata": {},
   "outputs": [],
   "source": [
    "result = pd.read_csv(\"/home/lin/git/summerProject/S0100_numerical_goodKs\")"
   ]
  },
  {
   "cell_type": "code",
   "execution_count": 535,
   "metadata": {},
   "outputs": [
    {
     "data": {
      "text/html": [
       "<div>\n",
       "<style scoped>\n",
       "    .dataframe tbody tr th:only-of-type {\n",
       "        vertical-align: middle;\n",
       "    }\n",
       "\n",
       "    .dataframe tbody tr th {\n",
       "        vertical-align: top;\n",
       "    }\n",
       "\n",
       "    .dataframe thead th {\n",
       "        text-align: right;\n",
       "    }\n",
       "</style>\n",
       "<table border=\"1\" class=\"dataframe\">\n",
       "  <thead>\n",
       "    <tr style=\"text-align: right;\">\n",
       "      <th></th>\n",
       "      <th>time</th>\n",
       "      <th>iteration</th>\n",
       "      <th>pv</th>\n",
       "      <th>jac</th>\n",
       "      <th>lin_sys</th>\n",
       "      <th>e0</th>\n",
       "      <th>e*</th>\n",
       "      <th>Je</th>\n",
       "      <th>Dp</th>\n",
       "      <th>count</th>\n",
       "      <th>count2</th>\n",
       "      <th>count7</th>\n",
       "    </tr>\n",
       "  </thead>\n",
       "  <tbody>\n",
       "    <tr>\n",
       "      <th>count</th>\n",
       "      <td>1000.000000</td>\n",
       "      <td>1000.000000</td>\n",
       "      <td>1000.000000</td>\n",
       "      <td>1000.000000</td>\n",
       "      <td>1000.000000</td>\n",
       "      <td>1.000000e+03</td>\n",
       "      <td>1.000000e+03</td>\n",
       "      <td>1.000000e+03</td>\n",
       "      <td>1000.000000</td>\n",
       "      <td>1000.000000</td>\n",
       "      <td>1000.000000</td>\n",
       "      <td>1000.000000</td>\n",
       "    </tr>\n",
       "    <tr>\n",
       "      <th>mean</th>\n",
       "      <td>0.523195</td>\n",
       "      <td>33.835000</td>\n",
       "      <td>54.123000</td>\n",
       "      <td>3.861000</td>\n",
       "      <td>33.835000</td>\n",
       "      <td>3.331165e+09</td>\n",
       "      <td>2.178583e-07</td>\n",
       "      <td>2.191805e-04</td>\n",
       "      <td>0.011609</td>\n",
       "      <td>1.066000</td>\n",
       "      <td>0.064000</td>\n",
       "      <td>0.002000</td>\n",
       "    </tr>\n",
       "    <tr>\n",
       "      <th>std</th>\n",
       "      <td>0.669642</td>\n",
       "      <td>30.720507</td>\n",
       "      <td>45.578715</td>\n",
       "      <td>2.989082</td>\n",
       "      <td>30.720507</td>\n",
       "      <td>1.033005e+11</td>\n",
       "      <td>3.653453e-06</td>\n",
       "      <td>4.119327e-03</td>\n",
       "      <td>0.363885</td>\n",
       "      <td>0.660364</td>\n",
       "      <td>0.632696</td>\n",
       "      <td>0.044699</td>\n",
       "    </tr>\n",
       "    <tr>\n",
       "      <th>min</th>\n",
       "      <td>0.115288</td>\n",
       "      <td>8.000000</td>\n",
       "      <td>14.000000</td>\n",
       "      <td>1.000000</td>\n",
       "      <td>8.000000</td>\n",
       "      <td>4.289220e-04</td>\n",
       "      <td>2.047878e-16</td>\n",
       "      <td>9.815008e-11</td>\n",
       "      <td>0.000000</td>\n",
       "      <td>1.000000</td>\n",
       "      <td>0.000000</td>\n",
       "      <td>0.000000</td>\n",
       "    </tr>\n",
       "    <tr>\n",
       "      <th>25%</th>\n",
       "      <td>0.276738</td>\n",
       "      <td>20.000000</td>\n",
       "      <td>31.000000</td>\n",
       "      <td>2.000000</td>\n",
       "      <td>20.000000</td>\n",
       "      <td>5.676479e-02</td>\n",
       "      <td>3.499831e-12</td>\n",
       "      <td>5.842737e-06</td>\n",
       "      <td>0.000003</td>\n",
       "      <td>1.000000</td>\n",
       "      <td>0.000000</td>\n",
       "      <td>0.000000</td>\n",
       "    </tr>\n",
       "    <tr>\n",
       "      <th>50%</th>\n",
       "      <td>0.380937</td>\n",
       "      <td>26.000000</td>\n",
       "      <td>42.000000</td>\n",
       "      <td>3.000000</td>\n",
       "      <td>26.000000</td>\n",
       "      <td>1.560605e-01</td>\n",
       "      <td>1.823104e-11</td>\n",
       "      <td>1.304264e-05</td>\n",
       "      <td>0.000014</td>\n",
       "      <td>1.000000</td>\n",
       "      <td>0.000000</td>\n",
       "      <td>0.000000</td>\n",
       "    </tr>\n",
       "    <tr>\n",
       "      <th>75%</th>\n",
       "      <td>0.557786</td>\n",
       "      <td>38.250000</td>\n",
       "      <td>60.000000</td>\n",
       "      <td>4.000000</td>\n",
       "      <td>38.250000</td>\n",
       "      <td>6.169299e-01</td>\n",
       "      <td>5.387359e-11</td>\n",
       "      <td>3.318051e-05</td>\n",
       "      <td>0.000049</td>\n",
       "      <td>1.000000</td>\n",
       "      <td>0.000000</td>\n",
       "      <td>0.000000</td>\n",
       "    </tr>\n",
       "    <tr>\n",
       "      <th>max</th>\n",
       "      <td>12.154593</td>\n",
       "      <td>300.000000</td>\n",
       "      <td>456.000000</td>\n",
       "      <td>31.000000</td>\n",
       "      <td>300.000000</td>\n",
       "      <td>3.266230e+12</td>\n",
       "      <td>1.033219e-04</td>\n",
       "      <td>1.281911e-01</td>\n",
       "      <td>11.507144</td>\n",
       "      <td>19.000000</td>\n",
       "      <td>17.000000</td>\n",
       "      <td>1.000000</td>\n",
       "    </tr>\n",
       "  </tbody>\n",
       "</table>\n",
       "</div>"
      ],
      "text/plain": [
       "              time    iteration           pv          jac      lin_sys  \\\n",
       "count  1000.000000  1000.000000  1000.000000  1000.000000  1000.000000   \n",
       "mean      0.523195    33.835000    54.123000     3.861000    33.835000   \n",
       "std       0.669642    30.720507    45.578715     2.989082    30.720507   \n",
       "min       0.115288     8.000000    14.000000     1.000000     8.000000   \n",
       "25%       0.276738    20.000000    31.000000     2.000000    20.000000   \n",
       "50%       0.380937    26.000000    42.000000     3.000000    26.000000   \n",
       "75%       0.557786    38.250000    60.000000     4.000000    38.250000   \n",
       "max      12.154593   300.000000   456.000000    31.000000   300.000000   \n",
       "\n",
       "                 e0            e*            Je           Dp        count  \\\n",
       "count  1.000000e+03  1.000000e+03  1.000000e+03  1000.000000  1000.000000   \n",
       "mean   3.331165e+09  2.178583e-07  2.191805e-04     0.011609     1.066000   \n",
       "std    1.033005e+11  3.653453e-06  4.119327e-03     0.363885     0.660364   \n",
       "min    4.289220e-04  2.047878e-16  9.815008e-11     0.000000     1.000000   \n",
       "25%    5.676479e-02  3.499831e-12  5.842737e-06     0.000003     1.000000   \n",
       "50%    1.560605e-01  1.823104e-11  1.304264e-05     0.000014     1.000000   \n",
       "75%    6.169299e-01  5.387359e-11  3.318051e-05     0.000049     1.000000   \n",
       "max    3.266230e+12  1.033219e-04  1.281911e-01    11.507144    19.000000   \n",
       "\n",
       "            count2       count7  \n",
       "count  1000.000000  1000.000000  \n",
       "mean      0.064000     0.002000  \n",
       "std       0.632696     0.044699  \n",
       "min       0.000000     0.000000  \n",
       "25%       0.000000     0.000000  \n",
       "50%       0.000000     0.000000  \n",
       "75%       0.000000     0.000000  \n",
       "max      17.000000     1.000000  "
      ]
     },
     "execution_count": 535,
     "metadata": {},
     "output_type": "execute_result"
    }
   ],
   "source": [
    "result[['time', 'iteration', 'pv', 'jac', 'lin_sys', 'e0', 'e*', 'Je', 'Dp', 'count','count2', 'count7']].describe()"
   ]
  },
  {
   "cell_type": "code",
   "execution_count": 536,
   "metadata": {},
   "outputs": [
    {
     "data": {
      "text/plain": [
       "Index(['Ik', 'Ivbar', 'Iv0', 'Irho', 'Isigma', 'Ok', 'Rk', 'Ovbar', 'Rvbar',\n",
       "       'Ov0', 'Rv0', 'Orho', 'Rrho', 'Osigma', 'Rsigma', 'stopped_by', 'time',\n",
       "       'iteration', 'pv', 'jac', 'lin_sys', 'e0', 'e*', 'Je', 'Dp', 'count',\n",
       "       'count2', 'count7'],\n",
       "      dtype='object')"
      ]
     },
     "execution_count": 536,
     "metadata": {},
     "output_type": "execute_result"
    }
   ],
   "source": [
    "result.columns"
   ]
  },
  {
   "cell_type": "code",
   "execution_count": 537,
   "metadata": {},
   "outputs": [
    {
     "data": {
      "text/plain": [
       "array([6, 3, 1])"
      ]
     },
     "execution_count": 537,
     "metadata": {},
     "output_type": "execute_result"
    }
   ],
   "source": [
    "result['stopped_by'].unique() #3, itmax, 1 small gradient, 5 increase mu"
   ]
  },
  {
   "cell_type": "code",
   "execution_count": 538,
   "metadata": {},
   "outputs": [
    {
     "data": {
      "text/plain": [
       "array([991])"
      ]
     },
     "execution_count": 538,
     "metadata": {},
     "output_type": "execute_result"
    }
   ],
   "source": [
    "solved = result[result['stopped_by'] == 6]\n",
    "solved.count().unique()"
   ]
  },
  {
   "cell_type": "code",
   "execution_count": 539,
   "metadata": {},
   "outputs": [
    {
     "data": {
      "text/plain": [
       "array([0.991])"
      ]
     },
     "execution_count": 539,
     "metadata": {},
     "output_type": "execute_result"
    }
   ],
   "source": [
    "solved.count().unique()/result.count().unique()"
   ]
  },
  {
   "cell_type": "code",
   "execution_count": 540,
   "metadata": {
    "scrolled": true
   },
   "outputs": [
    {
     "data": {
      "text/plain": [
       "array([960])"
      ]
     },
     "execution_count": 540,
     "metadata": {},
     "output_type": "execute_result"
    }
   ],
   "source": [
    "solved_first_time = solved[solved['count'] == 1]\n",
    "solved_first_time.count().unique()"
   ]
  },
  {
   "cell_type": "code",
   "execution_count": 541,
   "metadata": {},
   "outputs": [
    {
     "data": {
      "text/plain": [
       "array([0])"
      ]
     },
     "execution_count": 541,
     "metadata": {},
     "output_type": "execute_result"
    }
   ],
   "source": [
    "DP = result[result['stopped_by'] == 2]\n",
    "DP.count().unique()"
   ]
  },
  {
   "cell_type": "code",
   "execution_count": 542,
   "metadata": {
    "scrolled": true
   },
   "outputs": [
    {
     "data": {
      "text/html": [
       "<div>\n",
       "<style scoped>\n",
       "    .dataframe tbody tr th:only-of-type {\n",
       "        vertical-align: middle;\n",
       "    }\n",
       "\n",
       "    .dataframe tbody tr th {\n",
       "        vertical-align: top;\n",
       "    }\n",
       "\n",
       "    .dataframe thead th {\n",
       "        text-align: right;\n",
       "    }\n",
       "</style>\n",
       "<table border=\"1\" class=\"dataframe\">\n",
       "  <thead>\n",
       "    <tr style=\"text-align: right;\">\n",
       "      <th></th>\n",
       "      <th>Ik</th>\n",
       "      <th>Ivbar</th>\n",
       "      <th>Iv0</th>\n",
       "      <th>Irho</th>\n",
       "      <th>Isigma</th>\n",
       "      <th>Ok</th>\n",
       "      <th>Rk</th>\n",
       "      <th>Ovbar</th>\n",
       "      <th>Rvbar</th>\n",
       "      <th>Ov0</th>\n",
       "      <th>...</th>\n",
       "      <th>pv</th>\n",
       "      <th>jac</th>\n",
       "      <th>lin_sys</th>\n",
       "      <th>e0</th>\n",
       "      <th>e*</th>\n",
       "      <th>Je</th>\n",
       "      <th>Dp</th>\n",
       "      <th>count</th>\n",
       "      <th>count2</th>\n",
       "      <th>count7</th>\n",
       "    </tr>\n",
       "  </thead>\n",
       "  <tbody>\n",
       "  </tbody>\n",
       "</table>\n",
       "<p>0 rows × 28 columns</p>\n",
       "</div>"
      ],
      "text/plain": [
       "Empty DataFrame\n",
       "Columns: [Ik, Ivbar, Iv0, Irho, Isigma, Ok, Rk, Ovbar, Rvbar, Ov0, Rv0, Orho, Rrho, Osigma, Rsigma, stopped_by, time, iteration, pv, jac, lin_sys, e0, e*, Je, Dp, count, count2, count7]\n",
       "Index: []\n",
       "\n",
       "[0 rows x 28 columns]"
      ]
     },
     "execution_count": 542,
     "metadata": {},
     "output_type": "execute_result"
    }
   ],
   "source": [
    "DP"
   ]
  },
  {
   "cell_type": "code",
   "execution_count": 543,
   "metadata": {},
   "outputs": [
    {
     "data": {
      "text/plain": [
       "array([8])"
      ]
     },
     "execution_count": 543,
     "metadata": {},
     "output_type": "execute_result"
    }
   ],
   "source": [
    "itmax = result[result['stopped_by'] == 3]\n",
    "itmax.count().unique()"
   ]
  },
  {
   "cell_type": "code",
   "execution_count": 544,
   "metadata": {},
   "outputs": [
    {
     "data": {
      "text/plain": [
       "array([1])"
      ]
     },
     "execution_count": 544,
     "metadata": {},
     "output_type": "execute_result"
    }
   ],
   "source": [
    "smalJac = result[result['stopped_by'] == 1]\n",
    "smalJac.count().unique()"
   ]
  },
  {
   "cell_type": "code",
   "execution_count": 545,
   "metadata": {},
   "outputs": [
    {
     "data": {
      "text/plain": [
       "count    991.000000\n",
       "mean       0.495105\n",
       "std        0.593314\n",
       "min        0.115288\n",
       "25%        0.274034\n",
       "50%        0.379607\n",
       "75%        0.553263\n",
       "max       12.154593\n",
       "Name: time, dtype: float64"
      ]
     },
     "execution_count": 545,
     "metadata": {},
     "output_type": "execute_result"
    }
   ],
   "source": [
    "solved['time'].describe()"
   ]
  },
  {
   "cell_type": "code",
   "execution_count": 546,
   "metadata": {},
   "outputs": [
    {
     "data": {
      "text/plain": [
       "count    960.000000\n",
       "mean       0.442017\n",
       "std        0.239869\n",
       "min        0.115288\n",
       "25%        0.268455\n",
       "50%        0.373738\n",
       "75%        0.529749\n",
       "max        2.512831\n",
       "Name: time, dtype: float64"
      ]
     },
     "execution_count": 546,
     "metadata": {},
     "output_type": "execute_result"
    }
   ],
   "source": [
    "solved_first_time['time'].describe()"
   ]
  },
  {
   "cell_type": "code",
   "execution_count": 547,
   "metadata": {},
   "outputs": [
    {
     "data": {
      "text/plain": [
       "count    960.000000\n",
       "mean      31.596875\n",
       "std       18.133412\n",
       "min        8.000000\n",
       "25%       20.000000\n",
       "50%       26.000000\n",
       "75%       38.000000\n",
       "max      199.000000\n",
       "Name: iteration, dtype: float64"
      ]
     },
     "execution_count": 547,
     "metadata": {},
     "output_type": "execute_result"
    }
   ],
   "source": [
    "solved_first_time['iteration'].describe()"
   ]
  },
  {
   "cell_type": "code",
   "execution_count": 548,
   "metadata": {},
   "outputs": [
    {
     "data": {
      "text/plain": [
       "count    991.000000\n",
       "mean      31.699294\n",
       "std       19.368056\n",
       "min        8.000000\n",
       "25%       20.000000\n",
       "50%       26.000000\n",
       "75%       38.000000\n",
       "max      262.000000\n",
       "Name: iteration, dtype: float64"
      ]
     },
     "execution_count": 548,
     "metadata": {},
     "output_type": "execute_result"
    }
   ],
   "source": [
    "solved['iteration'].describe()"
   ]
  },
  {
   "cell_type": "code",
   "execution_count": 459,
   "metadata": {},
   "outputs": [
    {
     "data": {
      "text/html": [
       "<div>\n",
       "<style scoped>\n",
       "    .dataframe tbody tr th:only-of-type {\n",
       "        vertical-align: middle;\n",
       "    }\n",
       "\n",
       "    .dataframe tbody tr th {\n",
       "        vertical-align: top;\n",
       "    }\n",
       "\n",
       "    .dataframe thead th {\n",
       "        text-align: right;\n",
       "    }\n",
       "</style>\n",
       "<table border=\"1\" class=\"dataframe\">\n",
       "  <thead>\n",
       "    <tr style=\"text-align: right;\">\n",
       "      <th></th>\n",
       "      <th>Ik</th>\n",
       "      <th>Ivbar</th>\n",
       "      <th>Iv0</th>\n",
       "      <th>Irho</th>\n",
       "      <th>Isigma</th>\n",
       "      <th>Ok</th>\n",
       "      <th>Rk</th>\n",
       "      <th>Ovbar</th>\n",
       "      <th>Rvbar</th>\n",
       "      <th>Ov0</th>\n",
       "      <th>...</th>\n",
       "      <th>pv</th>\n",
       "      <th>jac</th>\n",
       "      <th>lin_sys</th>\n",
       "      <th>e0</th>\n",
       "      <th>e*</th>\n",
       "      <th>Je</th>\n",
       "      <th>Dp</th>\n",
       "      <th>count</th>\n",
       "      <th>count2</th>\n",
       "      <th>count7</th>\n",
       "    </tr>\n",
       "  </thead>\n",
       "  <tbody>\n",
       "    <tr>\n",
       "      <th>1</th>\n",
       "      <td>1.293890</td>\n",
       "      <td>0.857520</td>\n",
       "      <td>0.584743</td>\n",
       "      <td>-0.652745</td>\n",
       "      <td>0.562406</td>\n",
       "      <td>3.522433</td>\n",
       "      <td>3.522417</td>\n",
       "      <td>0.834166</td>\n",
       "      <td>0.834155</td>\n",
       "      <td>0.154045</td>\n",
       "      <td>...</td>\n",
       "      <td>18</td>\n",
       "      <td>12</td>\n",
       "      <td>17</td>\n",
       "      <td>0.041510</td>\n",
       "      <td>2.638723e-11</td>\n",
       "      <td>1.180799e-07</td>\n",
       "      <td>4.621677e-06</td>\n",
       "      <td>2</td>\n",
       "      <td>1</td>\n",
       "      <td>0</td>\n",
       "    </tr>\n",
       "    <tr>\n",
       "      <th>4</th>\n",
       "      <td>3.528476</td>\n",
       "      <td>0.546792</td>\n",
       "      <td>0.416693</td>\n",
       "      <td>-0.496527</td>\n",
       "      <td>0.315473</td>\n",
       "      <td>3.889896</td>\n",
       "      <td>3.889922</td>\n",
       "      <td>0.435772</td>\n",
       "      <td>0.435773</td>\n",
       "      <td>0.055080</td>\n",
       "      <td>...</td>\n",
       "      <td>22</td>\n",
       "      <td>14</td>\n",
       "      <td>21</td>\n",
       "      <td>0.195527</td>\n",
       "      <td>2.727437e-12</td>\n",
       "      <td>8.975409e-08</td>\n",
       "      <td>3.810872e-06</td>\n",
       "      <td>1</td>\n",
       "      <td>0</td>\n",
       "      <td>0</td>\n",
       "    </tr>\n",
       "    <tr>\n",
       "      <th>5</th>\n",
       "      <td>2.301274</td>\n",
       "      <td>0.598387</td>\n",
       "      <td>0.435573</td>\n",
       "      <td>-0.441467</td>\n",
       "      <td>0.139399</td>\n",
       "      <td>4.385548</td>\n",
       "      <td>4.385892</td>\n",
       "      <td>0.350579</td>\n",
       "      <td>0.350579</td>\n",
       "      <td>0.829674</td>\n",
       "      <td>...</td>\n",
       "      <td>25</td>\n",
       "      <td>17</td>\n",
       "      <td>24</td>\n",
       "      <td>0.021668</td>\n",
       "      <td>9.666041e-11</td>\n",
       "      <td>1.211914e-06</td>\n",
       "      <td>4.466965e-04</td>\n",
       "      <td>21</td>\n",
       "      <td>18</td>\n",
       "      <td>2</td>\n",
       "    </tr>\n",
       "    <tr>\n",
       "      <th>6</th>\n",
       "      <td>3.010048</td>\n",
       "      <td>0.859892</td>\n",
       "      <td>0.860849</td>\n",
       "      <td>-0.291575</td>\n",
       "      <td>0.780668</td>\n",
       "      <td>2.642079</td>\n",
       "      <td>2.642092</td>\n",
       "      <td>0.562092</td>\n",
       "      <td>0.562091</td>\n",
       "      <td>0.123273</td>\n",
       "      <td>...</td>\n",
       "      <td>27</td>\n",
       "      <td>16</td>\n",
       "      <td>26</td>\n",
       "      <td>0.477723</td>\n",
       "      <td>1.065191e-13</td>\n",
       "      <td>6.359427e-07</td>\n",
       "      <td>1.028369e-07</td>\n",
       "      <td>21</td>\n",
       "      <td>20</td>\n",
       "      <td>0</td>\n",
       "    </tr>\n",
       "    <tr>\n",
       "      <th>7</th>\n",
       "      <td>4.405389</td>\n",
       "      <td>0.663972</td>\n",
       "      <td>0.452743</td>\n",
       "      <td>-0.243830</td>\n",
       "      <td>0.562508</td>\n",
       "      <td>4.241974</td>\n",
       "      <td>4.241241</td>\n",
       "      <td>0.438514</td>\n",
       "      <td>0.438495</td>\n",
       "      <td>0.716152</td>\n",
       "      <td>...</td>\n",
       "      <td>30</td>\n",
       "      <td>16</td>\n",
       "      <td>29</td>\n",
       "      <td>0.017307</td>\n",
       "      <td>5.645890e-11</td>\n",
       "      <td>3.574250e-07</td>\n",
       "      <td>6.530289e-07</td>\n",
       "      <td>1</td>\n",
       "      <td>0</td>\n",
       "      <td>0</td>\n",
       "    </tr>\n",
       "  </tbody>\n",
       "</table>\n",
       "<p>5 rows × 28 columns</p>\n",
       "</div>"
      ],
      "text/plain": [
       "         Ik     Ivbar       Iv0      Irho    Isigma        Ok        Rk  \\\n",
       "1  1.293890  0.857520  0.584743 -0.652745  0.562406  3.522433  3.522417   \n",
       "4  3.528476  0.546792  0.416693 -0.496527  0.315473  3.889896  3.889922   \n",
       "5  2.301274  0.598387  0.435573 -0.441467  0.139399  4.385548  4.385892   \n",
       "6  3.010048  0.859892  0.860849 -0.291575  0.780668  2.642079  2.642092   \n",
       "7  4.405389  0.663972  0.452743 -0.243830  0.562508  4.241974  4.241241   \n",
       "\n",
       "      Ovbar     Rvbar       Ov0   ...    pv  jac  lin_sys        e0  \\\n",
       "1  0.834166  0.834155  0.154045   ...    18   12       17  0.041510   \n",
       "4  0.435772  0.435773  0.055080   ...    22   14       21  0.195527   \n",
       "5  0.350579  0.350579  0.829674   ...    25   17       24  0.021668   \n",
       "6  0.562092  0.562091  0.123273   ...    27   16       26  0.477723   \n",
       "7  0.438514  0.438495  0.716152   ...    30   16       29  0.017307   \n",
       "\n",
       "             e*            Je            Dp  count  count2  count7  \n",
       "1  2.638723e-11  1.180799e-07  4.621677e-06      2       1       0  \n",
       "4  2.727437e-12  8.975409e-08  3.810872e-06      1       0       0  \n",
       "5  9.666041e-11  1.211914e-06  4.466965e-04     21      18       2  \n",
       "6  1.065191e-13  6.359427e-07  1.028369e-07     21      20       0  \n",
       "7  5.645890e-11  3.574250e-07  6.530289e-07      1       0       0  \n",
       "\n",
       "[5 rows x 28 columns]"
      ]
     },
     "execution_count": 459,
     "metadata": {},
     "output_type": "execute_result"
    }
   ],
   "source": [
    "solved.head()"
   ]
  },
  {
   "cell_type": "code",
   "execution_count": 460,
   "metadata": {},
   "outputs": [],
   "source": [
    "#'Ik', 'Ivbar', 'Iv0', 'Irho', 'Isigma', 'Ok', 'Rk', 'Ovbar', 'Rvbar',\n",
    "#'Ov0', 'Rv0', 'Orho', 'Rrho', 'Osigma', 'Rsigma', 'stopped_by', 'time',\n",
    "#'iteration', 'pv', 'jac', 'lin_sys', 'e0', 'e*', 'Je', 'Dp', 'count'\n",
    "   "
   ]
  },
  {
   "cell_type": "code",
   "execution_count": 461,
   "metadata": {},
   "outputs": [
    {
     "data": {
      "text/plain": [
       "1.0271906328880622"
      ]
     },
     "execution_count": 461,
     "metadata": {},
     "output_type": "execute_result"
    }
   ],
   "source": [
    "disIk = np.abs(solved['Ik'] - solved['Rk']).mean()\n",
    "disIk"
   ]
  },
  {
   "cell_type": "code",
   "execution_count": 462,
   "metadata": {},
   "outputs": [
    {
     "data": {
      "text/plain": [
       "0.2675114984299786"
      ]
     },
     "execution_count": 462,
     "metadata": {},
     "output_type": "execute_result"
    }
   ],
   "source": [
    "disIvbar = np.abs(solved['Ivbar'] - solved['Rvbar']).mean()\n",
    "disIvbar"
   ]
  },
  {
   "cell_type": "code",
   "execution_count": 463,
   "metadata": {},
   "outputs": [
    {
     "data": {
      "text/plain": [
       "0.308228138348976"
      ]
     },
     "execution_count": 463,
     "metadata": {},
     "output_type": "execute_result"
    }
   ],
   "source": [
    "disIv0 = np.abs(solved['Iv0'] - solved['Rv0']).mean()\n",
    "disIv0"
   ]
  },
  {
   "cell_type": "code",
   "execution_count": 464,
   "metadata": {},
   "outputs": [
    {
     "data": {
      "text/plain": [
       "0.28073248352264163"
      ]
     },
     "execution_count": 464,
     "metadata": {},
     "output_type": "execute_result"
    }
   ],
   "source": [
    "disIsigma = np.abs(solved['Isigma'] - solved['Rsigma']).mean()\n",
    "disIsigma"
   ]
  },
  {
   "cell_type": "code",
   "execution_count": 465,
   "metadata": {},
   "outputs": [
    {
     "data": {
      "text/plain": [
       "0.24994376861043865"
      ]
     },
     "execution_count": 465,
     "metadata": {},
     "output_type": "execute_result"
    }
   ],
   "source": [
    "disIrho = np.abs(solved['Irho'] - solved['Rrho']).mean()\n",
    "disIrho"
   ]
  },
  {
   "cell_type": "code",
   "execution_count": 466,
   "metadata": {},
   "outputs": [
    {
     "data": {
      "text/plain": [
       "0.0021064447543356897"
      ]
     },
     "execution_count": 466,
     "metadata": {},
     "output_type": "execute_result"
    }
   ],
   "source": [
    "disOk = np.abs(solved['Ok'] - solved['Rk']).mean()\n",
    "disOk"
   ]
  },
  {
   "cell_type": "code",
   "execution_count": 467,
   "metadata": {},
   "outputs": [
    {
     "data": {
      "text/plain": [
       "5.6904140315868424e-05"
      ]
     },
     "execution_count": 467,
     "metadata": {},
     "output_type": "execute_result"
    }
   ],
   "source": [
    "disOvbar = np.abs(solved['Ovbar'] - solved['Rvbar']).mean()\n",
    "disOvbar"
   ]
  },
  {
   "cell_type": "code",
   "execution_count": 468,
   "metadata": {},
   "outputs": [
    {
     "data": {
      "text/plain": [
       "0.10412440830889465"
      ]
     },
     "execution_count": 468,
     "metadata": {},
     "output_type": "execute_result"
    }
   ],
   "source": [
    "disOsigma = np.abs(solved['Osigma'] - solved['Rsigma']).mean()\n",
    "disOsigma"
   ]
  },
  {
   "cell_type": "code",
   "execution_count": 469,
   "metadata": {},
   "outputs": [
    {
     "data": {
      "text/plain": [
       "0.0959212751496506"
      ]
     },
     "execution_count": 469,
     "metadata": {},
     "output_type": "execute_result"
    }
   ],
   "source": [
    "disOrho = np.abs(solved['Orho'] - solved['Rrho']).mean()\n",
    "disOrho"
   ]
  },
  {
   "cell_type": "code",
   "execution_count": 470,
   "metadata": {},
   "outputs": [
    {
     "data": {
      "text/plain": [
       "9.67331884692391e-06"
      ]
     },
     "execution_count": 470,
     "metadata": {},
     "output_type": "execute_result"
    }
   ],
   "source": [
    "disOv0 = np.abs(solved['Ov0'] - solved['Rv0']).mean()\n",
    "disOv0"
   ]
  },
  {
   "cell_type": "code",
   "execution_count": 471,
   "metadata": {},
   "outputs": [
    {
     "data": {
      "text/html": [
       "<div>\n",
       "<style scoped>\n",
       "    .dataframe tbody tr th:only-of-type {\n",
       "        vertical-align: middle;\n",
       "    }\n",
       "\n",
       "    .dataframe tbody tr th {\n",
       "        vertical-align: top;\n",
       "    }\n",
       "\n",
       "    .dataframe thead th {\n",
       "        text-align: right;\n",
       "    }\n",
       "</style>\n",
       "<table border=\"1\" class=\"dataframe\">\n",
       "  <thead>\n",
       "    <tr style=\"text-align: right;\">\n",
       "      <th></th>\n",
       "      <th>Ik</th>\n",
       "      <th>Ivbar</th>\n",
       "      <th>Iv0</th>\n",
       "      <th>Irho</th>\n",
       "      <th>Isigma</th>\n",
       "      <th>Ok</th>\n",
       "      <th>Rk</th>\n",
       "      <th>Ovbar</th>\n",
       "      <th>Rvbar</th>\n",
       "      <th>Ov0</th>\n",
       "      <th>...</th>\n",
       "      <th>pv</th>\n",
       "      <th>jac</th>\n",
       "      <th>lin_sys</th>\n",
       "      <th>e0</th>\n",
       "      <th>e*</th>\n",
       "      <th>Je</th>\n",
       "      <th>Dp</th>\n",
       "      <th>count</th>\n",
       "      <th>count2</th>\n",
       "      <th>count7</th>\n",
       "    </tr>\n",
       "  </thead>\n",
       "  <tbody>\n",
       "    <tr>\n",
       "      <th>count</th>\n",
       "      <td>336.000000</td>\n",
       "      <td>336.000000</td>\n",
       "      <td>336.000000</td>\n",
       "      <td>336.000000</td>\n",
       "      <td>336.000000</td>\n",
       "      <td>336.000000</td>\n",
       "      <td>336.000000</td>\n",
       "      <td>336.000000</td>\n",
       "      <td>336.000000</td>\n",
       "      <td>336.000000</td>\n",
       "      <td>...</td>\n",
       "      <td>336.000000</td>\n",
       "      <td>336.000000</td>\n",
       "      <td>336.000000</td>\n",
       "      <td>336.000000</td>\n",
       "      <td>3.360000e+02</td>\n",
       "      <td>3.360000e+02</td>\n",
       "      <td>3.360000e+02</td>\n",
       "      <td>336.000000</td>\n",
       "      <td>336.000000</td>\n",
       "      <td>336.000000</td>\n",
       "    </tr>\n",
       "    <tr>\n",
       "      <th>mean</th>\n",
       "      <td>2.832535</td>\n",
       "      <td>0.509868</td>\n",
       "      <td>0.440966</td>\n",
       "      <td>-0.533010</td>\n",
       "      <td>0.454663</td>\n",
       "      <td>3.024065</td>\n",
       "      <td>3.024417</td>\n",
       "      <td>0.466245</td>\n",
       "      <td>0.466221</td>\n",
       "      <td>0.447607</td>\n",
       "      <td>...</td>\n",
       "      <td>30.136905</td>\n",
       "      <td>18.883929</td>\n",
       "      <td>29.136905</td>\n",
       "      <td>0.179120</td>\n",
       "      <td>5.050264e-11</td>\n",
       "      <td>2.296013e-06</td>\n",
       "      <td>1.068530e-04</td>\n",
       "      <td>18.514881</td>\n",
       "      <td>16.910714</td>\n",
       "      <td>0.604167</td>\n",
       "    </tr>\n",
       "    <tr>\n",
       "      <th>std</th>\n",
       "      <td>1.287353</td>\n",
       "      <td>0.251136</td>\n",
       "      <td>0.255062</td>\n",
       "      <td>0.227341</td>\n",
       "      <td>0.254230</td>\n",
       "      <td>1.198748</td>\n",
       "      <td>1.199277</td>\n",
       "      <td>0.250532</td>\n",
       "      <td>0.250532</td>\n",
       "      <td>0.270826</td>\n",
       "      <td>...</td>\n",
       "      <td>21.472211</td>\n",
       "      <td>15.910240</td>\n",
       "      <td>21.472211</td>\n",
       "      <td>0.327359</td>\n",
       "      <td>3.025266e-11</td>\n",
       "      <td>8.608275e-06</td>\n",
       "      <td>4.891538e-04</td>\n",
       "      <td>23.455383</td>\n",
       "      <td>23.003784</td>\n",
       "      <td>2.832832</td>\n",
       "    </tr>\n",
       "    <tr>\n",
       "      <th>min</th>\n",
       "      <td>0.534101</td>\n",
       "      <td>0.050054</td>\n",
       "      <td>0.050363</td>\n",
       "      <td>-0.896747</td>\n",
       "      <td>0.050863</td>\n",
       "      <td>0.530870</td>\n",
       "      <td>0.530675</td>\n",
       "      <td>0.053179</td>\n",
       "      <td>0.053178</td>\n",
       "      <td>0.050948</td>\n",
       "      <td>...</td>\n",
       "      <td>7.000000</td>\n",
       "      <td>6.000000</td>\n",
       "      <td>6.000000</td>\n",
       "      <td>0.000282</td>\n",
       "      <td>1.065191e-13</td>\n",
       "      <td>7.448084e-09</td>\n",
       "      <td>6.627809e-10</td>\n",
       "      <td>1.000000</td>\n",
       "      <td>0.000000</td>\n",
       "      <td>0.000000</td>\n",
       "    </tr>\n",
       "    <tr>\n",
       "      <th>25%</th>\n",
       "      <td>1.736339</td>\n",
       "      <td>0.279652</td>\n",
       "      <td>0.224379</td>\n",
       "      <td>-0.736945</td>\n",
       "      <td>0.221837</td>\n",
       "      <td>2.066502</td>\n",
       "      <td>2.066337</td>\n",
       "      <td>0.251126</td>\n",
       "      <td>0.251143</td>\n",
       "      <td>0.211883</td>\n",
       "      <td>...</td>\n",
       "      <td>18.000000</td>\n",
       "      <td>12.000000</td>\n",
       "      <td>17.000000</td>\n",
       "      <td>0.026766</td>\n",
       "      <td>2.187334e-11</td>\n",
       "      <td>3.056707e-07</td>\n",
       "      <td>2.226019e-07</td>\n",
       "      <td>3.000000</td>\n",
       "      <td>2.000000</td>\n",
       "      <td>0.000000</td>\n",
       "    </tr>\n",
       "    <tr>\n",
       "      <th>50%</th>\n",
       "      <td>2.877741</td>\n",
       "      <td>0.512457</td>\n",
       "      <td>0.415614</td>\n",
       "      <td>-0.554655</td>\n",
       "      <td>0.453322</td>\n",
       "      <td>3.129923</td>\n",
       "      <td>3.129755</td>\n",
       "      <td>0.452656</td>\n",
       "      <td>0.452566</td>\n",
       "      <td>0.405102</td>\n",
       "      <td>...</td>\n",
       "      <td>25.000000</td>\n",
       "      <td>15.000000</td>\n",
       "      <td>24.000000</td>\n",
       "      <td>0.071790</td>\n",
       "      <td>5.212954e-11</td>\n",
       "      <td>6.399466e-07</td>\n",
       "      <td>2.001199e-06</td>\n",
       "      <td>8.000000</td>\n",
       "      <td>6.000000</td>\n",
       "      <td>0.000000</td>\n",
       "    </tr>\n",
       "    <tr>\n",
       "      <th>75%</th>\n",
       "      <td>3.928829</td>\n",
       "      <td>0.716604</td>\n",
       "      <td>0.653158</td>\n",
       "      <td>-0.329387</td>\n",
       "      <td>0.654901</td>\n",
       "      <td>4.033767</td>\n",
       "      <td>4.033677</td>\n",
       "      <td>0.668127</td>\n",
       "      <td>0.667981</td>\n",
       "      <td>0.692357</td>\n",
       "      <td>...</td>\n",
       "      <td>34.250000</td>\n",
       "      <td>20.000000</td>\n",
       "      <td>33.250000</td>\n",
       "      <td>0.185902</td>\n",
       "      <td>7.669068e-11</td>\n",
       "      <td>1.574637e-06</td>\n",
       "      <td>2.276655e-05</td>\n",
       "      <td>23.250000</td>\n",
       "      <td>21.250000</td>\n",
       "      <td>0.000000</td>\n",
       "    </tr>\n",
       "    <tr>\n",
       "      <th>max</th>\n",
       "      <td>4.997335</td>\n",
       "      <td>0.947651</td>\n",
       "      <td>0.941626</td>\n",
       "      <td>-0.106084</td>\n",
       "      <td>0.947802</td>\n",
       "      <td>4.975982</td>\n",
       "      <td>4.976532</td>\n",
       "      <td>0.949002</td>\n",
       "      <td>0.949002</td>\n",
       "      <td>0.949507</td>\n",
       "      <td>...</td>\n",
       "      <td>228.000000</td>\n",
       "      <td>220.000000</td>\n",
       "      <td>227.000000</td>\n",
       "      <td>3.207557</td>\n",
       "      <td>9.990975e-11</td>\n",
       "      <td>1.396683e-04</td>\n",
       "      <td>7.826697e-03</td>\n",
       "      <td>100.000000</td>\n",
       "      <td>98.000000</td>\n",
       "      <td>40.000000</td>\n",
       "    </tr>\n",
       "  </tbody>\n",
       "</table>\n",
       "<p>8 rows × 28 columns</p>\n",
       "</div>"
      ],
      "text/plain": [
       "               Ik       Ivbar         Iv0        Irho      Isigma          Ok  \\\n",
       "count  336.000000  336.000000  336.000000  336.000000  336.000000  336.000000   \n",
       "mean     2.832535    0.509868    0.440966   -0.533010    0.454663    3.024065   \n",
       "std      1.287353    0.251136    0.255062    0.227341    0.254230    1.198748   \n",
       "min      0.534101    0.050054    0.050363   -0.896747    0.050863    0.530870   \n",
       "25%      1.736339    0.279652    0.224379   -0.736945    0.221837    2.066502   \n",
       "50%      2.877741    0.512457    0.415614   -0.554655    0.453322    3.129923   \n",
       "75%      3.928829    0.716604    0.653158   -0.329387    0.654901    4.033767   \n",
       "max      4.997335    0.947651    0.941626   -0.106084    0.947802    4.975982   \n",
       "\n",
       "               Rk       Ovbar       Rvbar         Ov0     ...              pv  \\\n",
       "count  336.000000  336.000000  336.000000  336.000000     ...      336.000000   \n",
       "mean     3.024417    0.466245    0.466221    0.447607     ...       30.136905   \n",
       "std      1.199277    0.250532    0.250532    0.270826     ...       21.472211   \n",
       "min      0.530675    0.053179    0.053178    0.050948     ...        7.000000   \n",
       "25%      2.066337    0.251126    0.251143    0.211883     ...       18.000000   \n",
       "50%      3.129755    0.452656    0.452566    0.405102     ...       25.000000   \n",
       "75%      4.033677    0.668127    0.667981    0.692357     ...       34.250000   \n",
       "max      4.976532    0.949002    0.949002    0.949507     ...      228.000000   \n",
       "\n",
       "              jac     lin_sys          e0            e*            Je  \\\n",
       "count  336.000000  336.000000  336.000000  3.360000e+02  3.360000e+02   \n",
       "mean    18.883929   29.136905    0.179120  5.050264e-11  2.296013e-06   \n",
       "std     15.910240   21.472211    0.327359  3.025266e-11  8.608275e-06   \n",
       "min      6.000000    6.000000    0.000282  1.065191e-13  7.448084e-09   \n",
       "25%     12.000000   17.000000    0.026766  2.187334e-11  3.056707e-07   \n",
       "50%     15.000000   24.000000    0.071790  5.212954e-11  6.399466e-07   \n",
       "75%     20.000000   33.250000    0.185902  7.669068e-11  1.574637e-06   \n",
       "max    220.000000  227.000000    3.207557  9.990975e-11  1.396683e-04   \n",
       "\n",
       "                 Dp       count      count2      count7  \n",
       "count  3.360000e+02  336.000000  336.000000  336.000000  \n",
       "mean   1.068530e-04   18.514881   16.910714    0.604167  \n",
       "std    4.891538e-04   23.455383   23.003784    2.832832  \n",
       "min    6.627809e-10    1.000000    0.000000    0.000000  \n",
       "25%    2.226019e-07    3.000000    2.000000    0.000000  \n",
       "50%    2.001199e-06    8.000000    6.000000    0.000000  \n",
       "75%    2.276655e-05   23.250000   21.250000    0.000000  \n",
       "max    7.826697e-03  100.000000   98.000000   40.000000  \n",
       "\n",
       "[8 rows x 28 columns]"
      ]
     },
     "execution_count": 471,
     "metadata": {},
     "output_type": "execute_result"
    }
   ],
   "source": [
    "solved.describe()"
   ]
  },
  {
   "cell_type": "code",
   "execution_count": 472,
   "metadata": {},
   "outputs": [
    {
     "data": {
      "text/html": [
       "<div>\n",
       "<style scoped>\n",
       "    .dataframe tbody tr th:only-of-type {\n",
       "        vertical-align: middle;\n",
       "    }\n",
       "\n",
       "    .dataframe tbody tr th {\n",
       "        vertical-align: top;\n",
       "    }\n",
       "\n",
       "    .dataframe thead th {\n",
       "        text-align: right;\n",
       "    }\n",
       "</style>\n",
       "<table border=\"1\" class=\"dataframe\">\n",
       "  <thead>\n",
       "    <tr style=\"text-align: right;\">\n",
       "      <th></th>\n",
       "      <th>Ik</th>\n",
       "      <th>Ivbar</th>\n",
       "      <th>Iv0</th>\n",
       "      <th>Irho</th>\n",
       "      <th>Isigma</th>\n",
       "      <th>Ok</th>\n",
       "      <th>Rk</th>\n",
       "      <th>Ovbar</th>\n",
       "      <th>Rvbar</th>\n",
       "      <th>Ov0</th>\n",
       "      <th>...</th>\n",
       "      <th>pv</th>\n",
       "      <th>jac</th>\n",
       "      <th>lin_sys</th>\n",
       "      <th>e0</th>\n",
       "      <th>e*</th>\n",
       "      <th>Je</th>\n",
       "      <th>Dp</th>\n",
       "      <th>count</th>\n",
       "      <th>count2</th>\n",
       "      <th>count7</th>\n",
       "    </tr>\n",
       "  </thead>\n",
       "  <tbody>\n",
       "    <tr>\n",
       "      <th>55</th>\n",
       "      <td>3.150125</td>\n",
       "      <td>0.592731</td>\n",
       "      <td>0.665237</td>\n",
       "      <td>-0.819938</td>\n",
       "      <td>0.086639</td>\n",
       "      <td>4.172141</td>\n",
       "      <td>4.174754</td>\n",
       "      <td>0.542865</td>\n",
       "      <td>0.542902</td>\n",
       "      <td>0.860533</td>\n",
       "      <td>...</td>\n",
       "      <td>50</td>\n",
       "      <td>30</td>\n",
       "      <td>49</td>\n",
       "      <td>0.001566</td>\n",
       "      <td>2.671610e-11</td>\n",
       "      <td>3.783577e-08</td>\n",
       "      <td>0.000003</td>\n",
       "      <td>10</td>\n",
       "      <td>9</td>\n",
       "      <td>0</td>\n",
       "    </tr>\n",
       "  </tbody>\n",
       "</table>\n",
       "<p>1 rows × 28 columns</p>\n",
       "</div>"
      ],
      "text/plain": [
       "          Ik     Ivbar       Iv0      Irho    Isigma        Ok        Rk  \\\n",
       "55  3.150125  0.592731  0.665237 -0.819938  0.086639  4.172141  4.174754   \n",
       "\n",
       "       Ovbar     Rvbar       Ov0   ...    pv  jac  lin_sys        e0  \\\n",
       "55  0.542865  0.542902  0.860533   ...    50   30       49  0.001566   \n",
       "\n",
       "              e*            Je        Dp  count  count2  count7  \n",
       "55  2.671610e-11  3.783577e-08  0.000003     10       9       0  \n",
       "\n",
       "[1 rows x 28 columns]"
      ]
     },
     "execution_count": 472,
     "metadata": {},
     "output_type": "execute_result"
    }
   ],
   "source": [
    "solved[solved['iteration']==30]"
   ]
  },
  {
   "cell_type": "code",
   "execution_count": 473,
   "metadata": {},
   "outputs": [
    {
     "data": {
      "text/html": [
       "<div>\n",
       "<style scoped>\n",
       "    .dataframe tbody tr th:only-of-type {\n",
       "        vertical-align: middle;\n",
       "    }\n",
       "\n",
       "    .dataframe tbody tr th {\n",
       "        vertical-align: top;\n",
       "    }\n",
       "\n",
       "    .dataframe thead th {\n",
       "        text-align: right;\n",
       "    }\n",
       "</style>\n",
       "<table border=\"1\" class=\"dataframe\">\n",
       "  <thead>\n",
       "    <tr style=\"text-align: right;\">\n",
       "      <th></th>\n",
       "      <th>Ik</th>\n",
       "      <th>Ivbar</th>\n",
       "      <th>Iv0</th>\n",
       "      <th>Irho</th>\n",
       "      <th>Isigma</th>\n",
       "      <th>Ok</th>\n",
       "      <th>Rk</th>\n",
       "      <th>Ovbar</th>\n",
       "      <th>Rvbar</th>\n",
       "      <th>Ov0</th>\n",
       "      <th>...</th>\n",
       "      <th>pv</th>\n",
       "      <th>jac</th>\n",
       "      <th>lin_sys</th>\n",
       "      <th>e0</th>\n",
       "      <th>e*</th>\n",
       "      <th>Je</th>\n",
       "      <th>Dp</th>\n",
       "      <th>count</th>\n",
       "      <th>count2</th>\n",
       "      <th>count7</th>\n",
       "    </tr>\n",
       "  </thead>\n",
       "  <tbody>\n",
       "  </tbody>\n",
       "</table>\n",
       "<p>0 rows × 28 columns</p>\n",
       "</div>"
      ],
      "text/plain": [
       "Empty DataFrame\n",
       "Columns: [Ik, Ivbar, Iv0, Irho, Isigma, Ok, Rk, Ovbar, Rvbar, Ov0, Rv0, Orho, Rrho, Osigma, Rsigma, stopped_by, time, iteration, pv, jac, lin_sys, e0, e*, Je, Dp, count, count2, count7]\n",
       "Index: []\n",
       "\n",
       "[0 rows x 28 columns]"
      ]
     },
     "execution_count": 473,
     "metadata": {},
     "output_type": "execute_result"
    }
   ],
   "source": [
    "example = solved[solved.index==567]\n",
    "example"
   ]
  },
  {
   "cell_type": "code",
   "execution_count": 34,
   "metadata": {
    "scrolled": true
   },
   "outputs": [
    {
     "data": {
      "text/plain": [
       "array([[ 2.00310794e+00,  7.66502906e-01,  2.78598016e-01,\n",
       "        -6.06551157e-01,  2.17311675e-01,  8.19289377e-01,\n",
       "         8.19279086e-01,  4.52754204e-01,  4.52758708e-01,\n",
       "         6.38483161e-02,  6.38483542e-02, -7.18027819e-01,\n",
       "        -7.18027981e-01,  7.22171706e-01,  7.22171617e-01,\n",
       "         6.00000000e+00,  4.30497000e-01,  3.00000000e+01,\n",
       "         3.30000000e+01,  3.00000000e+01,  3.20000000e+01,\n",
       "         1.12281824e+07,  3.97140758e-13,  2.59803814e-06,\n",
       "         1.15641984e-07,  1.00000000e+00]])"
      ]
     },
     "execution_count": 34,
     "metadata": {},
     "output_type": "execute_result"
    }
   ],
   "source": [
    "example.values"
   ]
  },
  {
   "cell_type": "code",
   "execution_count": 40,
   "metadata": {},
   "outputs": [
    {
     "data": {
      "text/plain": [
       "567    1.183829\n",
       "dtype: float64"
      ]
     },
     "execution_count": 40,
     "metadata": {},
     "output_type": "execute_result"
    }
   ],
   "source": [
    "np.abs(example['Ik'] - example['Rk'])"
   ]
  },
  {
   "cell_type": "code",
   "execution_count": 41,
   "metadata": {},
   "outputs": [
    {
     "data": {
      "text/plain": [
       "567    0.313744\n",
       "dtype: float64"
      ]
     },
     "execution_count": 41,
     "metadata": {},
     "output_type": "execute_result"
    }
   ],
   "source": [
    "np.abs(example['Ivbar'] - example['Rvbar'])"
   ]
  },
  {
   "cell_type": "code",
   "execution_count": 42,
   "metadata": {},
   "outputs": [
    {
     "data": {
      "text/plain": [
       "567    0.21475\n",
       "dtype: float64"
      ]
     },
     "execution_count": 42,
     "metadata": {},
     "output_type": "execute_result"
    }
   ],
   "source": [
    "np.abs(example['Iv0'] - example['Rv0'])"
   ]
  },
  {
   "cell_type": "code",
   "execution_count": 43,
   "metadata": {},
   "outputs": [
    {
     "data": {
      "text/plain": [
       "567    0.50486\n",
       "dtype: float64"
      ]
     },
     "execution_count": 43,
     "metadata": {},
     "output_type": "execute_result"
    }
   ],
   "source": [
    "np.abs(example['Isigma'] - example['Rsigma'])"
   ]
  },
  {
   "cell_type": "code",
   "execution_count": 44,
   "metadata": {},
   "outputs": [
    {
     "data": {
      "text/plain": [
       "567    0.111477\n",
       "dtype: float64"
      ]
     },
     "execution_count": 44,
     "metadata": {},
     "output_type": "execute_result"
    }
   ],
   "source": [
    "np.abs(example['Irho'] - example['Rrho'])"
   ]
  },
  {
   "cell_type": "code",
   "execution_count": 45,
   "metadata": {
    "scrolled": true
   },
   "outputs": [
    {
     "data": {
      "text/html": [
       "<div>\n",
       "<style scoped>\n",
       "    .dataframe tbody tr th:only-of-type {\n",
       "        vertical-align: middle;\n",
       "    }\n",
       "\n",
       "    .dataframe tbody tr th {\n",
       "        vertical-align: top;\n",
       "    }\n",
       "\n",
       "    .dataframe thead th {\n",
       "        text-align: right;\n",
       "    }\n",
       "</style>\n",
       "<table border=\"1\" class=\"dataframe\">\n",
       "  <thead>\n",
       "    <tr style=\"text-align: right;\">\n",
       "      <th></th>\n",
       "      <th>k</th>\n",
       "      <th>vbar</th>\n",
       "      <th>v0</th>\n",
       "      <th>rho</th>\n",
       "      <th>sigma</th>\n",
       "    </tr>\n",
       "  </thead>\n",
       "  <tbody>\n",
       "    <tr>\n",
       "      <th>0</th>\n",
       "      <td>0.819279</td>\n",
       "      <td>0.452759</td>\n",
       "      <td>0.0638484</td>\n",
       "      <td>-0.718028</td>\n",
       "      <td>0.722172</td>\n",
       "    </tr>\n",
       "    <tr>\n",
       "      <th>1</th>\n",
       "      <td>0.819279</td>\n",
       "      <td>0.452759</td>\n",
       "      <td>0.0638484</td>\n",
       "      <td>-0.718028</td>\n",
       "      <td>0.722172</td>\n",
       "    </tr>\n",
       "    <tr>\n",
       "      <th>2</th>\n",
       "      <td>0.819279</td>\n",
       "      <td>0.452759</td>\n",
       "      <td>0.0638484</td>\n",
       "      <td>-0.718028</td>\n",
       "      <td>0.722172</td>\n",
       "    </tr>\n",
       "    <tr>\n",
       "      <th>3</th>\n",
       "      <td>0.819279</td>\n",
       "      <td>0.452759</td>\n",
       "      <td>0.0638484</td>\n",
       "      <td>-0.718028</td>\n",
       "      <td>0.722172</td>\n",
       "    </tr>\n",
       "    <tr>\n",
       "      <th>4</th>\n",
       "      <td>0.819279</td>\n",
       "      <td>0.452759</td>\n",
       "      <td>0.0638484</td>\n",
       "      <td>-0.718028</td>\n",
       "      <td>0.722172</td>\n",
       "    </tr>\n",
       "    <tr>\n",
       "      <th>5</th>\n",
       "      <td>0.819279</td>\n",
       "      <td>0.452759</td>\n",
       "      <td>0.0638484</td>\n",
       "      <td>-0.718028</td>\n",
       "      <td>0.722172</td>\n",
       "    </tr>\n",
       "    <tr>\n",
       "      <th>6</th>\n",
       "      <td>0.819279</td>\n",
       "      <td>0.452759</td>\n",
       "      <td>0.0638484</td>\n",
       "      <td>-0.718028</td>\n",
       "      <td>0.722172</td>\n",
       "    </tr>\n",
       "    <tr>\n",
       "      <th>7</th>\n",
       "      <td>0.819279</td>\n",
       "      <td>0.452759</td>\n",
       "      <td>0.0638484</td>\n",
       "      <td>-0.718028</td>\n",
       "      <td>0.722172</td>\n",
       "    </tr>\n",
       "    <tr>\n",
       "      <th>8</th>\n",
       "      <td>0.819279</td>\n",
       "      <td>0.452759</td>\n",
       "      <td>0.0638484</td>\n",
       "      <td>-0.718028</td>\n",
       "      <td>0.722172</td>\n",
       "    </tr>\n",
       "    <tr>\n",
       "      <th>9</th>\n",
       "      <td>0.819279</td>\n",
       "      <td>0.452759</td>\n",
       "      <td>0.0638484</td>\n",
       "      <td>-0.718028</td>\n",
       "      <td>0.722172</td>\n",
       "    </tr>\n",
       "    <tr>\n",
       "      <th>10</th>\n",
       "      <td>0.819279</td>\n",
       "      <td>0.452759</td>\n",
       "      <td>0.0638484</td>\n",
       "      <td>-0.718028</td>\n",
       "      <td>0.722172</td>\n",
       "    </tr>\n",
       "    <tr>\n",
       "      <th>11</th>\n",
       "      <td>0.819279</td>\n",
       "      <td>0.452759</td>\n",
       "      <td>0.0638484</td>\n",
       "      <td>-0.718028</td>\n",
       "      <td>0.722172</td>\n",
       "    </tr>\n",
       "    <tr>\n",
       "      <th>12</th>\n",
       "      <td>0.819279</td>\n",
       "      <td>0.452759</td>\n",
       "      <td>0.0638484</td>\n",
       "      <td>-0.718028</td>\n",
       "      <td>0.722172</td>\n",
       "    </tr>\n",
       "    <tr>\n",
       "      <th>13</th>\n",
       "      <td>0.819279</td>\n",
       "      <td>0.452759</td>\n",
       "      <td>0.0638484</td>\n",
       "      <td>-0.718028</td>\n",
       "      <td>0.722172</td>\n",
       "    </tr>\n",
       "    <tr>\n",
       "      <th>14</th>\n",
       "      <td>0.819279</td>\n",
       "      <td>0.452759</td>\n",
       "      <td>0.0638484</td>\n",
       "      <td>-0.718028</td>\n",
       "      <td>0.722172</td>\n",
       "    </tr>\n",
       "    <tr>\n",
       "      <th>15</th>\n",
       "      <td>0.819279</td>\n",
       "      <td>0.452759</td>\n",
       "      <td>0.0638484</td>\n",
       "      <td>-0.718028</td>\n",
       "      <td>0.722172</td>\n",
       "    </tr>\n",
       "    <tr>\n",
       "      <th>16</th>\n",
       "      <td>0.819279</td>\n",
       "      <td>0.452759</td>\n",
       "      <td>0.0638484</td>\n",
       "      <td>-0.718028</td>\n",
       "      <td>0.722172</td>\n",
       "    </tr>\n",
       "    <tr>\n",
       "      <th>17</th>\n",
       "      <td>0.819279</td>\n",
       "      <td>0.452759</td>\n",
       "      <td>0.0638484</td>\n",
       "      <td>-0.718028</td>\n",
       "      <td>0.722172</td>\n",
       "    </tr>\n",
       "    <tr>\n",
       "      <th>18</th>\n",
       "      <td>0.819279</td>\n",
       "      <td>0.452759</td>\n",
       "      <td>0.0638484</td>\n",
       "      <td>-0.718028</td>\n",
       "      <td>0.722172</td>\n",
       "    </tr>\n",
       "    <tr>\n",
       "      <th>19</th>\n",
       "      <td>0.819279</td>\n",
       "      <td>0.452759</td>\n",
       "      <td>0.0638484</td>\n",
       "      <td>-0.718028</td>\n",
       "      <td>0.722172</td>\n",
       "    </tr>\n",
       "    <tr>\n",
       "      <th>20</th>\n",
       "      <td>0.819279</td>\n",
       "      <td>0.452759</td>\n",
       "      <td>0.0638484</td>\n",
       "      <td>-0.718028</td>\n",
       "      <td>0.722172</td>\n",
       "    </tr>\n",
       "    <tr>\n",
       "      <th>21</th>\n",
       "      <td>0.819279</td>\n",
       "      <td>0.452759</td>\n",
       "      <td>0.0638484</td>\n",
       "      <td>-0.718028</td>\n",
       "      <td>0.722172</td>\n",
       "    </tr>\n",
       "    <tr>\n",
       "      <th>22</th>\n",
       "      <td>0.819279</td>\n",
       "      <td>0.452759</td>\n",
       "      <td>0.0638484</td>\n",
       "      <td>-0.718028</td>\n",
       "      <td>0.722172</td>\n",
       "    </tr>\n",
       "    <tr>\n",
       "      <th>23</th>\n",
       "      <td>0.819279</td>\n",
       "      <td>0.452759</td>\n",
       "      <td>0.0638484</td>\n",
       "      <td>-0.718028</td>\n",
       "      <td>0.722172</td>\n",
       "    </tr>\n",
       "    <tr>\n",
       "      <th>24</th>\n",
       "      <td>0.819279</td>\n",
       "      <td>0.452759</td>\n",
       "      <td>0.0638484</td>\n",
       "      <td>-0.718028</td>\n",
       "      <td>0.722172</td>\n",
       "    </tr>\n",
       "    <tr>\n",
       "      <th>25</th>\n",
       "      <td>0.819279</td>\n",
       "      <td>0.452759</td>\n",
       "      <td>0.0638484</td>\n",
       "      <td>-0.718028</td>\n",
       "      <td>0.722172</td>\n",
       "    </tr>\n",
       "    <tr>\n",
       "      <th>26</th>\n",
       "      <td>0.819279</td>\n",
       "      <td>0.452759</td>\n",
       "      <td>0.0638484</td>\n",
       "      <td>-0.718028</td>\n",
       "      <td>0.722172</td>\n",
       "    </tr>\n",
       "    <tr>\n",
       "      <th>27</th>\n",
       "      <td>0.819279</td>\n",
       "      <td>0.452759</td>\n",
       "      <td>0.0638484</td>\n",
       "      <td>-0.718028</td>\n",
       "      <td>0.722172</td>\n",
       "    </tr>\n",
       "    <tr>\n",
       "      <th>28</th>\n",
       "      <td>0.819279</td>\n",
       "      <td>0.452759</td>\n",
       "      <td>0.0638484</td>\n",
       "      <td>-0.718028</td>\n",
       "      <td>0.722172</td>\n",
       "    </tr>\n",
       "    <tr>\n",
       "      <th>29</th>\n",
       "      <td>0.819279</td>\n",
       "      <td>0.452759</td>\n",
       "      <td>0.0638484</td>\n",
       "      <td>-0.718028</td>\n",
       "      <td>0.722172</td>\n",
       "    </tr>\n",
       "    <tr>\n",
       "      <th>30</th>\n",
       "      <td>0.819279</td>\n",
       "      <td>0.452759</td>\n",
       "      <td>0.0638484</td>\n",
       "      <td>-0.718028</td>\n",
       "      <td>0.722172</td>\n",
       "    </tr>\n",
       "  </tbody>\n",
       "</table>\n",
       "</div>"
      ],
      "text/plain": [
       "           k      vbar         v0       rho     sigma\n",
       "0   0.819279  0.452759  0.0638484 -0.718028  0.722172\n",
       "1   0.819279  0.452759  0.0638484 -0.718028  0.722172\n",
       "2   0.819279  0.452759  0.0638484 -0.718028  0.722172\n",
       "3   0.819279  0.452759  0.0638484 -0.718028  0.722172\n",
       "4   0.819279  0.452759  0.0638484 -0.718028  0.722172\n",
       "5   0.819279  0.452759  0.0638484 -0.718028  0.722172\n",
       "6   0.819279  0.452759  0.0638484 -0.718028  0.722172\n",
       "7   0.819279  0.452759  0.0638484 -0.718028  0.722172\n",
       "8   0.819279  0.452759  0.0638484 -0.718028  0.722172\n",
       "9   0.819279  0.452759  0.0638484 -0.718028  0.722172\n",
       "10  0.819279  0.452759  0.0638484 -0.718028  0.722172\n",
       "11  0.819279  0.452759  0.0638484 -0.718028  0.722172\n",
       "12  0.819279  0.452759  0.0638484 -0.718028  0.722172\n",
       "13  0.819279  0.452759  0.0638484 -0.718028  0.722172\n",
       "14  0.819279  0.452759  0.0638484 -0.718028  0.722172\n",
       "15  0.819279  0.452759  0.0638484 -0.718028  0.722172\n",
       "16  0.819279  0.452759  0.0638484 -0.718028  0.722172\n",
       "17  0.819279  0.452759  0.0638484 -0.718028  0.722172\n",
       "18  0.819279  0.452759  0.0638484 -0.718028  0.722172\n",
       "19  0.819279  0.452759  0.0638484 -0.718028  0.722172\n",
       "20  0.819279  0.452759  0.0638484 -0.718028  0.722172\n",
       "21  0.819279  0.452759  0.0638484 -0.718028  0.722172\n",
       "22  0.819279  0.452759  0.0638484 -0.718028  0.722172\n",
       "23  0.819279  0.452759  0.0638484 -0.718028  0.722172\n",
       "24  0.819279  0.452759  0.0638484 -0.718028  0.722172\n",
       "25  0.819279  0.452759  0.0638484 -0.718028  0.722172\n",
       "26  0.819279  0.452759  0.0638484 -0.718028  0.722172\n",
       "27  0.819279  0.452759  0.0638484 -0.718028  0.722172\n",
       "28  0.819279  0.452759  0.0638484 -0.718028  0.722172\n",
       "29  0.819279  0.452759  0.0638484 -0.718028  0.722172\n",
       "30  0.819279  0.452759  0.0638484 -0.718028  0.722172"
      ]
     },
     "execution_count": 45,
     "metadata": {},
     "output_type": "execute_result"
    }
   ],
   "source": [
    "realPara = (example[['Rk', 'Rvbar', 'Rv0','Rrho', 'Rsigma']])\n",
    "realPara.columns = ['k', 'vbar', 'v0', 'rho', 'sigma']\n",
    "realPara.reset_index(drop=True, inplace=True)\n",
    "newPara = pd.DataFrame(index=range(31), columns=realPara.columns)\n",
    "for i in range(31):\n",
    "    for name in realPara.columns:\n",
    "        newPara.iloc[i][name] = realPara.iloc[0][name]\n",
    "newPara"
   ]
  },
  {
   "cell_type": "code",
   "execution_count": 47,
   "metadata": {
    "scrolled": true
   },
   "outputs": [
    {
     "data": {
      "text/html": [
       "<div>\n",
       "<style scoped>\n",
       "    .dataframe tbody tr th:only-of-type {\n",
       "        vertical-align: middle;\n",
       "    }\n",
       "\n",
       "    .dataframe tbody tr th {\n",
       "        vertical-align: top;\n",
       "    }\n",
       "\n",
       "    .dataframe thead th {\n",
       "        text-align: right;\n",
       "    }\n",
       "</style>\n",
       "<table border=\"1\" class=\"dataframe\">\n",
       "  <thead>\n",
       "    <tr style=\"text-align: right;\">\n",
       "      <th></th>\n",
       "      <th>k</th>\n",
       "      <th>vbar</th>\n",
       "      <th>v0</th>\n",
       "      <th>rho</th>\n",
       "      <th>sigma</th>\n",
       "    </tr>\n",
       "  </thead>\n",
       "  <tbody>\n",
       "    <tr>\n",
       "      <th>0</th>\n",
       "      <td>2.003108</td>\n",
       "      <td>0.766503</td>\n",
       "      <td>0.278598</td>\n",
       "      <td>-0.606551</td>\n",
       "      <td>0.217312</td>\n",
       "    </tr>\n",
       "    <tr>\n",
       "      <th>1</th>\n",
       "      <td>1.994029</td>\n",
       "      <td>0.724699</td>\n",
       "      <td>0.189030</td>\n",
       "      <td>-0.610187</td>\n",
       "      <td>0.228518</td>\n",
       "    </tr>\n",
       "    <tr>\n",
       "      <th>2</th>\n",
       "      <td>1.982846</td>\n",
       "      <td>0.677274</td>\n",
       "      <td>0.140961</td>\n",
       "      <td>-0.611728</td>\n",
       "      <td>0.235546</td>\n",
       "    </tr>\n",
       "    <tr>\n",
       "      <th>3</th>\n",
       "      <td>1.970775</td>\n",
       "      <td>0.626121</td>\n",
       "      <td>0.111046</td>\n",
       "      <td>-0.611977</td>\n",
       "      <td>0.241220</td>\n",
       "    </tr>\n",
       "    <tr>\n",
       "      <th>4</th>\n",
       "      <td>1.958803</td>\n",
       "      <td>0.573471</td>\n",
       "      <td>0.089061</td>\n",
       "      <td>-0.611404</td>\n",
       "      <td>0.246896</td>\n",
       "    </tr>\n",
       "    <tr>\n",
       "      <th>5</th>\n",
       "      <td>1.948925</td>\n",
       "      <td>0.527419</td>\n",
       "      <td>0.067376</td>\n",
       "      <td>-0.610923</td>\n",
       "      <td>0.253178</td>\n",
       "    </tr>\n",
       "    <tr>\n",
       "      <th>6</th>\n",
       "      <td>1.944743</td>\n",
       "      <td>0.506576</td>\n",
       "      <td>0.042040</td>\n",
       "      <td>-0.612459</td>\n",
       "      <td>0.258198</td>\n",
       "    </tr>\n",
       "    <tr>\n",
       "      <th>7</th>\n",
       "      <td>1.941752</td>\n",
       "      <td>0.490938</td>\n",
       "      <td>0.022661</td>\n",
       "      <td>-0.613929</td>\n",
       "      <td>0.261750</td>\n",
       "    </tr>\n",
       "    <tr>\n",
       "      <th>8</th>\n",
       "      <td>1.938261</td>\n",
       "      <td>0.471839</td>\n",
       "      <td>0.007217</td>\n",
       "      <td>-0.614936</td>\n",
       "      <td>0.265345</td>\n",
       "    </tr>\n",
       "    <tr>\n",
       "      <th>9</th>\n",
       "      <td>1.934198</td>\n",
       "      <td>0.448370</td>\n",
       "      <td>-0.009117</td>\n",
       "      <td>-0.616059</td>\n",
       "      <td>0.269575</td>\n",
       "    </tr>\n",
       "    <tr>\n",
       "      <th>10</th>\n",
       "      <td>1.930017</td>\n",
       "      <td>0.422237</td>\n",
       "      <td>-0.025356</td>\n",
       "      <td>-0.617622</td>\n",
       "      <td>0.274013</td>\n",
       "    </tr>\n",
       "    <tr>\n",
       "      <th>11</th>\n",
       "      <td>1.925383</td>\n",
       "      <td>0.390267</td>\n",
       "      <td>-0.033610</td>\n",
       "      <td>-0.619679</td>\n",
       "      <td>0.279294</td>\n",
       "    </tr>\n",
       "    <tr>\n",
       "      <th>12</th>\n",
       "      <td>1.919578</td>\n",
       "      <td>0.345077</td>\n",
       "      <td>-0.025009</td>\n",
       "      <td>-0.623126</td>\n",
       "      <td>0.287150</td>\n",
       "    </tr>\n",
       "    <tr>\n",
       "      <th>13</th>\n",
       "      <td>1.914692</td>\n",
       "      <td>0.294875</td>\n",
       "      <td>-0.007045</td>\n",
       "      <td>-0.624905</td>\n",
       "      <td>0.292908</td>\n",
       "    </tr>\n",
       "    <tr>\n",
       "      <th>14</th>\n",
       "      <td>1.906295</td>\n",
       "      <td>0.215047</td>\n",
       "      <td>0.037228</td>\n",
       "      <td>-0.632205</td>\n",
       "      <td>0.309901</td>\n",
       "    </tr>\n",
       "    <tr>\n",
       "      <th>15</th>\n",
       "      <td>1.900410</td>\n",
       "      <td>0.180697</td>\n",
       "      <td>0.053501</td>\n",
       "      <td>-0.630926</td>\n",
       "      <td>0.337019</td>\n",
       "    </tr>\n",
       "    <tr>\n",
       "      <th>16</th>\n",
       "      <td>1.898877</td>\n",
       "      <td>0.188379</td>\n",
       "      <td>0.050549</td>\n",
       "      <td>-0.615934</td>\n",
       "      <td>0.361106</td>\n",
       "    </tr>\n",
       "    <tr>\n",
       "      <th>17</th>\n",
       "      <td>1.893367</td>\n",
       "      <td>0.196327</td>\n",
       "      <td>0.050899</td>\n",
       "      <td>-0.608160</td>\n",
       "      <td>0.424227</td>\n",
       "    </tr>\n",
       "    <tr>\n",
       "      <th>18</th>\n",
       "      <td>1.878629</td>\n",
       "      <td>0.214886</td>\n",
       "      <td>0.053882</td>\n",
       "      <td>-0.642145</td>\n",
       "      <td>0.545086</td>\n",
       "    </tr>\n",
       "    <tr>\n",
       "      <th>19</th>\n",
       "      <td>1.844444</td>\n",
       "      <td>0.245552</td>\n",
       "      <td>0.059049</td>\n",
       "      <td>-0.699240</td>\n",
       "      <td>0.696172</td>\n",
       "    </tr>\n",
       "    <tr>\n",
       "      <th>20</th>\n",
       "      <td>1.768882</td>\n",
       "      <td>0.272215</td>\n",
       "      <td>0.062338</td>\n",
       "      <td>-0.719810</td>\n",
       "      <td>0.788244</td>\n",
       "    </tr>\n",
       "    <tr>\n",
       "      <th>21</th>\n",
       "      <td>1.598893</td>\n",
       "      <td>0.291626</td>\n",
       "      <td>0.063138</td>\n",
       "      <td>-0.722865</td>\n",
       "      <td>0.790735</td>\n",
       "    </tr>\n",
       "    <tr>\n",
       "      <th>22</th>\n",
       "      <td>1.376840</td>\n",
       "      <td>0.317133</td>\n",
       "      <td>0.063442</td>\n",
       "      <td>-0.722299</td>\n",
       "      <td>0.773212</td>\n",
       "    </tr>\n",
       "    <tr>\n",
       "      <th>23</th>\n",
       "      <td>1.149316</td>\n",
       "      <td>0.353749</td>\n",
       "      <td>0.063754</td>\n",
       "      <td>-0.721801</td>\n",
       "      <td>0.756365</td>\n",
       "    </tr>\n",
       "    <tr>\n",
       "      <th>24</th>\n",
       "      <td>1.005975</td>\n",
       "      <td>0.389744</td>\n",
       "      <td>0.063915</td>\n",
       "      <td>-0.721154</td>\n",
       "      <td>0.745035</td>\n",
       "    </tr>\n",
       "    <tr>\n",
       "      <th>25</th>\n",
       "      <td>0.879581</td>\n",
       "      <td>0.426635</td>\n",
       "      <td>0.063927</td>\n",
       "      <td>-0.719500</td>\n",
       "      <td>0.730871</td>\n",
       "    </tr>\n",
       "    <tr>\n",
       "      <th>26</th>\n",
       "      <td>0.817866</td>\n",
       "      <td>0.452653</td>\n",
       "      <td>0.063948</td>\n",
       "      <td>-0.718808</td>\n",
       "      <td>0.724791</td>\n",
       "    </tr>\n",
       "    <tr>\n",
       "      <th>27</th>\n",
       "      <td>0.814098</td>\n",
       "      <td>0.454967</td>\n",
       "      <td>0.063864</td>\n",
       "      <td>-0.718079</td>\n",
       "      <td>0.722034</td>\n",
       "    </tr>\n",
       "    <tr>\n",
       "      <th>28</th>\n",
       "      <td>0.819401</td>\n",
       "      <td>0.452681</td>\n",
       "      <td>0.063847</td>\n",
       "      <td>-0.718019</td>\n",
       "      <td>0.722150</td>\n",
       "    </tr>\n",
       "    <tr>\n",
       "      <th>29</th>\n",
       "      <td>0.818976</td>\n",
       "      <td>0.452886</td>\n",
       "      <td>0.063849</td>\n",
       "      <td>-0.718030</td>\n",
       "      <td>0.722160</td>\n",
       "    </tr>\n",
       "    <tr>\n",
       "      <th>30</th>\n",
       "      <td>0.819289</td>\n",
       "      <td>0.452755</td>\n",
       "      <td>0.063848</td>\n",
       "      <td>-0.718028</td>\n",
       "      <td>0.722172</td>\n",
       "    </tr>\n",
       "  </tbody>\n",
       "</table>\n",
       "</div>"
      ],
      "text/plain": [
       "           k      vbar        v0       rho     sigma\n",
       "0   2.003108  0.766503  0.278598 -0.606551  0.217312\n",
       "1   1.994029  0.724699  0.189030 -0.610187  0.228518\n",
       "2   1.982846  0.677274  0.140961 -0.611728  0.235546\n",
       "3   1.970775  0.626121  0.111046 -0.611977  0.241220\n",
       "4   1.958803  0.573471  0.089061 -0.611404  0.246896\n",
       "5   1.948925  0.527419  0.067376 -0.610923  0.253178\n",
       "6   1.944743  0.506576  0.042040 -0.612459  0.258198\n",
       "7   1.941752  0.490938  0.022661 -0.613929  0.261750\n",
       "8   1.938261  0.471839  0.007217 -0.614936  0.265345\n",
       "9   1.934198  0.448370 -0.009117 -0.616059  0.269575\n",
       "10  1.930017  0.422237 -0.025356 -0.617622  0.274013\n",
       "11  1.925383  0.390267 -0.033610 -0.619679  0.279294\n",
       "12  1.919578  0.345077 -0.025009 -0.623126  0.287150\n",
       "13  1.914692  0.294875 -0.007045 -0.624905  0.292908\n",
       "14  1.906295  0.215047  0.037228 -0.632205  0.309901\n",
       "15  1.900410  0.180697  0.053501 -0.630926  0.337019\n",
       "16  1.898877  0.188379  0.050549 -0.615934  0.361106\n",
       "17  1.893367  0.196327  0.050899 -0.608160  0.424227\n",
       "18  1.878629  0.214886  0.053882 -0.642145  0.545086\n",
       "19  1.844444  0.245552  0.059049 -0.699240  0.696172\n",
       "20  1.768882  0.272215  0.062338 -0.719810  0.788244\n",
       "21  1.598893  0.291626  0.063138 -0.722865  0.790735\n",
       "22  1.376840  0.317133  0.063442 -0.722299  0.773212\n",
       "23  1.149316  0.353749  0.063754 -0.721801  0.756365\n",
       "24  1.005975  0.389744  0.063915 -0.721154  0.745035\n",
       "25  0.879581  0.426635  0.063927 -0.719500  0.730871\n",
       "26  0.817866  0.452653  0.063948 -0.718808  0.724791\n",
       "27  0.814098  0.454967  0.063864 -0.718079  0.722034\n",
       "28  0.819401  0.452681  0.063847 -0.718019  0.722150\n",
       "29  0.818976  0.452886  0.063849 -0.718030  0.722160\n",
       "30  0.819289  0.452755  0.063848 -0.718028  0.722172"
      ]
     },
     "execution_count": 47,
     "metadata": {},
     "output_type": "execute_result"
    }
   ],
   "source": [
    "paraRout = pd.read_csv(\"/home/lin/git/summerProject/paraRout\")\n",
    "paraRout"
   ]
  },
  {
   "cell_type": "code",
   "execution_count": 48,
   "metadata": {},
   "outputs": [],
   "source": [
    "routs = np.abs(paraRout - newPara)/np.abs(newPara)"
   ]
  },
  {
   "cell_type": "code",
   "execution_count": 49,
   "metadata": {},
   "outputs": [],
   "source": [
    "%matplotlib tk"
   ]
  },
  {
   "cell_type": "code",
   "execution_count": 50,
   "metadata": {},
   "outputs": [],
   "source": [
    "plt.semilogy(routs['k'], 'rX-')\n",
    "plt.semilogy(routs['vbar'], 'bX-')\n",
    "plt.semilogy(routs['v0'], 'kX-')\n",
    "plt.semilogy(routs['rho'], 'gX-')\n",
    "plt.semilogy(routs['sigma'], 'mX-')\n",
    "plt.legend([r'$|k_k - k^{\\star}|/|k^{\\star}|$', r'$|\\overline{\\upsilon}_k - \\overline{\\upsilon}^{\\star}|/|\\overline{\\upsilon}^{\\star}|$', r'$|(\\upsilon_0)_k - \\upsilon_0^{\\star}|/|\\upsilon_0^{\\star}|$',r'$|\\rho_k - \\rho^{\\star}|/|\\rho^{\\star}|$',r'$|\\sigma_k - \\sigma^{\\star}|/|\\sigma^{\\star}|$',], fontsize=22)\n",
    "plt.xlabel('Index of iteration k', fontsize=24)\n",
    "plt.ylabel('Nomalized differences between parameters found and targets', fontsize=24)\n",
    "plt.xticks(fontsize=20)\n",
    "plt.yticks(fontsize=20)\n",
    "plt.grid()"
   ]
  },
  {
   "cell_type": "code",
   "execution_count": 54,
   "metadata": {},
   "outputs": [],
   "source": [
    "residual = np.array([11228182.46038808,807255.2860647117,76039.65750674544,10062.25865084798,1887.359525438133,351.3059154344626,49.09839337737781,10.14481475124527,3.317012356056412,1.152402586648755,0.4177379994440593,0.2055414882174497,0.1282323013866701,0.08938729119401917,0.03267351837427038,0.02753496116476249,0.02170500399809178,0.01789866338104146,0.0108093724732074,0.004463637920357317,0.001246749982923448,0.000733681009537488,0.0005813803495587621,0.0005499026977308425,0.0001869581706586826,0.0001337921316549374,1.328981933037579e-05,6.953217715155133e-08,1.436982211690292e-09,2.082707307407935e-10,3.971677980382377e-13])"
   ]
  },
  {
   "cell_type": "code",
   "execution_count": 55,
   "metadata": {},
   "outputs": [],
   "source": [
    "plt.semilogy(residual, 'bX-.')\n",
    "plt.legend(['Reduction path of the objective function'], fontsize=22)\n",
    "plt.xlabel('Index of iteration k', fontsize=24)\n",
    "plt.ylabel('Value of the objective function', fontsize=24)\n",
    "plt.xticks(fontsize=20)\n",
    "plt.yticks(fontsize=20)\n",
    "plt.grid()"
   ]
  },
  {
   "cell_type": "code",
   "execution_count": 56,
   "metadata": {},
   "outputs": [],
   "source": [
    "realSPX = np.array([0.07478998780360964,0.1511881858006229,0.2027213809295823,0.2410147787627178,0.2731537190898699,0.3015950796032961,0.3634066696340293,0.4259388798643055,0.03423046264597641,0.05564391048588092,0.07821984090287659,0.099843150859326,0.1197462338377685,0.1379057817951416,0.1810112295762004,0.2187702577360547,0.01335175190303648,0.02636982030737595,0.03824713876862126,0.0496783014582497,0.06059723482555364,0.07117410881843453,0.1020129531561916,0.1289858583611486,5.507656245541976e-06,0.0003417334933978206,0.001793873971183487,0.004031474194149178,0.008600842548238147,0.01362447696797399,0.03324075369386573,0.05432814885255527,-3.810543297612796e-08,2.314515999204069e-06,4.939701354645699e-05,0.0002662664419762034,0.0008058353744827404,0.001794209495300502,0.008420466884001467,0.01913449284155004])"
   ]
  },
  {
   "cell_type": "code",
   "execution_count": 57,
   "metadata": {},
   "outputs": [
    {
     "data": {
      "text/plain": [
       "(40,)"
      ]
     },
     "execution_count": 57,
     "metadata": {},
     "output_type": "execute_result"
    }
   ],
   "source": [
    "realSPX.shape"
   ]
  },
  {
   "cell_type": "code",
   "execution_count": 58,
   "metadata": {},
   "outputs": [],
   "source": [
    "realVIX = np.array([0.4361447852517755,0.4361285192330442,0.4361100410116878,0.4360911262154472,0.4360737204975733,0.4401700049222158,0.4401473105482878,0.4401212915991083,0.4400943990480715,0.4400694237215474,0.444095252384773,0.444067741566241,0.4440359772754752,0.4440029019018689,0.4439719673173388,0.448990974997294,0.4489584442123633,0.4489206007818745,0.4488808829620785,0.4488434563586114,0.4641372127842907,0.4640924073448026,0.4640392826533965,0.4639823989716804,0.4639277683211129,0.4776670574651534,0.4776132479141628,0.4775485079437879,0.4774781137667365,0.4774095149226167])"
   ]
  },
  {
   "cell_type": "code",
   "execution_count": 59,
   "metadata": {},
   "outputs": [
    {
     "data": {
      "text/plain": [
       "(30,)"
      ]
     },
     "execution_count": 59,
     "metadata": {},
     "output_type": "execute_result"
    }
   ],
   "source": [
    "realVIX.shape"
   ]
  },
  {
   "cell_type": "code",
   "execution_count": 64,
   "metadata": {},
   "outputs": [],
   "source": [
    "initialSPX = np.array([0.09992093840981257,0.1781617982807032,0.2329235066714602,0.2749930226235151,0.3106782873547143,0.3422820828275765,0.4136692872971223,0.4799118705242865,0.06709033572913849,0.1030770804774587,0.1363788848334239,0.1667389423064116,0.1942112806390227,0.2191460100470349,0.2801283189375107,0.3313237149002883,0.04678646016073475,0.07706737451786527,0.1026386167084481,0.1257976614788078,0.1470885834874019,0.1669809914495011,0.2208814395382606,0.2660901298496009,0.00805724474535678,0.02619998314958867,0.04594411507825658,0.06353266005681651,0.0845012973891318,0.1029888528928549,0.1555681389458044,0.2010274887932842,0.00113129600711326,0.008799144330690551,0.02058895127311239,0.0343790256400592,0.04911691405801335,0.06425633203050402,0.1107907741822713,0.1531136597025941])"
   ]
  },
  {
   "cell_type": "code",
   "execution_count": 65,
   "metadata": {},
   "outputs": [],
   "source": [
    "initialVIX = np.array([0.7497088142563657,0.7496925794246937,0.7496741366318193,0.7496552581010384,0.749637885755193,0.7544871438544895,0.7544644584834362,0.7544384498561026,0.754411567973601,0.7543866025551501,0.7590845992667851,0.759057078822633,0.7590253034180673,0.7589922164719897,0.7589612710640637,0.7646273075502549,0.7645947675448533,0.764556913388064,0.7645171843106657,0.7644797470989914,0.7807823437948596,0.7807375271756094,0.7806843892287504,0.7806274913537966,0.7805728470723017,0.7939488285269251,0.7938950067276593,0.7938302520211628,0.7937598418211995,0.7936912273630572])"
   ]
  },
  {
   "cell_type": "code",
   "execution_count": 60,
   "metadata": {},
   "outputs": [],
   "source": [
    "optSPX = np.array([0.07478998330825991,0.1511881809624669,0.2027213742904438,0.2410147693292858,0.2731537060320192,0.3015950621576541,0.3634066339837972,0.4259388229055147,0.03423045697801266,0.05564390453620619,0.07821983386961903,0.09984314121849809,0.1197462200079833,0.1379057622601254,0.1810111849754902,0.2187701777850605,0.01335174762510088,0.0263698169715359,0.03824713629624694,0.0496782984407956,0.06059722951085358,0.07117409936709045,0.1020129208234652,0.1289857908825274,5.507653235168098e-06,0.0003417335484702847,0.001793874618338194,0.004031475693787042,0.008600844949581476,0.01362447892781697,0.03324074348211809,0.05432811081199039,-3.810543297612796e-08,2.314515445320785e-06,4.939699886146426e-05,0.0002662663642584691,0.0008058351466696318,0.001794208949200881,0.00842046207863016,0.01913447334959481])"
   ]
  },
  {
   "cell_type": "code",
   "execution_count": 61,
   "metadata": {},
   "outputs": [],
   "source": [
    "optVIX = np.array([0.4361444591264983,0.4361281931076638,0.4361097148861902,0.4360908000898298,0.4360733943718457,0.4401696681720964,0.4401469737981951,0.4401209548490461,0.4400940622980407,0.440069086971546,0.4440949049733128,0.4440673941548383,0.4440356298641388,0.4440025544906016,0.4439716199061359,0.4489906132256151,0.4489580824407348,0.4489202390103048,0.4488805211905705,0.4488430945871615,0.4641367984359148,0.4640919929964292,0.464038868305026,0.4639819846233131,0.4639273539727485,0.4776665850977025,0.4776127755466941,0.477548035576298,0.4774776413992233,0.4774090425550807])"
   ]
  },
  {
   "cell_type": "code",
   "execution_count": 66,
   "metadata": {},
   "outputs": [],
   "source": [
    "diffInitialSPX = np.abs(realSPX - initialSPX)"
   ]
  },
  {
   "cell_type": "code",
   "execution_count": 67,
   "metadata": {},
   "outputs": [],
   "source": [
    "diffInitialVIX = np.abs(realVIX - initialVIX)"
   ]
  },
  {
   "cell_type": "code",
   "execution_count": 68,
   "metadata": {},
   "outputs": [],
   "source": [
    "diffOptSPX = np.abs(realSPX - optSPX)\n",
    "diffOptVIX = np.abs(realVIX - optVIX)"
   ]
  },
  {
   "cell_type": "code",
   "execution_count": 69,
   "metadata": {},
   "outputs": [],
   "source": [
    "VIXstrike = np.array([0.07660333466800909, 0.07823036262505452, 0.08007866879151475,\n",
    "                      0.08197064388101638, 0.08371167160297435, 0.07528231789011931,\n",
    "                      0.07755350918528185, 0.08015741494276396, 0.08284874840358378,\n",
    "                      0.0853482112450969,  0.07430112345712658, 0.077055734551228,\n",
    "                      0.08023623852982013, 0.08354801898792094, 0.08664544590808211,\n",
    "                      0.0732872469748735,  0.07654634796281677, 0.08033769704753065,\n",
    "                      0.08431683207193616, 0.08806642128491488, 0.07084911309063555,\n",
    "                      0.07534553012964565, 0.08067681958626018, 0.08638533974549638,\n",
    "                      0.0918677586016848,  0.06910110193769552, 0.07450988995253548,\n",
    "                      0.08101737363349071, 0.08809320258894406, 0.0949885695945464])"
   ]
  },
  {
   "cell_type": "code",
   "execution_count": 70,
   "metadata": {},
   "outputs": [],
   "source": [
    "VIXexp = np.array([7, 7, 7, 7, 7, 14, 14, 14, 14, 14, 21, 21, 21, 21, 21, 30, 30, 30, 30, 30, 60, 60, 60, 60, 60, 90, 90, 90, 90, 90])"
   ]
  },
  {
   "cell_type": "code",
   "execution_count": 71,
   "metadata": {},
   "outputs": [],
   "source": [
    "SPXstrike = np.array([0.9371, 0.8603, 0.8112, 0.7760, 0.7470, 0.7216, 0.6699,\n",
    "                      0.6137, 0.9956, 0.9868, 0.9728, 0.9588, 0.9464, 0.9358,\n",
    "                      0.9175, 0.9025, 1.0427, 1.0463, 1.0499, 1.0530, 1.0562,\n",
    "                      1.0593, 1.0663, 1.0766, 1.2287, 1.2399, 1.2485, 1.2659,\n",
    "                      1.2646, 1.2715, 1.2859, 1.3046, 1.3939, 1.4102, 1.4291,\n",
    "                      1.4456, 1.4603, 1.4736, 1.5005, 1.5328])\n",
    "SPXexp = np.array([30, 60, 90, 120, 150, 180, 270, 360,\n",
    "                   30, 60, 90, 120, 150, 180, 270, 360,\n",
    "                   30, 60, 90, 120, 150, 180, 270, 360,\n",
    "                   30, 60, 90, 120, 150, 180, 270, 360,\n",
    "                   30, 60, 90, 120, 150, 180, 270, 360])"
   ]
  },
  {
   "cell_type": "code",
   "execution_count": 77,
   "metadata": {},
   "outputs": [],
   "source": [
    "fig = plt.figure()\n",
    "ax = fig.add_subplot(111, projection='3d')\n",
    "ax.dist=10\n",
    "for i in range(30):\n",
    "    ax.plot(np.array([VIXstrike[i], VIXstrike[i]]), np.array([VIXexp[i], VIXexp[i]]), np.array([diffInitialVIX.min()-0.0005, diffInitialVIX[i]]), 'y-.', alpha=0.5)\n",
    "ax.scatter(VIXstrike, VIXexp, diffInitialVIX, s = 30, depthshade=False)\n",
    "ax.set_xlabel('Strikes of VIX options', fontsize=24, labelpad=22)\n",
    "ax.set_ylabel('Maturities of VIX options', fontsize=24, labelpad=22)\n",
    "ax.set_zlabel('Errors', fontsize=24, labelpad=45)\n",
    "plt.xticks(fontsize=20)\n",
    "plt.yticks([7, 14, 21, 30, 60, 90], fontsize=20)\n",
    "for t in ax.zaxis.get_major_ticks(): t.label.set_fontsize(20)\n",
    "ax.tick_params(axis='z', which='major', pad=20)\n",
    "plt.grid()"
   ]
  },
  {
   "cell_type": "code",
   "execution_count": 80,
   "metadata": {},
   "outputs": [],
   "source": [
    "fig = plt.figure()\n",
    "ax = fig.add_subplot(111, projection='3d')\n",
    "ax.dist=10\n",
    "ax.scatter(VIXstrike, VIXexp, diffOptVIX, s = 30, depthshade=False)\n",
    "for i in range(30):\n",
    "    ax.plot(np.array([VIXstrike[i], VIXstrike[i]]), np.array([VIXexp[i], VIXexp[i]]), np.array([diffOptVIX.min()-0.00000001, diffOptVIX[i]]), 'y-.', alpha=0.5)\n",
    "ax.set_xlabel('Strikes of VIX options', fontsize=24, labelpad=22)\n",
    "ax.set_ylabel('Maturities of VIX options', fontsize=24, labelpad=22)\n",
    "ax.set_zlabel('Errors', fontsize=24, labelpad=20)\n",
    "plt.xticks(fontsize=20)\n",
    "plt.yticks([7, 14, 21, 30, 60, 90], fontsize=20)\n",
    "for t in ax.zaxis.get_major_ticks(): t.label.set_fontsize(20)\n",
    "ax.tick_params(axis='z', which='major', pad=5)\n",
    "plt.grid()\n"
   ]
  },
  {
   "cell_type": "code",
   "execution_count": 85,
   "metadata": {},
   "outputs": [],
   "source": [
    "fig = plt.figure()\n",
    "ax = fig.add_subplot(111, projection='3d')\n",
    "ax.scatter(SPXstrike, SPXexp, diffInitialSPX, s = 30, depthshade=False)\n",
    "for i in range(40):\n",
    "    ax.plot(np.array([SPXstrike[i], SPXstrike[i]]), np.array([SPXexp[i], SPXexp[i]]), np.array([diffInitialSPX.min()-0.01, diffInitialSPX[i]]), 'y-.', alpha=0.5)\n",
    "ax.set_xlabel('Strikes of SPX options', fontsize=24, labelpad=22)\n",
    "ax.set_ylabel('Maturities of SPX options', fontsize=24, labelpad=22)\n",
    "ax.set_zlabel('Errors', fontsize=24, labelpad=40)\n",
    "plt.xticks(fontsize=20)\n",
    "plt.yticks([30, 60, 90, 120, 150, 180, 270, 360], fontsize=15)\n",
    "for t in ax.zaxis.get_major_ticks(): t.label.set_fontsize(20)\n",
    "ax.tick_params(axis='z', which='major', pad=20)\n",
    "plt.grid()"
   ]
  },
  {
   "cell_type": "code",
   "execution_count": 84,
   "metadata": {},
   "outputs": [],
   "source": [
    "fig = plt.figure()\n",
    "ax = fig.add_subplot(111, projection='3d')\n",
    "ax.scatter(SPXstrike, SPXexp, diffOptSPX, s = 30, depthshade=False)\n",
    "for i in range(40):\n",
    "    ax.plot(np.array([SPXstrike[i], SPXstrike[i]]), np.array([SPXexp[i], SPXexp[i]]), np.array([diffOptSPX.min()-0.00000001, diffOptSPX[i]]), 'y-.', alpha=0.5)\n",
    "ax.set_xlabel('Strikes of SPX options', fontsize=24, labelpad=22)\n",
    "ax.set_ylabel('Maturities of SPX options', fontsize=24, labelpad=22)\n",
    "ax.set_zlabel('Errors', fontsize=24, labelpad=20)\n",
    "plt.xticks(fontsize=20)\n",
    "plt.yticks([30, 60, 90, 120, 150, 180, 270, 360], fontsize=15)\n",
    "for t in ax.zaxis.get_major_ticks(): t.label.set_fontsize(20)\n",
    "ax.tick_params(axis='z', which='major', pad=10)\n",
    "plt.grid()"
   ]
  },
  {
   "cell_type": "code",
   "execution_count": null,
   "metadata": {},
   "outputs": [],
   "source": []
  }
 ],
 "metadata": {
  "kernelspec": {
   "display_name": "Python 3",
   "language": "python",
   "name": "python3"
  },
  "language_info": {
   "codemirror_mode": {
    "name": "ipython",
    "version": 3
   },
   "file_extension": ".py",
   "mimetype": "text/x-python",
   "name": "python",
   "nbconvert_exporter": "python",
   "pygments_lexer": "ipython3",
   "version": "3.7.0"
  }
 },
 "nbformat": 4,
 "nbformat_minor": 2
}
