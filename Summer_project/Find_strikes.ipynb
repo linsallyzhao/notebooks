{
 "cells": [
  {
   "cell_type": "code",
   "execution_count": 1,
   "metadata": {},
   "outputs": [],
   "source": [
    "import numpy as np\n",
    "import pandas as pd\n",
    "import matplotlib.pyplot as plt\n",
    "from scipy.special import erf\n",
    "from scipy.stats import norm\n",
    "%matplotlib inline\n",
    "#%matplotlib tk"
   ]
  },
  {
   "cell_type": "code",
   "execution_count": 2,
   "metadata": {},
   "outputs": [
    {
     "data": {
      "text/plain": [
       "array([ 30.,  60.,  90., 120., 150., 180., 270., 360.])"
      ]
     },
     "execution_count": 2,
     "metadata": {},
     "output_type": "execute_result"
    }
   ],
   "source": [
    "SPXtarr = np.array([0.119047619047619, 0.238095238095238, 0.357142857142857,\n",
    "             0.476190476190476, 0.595238095238095, 0.714285714285714,\n",
    "             1.07142857142857,  1.42857142857143])\n",
    "SPXtarr * 252"
   ]
  },
  {
   "cell_type": "code",
   "execution_count": 3,
   "metadata": {},
   "outputs": [],
   "source": [
    "SPXmaturities = np.array([0.08219178, 0.16438356, 0.24657534, 0.32876712, 0.4109589 ,0.49315068, 0.73972603, 0.98630137])\n",
    "VIXmaturities = np.array([7, 14, 21, 30, 60, 90])/365\n",
    "deltas = np.array([0.9, 0.75, 0.5, 0.25, 0.1])"
   ]
  },
  {
   "cell_type": "code",
   "execution_count": 4,
   "metadata": {},
   "outputs": [
    {
     "data": {
      "text/plain": [
       "array([0.01917808, 0.03835616, 0.05753425, 0.08219178, 0.16438356,\n",
       "       0.24657534])"
      ]
     },
     "execution_count": 4,
     "metadata": {},
     "output_type": "execute_result"
    }
   ],
   "source": [
    "VIXmaturities"
   ]
  },
  {
   "cell_type": "code",
   "execution_count": 14,
   "metadata": {},
   "outputs": [],
   "source": [
    "k = 3.0\n",
    "vbar = 0.1 * 100\n",
    "v0 = 0.08\n",
    "rho = -0.8\n",
    "sigma = 0.25\n",
    "r = 0.02"
   ]
  },
  {
   "cell_type": "code",
   "execution_count": 6,
   "metadata": {},
   "outputs": [],
   "source": [
    "def strike(delta, tau):\n",
    "    d1 = norm.ppf(delta)\n",
    "    k = v0/np.exp(d1 * sigma * np.sqrt(tau) - (r + sigma**2 * 0.5)*tau)\n",
    "    return k"
   ]
  },
  {
   "cell_type": "code",
   "execution_count": 15,
   "metadata": {
    "scrolled": false
   },
   "outputs": [
    {
     "name": "stdout",
     "output_type": "stream",
     "text": [
      "0.07660333466800909,\n",
      "0.07823036262505452,\n",
      "0.08007866879151475,\n",
      "0.08197064388101638,\n",
      "0.08371167160297435,\n",
      "0.07528231789011931,\n",
      "0.07755350918528185,\n",
      "0.08015741494276396,\n",
      "0.08284874840358378,\n",
      "0.0853482112450969,\n",
      "0.07430112345712658,\n",
      "0.077055734551228,\n",
      "0.08023623852982013,\n",
      "0.08354801898792094,\n",
      "0.08664544590808211,\n",
      "0.0732872469748735,\n",
      "0.07654634796281677,\n",
      "0.08033769704753065,\n",
      "0.08431683207193616,\n",
      "0.08806642128491488,\n",
      "0.07084911309063555,\n",
      "0.07534553012964565,\n",
      "0.08067681958626018,\n",
      "0.08638533974549638,\n",
      "0.0918677586016848,\n",
      "0.06910110193769552,\n",
      "0.07450988995253548,\n",
      "0.08101737363349071,\n",
      "0.08809320258894406,\n",
      "0.0949885695945464,\n"
     ]
    }
   ],
   "source": [
    "for tau in VIXmaturities:\n",
    "    for delta in deltas:\n",
    "\n",
    "        k = strike(delta, tau)\n",
    "        print(f'{k},')"
   ]
  },
  {
   "cell_type": "code",
   "execution_count": 16,
   "metadata": {},
   "outputs": [
    {
     "name": "stdout",
     "output_type": "stream",
     "text": [
      "0.9728883965569388,\n",
      "0.9629498634949916,\n",
      "0.9558166302191722,\n",
      "0.9501284349297767,\n",
      "0.9453595503163794,\n",
      "0.9412409156648102,\n",
      "0.9314464152996802,\n",
      "0.9240978710004466,\n",
      "0.9865287931820181,\n",
      "0.982098527453292,\n",
      "0.9791468839248835,\n",
      "0.9769577867538504,\n",
      "0.9752544510919837,\n",
      "0.9738952084195568,\n",
      "0.971176355610958,\n",
      "0.9697605143698358,\n",
      "1.0019086684892442,\n",
      "1.0038209799938902,\n",
      "1.0057369414672468,\n",
      "1.007656559875894,\n",
      "1.0095798421997093,\n",
      "1.0115067954318921,\n",
      "1.017309750947023,\n",
      "1.0231459974422654,\n",
      "1.0175283143597833,\n",
      "1.0260238985276533,\n",
      "1.033049087974722,\n",
      "1.0393199751595301,\n",
      "1.045113361579374,\n",
      "1.0505709324366257,\n",
      "1.0656346021941978,\n",
      "1.0794703605377993,\n",
      "1.031794585634305,\n",
      "1.0464268162608605,\n",
      "1.0582644865678366,\n",
      "1.0686678825015554,\n",
      "1.0781627555726092,\n",
      "1.0870181907490015,\n",
      "1.111088209018361,\n",
      "1.1328104575642102,\n"
     ]
    }
   ],
   "source": [
    "sigma = 0.08\n",
    "v0 = 1\n",
    "for delta in deltas:\n",
    "    for tau in SPXmaturities:\n",
    "    \n",
    "\n",
    "        k = strike(delta, tau)\n",
    "        print(f'{k},')"
   ]
  },
  {
   "cell_type": "code",
   "execution_count": 17,
   "metadata": {},
   "outputs": [],
   "source": [
    "allT = np.array([0, 7, 14, 21, 30, 37, 44, 51, 60, 90, 120, 150, 180, 270, 360])/365"
   ]
  },
  {
   "cell_type": "code",
   "execution_count": 3,
   "metadata": {},
   "outputs": [
    {
     "data": {
      "text/plain": [
       "array([1.46371706e-04, 4.31183274e-04, 7.89958945e-04, 2.91974407e-04,\n",
       "       8.57045896e-05, 5.48371267e-04, 4.84620007e-04, 3.51856480e-04,\n",
       "       7.00281831e-04, 7.14263885e-04, 7.51713276e-04, 6.58928904e-04,\n",
       "       4.95814626e-04, 6.67154021e-04])"
      ]
     },
     "execution_count": 3,
     "metadata": {},
     "output_type": "execute_result"
    }
   ],
   "source": [
    "np.random.rand(14) * 0.001"
   ]
  },
  {
   "cell_type": "code",
   "execution_count": 18,
   "metadata": {},
   "outputs": [
    {
     "data": {
      "text/plain": [
       "array([0.        , 0.01917808, 0.05753425, 0.11506849, 0.19726027,\n",
       "       0.29863014, 0.41917808, 0.55890411, 0.72328767, 0.96986301,\n",
       "       1.29863014, 1.70958904, 2.20273973, 2.94246575, 3.92876712])"
      ]
     },
     "execution_count": 18,
     "metadata": {},
     "output_type": "execute_result"
    }
   ],
   "source": [
    "allT.cumsum()"
   ]
  },
  {
   "cell_type": "code",
   "execution_count": 19,
   "metadata": {},
   "outputs": [
    {
     "data": {
      "text/plain": [
       "array([0.        , 0.01917808, 0.03835616, 0.05753425, 0.08219178,\n",
       "       0.10136986, 0.12054795, 0.13972603, 0.16438356, 0.24657534,\n",
       "       0.32876712, 0.4109589 , 0.49315068, 0.73972603, 0.98630137])"
      ]
     },
     "execution_count": 19,
     "metadata": {},
     "output_type": "execute_result"
    }
   ],
   "source": [
    "allT"
   ]
  },
  {
   "cell_type": "code",
   "execution_count": 20,
   "metadata": {},
   "outputs": [],
   "source": [
    "disStar = np.array([0.91840917, 0.50851988, 0.25907174, 0.85560232, 0.53713517,\n",
    "                     0.02042697, 0.54469571, 0.89533401, 0.96375783, 0.83626845,\n",
    "                     0.93122131, 1.36544665, 0.90517004, 0.98858194])\n"
   ]
  },
  {
   "cell_type": "code",
   "execution_count": 21,
   "metadata": {},
   "outputs": [
    {
     "data": {
      "text/plain": [
       "array([ 0.91840917,  1.42692905,  1.68600079,  2.54160311,  3.07873828,\n",
       "        3.09916525,  3.64386096,  4.53919497,  5.5029528 ,  6.33922125,\n",
       "        7.27044256,  8.63588921,  9.54105925, 10.52964119])"
      ]
     },
     "execution_count": 21,
     "metadata": {},
     "output_type": "execute_result"
    }
   ],
   "source": [
    "disStar.cumsum()"
   ]
  },
  {
   "cell_type": "code",
   "execution_count": 26,
   "metadata": {},
   "outputs": [
    {
     "data": {
      "text/plain": [
       "array([0.50851988, 0.76759162, 1.62319394, 2.16032911])"
      ]
     },
     "execution_count": 26,
     "metadata": {},
     "output_type": "execute_result"
    }
   ],
   "source": [
    "np.array([0.50851988, 0.25907174, 0.85560232, 0.53713517]).cumsum()"
   ]
  },
  {
   "cell_type": "code",
   "execution_count": null,
   "metadata": {},
   "outputs": [],
   "source": []
  }
 ],
 "metadata": {
  "kernelspec": {
   "display_name": "Python 3",
   "language": "python",
   "name": "python3"
  },
  "language_info": {
   "codemirror_mode": {
    "name": "ipython",
    "version": 3
   },
   "file_extension": ".py",
   "mimetype": "text/x-python",
   "name": "python",
   "nbconvert_exporter": "python",
   "pygments_lexer": "ipython3",
   "version": "3.7.0"
  }
 },
 "nbformat": 4,
 "nbformat_minor": 2
}
