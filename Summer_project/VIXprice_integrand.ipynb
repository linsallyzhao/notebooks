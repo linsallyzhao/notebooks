{
 "cells": [
  {
   "cell_type": "code",
   "execution_count": 1,
   "metadata": {},
   "outputs": [],
   "source": [
    "import numpy as np\n",
    "import pandas as pd\n",
    "import matplotlib.pyplot as plt\n",
    "from scipy.special import erf\n",
    "\n",
    "%matplotlib inline\n",
    "#%matplotlib tk"
   ]
  },
  {
   "cell_type": "code",
   "execution_count": 2,
   "metadata": {},
   "outputs": [],
   "source": [
    "k = 3.0\n",
    "vbar = 0.1\n",
    "v0 = 0.08\n",
    "rho = -0.8\n",
    "sigma = 0.25\n",
    "\n",
    "S0 = 100.0\n",
    "r = 0.02\n",
    "K =  7.660333466800909\n",
    "tau = 0.01917808\n",
    "tbar = 30/365.0"
   ]
  },
  {
   "cell_type": "code",
   "execution_count": 27,
   "metadata": {},
   "outputs": [],
   "source": [
    "z = np.linspace(0.5, 100, 1000) * 1j + 2.0\n",
    "z = np.array([z])\n",
    "u = np.array([0.0122236989606157641980521, 0.0366637909687334933302153,     \n",
    "                    0.0610819696041395681037870, 0.0854636405045154986364980,     \n",
    "                    0.1097942311276437466729747, 0.1340591994611877851175753,     \n",
    "                    0.1582440427142249339974755, 0.1823343059853371824103826,     \n",
    "                    0.2063155909020792171540580, 0.2301735642266599864109866,     \n",
    "                    0.2538939664226943208556180, 0.2774626201779044028062316,     \n",
    "                    0.3008654388776772026671541, 0.3240884350244133751832523,     \n",
    "                    0.3471177285976355084261628, 0.3699395553498590266165917,     \n",
    "                    0.3925402750332674427356482, 0.4149063795522750154922739,     \n",
    "                    0.4370245010371041629370429, 0.4588814198335521954490891,     \n",
    "                    0.4804640724041720258582757, 0.5017595591361444642896063,     \n",
    "                    0.5227551520511754784539479, 0.5434383024128103634441936,     \n",
    "                    0.5637966482266180839144308, 0.5838180216287630895500389,     \n",
    "                    0.6034904561585486242035732, 0.6228021939105849107615396,     \n",
    "                    0.6417416925623075571535249, 0.6602976322726460521059468,     \n",
    "                    0.6784589224477192593677557, 0.6962147083695143323850866,     \n",
    "                    0.7135543776835874133438599, 0.7304675667419088064717369,     \n",
    "                    0.7469441667970619811698824, 0.7629743300440947227797691,     \n",
    "                    0.7785484755064119668504941, 0.7936572947621932902433329,     \n",
    "                    0.8082917575079136601196422, 0.8224431169556438424645942,     \n",
    "                    0.8361029150609068471168753, 0.8492629875779689691636001,     \n",
    "                    0.8619154689395484605906323, 0.8740527969580317986954180,     \n",
    "                    0.8856677173453972174082924, 0.8967532880491581843864474,     \n",
    "                    0.9073028834017568139214859, 0.9173101980809605370364836,     \n",
    "                    0.9267692508789478433346245, 0.9356743882779163757831268,     \n",
    "                    0.9440202878302201821211114, 0.9518019613412643862177963,     \n",
    "                    0.9590147578536999280989185, 0.9656543664319652686458290,     \n",
    "                    0.9717168187471365809043384, 0.9771984914639073871653744,                          \n",
    "                    0.9820961084357185360247656, 0.9864067427245862088712355,     \n",
    "                    0.9901278184917343833379303, 0.9932571129002129353034372,     \n",
    "                    0.9957927585349811868641612, 0.9977332486255140198821574,     \n",
    "                    0.9990774599773758950119878, 0.9998248879471319144736081])\n",
    "\n",
    "lb = 0\n",
    "ub = 150\n",
    "mid = 0.5 * (ub + lb)\n",
    "halfRange = 0.5 * (ub - lb)\n",
    "up_u = mid + u * halfRange\n",
    "down_u = np.flip(mid - u * halfRange)\n",
    "all_u = np.append(down_u, up_u)"
   ]
  },
  {
   "cell_type": "code",
   "execution_count": 4,
   "metadata": {},
   "outputs": [],
   "source": [
    "def CFvol(u, tau):\n",
    "    G = np.cosh(k*tau*0.5) + (1 - sigma**2 * 1j * u/k)*np.sinh(k*tau*0.5)\n",
    "    F = (v0*1j*u/G) * np.exp(-k*tau*0.5)\n",
    "    CF = (np.exp(k*tau*0.5)/G) ** (2.0*k*vbar/(sigma**2)) * np.exp(F)\n",
    "    return CF, G, F"
   ]
  },
  {
   "cell_type": "code",
   "execution_count": 5,
   "metadata": {},
   "outputs": [],
   "source": [
    "def VIXintegrand(u, tau, K, tbar):\n",
    "    aTbar = (1 - np.exp(-tbar*k))/k\n",
    "    U = -u/tbar * aTbar\n",
    "    bTbar = vbar*(tbar - aTbar)\n",
    "    CF, G, F = CFvol(U, tau)\n",
    "    part1 = np.exp(-1j*u/tbar*bTbar)\n",
    "    part2 = 1 - erf(K*(-1j*u)**0.5 /S0)\n",
    "    part3 = (-1j*u)**1.5\n",
    "    integrand = CF * part1*part2/part3\n",
    "\n",
    "    return integrand.real, integrand, aTbar, G, F, U, 1j*u"
   ]
  },
  {
   "cell_type": "code",
   "execution_count": 6,
   "metadata": {},
   "outputs": [],
   "source": [
    "def gradVIX(u, tau, K, tbar):\n",
    "    reInt, rawInt, aTbar, G, F, U, iu = VIXintegrand(u, tau, K, tbar)\n",
    "    var = sigma ** 2\n",
    "    tmp1 = 2.0 * k / var\n",
    "    tmp2 = k * tau * 0.5\n",
    "    tmp3 = np.exp(tmp2)\n",
    "    tmp4 = G ** 2\n",
    "    iU = 1j * U\n",
    "    iuOverTbar = iu/tbar\n",
    "    \n",
    "    G_sigma = -2.0 * sigma * iU/k*np.sinh(tmp2)\n",
    "    \n",
    "    h_v0 = F/v0\n",
    "    h_vbar = tmp1 * np.log(tmp3/G)\n",
    "    h_sigma = -2.0*vbar/sigma*h_vbar - tmp1*vbar/G*G_sigma - v0*iU/(tmp4*tmp3)*G_sigma\n",
    "    h_k = -sigma/(2.0*k)*h_sigma + vbar*tau*iU/(G*tmp3) - v0*U*tau/(2.0*k*tmp4)*(2.0*k*1j + U*var)\n",
    "    \n",
    "    atauBar_k = (tbar - aTbar*(k*tbar + 1))/k\n",
    "    btauBar_vbar = tbar - aTbar\n",
    "    btauBar_k = -vbar*atauBar_k\n",
    "    \n",
    "    G_U = (G - tmp3)/U\n",
    "    hPrime = h_k - u/tbar*(F/U - 1.0/G*(tmp1*vbar + F)*G_U)*atauBar_k\n",
    "    H_vbar = h_vbar - iuOverTbar*btauBar_vbar\n",
    "    H_k = hPrime - iuOverTbar*btauBar_k\n",
    "    \n",
    "    return (H_k*rawInt).real, (H_vbar*rawInt).real, (h_v0*rawInt).real, (h_sigma*rawInt).real\n",
    "    "
   ]
  },
  {
   "cell_type": "code",
   "execution_count": 29,
   "metadata": {},
   "outputs": [
    {
     "data": {
      "text/plain": [
       "Text(0.5,1,'Integrand of VIX pricing (Eq (3.14)) as a function of u')"
      ]
     },
     "execution_count": 29,
     "metadata": {},
     "output_type": "execute_result"
    }
   ],
   "source": [
    "#%matplotlib tk\n",
    "uu = np.array(np.linspace(-150, 150, 10000))\n",
    "reIntegrand, _, _, _, _, _, _  = VIXintegrand(uu+5*1j, tau, K, tbar)\n",
    "reInte, _, _, _, _, _, _  = VIXintegrand(all_u+5*1j, tau, K, tbar)\n",
    "plt.figure()\n",
    "plt.plot(uu, reIntegrand, 'r')\n",
    "plt.scatter(all_u, reInte)\n",
    "plt.title(\"Integrand of VIX pricing (Eq (3.14)) as a function of u\")"
   ]
  },
  {
   "cell_type": "code",
   "execution_count": 15,
   "metadata": {},
   "outputs": [
    {
     "data": {
      "text/plain": [
       "[<matplotlib.lines.Line2D at 0x7f640c561dd8>]"
      ]
     },
     "execution_count": 15,
     "metadata": {},
     "output_type": "execute_result"
    }
   ],
   "source": [
    "plt.figure()\n",
    "reIntegrandDiffIm, _, _, _, _, _, _  = VIXintegrand(z, tau, K, tbar)\n",
    "plt.plot((z*(-1j)).real.flatten(), reIntegrandDiffIm.flatten())"
   ]
  },
  {
   "cell_type": "code",
   "execution_count": 25,
   "metadata": {},
   "outputs": [],
   "source": [
    "us = np.array(np.linspace(-300, 300, 3000))\n",
    "\n",
    "gradk, gradvbar, gradv0, gradsigma = gradVIX(all_u+5*1j, tau, K, tbar)\\\n",
    "\n",
    "gradk5, gradvbar5, gradv05, gradsigma5 = gradVIX(us+5*1j, tau, K, tbar)"
   ]
  },
  {
   "cell_type": "code",
   "execution_count": 26,
   "metadata": {},
   "outputs": [
    {
     "data": {
      "text/plain": [
       "Text(0.5,1,'Integrand of Eq (3.28) sigma')"
      ]
     },
     "execution_count": 26,
     "metadata": {},
     "output_type": "execute_result"
    }
   ],
   "source": [
    "plt.figure()\n",
    "plt.plot(us, gradk5, 'r')\n",
    "plt.scatter(all_u, gradk)\n",
    "plt.title(\"Integrand of Eq (3.28) k\")\n",
    "plt.figure()\n",
    "plt.plot(us, gradvbar5, 'b')\n",
    "plt.scatter(all_u, gradvbar)\n",
    "plt.title(\"Integrand of Eq (3.28) vbar\")\n",
    "plt.figure()\n",
    "plt.plot(us, gradv05, 'y')\n",
    "plt.scatter(all_u, gradv0)\n",
    "plt.title(\"Integrand of Eq (3.28) v0\")\n",
    "plt.figure()\n",
    "plt.plot(us, gradsigma5, 'k')\n",
    "plt.scatter(all_u, gradsigma)\n",
    "plt.title(\"Integrand of Eq (3.28) sigma\")"
   ]
  },
  {
   "cell_type": "code",
   "execution_count": 129,
   "metadata": {},
   "outputs": [
    {
     "data": {
      "text/plain": [
       "<matplotlib.collections.PathCollection at 0x7f15f5569550>"
      ]
     },
     "execution_count": 129,
     "metadata": {},
     "output_type": "execute_result"
    }
   ],
   "source": [
    "plt.figure()\n",
    "plt.scatter(all_u, gradsigma10)"
   ]
  },
  {
   "cell_type": "code",
   "execution_count": 132,
   "metadata": {},
   "outputs": [
    {
     "data": {
      "text/plain": [
       "<matplotlib.collections.PathCollection at 0x7f15f4b16160>"
      ]
     },
     "execution_count": 132,
     "metadata": {},
     "output_type": "execute_result"
    }
   ],
   "source": [
    "plt.figure()\n",
    "plt.scatter(all_u, gradk10)\n",
    "plt.scatter(all_u, gradk5)\n",
    "plt.figure()\n",
    "plt.scatter(all_u, gradvbar10)\n",
    "plt.scatter(all_u, gradvbar5)\n",
    "plt.figure()\n",
    "plt.scatter(all_u, gradv010)\n",
    "plt.scatter(all_u, gradv05)\n",
    "plt.figure()\n",
    "plt.scatter(all_u, gradsigma10)\n",
    "plt.scatter(all_u, gradsigma5)"
   ]
  },
  {
   "cell_type": "code",
   "execution_count": null,
   "metadata": {},
   "outputs": [],
   "source": []
  }
 ],
 "metadata": {
  "kernelspec": {
   "display_name": "Python 3",
   "language": "python",
   "name": "python3"
  },
  "language_info": {
   "codemirror_mode": {
    "name": "ipython",
    "version": 3
   },
   "file_extension": ".py",
   "mimetype": "text/x-python",
   "name": "python",
   "nbconvert_exporter": "python",
   "pygments_lexer": "ipython3",
   "version": "3.7.0"
  }
 },
 "nbformat": 4,
 "nbformat_minor": 2
}
