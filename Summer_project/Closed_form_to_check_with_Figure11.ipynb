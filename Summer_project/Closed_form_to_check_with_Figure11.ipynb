{
 "cells": [
  {
   "cell_type": "code",
   "execution_count": 172,
   "metadata": {},
   "outputs": [],
   "source": [
    "import numpy as np\n",
    "import pandas as pd\n",
    "import matplotlib.pyplot as plt\n",
    "from scipy.special import erf\n",
    "\n",
    "%matplotlib inline\n",
    "#%matplotlib tk"
   ]
  },
  {
   "cell_type": "code",
   "execution_count": 15,
   "metadata": {},
   "outputs": [],
   "source": [
    "def parameter_set (alpha1, beta1sr, capLam1, rho1, sigma10, alpha2, beta2sr, capLam2, rho2, sigma20, lam, norMu, norStd, meanCo, rhoJ, lamPri, meanId):\n",
    "    parameters = {\n",
    "        \"alpha1\" : alpha1,\n",
    "        \"beta1sr\" : beta1sr,\n",
    "        \"capLam1\" : capLam1,\n",
    "        \"rho1\" : rho1,\n",
    "        \"sigma10\" : sigma10,\n",
    "\n",
    "        \"alpha2\" : alpha2,\n",
    "        \"beta2sr\" : beta2sr,\n",
    "        \"capLam2\" : capLam2,\n",
    "        \"rho2\" : rho2,\n",
    "        \"sigma20\" : sigma20,\n",
    "        \n",
    "        \n",
    "        \"lam\" : lam,\n",
    "        \"norMu\" : norMu,\n",
    "        \"norStd\" : norStd,\n",
    "        \n",
    "        \"meanCo\" : meanCo,\n",
    "        \"rhoJ\" : rhoJ,\n",
    "        \n",
    "        \"lamPri\" : lamPri,\n",
    "        \"meanId\" : meanId}\n",
    "    \n",
    "    return parameters"
   ]
  },
  {
   "cell_type": "code",
   "execution_count": 23,
   "metadata": {},
   "outputs": [
    {
     "data": {
      "text/plain": [
       "{'alpha1': 1.676,\n",
       " 'beta1sr': 0.18219,\n",
       " 'capLam1': 0.504,\n",
       " 'rho1': -0.964,\n",
       " 'sigma10': 0.16376,\n",
       " 'alpha2': 6.488,\n",
       " 'beta2sr': 0.21531,\n",
       " 'capLam2': 2.115,\n",
       " 'rho2': -1,\n",
       " 'sigma20': 0.07984,\n",
       " 'lam': 0.064,\n",
       " 'norMu': -0.28,\n",
       " 'norStd': 0.413,\n",
       " 'meanCo': 0.065,\n",
       " 'rhoJ': -0.52,\n",
       " 'lamPri': 0.013,\n",
       " 'meanId': 0.052}"
      ]
     },
     "execution_count": 23,
     "metadata": {},
     "output_type": "execute_result"
    }
   ],
   "source": [
    "para = parameter_set(1.676, 0.18219, .504, -.964, .16376, 6.488, .21531, 2.115, -1, .07984, .064, -.280, .413, .065, -.52, .013, .052)\n",
    "para"
   ]
  },
  {
   "cell_type": "code",
   "execution_count": 74,
   "metadata": {},
   "outputs": [],
   "source": [
    "alpha1 = 1.676\n",
    "beta1sr = 0.18219 \n",
    "capLam1 = .504\n",
    "rho1 = -.964\n",
    "sigma10 = .16376\n",
    "\n",
    "alpha2 = 6.488\n",
    "beta2sr = .21531\n",
    "capLam2 = 2.115\n",
    "rho2 =  -1\n",
    "sigma20 = .07984\n",
    "\n",
    "\n",
    "lam =  .064\n",
    "norMu = -.280\n",
    "norStd = .413\n",
    "\n",
    "meanCo =  .065\n",
    "rhoJ =  -.52\n",
    "\n",
    "lamPri = .013\n",
    "meanId = .052\n",
    "\n",
    "alpha = np.array([[np.nan, alpha1, alpha2]]).T\n",
    "betaSr = np.array([[np.nan, beta1sr, beta2sr]]).T\n",
    "capLam = np.array([[np.nan, capLam1, capLam2]]).T\n",
    "rho = np.array([[np.nan, rho1, rho2]]).T\n",
    "sigma0 = np.array([[np.nan, sigma10, sigma20]]).T\n"
   ]
  },
  {
   "cell_type": "code",
   "execution_count": 224,
   "metadata": {},
   "outputs": [
    {
     "data": {
      "text/plain": [
       "array([[0.+0.5j       , 0.+0.57142857j, 0.+0.64285714j, 0.+0.71428571j,\n",
       "        0.+0.78571429j, 0.+0.85714286j, 0.+0.92857143j, 0.+1.j        ,\n",
       "        0.+1.07142857j, 0.+1.14285714j, 0.+1.21428571j, 0.+1.28571429j,\n",
       "        0.+1.35714286j, 0.+1.42857143j, 0.+1.5j       , 0.+1.57142857j,\n",
       "        0.+1.64285714j, 0.+1.71428571j, 0.+1.78571429j, 0.+1.85714286j,\n",
       "        0.+1.92857143j, 0.+2.j        , 0.+2.07142857j, 0.+2.14285714j,\n",
       "        0.+2.21428571j, 0.+2.28571429j, 0.+2.35714286j, 0.+2.42857143j,\n",
       "        0.+2.5j       , 0.+2.57142857j, 0.+2.64285714j, 0.+2.71428571j,\n",
       "        0.+2.78571429j, 0.+2.85714286j, 0.+2.92857143j, 0.+3.j        ,\n",
       "        0.+3.07142857j, 0.+3.14285714j, 0.+3.21428571j, 0.+3.28571429j,\n",
       "        0.+3.35714286j, 0.+3.42857143j, 0.+3.5j       , 0.+3.57142857j,\n",
       "        0.+3.64285714j, 0.+3.71428571j, 0.+3.78571429j, 0.+3.85714286j,\n",
       "        0.+3.92857143j, 0.+4.j        ]])"
      ]
     },
     "execution_count": 224,
     "metadata": {},
     "output_type": "execute_result"
    }
   ],
   "source": [
    "z = np.linspace(0.5, 4, 50) * 1j\n",
    "z = np.array([z])\n",
    "z"
   ]
  },
  {
   "cell_type": "code",
   "execution_count": 77,
   "metadata": {},
   "outputs": [],
   "source": [
    "def xi(z):\n",
    "    \n",
    "    xi = alpha - rho * capLam @ (1j *z)\n",
    "    return xi"
   ]
  },
  {
   "cell_type": "code",
   "execution_count": 79,
   "metadata": {},
   "outputs": [],
   "source": [
    "def dk(z):\n",
    "    dk = np.sqrt(xi(z) ** 2 + z * (1j + z) * capLam ** 2)\n",
    "    return dk"
   ]
  },
  {
   "cell_type": "code",
   "execution_count": 84,
   "metadata": {},
   "outputs": [],
   "source": [
    "def GcoPlus(z):\n",
    "    GcoPlus = 1 - 1j * z * rhoJ * meanCo - (meanCo / (capLam[1] ** 2)) * (xi(z)[1] + dk(z)[1])\n",
    "    return GcoPlus\n",
    "\n",
    "def GcoMinus(z):\n",
    "    GcoMinus = 1 - 1j * z * rhoJ * meanCo - (meanCo / (capLam[1] ** 2)) * (xi(z)[1] - dk(z)[1])\n",
    "    return GcoMinus\n"
   ]
  },
  {
   "cell_type": "code",
   "execution_count": 91,
   "metadata": {},
   "outputs": [],
   "source": [
    "def GidPlus(z):\n",
    "    GidPlus = 1 - (meanId / (capLam[1] ** 2)) * (xi(z)[1] + dk(z)[1])\n",
    "    return GidPlus\n",
    "\n",
    "def GidMinus(z):\n",
    "    GidMinus = 1 - (meanId / (capLam[1] ** 2)) * (xi(z)[1] - dk(z)[1])\n",
    "    return GidMinus\n"
   ]
  },
  {
   "cell_type": "code",
   "execution_count": 95,
   "metadata": {},
   "outputs": [],
   "source": [
    "def gk(z):\n",
    "    gk = (xi(z) - dk(z)) / (xi(z) + dk(z))\n",
    "    return gk"
   ]
  },
  {
   "cell_type": "code",
   "execution_count": 99,
   "metadata": {},
   "outputs": [],
   "source": [
    "def AkLogPrice(z, tau = 0.5):\n",
    "    Ak = (alpha*betaSr**2/(capLam**2))*((xi(z)-dk(z))*tau-2*np.log((1-gk(z)*np.exp(-dk(z)*tau))/(1-gk(z))))\n",
    "    return Ak"
   ]
  },
  {
   "cell_type": "code",
   "execution_count": 104,
   "metadata": {},
   "outputs": [],
   "source": [
    "def BkLogPrice(z, tau = 0.5):\n",
    "    Bk = ((xi(z) - dk(z))*(1 - np.exp(-dk(z)*tau))) / (capLam**2*(1-gk(z)*np.exp(-dk(z)*tau)))\n",
    "    return Bk"
   ]
  },
  {
   "cell_type": "code",
   "execution_count": 109,
   "metadata": {},
   "outputs": [],
   "source": [
    "def ThetaCo(z, tau = 0.5):\n",
    "    theta1 = np.exp(1j*norMu*z - .5*norStd**2*z**2)\n",
    "    logBlob = np.log((GcoMinus(z)-gk(z)[1]*GcoPlus(z)*np.exp(-dk(z)[1]*tau))/((1-gk(z)[1])*(1-1j*z*rhoJ*meanCo)))\n",
    "    theta2 = (1/GcoMinus(z))*(1-(2*meanCo*logBlob)/(tau*capLam[1]**2*GcoPlus(z)))\n",
    "    thetaCo = theta1 * theta2\n",
    "    return thetaCo\n",
    "\n",
    "def capCcoPrice(z, tau = 0.5):\n",
    "    muBar = np.exp(norMu+.5*norStd**2)/(1-meanCo*rhoJ) - 1\n",
    "    capC = lam*tau*(ThetaCo(z, tau)-1-1j*muBar*z)\n",
    "    return capC"
   ]
  },
  {
   "cell_type": "code",
   "execution_count": 112,
   "metadata": {},
   "outputs": [],
   "source": [
    "def ThetaId(z, tau = 0.5):\n",
    "    logBlob = np.log((GidMinus(z)-gk(z)[1]*GidPlus(z)*np.exp(-dk(z)[1]*tau))/(1-gk(z)[1]))\n",
    "    thetaId = (1/GidMinus(z))*(1-(2*meanId*logBlob)/(tau*capLam[1]**2*GidPlus(z)))\n",
    "    return thetaId\n",
    "\n",
    "def capCidPrice(z, tau = 0.5):\n",
    "    capC = lamPri*tau*(ThetaId(z, tau)-1)\n",
    "    return capC"
   ]
  },
  {
   "cell_type": "code",
   "execution_count": 126,
   "metadata": {},
   "outputs": [],
   "source": [
    "def AkSV(z, tau = 0.5):\n",
    "    Ak = -2*(alpha*betaSr**2/(capLam**2))*np.log(1-(capLam**2/(2*alpha)*(1-np.exp(-alpha*tau)))@(1j*z))\n",
    "    return Ak"
   ]
  },
  {
   "cell_type": "code",
   "execution_count": 130,
   "metadata": {},
   "outputs": [],
   "source": [
    "def BkSV(z, tau=0.5):\n",
    "    Bk = (np.exp(-alpha*tau)@(1j*z))/(1-(capLam**2/(2*alpha)*(1-np.exp(-alpha*tau)))@(1j*z))\n",
    "    return Bk"
   ]
  },
  {
   "cell_type": "code",
   "execution_count": 135,
   "metadata": {},
   "outputs": [],
   "source": [
    "def Theta(z, mu, tau = 0.5):\n",
    "    logBlob = np.log(1-(1j*z*(capLam[1]**2-2*alpha[1]*mu)*(1-np.exp(-alpha[1]*tau)))/(2*alpha[1]*(1-1j*z*mu)))\n",
    "    theta = -2*mu/(capLam[1]**2-2*alpha[1]*mu) * logBlob\n",
    "    return theta\n",
    "\n",
    "def capCcoSV(z, tau = 0.5):\n",
    "    capC = lam*Theta(z, meanCo, tau)\n",
    "    return capC\n",
    "\n",
    "def capCidSV(z, tau = 0.5):\n",
    "    capC = lamPri*Theta(z, meanId, tau)\n",
    "    return capC"
   ]
  },
  {
   "cell_type": "code",
   "execution_count": 148,
   "metadata": {},
   "outputs": [],
   "source": [
    "tauBar = 30/365\n",
    "def aK(tauBar = tauBar):\n",
    "    ak = (1-np.exp(-tauBar*alpha))/alpha\n",
    "    return ak\n",
    "\n",
    "def b1(tauBar = tauBar):\n",
    "    muBar = np.exp(norMu+.5*norStd**2)/(1-meanCo*rhoJ) - 1\n",
    "\n",
    "    first = (alpha[1]*betaSr[1]**2+lam*meanCo+lamPri*meanId)/alpha[1] * (tauBar-aK(tauBar)[1])\n",
    "    second = 2*lam*tauBar*(muBar-(norMu+rhoJ*meanCo))\n",
    "    b1 = first + second\n",
    "    return b1\n",
    "\n",
    "def b2(tauBar = tauBar):\n",
    "    b2 = betaSr[2]**2*(tauBar-aK(tauBar)[2])\n",
    "    return b2"
   ]
  },
  {
   "cell_type": "code",
   "execution_count": 164,
   "metadata": {},
   "outputs": [],
   "source": [
    "# Assuming x_t is x_0 = logS_0\n",
    "S0=40 #Arbitrary choice\n",
    "x0 = np.log(S0)\n",
    "r = 0.0\n",
    "q = 0.0\n",
    "\n",
    "def CFlogPrice(z, tau = 0.5):\n",
    "    first = 1j*(x0+(r-q)*tau)*z\n",
    "    second = AkLogPrice(z, tau)+BkLogPrice(z, tau)*sigma0**2\n",
    "    secondSum = second[1] + second[2]\n",
    "    CF = np.exp(first + secondSum + capCcoPrice(z, tau) + capCidPrice(z, tau))\n",
    "    return CF\n",
    "\n",
    "def CFSV(z1, z2, tau = 0.5):\n",
    "    sum1 = AkSV(z1, tau)[1] + BkSV(z1, tau)[1]*sigma0[1]\n",
    "    sum2 = AkSV(z2, tau)[2] + BkSV(z2, tau)[2]*sigma0[2]\n",
    "    CF = np.exp(sum1+sum2+capCcoSV(z1, tau)+capCidSV(z1, tau))\n",
    "    return CF"
   ]
  },
  {
   "cell_type": "code",
   "execution_count": 225,
   "metadata": {},
   "outputs": [],
   "source": [
    "Z1 = -z * aK()[1] / tauBar\n",
    "Z2 = -z * aK()[2] / tauBar\n",
    "I = 10**(-4)\n",
    "K = 40\n",
    "firstPart = CFSV(Z1, Z2)\n",
    "secondPart = np.exp(-1j*z*(b1()+b2()+I)/tauBar) / ((-1j*z)**1.5)\n",
    "thirdPart = 1 - erf(K/(100*(-1j*z)**0.5))\n",
    "integ = (firstPart*secondPart*thirdPart).real"
   ]
  },
  {
   "cell_type": "code",
   "execution_count": 226,
   "metadata": {},
   "outputs": [],
   "source": [
    "a = integ.flatten()"
   ]
  },
  {
   "cell_type": "code",
   "execution_count": 227,
   "metadata": {},
   "outputs": [],
   "source": [
    "b = z.imag.flatten()"
   ]
  },
  {
   "cell_type": "code",
   "execution_count": 233,
   "metadata": {},
   "outputs": [],
   "source": [
    "%matplotlib tk\n",
    "plt.plot(b, a)\n",
    "plt.grid()"
   ]
  },
  {
   "cell_type": "code",
   "execution_count": 206,
   "metadata": {},
   "outputs": [
    {
     "data": {
      "text/plain": [
       "(50,)"
      ]
     },
     "execution_count": 206,
     "metadata": {},
     "output_type": "execute_result"
    }
   ],
   "source": [
    "a.shape"
   ]
  },
  {
   "cell_type": "code",
   "execution_count": 210,
   "metadata": {},
   "outputs": [
    {
     "data": {
      "text/plain": [
       "(50,)"
      ]
     },
     "execution_count": 210,
     "metadata": {},
     "output_type": "execute_result"
    }
   ],
   "source": [
    "b.shape"
   ]
  },
  {
   "cell_type": "code",
   "execution_count": null,
   "metadata": {},
   "outputs": [],
   "source": []
  }
 ],
 "metadata": {
  "kernelspec": {
   "display_name": "Python 3",
   "language": "python",
   "name": "python3"
  },
  "language_info": {
   "codemirror_mode": {
    "name": "ipython",
    "version": 3
   },
   "file_extension": ".py",
   "mimetype": "text/x-python",
   "name": "python",
   "nbconvert_exporter": "python",
   "pygments_lexer": "ipython3",
   "version": "3.6.3"
  }
 },
 "nbformat": 4,
 "nbformat_minor": 2
}
