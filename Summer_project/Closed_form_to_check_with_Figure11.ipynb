{
 "cells": [
  {
   "cell_type": "code",
   "execution_count": 1,
   "metadata": {},
   "outputs": [],
   "source": [
    "import numpy as np\n",
    "import pandas as pd\n",
    "import matplotlib.pyplot as plt\n",
    "from scipy.special import erf\n",
    "\n",
    "%matplotlib inline\n",
    "#%matplotlib tk"
   ]
  },
  {
   "cell_type": "code",
   "execution_count": 2,
   "metadata": {},
   "outputs": [],
   "source": [
    "def parameter_set (alpha1, beta1sr, capLam1, rho1, sigma10, alpha2, beta2sr, capLam2, rho2, sigma20, lam, norMu, norStd, meanCo, rhoJ, lamPri, meanId):\n",
    "    parameters = {\n",
    "        \"alpha1\" : alpha1,\n",
    "        \"beta1sr\" : beta1sr,\n",
    "        \"capLam1\" : capLam1,\n",
    "        \"rho1\" : rho1,\n",
    "        \"sigma10\" : sigma10,\n",
    "\n",
    "        \"alpha2\" : alpha2,\n",
    "        \"beta2sr\" : beta2sr,\n",
    "        \"capLam2\" : capLam2,\n",
    "        \"rho2\" : rho2,\n",
    "        \"sigma20\" : sigma20,\n",
    "        \n",
    "        \n",
    "        \"lam\" : lam,\n",
    "        \"norMu\" : norMu,\n",
    "        \"norStd\" : norStd,\n",
    "        \n",
    "        \"meanCo\" : meanCo,\n",
    "        \"rhoJ\" : rhoJ,\n",
    "        \n",
    "        \"lamPri\" : lamPri,\n",
    "        \"meanId\" : meanId}\n",
    "    \n",
    "    return parameters"
   ]
  },
  {
   "cell_type": "code",
   "execution_count": 3,
   "metadata": {},
   "outputs": [
    {
     "data": {
      "text/plain": [
       "{'alpha1': 1.676,\n",
       " 'beta1sr': 0.18219,\n",
       " 'capLam1': 0.504,\n",
       " 'rho1': -0.964,\n",
       " 'sigma10': 0.16376,\n",
       " 'alpha2': 6.488,\n",
       " 'beta2sr': 0.21531,\n",
       " 'capLam2': 2.115,\n",
       " 'rho2': -1,\n",
       " 'sigma20': 0.07984,\n",
       " 'lam': 0.064,\n",
       " 'norMu': -0.28,\n",
       " 'norStd': 0.413,\n",
       " 'meanCo': 0.065,\n",
       " 'rhoJ': -0.52,\n",
       " 'lamPri': 0.013,\n",
       " 'meanId': 0.052}"
      ]
     },
     "execution_count": 3,
     "metadata": {},
     "output_type": "execute_result"
    }
   ],
   "source": [
    "para = parameter_set(1.676, 0.18219, .504, -.964, .16376, 6.488, .21531, 2.115, -1, .07984, .064, -.280, .413, .065, -.52, .013, .052)\n",
    "para"
   ]
  },
  {
   "cell_type": "code",
   "execution_count": 4,
   "metadata": {},
   "outputs": [],
   "source": [
    "alpha1 = 1.676\n",
    "beta1sr = 0.18219 \n",
    "capLam1 = .504\n",
    "rho1 = -.964\n",
    "sigma10 = .16376\n",
    "\n",
    "alpha2 = 6.488\n",
    "beta2sr = .21531\n",
    "capLam2 = 2.115\n",
    "rho2 =  -1\n",
    "sigma20 = .07984\n",
    "\n",
    "\n",
    "lam =  .064\n",
    "norMu = -.280\n",
    "norStd = .413\n",
    "\n",
    "meanCo =  .065\n",
    "rhoJ =  -3.304\n",
    "\n",
    "lamPri = .013\n",
    "meanId = .052\n",
    "\n",
    "alpha = np.array([[np.nan, alpha1, alpha2]]).T\n",
    "betaSr = np.array([[np.nan, beta1sr, beta2sr]]).T\n",
    "capLam = np.array([[np.nan, capLam1, capLam2]]).T\n",
    "rho = np.array([[np.nan, rho1, rho2]]).T\n",
    "sigma0 = np.array([[np.nan, sigma10, sigma20]]).T\n"
   ]
  },
  {
   "cell_type": "code",
   "execution_count": 5,
   "metadata": {},
   "outputs": [],
   "source": [
    "def xi(z):\n",
    "    \n",
    "    xi = alpha - rho * capLam @ (1j *z)\n",
    "    return xi"
   ]
  },
  {
   "cell_type": "code",
   "execution_count": 6,
   "metadata": {},
   "outputs": [],
   "source": [
    "def dk(z):\n",
    "    dk = np.sqrt(xi(z) ** 2 + z * (1j + z) * capLam ** 2)\n",
    "    return dk"
   ]
  },
  {
   "cell_type": "code",
   "execution_count": 7,
   "metadata": {},
   "outputs": [],
   "source": [
    "def GcoPlus(z):\n",
    "    GcoPlus = 1 - 1j * z * rhoJ * meanCo - (meanCo / (capLam[1] ** 2)) * (xi(z)[1] + dk(z)[1])\n",
    "    return GcoPlus\n",
    "\n",
    "def GcoMinus(z):\n",
    "    GcoMinus = 1 - 1j * z * rhoJ * meanCo - (meanCo / (capLam[1] ** 2)) * (xi(z)[1] - dk(z)[1])\n",
    "    return GcoMinus\n"
   ]
  },
  {
   "cell_type": "code",
   "execution_count": 8,
   "metadata": {},
   "outputs": [],
   "source": [
    "def GidPlus(z):\n",
    "    GidPlus = 1 - (meanId / (capLam[1] ** 2)) * (xi(z)[1] + dk(z)[1])\n",
    "    return GidPlus\n",
    "\n",
    "def GidMinus(z):\n",
    "    GidMinus = 1 - (meanId / (capLam[1] ** 2)) * (xi(z)[1] - dk(z)[1])\n",
    "    return GidMinus\n"
   ]
  },
  {
   "cell_type": "code",
   "execution_count": 9,
   "metadata": {},
   "outputs": [],
   "source": [
    "def gk(z):\n",
    "    gk = (xi(z) - dk(z)) / (xi(z) + dk(z))\n",
    "    return gk"
   ]
  },
  {
   "cell_type": "code",
   "execution_count": 10,
   "metadata": {},
   "outputs": [],
   "source": [
    "def AkLogPrice(z, tau ):\n",
    "    Ak = (alpha*betaSr**2/(capLam**2))*((xi(z)-dk(z))*tau-2*np.log((1-gk(z)*np.exp(-dk(z)*tau))/(1-gk(z))))\n",
    "    return Ak"
   ]
  },
  {
   "cell_type": "code",
   "execution_count": 11,
   "metadata": {},
   "outputs": [],
   "source": [
    "def BkLogPrice(z, tau):\n",
    "    Bk = ((xi(z) - dk(z))*(1 - np.exp(-dk(z)*tau))) / (capLam**2*(1-gk(z)*np.exp(-dk(z)*tau)))\n",
    "    return Bk"
   ]
  },
  {
   "cell_type": "code",
   "execution_count": 12,
   "metadata": {},
   "outputs": [],
   "source": [
    "def ThetaCo(z, tau):\n",
    "    theta1 = np.exp(1j*norMu*z - .5*norStd**2*z**2)\n",
    "    logBlob = np.log((GcoMinus(z)-gk(z)[1]*GcoPlus(z)*np.exp(-dk(z)[1]*tau))/((1-gk(z)[1])*(1-1j*z*rhoJ*meanCo)))\n",
    "    theta2 = (1/GcoMinus(z))*(1-(2*meanCo*logBlob)/(tau*capLam[1]**2*GcoPlus(z)))\n",
    "    thetaCo = theta1 * theta2\n",
    "    return thetaCo\n",
    "\n",
    "def capCcoPrice(z, tau):\n",
    "    muBar = np.exp(norMu+.5*norStd**2)/(1-meanCo*rhoJ) - 1\n",
    "    capC = lam*tau*(ThetaCo(z, tau)-1-1j*muBar*z)\n",
    "    return capC"
   ]
  },
  {
   "cell_type": "code",
   "execution_count": 13,
   "metadata": {},
   "outputs": [],
   "source": [
    "def ThetaId(z, tau):\n",
    "    logBlob = np.log((GidMinus(z)-gk(z)[1]*GidPlus(z)*np.exp(-dk(z)[1]*tau))/(1-gk(z)[1]))\n",
    "    thetaId = (1/GidMinus(z))*(1-(2*meanId*logBlob)/(tau*capLam[1]**2*GidPlus(z)))\n",
    "    return thetaId\n",
    "\n",
    "def capCidPrice(z, tau):\n",
    "    capC = lamPri*tau*(ThetaId(z, tau)-1)\n",
    "    return capC"
   ]
  },
  {
   "cell_type": "code",
   "execution_count": 14,
   "metadata": {},
   "outputs": [],
   "source": [
    "def AkSV(z, tau):\n",
    "    Ak = -2*(alpha*betaSr**2/(capLam**2))*np.log(1-(capLam**2/(2*alpha)*(1-np.exp(-alpha*tau)))@(1j*z))\n",
    "    return Ak"
   ]
  },
  {
   "cell_type": "code",
   "execution_count": 15,
   "metadata": {},
   "outputs": [],
   "source": [
    "def BkSV(z, tau):\n",
    "    Bk = (np.exp(-alpha*tau)@(1j*z))/(1-(capLam**2/(2*alpha)*(1-np.exp(-alpha*tau)))@(1j*z))\n",
    "    return Bk"
   ]
  },
  {
   "cell_type": "code",
   "execution_count": 16,
   "metadata": {},
   "outputs": [],
   "source": [
    "def Theta(z, mu, tau):\n",
    "    logBlob = np.log(1-(1j*z*(capLam[1]**2-2*alpha[1]*mu)*(1-np.exp(-alpha[1]*tau)))/(2*alpha[1]*(1-1j*z*mu)))\n",
    "    theta = -2*mu/(capLam[1]**2-2*alpha[1]*mu) * logBlob\n",
    "    return theta\n",
    "\n",
    "def capCcoSV(z, tau):\n",
    "    capC = lam*Theta(z, meanCo, tau)\n",
    "    return capC\n",
    "\n",
    "def capCidSV(z, tau):\n",
    "    capC = lamPri*Theta(z, meanId, tau)\n",
    "    return capC"
   ]
  },
  {
   "cell_type": "code",
   "execution_count": 17,
   "metadata": {},
   "outputs": [],
   "source": [
    "tauBar = 30/365\n",
    "def aK(tauBar):\n",
    "    ak = (1-np.exp(-tauBar*alpha))/alpha\n",
    "    return ak\n",
    "\n",
    "def b1(tauBar):\n",
    "    muBar = np.exp(norMu+.5*norStd**2)/(1-meanCo*rhoJ) - 1\n",
    "\n",
    "    first = (alpha[1]*betaSr[1]**2+lam*meanCo+lamPri*meanId)/alpha[1] * (tauBar-aK(tauBar)[1])\n",
    "    second = 2*lam*tauBar*(muBar-(norMu+rhoJ*meanCo))\n",
    "    b1 = first + second\n",
    "    return b1\n",
    "\n",
    "def b2(tauBar):\n",
    "    b2 = betaSr[2]**2*(tauBar-aK(tauBar)[2])\n",
    "    return b2"
   ]
  },
  {
   "cell_type": "code",
   "execution_count": 18,
   "metadata": {},
   "outputs": [],
   "source": [
    "# Assuming x_t is x_0 = logS_0\n",
    "S0=40 #Arbitrary choice\n",
    "x0 = np.log(S0)\n",
    "r = 0.0\n",
    "q = 0.0\n",
    "\n",
    "def CFlogPrice(z, tau):\n",
    "    first = 1j*(x0+(r-q)*tau)*z\n",
    "    second = AkLogPrice(z, tau)+BkLogPrice(z, tau)*sigma0**2\n",
    "    secondSum = second[1] + second[2]\n",
    "    CF = np.exp(first + secondSum + capCcoPrice(z, tau) + capCidPrice(z, tau))\n",
    "    return CF\n",
    "\n",
    "def CFSV(z1, z2, tau):\n",
    "    sum1 = AkSV(z1, tau)[1] + BkSV(z1, tau)[1]*sigma0[1]**2\n",
    "    sum2 = AkSV(z2, tau)[2] + BkSV(z2, tau)[2]*sigma0[2]**2\n",
    "    CF = np.exp(sum1+sum2+capCcoSV(z1, tau)+capCidSV(z1, tau))\n",
    "    return CF"
   ]
  },
  {
   "cell_type": "code",
   "execution_count": 19,
   "metadata": {},
   "outputs": [],
   "source": [
    "def VIXopCall(z, tau, I, K):\n",
    "    Z1 = -z * aK(tauBar)[1] / tauBar\n",
    "    Z2 = -z * aK(tauBar)[2] / tauBar\n",
    "\n",
    "    firstPart = CFSV(Z1, Z2, tau)\n",
    "    secondPart = np.exp(-1j*z*(b1(tauBar)+b2(tauBar)+I)/tauBar) / ((-1j*z)**1.5)\n",
    "    thirdPart = 1 - erf((K/100)*(-1j*z)**0.5)\n",
    "    VIXopInteg = (firstPart*secondPart*thirdPart).real\n",
    "    \n",
    "    return VIXopInteg"
   ]
  },
  {
   "cell_type": "code",
   "execution_count": 20,
   "metadata": {},
   "outputs": [
    {
     "data": {
      "image/png": "[encoded data removed]",
      "text/plain": [
       "<Figure size 432x288 with 1 Axes>"
      ]
     },
     "metadata": {},
     "output_type": "display_data"
    }
   ],
   "source": [
    "z = np.linspace(0.5, 6.8, 200) * 1j\n",
    "z = np.array([z])\n",
    "VIXcall4 = VIXopCall(z, 45/365, 0.0, 10).flatten()\n",
    "VIXcall2 = VIXopCall(z, 45/365, 0.0, 40).flatten()\n",
    "VIXcall3 = VIXopCall(z, 45/365, 0.0, 70).flatten()\n",
    "\n",
    "imZ = z.imag.flatten()\n",
    "\n",
    "#%matplotlib tk\n",
    "plt.plot(imZ, VIXcall4)\n",
    "plt.plot(imZ, VIXcall2)\n",
    "plt.plot(imZ, VIXcall3)\n",
    "plt.yticks(np.arange(0, 1, step=0.05))\n",
    "plt.xticks(np.arange(0, 6.8, step=0.25))\n",
    "\n",
    "plt.legend(['K=10', '40', '70'])\n",
    "plt.ylim(0, 1.0)\n",
    "plt.grid()"
   ]
  },
  {
   "cell_type": "code",
   "execution_count": 21,
   "metadata": {},
   "outputs": [
    {
     "data": {
      "image/png": "[encoded data removed]",
      "text/plain": [
       "<Figure size 432x288 with 1 Axes>"
      ]
     },
     "metadata": {},
     "output_type": "display_data"
    }
   ],
   "source": [
    "#tauBar=30\n",
    "z = np.linspace(1, 6.8, 1000) * 1j\n",
    "z = np.array([z])\n",
    "def VIXfuPricing(z, tau, I):\n",
    "    Z1 = -z * aK(tauBar)[1] / tauBar\n",
    "    Z2 = -z * aK(tauBar)[2] / tauBar\n",
    "    firstPart = CFSV(Z1, Z2, tau)\n",
    "    secondPart = np.exp(-1j*z*(b1(tauBar)+b2(tauBar)+I)/tauBar) / ((-1j*z)**1.5)\n",
    "\n",
    "    VIXfuInteg = (firstPart*secondPart).real\n",
    "    return VIXfuInteg\n",
    "\n",
    "\n",
    "VIXfu4 = VIXfuPricing(z, 45.0/365, 0.0).flatten()\n",
    "VIXfu2 = VIXfuPricing(z, .25, 0.0).flatten()\n",
    "VIXfu3 = VIXfuPricing(z, .5, 0.0).flatten()\n",
    "\n",
    "imZ = z.imag.flatten()\n",
    "#%matplotlib tk\n",
    "plt.plot(imZ, VIXfu4)\n",
    "plt.plot(imZ, VIXfu2)\n",
    "plt.plot(imZ, VIXfu3)\n",
    "plt.yticks(np.arange(0, 1, step=0.05))\n",
    "plt.xticks(np.arange(0, 6.8, step=0.25))\n",
    "\n",
    "plt.legend(['45', '3mon', '6mon'])\n",
    "plt.ylim(0, 1.0)\n",
    "\n",
    "plt.grid(which='both')"
   ]
  },
  {
   "cell_type": "code",
   "execution_count": 34,
   "metadata": {
    "scrolled": false
   },
   "outputs": [
    {
     "data": {
      "image/png": "[encoded data removed]",
      "text/plain": [
       "<Figure size 432x288 with 1 Axes>"
      ]
     },
     "metadata": {},
     "output_type": "display_data"
    }
   ],
   "source": [
    "u = np.linspace(1, 10, 10000)\n",
    "u = np.array([u])\n",
    "r = 0.0\n",
    "q = 0.0\n",
    "#Assuming St == S0, so yt = 0\n",
    "yt = 0\n",
    "def SPXcall(u, S0, K, I, tau):\n",
    "    x0 = np.log(S0)\n",
    "    k = x0 - np.log(K) + (r - q) * tau\n",
    "    first = np.exp(1j*u*k - 1j*(u - 1j/2)*x0 - yt + (r - q)*tau)\n",
    "    second = CFlogPrice(u - 1j/2, tau)\n",
    "    third = np.exp((-u**2 - 0.25) * I)/(u**2 + 0.25)\n",
    "    \n",
    "    SPXcall = (first*second).real * third\n",
    "    \n",
    "    return SPXcall\n",
    "\n",
    "SPXcall = SPXcall(u, 40, 42, 0, 0.5)\n",
    "plt.plot(u.flatten(), SPXcall.flatten())\n",
    "plt.legend(['SPXcall'])\n",
    "#plt.yticks(np.arrange())\n",
    "plt.grid()"
   ]
  },
  {
   "cell_type": "code",
   "execution_count": 46,
   "metadata": {},
   "outputs": [
    {
     "name": "stderr",
     "output_type": "stream",
     "text": [
      "/home/lin/.pyenv/versions/3.6.3/lib/python3.6/site-packages/numpy/core/numeric.py:492: ComplexWarning: Casting complex values to real discards the imaginary part\n",
      "  return array(a, dtype, copy=False, order=order)\n"
     ]
    }
   ],
   "source": [
    "u = np.linspace(1, 100, 1000)\n",
    "u = np.array([u])\n",
    "CF = CFlogPrice(u-1j/2, .5)\n",
    "%matplotlib tk\n",
    "\n",
    "plt.plot(u.flatten(), CF.flatten())\n",
    "plt.legend(['SPXcall'])\n",
    "plt.yticks(np.arange(-6.2, 6.2, step=0.25))\n",
    "plt.grid()"
   ]
  },
  {
   "cell_type": "code",
   "execution_count": 45,
   "metadata": {},
   "outputs": [],
   "source": [
    "pd.DataFrame(CF.flatten()).to_csv(path_or_buf=\"/home/lin/summerProjectReading/CFlogPrice.csv\")"
   ]
  },
  {
   "cell_type": "code",
   "execution_count": 23,
   "metadata": {},
   "outputs": [
    {
     "data": {
      "text/plain": [
       "(1000,)"
      ]
     },
     "execution_count": 23,
     "metadata": {},
     "output_type": "execute_result"
    }
   ],
   "source": [
    "VIXfu4.shape"
   ]
  },
  {
   "cell_type": "code",
   "execution_count": 24,
   "metadata": {},
   "outputs": [],
   "source": [
    "import scipy.integrate.quadrature as integral"
   ]
  },
  {
   "cell_type": "code",
   "execution_count": 25,
   "metadata": {},
   "outputs": [],
   "source": [
    "def toInte(z):\n",
    "    z = np.array([z])\n",
    "    return VIXfuPricing(z, 45.0/365, 0.0).flatten()"
   ]
  },
  {
   "cell_type": "code",
   "execution_count": null,
   "metadata": {},
   "outputs": [],
   "source": []
  }
 ],
 "metadata": {
  "kernelspec": {
   "display_name": "Python 3",
   "language": "python",
   "name": "python3"
  },
  "language_info": {
   "codemirror_mode": {
    "name": "ipython",
    "version": 3
   },
   "file_extension": ".py",
   "mimetype": "text/x-python",
   "name": "python",
   "nbconvert_exporter": "python",
   "pygments_lexer": "ipython3",
   "version": "3.6.5"
  }
 },
 "nbformat": 4,
 "nbformat_minor": 2
}
