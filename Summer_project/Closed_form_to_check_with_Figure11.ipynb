{
 "cells": [
  {
   "cell_type": "code",
   "execution_count": 1,
   "metadata": {},
   "outputs": [],
   "source": [
    "import numpy as np\n",
    "import pandas as pd\n",
    "import matplotlib.pyplot as plt\n",
    "\n",
    "%matplotlib inline\n",
    "#%matplotlib tk"
   ]
  },
  {
   "cell_type": "code",
   "execution_count": 15,
   "metadata": {},
   "outputs": [],
   "source": [
    "def parameter_set (alpha1, beta1sr, capLam1, rho1, sigma10, alpha2, beta2sr, capLam2, rho2, sigma20, lam, norMu, norStd, meanCo, rhoJ, lamPri, meanId):\n",
    "    parameters = {\n",
    "        \"alpha1\" : alpha1,\n",
    "        \"beta1sr\" : beta1sr,\n",
    "        \"capLam1\" : capLam1,\n",
    "        \"rho1\" : rho1,\n",
    "        \"sigma10\" : sigma10,\n",
    "\n",
    "        \"alpha2\" : alpha2,\n",
    "        \"beta2sr\" : beta2sr,\n",
    "        \"capLam2\" : capLam2,\n",
    "        \"rho2\" : rho2,\n",
    "        \"sigma20\" : sigma20,\n",
    "        \n",
    "        \n",
    "        \"lam\" : lam,\n",
    "        \"norMu\" : norMu,\n",
    "        \"norStd\" : norStd,\n",
    "        \n",
    "        \"meanCo\" : meanCo,\n",
    "        \"rhoJ\" : rhoJ,\n",
    "        \n",
    "        \"lamPri\" : lamPri,\n",
    "        \"meanId\" : meanId}\n",
    "    \n",
    "    return parameters"
   ]
  },
  {
   "cell_type": "code",
   "execution_count": 23,
   "metadata": {},
   "outputs": [
    {
     "data": {
      "text/plain": [
       "{'alpha1': 1.676,\n",
       " 'beta1sr': 0.18219,\n",
       " 'capLam1': 0.504,\n",
       " 'rho1': -0.964,\n",
       " 'sigma10': 0.16376,\n",
       " 'alpha2': 6.488,\n",
       " 'beta2sr': 0.21531,\n",
       " 'capLam2': 2.115,\n",
       " 'rho2': -1,\n",
       " 'sigma20': 0.07984,\n",
       " 'lam': 0.064,\n",
       " 'norMu': -0.28,\n",
       " 'norStd': 0.413,\n",
       " 'meanCo': 0.065,\n",
       " 'rhoJ': -0.52,\n",
       " 'lamPri': 0.013,\n",
       " 'meanId': 0.052}"
      ]
     },
     "execution_count": 23,
     "metadata": {},
     "output_type": "execute_result"
    }
   ],
   "source": [
    "para = parameter_set(1.676, 0.18219, .504, -.964, .16376, 6.488, .21531, 2.115, -1, .07984, .064, -.280, .413, .065, -.52, .013, .052)\n",
    "para"
   ]
  },
  {
   "cell_type": "code",
   "execution_count": 74,
   "metadata": {},
   "outputs": [],
   "source": [
    "alpha1 = 1.676\n",
    "beta1sr = 0.18219 \n",
    "capLam1 = .504\n",
    "rho1 = -.964\n",
    "sigma10 = .16376\n",
    "\n",
    "alpha2 = 6.488\n",
    "beta2sr = .21531\n",
    "capLam2 = 2.115\n",
    "rho2 =  -1\n",
    "sigma20 = .07984\n",
    "\n",
    "\n",
    "lam =  .064\n",
    "norMu = -.280\n",
    "norStd = .413\n",
    "\n",
    "meanCo =  .065\n",
    "rhoJ =  -.52\n",
    "\n",
    "lamPri = .013\n",
    "meanId = .052\n",
    "\n",
    "alpha = np.array([[np.nan, alpha1, alpha2]]).T\n",
    "betaSr = np.array([[np.nan, beta1sr, beta2sr]]).T\n",
    "capLam = np.array([[np.nan, capLam1, capLam2]]).T\n",
    "rho = np.array([[np.nan, rho1, rho2]]).T\n",
    "sigma0 = np.array([[np.nan, sigma10, sigma20]]).T\n"
   ]
  },
  {
   "cell_type": "code",
   "execution_count": 61,
   "metadata": {},
   "outputs": [
    {
     "data": {
      "text/plain": [
       "array([[0.+0.j        , 0.+0.14285714j, 0.+0.28571429j, 0.+0.42857143j,\n",
       "        0.+0.57142857j, 0.+0.71428571j, 0.+0.85714286j, 0.+1.j        ,\n",
       "        0.+1.14285714j, 0.+1.28571429j, 0.+1.42857143j, 0.+1.57142857j,\n",
       "        0.+1.71428571j, 0.+1.85714286j, 0.+2.j        , 0.+2.14285714j,\n",
       "        0.+2.28571429j, 0.+2.42857143j, 0.+2.57142857j, 0.+2.71428571j,\n",
       "        0.+2.85714286j, 0.+3.j        , 0.+3.14285714j, 0.+3.28571429j,\n",
       "        0.+3.42857143j, 0.+3.57142857j, 0.+3.71428571j, 0.+3.85714286j,\n",
       "        0.+4.j        , 0.+4.14285714j, 0.+4.28571429j, 0.+4.42857143j,\n",
       "        0.+4.57142857j, 0.+4.71428571j, 0.+4.85714286j, 0.+5.j        ,\n",
       "        0.+5.14285714j, 0.+5.28571429j, 0.+5.42857143j, 0.+5.57142857j,\n",
       "        0.+5.71428571j, 0.+5.85714286j, 0.+6.j        , 0.+6.14285714j,\n",
       "        0.+6.28571429j, 0.+6.42857143j, 0.+6.57142857j, 0.+6.71428571j,\n",
       "        0.+6.85714286j, 0.+7.j        ]])"
      ]
     },
     "execution_count": 61,
     "metadata": {},
     "output_type": "execute_result"
    }
   ],
   "source": [
    "z = np.linspace(0, 7, 50) * 1j\n",
    "z = np.array([z])\n",
    "z"
   ]
  },
  {
   "cell_type": "code",
   "execution_count": 77,
   "metadata": {},
   "outputs": [],
   "source": [
    "def xi(z):\n",
    "    \n",
    "    xi = alpha - rho * capLam @ (1j *z)\n",
    "    return xi"
   ]
  },
  {
   "cell_type": "code",
   "execution_count": 79,
   "metadata": {},
   "outputs": [],
   "source": [
    "def dk(z):\n",
    "    dk = np.sqrt(xi(z) ** 2 + z * (1j + z) * capLam ** 2)\n",
    "    return dk"
   ]
  },
  {
   "cell_type": "code",
   "execution_count": 84,
   "metadata": {},
   "outputs": [],
   "source": [
    "def GcoPlus(z):\n",
    "    GcoPlus = 1 - 1j * z * rhoJ * meanCo - (meanCo / (capLam[1] ** 2)) * (xi(z)[1] + dk(z)[1])\n",
    "    return GcoPlus\n",
    "\n",
    "def GcoMinus(z):\n",
    "    GcoMinus = 1 - 1j * z * rhoJ * meanCo - (meanCo / (capLam[1] ** 2)) * (xi(z)[1] - dk(z)[1])\n",
    "    return GcoMinus\n"
   ]
  },
  {
   "cell_type": "code",
   "execution_count": 91,
   "metadata": {},
   "outputs": [],
   "source": [
    "def GidPlus(z):\n",
    "    GidPlus = 1 - (meanId / (capLam[1] ** 2)) * (xi(z)[1] + dk(z)[1])\n",
    "    return GidPlus\n",
    "\n",
    "def GidMinus(z):\n",
    "    GidMinus = 1 - (meanId / (capLam[1] ** 2)) * (xi(z)[1] - dk(z)[1])\n",
    "    return GidMinus\n"
   ]
  },
  {
   "cell_type": "code",
   "execution_count": 95,
   "metadata": {},
   "outputs": [],
   "source": [
    "def gk(z):\n",
    "    gk = (xi(z) - dk(z)) / (xi(z) + dk(z))\n",
    "    return gk"
   ]
  },
  {
   "cell_type": "code",
   "execution_count": 99,
   "metadata": {},
   "outputs": [],
   "source": [
    "def AkLogPrice(z, tau = 0.5):\n",
    "    Ak = (alpha*betaSr**2/(capLam**2))*((xi(z)-dk(z))*tau-2*np.log((1-gk(z)*np.exp(-dk(z)*tau))/(1-gk(z))))\n",
    "    return Ak"
   ]
  },
  {
   "cell_type": "code",
   "execution_count": 104,
   "metadata": {},
   "outputs": [],
   "source": [
    "def BkLogPrice(z, tau = 0.5):\n",
    "    Bk = ((xi(z) - dk(z))*(1 - np.exp(-dk(z)*tau))) / (capLam**2*(1-gk(z)*np.exp(-dk(z)*tau)))\n",
    "    return Bk"
   ]
  },
  {
   "cell_type": "code",
   "execution_count": 109,
   "metadata": {},
   "outputs": [],
   "source": [
    "def ThetaCo(z, tau = 0.5):\n",
    "    theta1 = np.exp(1j*norMu*z - .5*norStd**2*z**2)\n",
    "    logBlob = np.log((GcoMinus(z)-gk(z)[1]*GcoPlus(z)*np.exp(-dk(z)[1]*tau))/((1-gk(z)[1])*(1-1j*z*rhoJ*meanCo)))\n",
    "    theta2 = (1/GcoMinus(z))*(1-(2*meanCo*logBlob)/(tau*capLam[1]**2*GcoPlus(z)))\n",
    "    thetaCo = theta1 * theta2\n",
    "    return thetaCo\n",
    "\n",
    "def capCcoPrice(z, tau = 0.5):\n",
    "    muBar = np.exp(norMu+.5*norStd**2)/(1-meanCo*rhoJ) - 1\n",
    "    capC = lam*tau*(ThetaCo(z, tau)-1-1j*muBar*z)\n",
    "    return capC"
   ]
  },
  {
   "cell_type": "code",
   "execution_count": 111,
   "metadata": {},
   "outputs": [
    {
     "data": {
      "text/plain": [
       "(1, 50)"
      ]
     },
     "execution_count": 111,
     "metadata": {},
     "output_type": "execute_result"
    }
   ],
   "source": [
    "def ThetaId(z, tau = 0.5):\n",
    "    logBlob = np.log((GidMinus(z)-gk(z)[1]*GidPlus(z)*np.exp(-dk(z)[1]*tau))/(1-gk(z)[1]))\n",
    "    theta2 = (1/GidMinus(z))*(1-(2*meanId*logBlob)/(tau*capLam[1]**2*GcoPlus(z)))\n",
    "    thetaId = theta1 * theta2\n",
    "    return thetaId\n",
    "\n",
    "def capCidPrice(z, tau = 0.5):\n",
    "    capC = lamPri*tau*(ThetaId(z, tau)-1)\n",
    "    return capC"
   ]
  },
  {
   "cell_type": "code",
   "execution_count": null,
   "metadata": {},
   "outputs": [],
   "source": []
  }
 ],
 "metadata": {
  "kernelspec": {
   "display_name": "Python 3",
   "language": "python",
   "name": "python3"
  },
  "language_info": {
   "codemirror_mode": {
    "name": "ipython",
    "version": 3
   },
   "file_extension": ".py",
   "mimetype": "text/x-python",
   "name": "python",
   "nbconvert_exporter": "python",
   "pygments_lexer": "ipython3",
   "version": "3.6.3"
  }
 },
 "nbformat": 4,
 "nbformat_minor": 2
}
