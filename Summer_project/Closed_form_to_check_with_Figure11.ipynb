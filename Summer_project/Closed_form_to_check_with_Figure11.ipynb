{
 "cells": [
  {
   "cell_type": "code",
   "execution_count": 1,
   "metadata": {},
   "outputs": [],
   "source": [
    "import numpy as np\n",
    "import pandas as pd\n",
    "import matplotlib.pyplot as plt\n",
    "from scipy.special import erf\n",
    "\n",
    "%matplotlib inline\n",
    "#%matplotlib tk"
   ]
  },
  {
   "cell_type": "code",
   "execution_count": 2,
   "metadata": {},
   "outputs": [],
   "source": [
    "alpha1 = 1.676\n",
    "beta1sr = 0.18219 \n",
    "capLam1 = .504\n",
    "rho1 = -.964\n",
    "sigma10 = .16376\n",
    "\n",
    "alpha2 = 6.488\n",
    "beta2sr = .21531\n",
    "capLam2 = 2.115\n",
    "rho2 =  -1\n",
    "sigma20 = .07984\n",
    "\n",
    "\n",
    "lam =  .064\n",
    "meanCo =  .065\n",
    "rhoJ =  -3.304\n",
    "\n",
    "norMu = -.280 - rhoJ*meanCo\n",
    "norStd = (.413**2 - (rhoJ*meanCo)**2)**.5\n",
    "\n",
    "lamPri = .013\n",
    "meanId = .052\n",
    "\n",
    "alpha = np.array([[np.nan, alpha1, alpha2]]).T\n",
    "betaSr = np.array([[np.nan, beta1sr, beta2sr]]).T\n",
    "capLam = np.array([[np.nan, capLam1, capLam2]]).T\n",
    "rho = np.array([[np.nan, rho1, rho2]]).T\n",
    "sigma0 = np.array([[np.nan, sigma10, sigma20]]).T\n"
   ]
  },
  {
   "cell_type": "code",
   "execution_count": 3,
   "metadata": {},
   "outputs": [],
   "source": [
    "def xi(z):\n",
    "    \n",
    "    xi = alpha - rho * capLam @ (1j *z)\n",
    "    return xi"
   ]
  },
  {
   "cell_type": "code",
   "execution_count": 4,
   "metadata": {},
   "outputs": [],
   "source": [
    "def dk(z):\n",
    "    dk = np.sqrt(xi(z) ** 2 + z * (1j + z) * capLam ** 2)\n",
    "    return dk"
   ]
  },
  {
   "cell_type": "code",
   "execution_count": 5,
   "metadata": {},
   "outputs": [],
   "source": [
    "def GcoPlus(z):\n",
    "    GcoPlus = 1 - 1j * z * rhoJ * meanCo - (meanCo / (capLam[1] ** 2)) * (xi(z)[1] + dk(z)[1])\n",
    "    return GcoPlus\n",
    "\n",
    "def GcoMinus(z):\n",
    "    GcoMinus = 1 - 1j * z * rhoJ * meanCo - (meanCo / (capLam[1] ** 2)) * (xi(z)[1] - dk(z)[1])\n",
    "    return GcoMinus\n"
   ]
  },
  {
   "cell_type": "code",
   "execution_count": 6,
   "metadata": {},
   "outputs": [],
   "source": [
    "def GidPlus(z):\n",
    "    GidPlus = 1 - (meanId / (capLam[1] ** 2)) * (xi(z)[1] + dk(z)[1])\n",
    "    return GidPlus\n",
    "\n",
    "def GidMinus(z):\n",
    "    GidMinus = 1 - (meanId / (capLam[1] ** 2)) * (xi(z)[1] - dk(z)[1])\n",
    "    return GidMinus\n"
   ]
  },
  {
   "cell_type": "code",
   "execution_count": 7,
   "metadata": {},
   "outputs": [],
   "source": [
    "def gk(z):\n",
    "    gk = (xi(z) - dk(z)) / (xi(z) + dk(z))\n",
    "    return gk"
   ]
  },
  {
   "cell_type": "code",
   "execution_count": 8,
   "metadata": {},
   "outputs": [],
   "source": [
    "def AkLogPrice(z, tau ):\n",
    "    Ak = (alpha*betaSr**2/(capLam**2))*((xi(z)-dk(z))*tau-2*np.log((1-gk(z)*np.exp(-dk(z)*tau))/(1-gk(z))))\n",
    "    return Ak"
   ]
  },
  {
   "cell_type": "code",
   "execution_count": 9,
   "metadata": {},
   "outputs": [],
   "source": [
    "def BkLogPrice(z, tau):\n",
    "    Bk = ((xi(z) - dk(z))*(1 - np.exp(-dk(z)*tau))) / (capLam**2*(1-gk(z)*np.exp(-dk(z)*tau)))\n",
    "    return Bk"
   ]
  },
  {
   "cell_type": "code",
   "execution_count": 10,
   "metadata": {},
   "outputs": [],
   "source": [
    "def ThetaCo(z, tau):\n",
    "    theta1 = np.exp(1j*norMu*z - .5*norStd**2*z**2)\n",
    "    logBlob = np.log((GcoMinus(z)-gk(z)[1]*GcoPlus(z)*np.exp(-dk(z)[1]*tau))/((1-gk(z)[1])*(1-1j*z*rhoJ*meanCo)))\n",
    "    theta2 = (1/GcoMinus(z))*(1-(2*meanCo*logBlob)/(tau*capLam[1]**2*GcoPlus(z)))\n",
    "    thetaCo = theta1 * theta2\n",
    "    return thetaCo\n",
    "\n",
    "def capCcoPrice(z, tau):\n",
    "    muBar = np.exp(norMu+.5*norStd**2)/(1-meanCo*rhoJ) - 1\n",
    "    capC = lam*tau*(ThetaCo(z, tau)-1-1j*muBar*z)\n",
    "    return capC"
   ]
  },
  {
   "cell_type": "code",
   "execution_count": 11,
   "metadata": {},
   "outputs": [],
   "source": [
    "def ThetaId(z, tau):\n",
    "    logBlob = np.log((GidMinus(z)-gk(z)[1]*GidPlus(z)*np.exp(-dk(z)[1]*tau))/(1-gk(z)[1]))\n",
    "    thetaId = (1/GidMinus(z))*(1-(2*meanId*logBlob)/(tau*capLam[1]**2*GidPlus(z)))\n",
    "    return thetaId\n",
    "\n",
    "def capCidPrice(z, tau):\n",
    "    capC = lamPri*tau*(ThetaId(z, tau)-1)\n",
    "    return capC"
   ]
  },
  {
   "cell_type": "code",
   "execution_count": 12,
   "metadata": {},
   "outputs": [],
   "source": [
    "def AkSV(z, tau):\n",
    "    Ak = -2*(alpha*betaSr**2/(capLam**2))*np.log(1-(capLam**2/(2*alpha)*(1-np.exp(-alpha*tau)))@(1j*z))\n",
    "    return Ak"
   ]
  },
  {
   "cell_type": "code",
   "execution_count": 13,
   "metadata": {},
   "outputs": [],
   "source": [
    "def BkSV(z, tau):\n",
    "    Bk = (np.exp(-alpha*tau)@(1j*z))/(1-(capLam**2/(2*alpha)*(1-np.exp(-alpha*tau)))@(1j*z))\n",
    "    return Bk"
   ]
  },
  {
   "cell_type": "code",
   "execution_count": 14,
   "metadata": {},
   "outputs": [],
   "source": [
    "def Theta(z, mu, tau):\n",
    "    logBlob = np.log(1-(1j*z*(capLam[1]**2-2*alpha[1]*mu)*(1-np.exp(-alpha[1]*tau)))/(2*alpha[1]*(1-1j*z*mu)))\n",
    "    theta = -2*mu/(capLam[1]**2-2*alpha[1]*mu) * logBlob\n",
    "    return theta\n",
    "\n",
    "def capCcoSV(z, tau):\n",
    "    capC = lam*Theta(z, meanCo, tau)\n",
    "    return capC\n",
    "\n",
    "def capCidSV(z, tau):\n",
    "    capC = lamPri*Theta(z, meanId, tau)\n",
    "    return capC"
   ]
  },
  {
   "cell_type": "code",
   "execution_count": 15,
   "metadata": {},
   "outputs": [],
   "source": [
    "tauBar = 30/365\n",
    "def aK(tauBar):\n",
    "    ak = (1-np.exp(-tauBar*alpha))/alpha\n",
    "    return ak\n",
    "\n",
    "def b1(tauBar):\n",
    "    muBar = np.exp(norMu+.5*norStd**2)/(1-meanCo*rhoJ) - 1\n",
    "\n",
    "    first = (alpha[1]*betaSr[1]**2+lam*meanCo+lamPri*meanId)/alpha[1] * (tauBar-aK(tauBar)[1])\n",
    "    #second = 2*lam*tauBar*(muBar-(norMu+rhoJ*meanCo))\n",
    "    second = 2*lam*(muBar-(norMu+rhoJ*meanCo))\n",
    "\n",
    "    b1 = first + second\n",
    "    return b1\n",
    "\n",
    "def b2(tauBar):\n",
    "    b2 = betaSr[2]**2*(tauBar-aK(tauBar)[2])\n",
    "    return b2"
   ]
  },
  {
   "cell_type": "code",
   "execution_count": 16,
   "metadata": {},
   "outputs": [],
   "source": [
    "# Assuming x_t is x_0 = logS_0\n",
    "S0=40 #Arbitrary choice\n",
    "x0 = np.log(S0)\n",
    "r = 0.0\n",
    "q = 0.0\n",
    "\n",
    "def CFlogPrice(z, tau):\n",
    "    first = 1j*(x0+(r-q)*tau)*z\n",
    "    second = AkLogPrice(z, tau)+BkLogPrice(z, tau)*sigma0**2\n",
    "    secondSum = second[1] + second[2]\n",
    "    CF = np.exp(first + secondSum + capCcoPrice(z, tau) + capCidPrice(z, tau))\n",
    "    return CF\n",
    "\n",
    "def CFSV(z1, z2, tau):\n",
    "    sum1 = AkSV(z1, tau)[1] + BkSV(z1, tau)[1]*sigma0[1]**2\n",
    "    sum2 = AkSV(z2, tau)[2] + BkSV(z2, tau)[2]*sigma0[2]**2\n",
    "    CF = np.exp(sum1+sum2+capCcoSV(z1, tau)+capCidSV(z1, tau))\n",
    "    return CF"
   ]
  },
  {
   "cell_type": "code",
   "execution_count": 17,
   "metadata": {},
   "outputs": [],
   "source": [
    "def VIXopCall(z, tau, I, K):\n",
    "    Z1 = -z * aK(tauBar)[1] / tauBar\n",
    "    Z2 = -z * aK(tauBar)[2] / tauBar\n",
    "\n",
    "    firstPart = CFSV(Z1, Z2, tau)\n",
    "    secondPart = np.exp(-1j*z*(b1(tauBar)+b2(tauBar)+I)/tauBar) / ((-1j*z)**1.5)\n",
    "    thirdPart = 1 - erf((K/100)*(-1j*z)**0.5)\n",
    "    VIXopInteg = (firstPart*secondPart*thirdPart).real\n",
    "    \n",
    "    return VIXopInteg"
   ]
  },
  {
   "cell_type": "code",
   "execution_count": 24,
   "metadata": {},
   "outputs": [],
   "source": [
    "z = np.linspace(0.5, 4, 1000) * 1j\n",
    "z = np.array([z])\n",
    "VIXcall4 = VIXopCall(z, .5, 0.01, 40).flatten()\n",
    "VIXcall2 = VIXopCall(z, .5, 0.1, 40).flatten()\n",
    "VIXcall3 = VIXopCall(z, .5, 1, 40).flatten()\n",
    "\n",
    "imZ = z.imag.flatten()\n",
    "zOption = imZ\n",
    "intOption4 = VIXcall4\n",
    "intOption2 = VIXcall2\n",
    "intOption3 = VIXcall3\n",
    "#%matplotlib tk\n",
    "plt.plot(imZ, VIXcall4)\n",
    "plt.plot(imZ, VIXcall2)\n",
    "plt.plot(imZ, VIXcall3)\n",
    "#plt.yticks(np.arange(0, 1, step=0.05))\n",
    "plt.xticks(np.arange(0, 4, step=0.25))\n",
    "\n",
    "plt.legend(['K=10', '40', '70'])\n",
    "#plt.ylim(0, 1.0)\n",
    "plt.grid()"
   ]
  },
  {
   "cell_type": "code",
   "execution_count": 19,
   "metadata": {},
   "outputs": [],
   "source": [
    "#tauBar=30\n",
    "z = np.linspace(1, 6.8, 1000) * 1j\n",
    "z = np.array([z])\n",
    "def VIXfuPricing(z, tau, I):\n",
    "    Z1 = -z * aK(tauBar)[1] / tauBar\n",
    "    Z2 = -z * aK(tauBar)[2] / tauBar\n",
    "    firstPart = CFSV(Z1, Z2, tau)\n",
    "    secondPart = np.exp(-1j*z*(b1(tauBar)+b2(tauBar)+I)/tauBar) / ((-1j*z)**1.5)\n",
    "\n",
    "    VIXfuInteg = (firstPart*secondPart).real\n",
    "    return VIXfuInteg\n",
    "\n",
    "\n",
    "VIXfu4 = VIXfuPricing(z, 45.0/365, 0.0).flatten()\n",
    "VIXfu2 = VIXfuPricing(z, .25, 0.0).flatten()\n",
    "VIXfu3 = VIXfuPricing(z, .5, 0.0).flatten()\n",
    "\n",
    "imZ = z.imag.flatten()\n",
    "#%matplotlib tk\n",
    "plt.plot(imZ, VIXfu4)\n",
    "plt.plot(imZ, VIXfu2)\n",
    "plt.plot(imZ, VIXfu3)\n",
    "plt.yticks(np.arange(0, 1, step=0.05))\n",
    "plt.xticks(np.arange(0, 6.8, step=0.25))\n",
    "\n",
    "plt.legend(['45', '3mon', '6mon'])\n",
    "plt.ylim(0, 1.0)\n",
    "\n",
    "plt.grid(which='both')"
   ]
  },
  {
   "cell_type": "code",
   "execution_count": 20,
   "metadata": {},
   "outputs": [],
   "source": [
    "#%matplotlib tk\n",
    "plt.plot(zOption, intOption4, 'r')\n",
    "plt.plot(imZ, VIXfu4, 'b--')\n",
    "plt.plot(zOption, intOption2, 'y')\n",
    "plt.plot(imZ, VIXfu2, 'm--')\n",
    "plt.plot(zOption, intOption3, 'k')\n",
    "plt.plot(imZ, VIXfu3, 'g--')\n",
    "plt.yticks(np.arange(0, 1, step=0.05))\n",
    "plt.xticks(np.arange(0, 6.8, step=0.25))\n",
    "plt.ylim(0, 1.0)\n",
    "plt.grid(which='both')"
   ]
  },
  {
   "cell_type": "code",
   "execution_count": 37,
   "metadata": {
    "scrolled": false
   },
   "outputs": [
    {
     "name": "stdout",
     "output_type": "stream",
     "text": [
      "3.906781634474704\n"
     ]
    }
   ],
   "source": [
    "u = np.linspace(1, 10, 10000)\n",
    "u = np.array([u])\n",
    "r = 0.02\n",
    "q = 0.0\n",
    "#Assuming St == S0, so yt = 0\n",
    "yt = 0\n",
    "S0 = 1.0\n",
    "u = 0.0729931217877990394495429\n",
    "K = 0.8603\n",
    "tau = 0.238095238095238\n",
    "I = 0.0\n",
    "def SPXcall(u, S0, K, I, tau):\n",
    "    x0 = np.log(S0)\n",
    "    k = x0 - np.log(K) + (r - q) * tau\n",
    "    first = np.exp(1j*u*k - 1j*(u - 1j/2)*(x0 - yt + (r - q)*tau))\n",
    "    second = CFlogPrice(u - 1j/2, tau)\n",
    "    #second = (9.9994453429116270e-01-3.9708098577177200e-04*1j)\n",
    "    third = np.exp((-u**2 - 0.25) * I)/(u**2 + 0.25)\n",
    "    SPXcall = (first*second).real * third\n",
    "    \n",
    "    return SPXcall\n",
    "\n",
    "SPXcall = SPXcall(u, S0, K, I, tau)\n",
    "print(SPXcall)\n",
    "#plt.plot(u.flatten(), SPXcall.flatten())\n",
    "#plt.legend(['SPXcall'])\n",
    "#plt.yticks(np.arrange())\n",
    "#plt.grid()"
   ]
  },
  {
   "cell_type": "code",
   "execution_count": 32,
   "metadata": {},
   "outputs": [
    {
     "name": "stderr",
     "output_type": "stream",
     "text": [
      "/home/lin/.pyenv/versions/3.7.0/lib/python3.7/site-packages/numpy/core/numeric.py:501: ComplexWarning: Casting complex values to real discards the imaginary part\n",
      "  return array(a, dtype, copy=False, order=order)\n"
     ]
    }
   ],
   "source": [
    "u = np.linspace(1, 100, 1000)\n",
    "u = np.array([u])\n",
    "CF = CFlogPrice(u-1j/2, .5)\n",
    "%matplotlib tk\n",
    "\n",
    "plt.plot(u.flatten(), CF.flatten())\n",
    "plt.legend(['SPXcall'])\n",
    "plt.yticks(np.arange(-6.2, 6.2, step=0.25))\n",
    "plt.grid()"
   ]
  },
  {
   "cell_type": "code",
   "execution_count": null,
   "metadata": {},
   "outputs": [],
   "source": [
    "pd.DataFrame(CF.flatten()).to_csv(path_or_buf=\"/home/lin/summerProjectReading/CFlogPrice.csv\")"
   ]
  },
  {
   "cell_type": "code",
   "execution_count": null,
   "metadata": {},
   "outputs": [],
   "source": [
    "VIXfu4.shape"
   ]
  },
  {
   "cell_type": "code",
   "execution_count": null,
   "metadata": {},
   "outputs": [],
   "source": [
    "import scipy.integrate.quadrature as integral"
   ]
  },
  {
   "cell_type": "code",
   "execution_count": null,
   "metadata": {},
   "outputs": [],
   "source": [
    "def toInte(z):\n",
    "    z = np.array([z])\n",
    "    return VIXfuPricing(z, 45.0/365, 0.0).flatten()"
   ]
  },
  {
   "cell_type": "code",
   "execution_count": 62,
   "metadata": {},
   "outputs": [],
   "source": [
    "k = 3.0\n",
    "vbar = 0.1\n",
    "v0 = 0.08\n",
    "rho = -0.8\n",
    "sigma = 0.25\n",
    "S = 1.0\n",
    "r = 0.02\n",
    "tau = 0.714285714285714\n",
    "tbar = 30/365.0\n",
    "K = 0.7216"
   ]
  },
  {
   "cell_type": "code",
   "execution_count": 63,
   "metadata": {},
   "outputs": [],
   "source": [
    "u = np.array([0.0243502926634244325089558, 0.0729931217877990394495429,      \n",
    "0.1214628192961205544703765, 0.1696444204239928180373136,      \n",
    "0.2174236437400070841496487, 0.2646871622087674163739642,      \n",
    "0.3113228719902109561575127, 0.3572201583376681159504426,      \n",
    "0.4022701579639916036957668, 0.4463660172534640879849477,      \n",
    "0.4894031457070529574785263, 0.5312794640198945456580139,      \n",
    "0.5718956462026340342838781, 0.6111553551723932502488530,      \n",
    "0.6489654712546573398577612, 0.6852363130542332425635584,      \n",
    "0.7198818501716108268489402, 0.7528199072605318966118638,      \n",
    "0.7839723589433414076102205, 0.8132653151227975597419233,      \n",
    "0.8406292962525803627516915, 0.8659993981540928197607834,      \n",
    "0.8893154459951141058534040, 0.9105221370785028057563807,      \n",
    "0.9295691721319395758214902, 0.9464113748584028160624815,      \n",
    "0.9610087996520537189186141, 0.9733268277899109637418535,      \n",
    "0.9833362538846259569312993, 0.9910133714767443207393824,      \n",
    "0.9963401167719552793469245, 0.9993050417357721394569056])"
   ]
  },
  {
   "cell_type": "code",
   "execution_count": 64,
   "metadata": {},
   "outputs": [
    {
     "data": {
      "text/plain": [
       "array([0.99999688+0.00237789j, 0.99997197+0.00712796j,\n",
       "       0.9999224 +0.01186091j, 0.99984862+0.01656538j,\n",
       "       0.99975135+0.02123008j, 0.99963151+0.02584383j,\n",
       "       0.99949023+0.03039557j, 0.99932887+0.03487443j,\n",
       "       0.99914896+0.03926969j, 0.9989522 +0.04357089j,\n",
       "       0.99874048+0.04776778j, 0.99851579+0.0518504j ,\n",
       "       0.99828028+0.05580906j, 0.99803618+0.0596344j ,\n",
       "       0.9977858 +0.06331739j, 0.99753153+0.06684938j,\n",
       "       0.99727578+0.07022205j, 0.99702096+0.07342751j,\n",
       "       0.9967695 +0.07645827j, 0.99652378+0.07930727j,\n",
       "       0.99628613+0.08196787j, 0.99605879+0.08443392j,\n",
       "       0.99584393+0.0866997j , 0.99564356+0.08875998j,\n",
       "       0.99545959+0.09061001j, 0.99529376+0.09224555j,\n",
       "       0.99514763+0.09366282j, 0.99502259+0.09485859j,\n",
       "       0.99491981+0.09583012j, 0.99484028+0.09657519j,\n",
       "       0.99478473+0.09709211j, 0.99475368+0.09737982j])"
      ]
     },
     "execution_count": 64,
     "metadata": {},
     "output_type": "execute_result"
    }
   ],
   "source": [
    "iu = 1j * u\n",
    "var = sigma**2\n",
    "part1 = -2*k*vbar/var\n",
    "part2 = np.log(1 - iu*var/(2*k)*(1 - np.exp(-k*tau)))\n",
    "part3 = iu*np.exp(-k*tau)/(1 - iu*var/(2*k)*(1 - np.exp(-k*tau)))\n",
    "\n",
    "CF = np.exp(part1*part2+v0*part3)\n",
    "CF"
   ]
  },
  {
   "cell_type": "code",
   "execution_count": 65,
   "metadata": {},
   "outputs": [
    {
     "data": {
      "text/plain": [
       "array([-185.64894588,  -35.59954952,  -16.50483434,   -9.9510761 ,\n",
       "         -6.82529935,   -5.05695757,   -3.94537673,   -3.19471824,\n",
       "         -2.66079809,   -2.2658463 ,   -1.96461555,   -1.72918571,\n",
       "         -1.54149872,   -1.38941699,   -1.26451686,   -1.16079204,\n",
       "         -1.07386013,   -1.00045972,   -0.93812192,   -0.88495018,\n",
       "         -0.83946925,   -0.80051942,   -0.76718119,   -0.73872074,\n",
       "         -0.71454996,   -0.69419677,   -0.67728303,   -0.66350778,\n",
       "         -0.6526348 ,   -0.64448322,   -0.63892051,   -0.63585672])"
      ]
     },
     "execution_count": 65,
     "metadata": {},
     "output_type": "execute_result"
    }
   ],
   "source": [
    "aTaubar = (1.0 - np.exp(-tbar*k))/k\n",
    "U = -u*aTaubar/tbar\n",
    "z = u\n",
    "u = U\n",
    "iu = 1j * u\n",
    "var = sigma**2\n",
    "part1 = -2*k*vbar/var\n",
    "part2 = np.log(1 - iu*var/(2*k)*(1 - np.exp(-k*tau)))\n",
    "part3 = iu*np.exp(-k*tau)/(1 - iu*var/(2*k)*(1 - np.exp(-k*tau)))\n",
    "\n",
    "CF = np.exp(part1*part2+v0*part3)\n",
    "\n",
    "bTaubar = vbar*(tbar - aTaubar)\n",
    "iz = 1j * z\n",
    "one = np.exp(-iz*bTaubar/tbar)\n",
    "two = 1.0 - erf((K/100)*(-iz)**0.5)\n",
    "three = (-iz)**(1.5)\n",
    "\n",
    "(CF*one*two/three).real\n"
   ]
  },
  {
   "cell_type": "code",
   "execution_count": 61,
   "metadata": {},
   "outputs": [
    {
     "data": {
      "text/plain": [
       "array([0.00089844-0.00089844j, 0.00155553-0.00155553j,\n",
       "       0.00200659-0.00200658j, 0.00237142-0.0023714j ,\n",
       "       0.00268467-0.00268465j, 0.00296214-0.00296211j,\n",
       "       0.00321251-0.00321247j, 0.00344118-0.00344114j,\n",
       "       0.00365173-0.00365168j, 0.00384668-0.00384662j,\n",
       "       0.00402785-0.00402778j, 0.00419664-0.00419657j,\n",
       "       0.00435411-0.00435402j, 0.00450108-0.00450099j,\n",
       "       0.00463823-0.00463813j, 0.00476609-0.00476597j,\n",
       "       0.00488509-0.00488497j, 0.0049956 -0.00499547j,\n",
       "       0.00509792-0.00509778j, 0.00519229-0.00519214j,\n",
       "       0.00527892-0.00527877j, 0.00535799-0.00535783j,\n",
       "       0.00542964-0.00542947j, 0.005494  -0.00549383j,\n",
       "       0.00555117-0.00555099j, 0.00560123-0.00560105j,\n",
       "       0.00564427-0.00564408j, 0.00568033-0.00568013j,\n",
       "       0.00570946-0.00570926j, 0.0057317 -0.00573151j,\n",
       "       0.00574709-0.00574689j, 0.00575563-0.00575543j])"
      ]
     },
     "execution_count": 61,
     "metadata": {},
     "output_type": "execute_result"
    }
   ],
   "source": [
    "erf((K/100)*(-iz)**0.5)"
   ]
  },
  {
   "cell_type": "code",
   "execution_count": null,
   "metadata": {},
   "outputs": [],
   "source": []
  }
 ],
 "metadata": {
  "kernelspec": {
   "display_name": "Python 3",
   "language": "python",
   "name": "python3"
  },
  "language_info": {
   "codemirror_mode": {
    "name": "ipython",
    "version": 3
   },
   "file_extension": ".py",
   "mimetype": "text/x-python",
   "name": "python",
   "nbconvert_exporter": "python",
   "pygments_lexer": "ipython3",
   "version": "3.7.0"
  }
 },
 "nbformat": 4,
 "nbformat_minor": 2
}
