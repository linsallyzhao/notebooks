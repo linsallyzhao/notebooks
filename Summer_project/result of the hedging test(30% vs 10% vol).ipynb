{
 "cells": [
  {
   "cell_type": "code",
   "execution_count": 1,
   "metadata": {},
   "outputs": [],
   "source": [
    "import numpy as np\n",
    "import pandas as pd\n",
    "import matplotlib.pyplot as plt\n",
    "from scipy.special import erf\n",
    "from scipy.stats import norm\n",
    "from mpl_toolkits.mplot3d import Axes3D\n",
    "%matplotlib inline\n",
    "#%matplotlib tk"
   ]
  },
  {
   "cell_type": "code",
   "execution_count": 2,
   "metadata": {},
   "outputs": [
    {
     "data": {
      "text/html": [
       "<div>\n",
       "<style scoped>\n",
       "    .dataframe tbody tr th:only-of-type {\n",
       "        vertical-align: middle;\n",
       "    }\n",
       "\n",
       "    .dataframe tbody tr th {\n",
       "        vertical-align: top;\n",
       "    }\n",
       "\n",
       "    .dataframe thead th {\n",
       "        text-align: right;\n",
       "    }\n",
       "</style>\n",
       "<table border=\"1\" class=\"dataframe\">\n",
       "  <thead>\n",
       "    <tr style=\"text-align: right;\">\n",
       "      <th></th>\n",
       "      <th>finalCash_realVol</th>\n",
       "      <th>finalCash_pricingVol</th>\n",
       "    </tr>\n",
       "  </thead>\n",
       "  <tbody>\n",
       "    <tr>\n",
       "      <td>count</td>\n",
       "      <td>100000.000000</td>\n",
       "      <td>100000.000000</td>\n",
       "    </tr>\n",
       "    <tr>\n",
       "      <td>mean</td>\n",
       "      <td>6.892259</td>\n",
       "      <td>6.893335</td>\n",
       "    </tr>\n",
       "    <tr>\n",
       "      <td>std</td>\n",
       "      <td>0.725540</td>\n",
       "      <td>4.454077</td>\n",
       "    </tr>\n",
       "    <tr>\n",
       "      <td>min</td>\n",
       "      <td>2.614360</td>\n",
       "      <td>-0.865655</td>\n",
       "    </tr>\n",
       "    <tr>\n",
       "      <td>25%</td>\n",
       "      <td>6.429960</td>\n",
       "      <td>3.282565</td>\n",
       "    </tr>\n",
       "    <tr>\n",
       "      <td>50%</td>\n",
       "      <td>6.916075</td>\n",
       "      <td>6.275520</td>\n",
       "    </tr>\n",
       "    <tr>\n",
       "      <td>75%</td>\n",
       "      <td>7.374497</td>\n",
       "      <td>9.958353</td>\n",
       "    </tr>\n",
       "    <tr>\n",
       "      <td>max</td>\n",
       "      <td>11.525200</td>\n",
       "      <td>26.701500</td>\n",
       "    </tr>\n",
       "  </tbody>\n",
       "</table>\n",
       "</div>"
      ],
      "text/plain": [
       "       finalCash_realVol  finalCash_pricingVol\n",
       "count      100000.000000         100000.000000\n",
       "mean            6.892259              6.893335\n",
       "std             0.725540              4.454077\n",
       "min             2.614360             -0.865655\n",
       "25%             6.429960              3.282565\n",
       "50%             6.916075              6.275520\n",
       "75%             7.374497              9.958353\n",
       "max            11.525200             26.701500"
      ]
     },
     "execution_count": 2,
     "metadata": {},
     "output_type": "execute_result"
    }
   ],
   "source": [
    "result = pd.read_csv(\"/home/lin/git/2018_term_experiment/FC_252_100K\")\n",
    "result.describe()"
   ]
  },
  {
   "cell_type": "code",
   "execution_count": 3,
   "metadata": {},
   "outputs": [
    {
     "data": {
      "text/html": [
       "<div>\n",
       "<style scoped>\n",
       "    .dataframe tbody tr th:only-of-type {\n",
       "        vertical-align: middle;\n",
       "    }\n",
       "\n",
       "    .dataframe tbody tr th {\n",
       "        vertical-align: top;\n",
       "    }\n",
       "\n",
       "    .dataframe thead th {\n",
       "        text-align: right;\n",
       "    }\n",
       "</style>\n",
       "<table border=\"1\" class=\"dataframe\">\n",
       "  <thead>\n",
       "    <tr style=\"text-align: right;\">\n",
       "      <th></th>\n",
       "      <th>finalCash_realVol</th>\n",
       "      <th>finalCash_pricingVol</th>\n",
       "    </tr>\n",
       "  </thead>\n",
       "  <tbody>\n",
       "    <tr>\n",
       "      <td>count</td>\n",
       "      <td>100000.000000</td>\n",
       "      <td>100000.000000</td>\n",
       "    </tr>\n",
       "    <tr>\n",
       "      <td>mean</td>\n",
       "      <td>6.893890</td>\n",
       "      <td>6.897554</td>\n",
       "    </tr>\n",
       "    <tr>\n",
       "      <td>std</td>\n",
       "      <td>0.417858</td>\n",
       "      <td>4.407216</td>\n",
       "    </tr>\n",
       "    <tr>\n",
       "      <td>min</td>\n",
       "      <td>4.886240</td>\n",
       "      <td>-0.960322</td>\n",
       "    </tr>\n",
       "    <tr>\n",
       "      <td>25%</td>\n",
       "      <td>6.583105</td>\n",
       "      <td>3.321855</td>\n",
       "    </tr>\n",
       "    <tr>\n",
       "      <td>50%</td>\n",
       "      <td>6.895305</td>\n",
       "      <td>6.320990</td>\n",
       "    </tr>\n",
       "    <tr>\n",
       "      <td>75%</td>\n",
       "      <td>7.228010</td>\n",
       "      <td>9.943563</td>\n",
       "    </tr>\n",
       "    <tr>\n",
       "      <td>max</td>\n",
       "      <td>8.931220</td>\n",
       "      <td>24.586500</td>\n",
       "    </tr>\n",
       "  </tbody>\n",
       "</table>\n",
       "</div>"
      ],
      "text/plain": [
       "       finalCash_realVol  finalCash_pricingVol\n",
       "count      100000.000000         100000.000000\n",
       "mean            6.893890              6.897554\n",
       "std             0.417858              4.407216\n",
       "min             4.886240             -0.960322\n",
       "25%             6.583105              3.321855\n",
       "50%             6.895305              6.320990\n",
       "75%             7.228010              9.943563\n",
       "max             8.931220             24.586500"
      ]
     },
     "execution_count": 3,
     "metadata": {},
     "output_type": "execute_result"
    }
   ],
   "source": [
    "result = pd.read_csv(\"/home/lin/git/2018_term_experiment/FC_252by5_100K\")\n",
    "result.describe()"
   ]
  },
  {
   "cell_type": "code",
   "execution_count": 4,
   "metadata": {},
   "outputs": [
    {
     "data": {
      "text/html": [
       "<div>\n",
       "<style scoped>\n",
       "    .dataframe tbody tr th:only-of-type {\n",
       "        vertical-align: middle;\n",
       "    }\n",
       "\n",
       "    .dataframe tbody tr th {\n",
       "        vertical-align: top;\n",
       "    }\n",
       "\n",
       "    .dataframe thead th {\n",
       "        text-align: right;\n",
       "    }\n",
       "</style>\n",
       "<table border=\"1\" class=\"dataframe\">\n",
       "  <thead>\n",
       "    <tr style=\"text-align: right;\">\n",
       "      <th></th>\n",
       "      <th>finalCash_realVol</th>\n",
       "      <th>finalCash_pricingVol</th>\n",
       "    </tr>\n",
       "  </thead>\n",
       "  <tbody>\n",
       "    <tr>\n",
       "      <td>count</td>\n",
       "      <td>100000.000000</td>\n",
       "      <td>100000.000000</td>\n",
       "    </tr>\n",
       "    <tr>\n",
       "      <td>mean</td>\n",
       "      <td>6.898490</td>\n",
       "      <td>6.913066</td>\n",
       "    </tr>\n",
       "    <tr>\n",
       "      <td>std</td>\n",
       "      <td>1.075933</td>\n",
       "      <td>4.521281</td>\n",
       "    </tr>\n",
       "    <tr>\n",
       "      <td>min</td>\n",
       "      <td>1.104290</td>\n",
       "      <td>-0.948588</td>\n",
       "    </tr>\n",
       "    <tr>\n",
       "      <td>25%</td>\n",
       "      <td>6.239103</td>\n",
       "      <td>3.288793</td>\n",
       "    </tr>\n",
       "    <tr>\n",
       "      <td>50%</td>\n",
       "      <td>6.922515</td>\n",
       "      <td>6.260660</td>\n",
       "    </tr>\n",
       "    <tr>\n",
       "      <td>75%</td>\n",
       "      <td>7.567193</td>\n",
       "      <td>9.918370</td>\n",
       "    </tr>\n",
       "    <tr>\n",
       "      <td>max</td>\n",
       "      <td>15.054000</td>\n",
       "      <td>28.257000</td>\n",
       "    </tr>\n",
       "  </tbody>\n",
       "</table>\n",
       "</div>"
      ],
      "text/plain": [
       "       finalCash_realVol  finalCash_pricingVol\n",
       "count      100000.000000         100000.000000\n",
       "mean            6.898490              6.913066\n",
       "std             1.075933              4.521281\n",
       "min             1.104290             -0.948588\n",
       "25%             6.239103              3.288793\n",
       "50%             6.922515              6.260660\n",
       "75%             7.567193              9.918370\n",
       "max            15.054000             28.257000"
      ]
     },
     "execution_count": 4,
     "metadata": {},
     "output_type": "execute_result"
    }
   ],
   "source": [
    "result = pd.read_csv(\"/home/lin/git/2018_term_experiment/FC_100_100K\")\n",
    "result.describe()"
   ]
  },
  {
   "cell_type": "code",
   "execution_count": 5,
   "metadata": {},
   "outputs": [
    {
     "data": {
      "text/html": [
       "<div>\n",
       "<style scoped>\n",
       "    .dataframe tbody tr th:only-of-type {\n",
       "        vertical-align: middle;\n",
       "    }\n",
       "\n",
       "    .dataframe tbody tr th {\n",
       "        vertical-align: top;\n",
       "    }\n",
       "\n",
       "    .dataframe thead th {\n",
       "        text-align: right;\n",
       "    }\n",
       "</style>\n",
       "<table border=\"1\" class=\"dataframe\">\n",
       "  <thead>\n",
       "    <tr style=\"text-align: right;\">\n",
       "      <th></th>\n",
       "      <th>finalCash_realVol</th>\n",
       "      <th>finalCash_pricingVol</th>\n",
       "    </tr>\n",
       "  </thead>\n",
       "  <tbody>\n",
       "    <tr>\n",
       "      <td>count</td>\n",
       "      <td>1000000.000000</td>\n",
       "      <td>1000000.000000</td>\n",
       "    </tr>\n",
       "    <tr>\n",
       "      <td>mean</td>\n",
       "      <td>6.898671</td>\n",
       "      <td>6.907532</td>\n",
       "    </tr>\n",
       "    <tr>\n",
       "      <td>std</td>\n",
       "      <td>1.083034</td>\n",
       "      <td>4.536909</td>\n",
       "    </tr>\n",
       "    <tr>\n",
       "      <td>min</td>\n",
       "      <td>0.835495</td>\n",
       "      <td>-1.048260</td>\n",
       "    </tr>\n",
       "    <tr>\n",
       "      <td>25%</td>\n",
       "      <td>6.234690</td>\n",
       "      <td>3.268400</td>\n",
       "    </tr>\n",
       "    <tr>\n",
       "      <td>50%</td>\n",
       "      <td>6.924160</td>\n",
       "      <td>6.247200</td>\n",
       "    </tr>\n",
       "    <tr>\n",
       "      <td>75%</td>\n",
       "      <td>7.569833</td>\n",
       "      <td>9.902003</td>\n",
       "    </tr>\n",
       "    <tr>\n",
       "      <td>max</td>\n",
       "      <td>15.840500</td>\n",
       "      <td>32.899900</td>\n",
       "    </tr>\n",
       "  </tbody>\n",
       "</table>\n",
       "</div>"
      ],
      "text/plain": [
       "       finalCash_realVol  finalCash_pricingVol\n",
       "count     1000000.000000        1000000.000000\n",
       "mean            6.898671              6.907532\n",
       "std             1.083034              4.536909\n",
       "min             0.835495             -1.048260\n",
       "25%             6.234690              3.268400\n",
       "50%             6.924160              6.247200\n",
       "75%             7.569833              9.902003\n",
       "max            15.840500             32.899900"
      ]
     },
     "execution_count": 5,
     "metadata": {},
     "output_type": "execute_result"
    }
   ],
   "source": [
    "result = pd.read_csv(\"/home/lin/git/2018_term_experiment/FC_100_1MM\")\n",
    "result.describe()"
   ]
  },
  {
   "cell_type": "code",
   "execution_count": 6,
   "metadata": {},
   "outputs": [],
   "source": [
    "daily_hedge = pd.read_csv(\"/home/lin/git/2018_term_experiment/DH_252_100K\", header=None)\n",
    "avg_hedging = abs(daily_hedge).mean()\n",
    "pricingVolHedge = list()\n",
    "realVolHedge = list()\n",
    "for i in range(504):\n",
    "    if i % 2 == 1:\n",
    "        pricingVolHedge.append(avg_hedging[i])\n",
    "    else:\n",
    "        realVolHedge.append(avg_hedging[i])\n",
    "        "
   ]
  },
  {
   "cell_type": "code",
   "execution_count": 7,
   "metadata": {},
   "outputs": [
    {
     "data": {
      "text/plain": [
       "[<matplotlib.lines.Line2D at 0x7f5b465ab850>]"
      ]
     },
     "execution_count": 7,
     "metadata": {},
     "output_type": "execute_result"
    },
    {
     "data": {
      "image/png": "[encoded data removed]",
      "text/plain": [
       "<Figure size 432x288 with 1 Axes>"
      ]
     },
     "metadata": {
      "needs_background": "light"
     },
     "output_type": "display_data"
    }
   ],
   "source": [
    "plt.plot(pricingVolHedge)\n",
    "plt.plot(realVolHedge)"
   ]
  },
  {
   "cell_type": "code",
   "execution_count": 8,
   "metadata": {},
   "outputs": [
    {
     "data": {
      "text/plain": [
       "[<matplotlib.lines.Line2D at 0x7f5b46503690>]"
      ]
     },
     "execution_count": 8,
     "metadata": {},
     "output_type": "execute_result"
    },
    {
     "data": {
      "image/png": "[encoded data removed]",
      "text/plain": [
       "<Figure size 432x288 with 1 Axes>"
      ]
     },
     "metadata": {
      "needs_background": "light"
     },
     "output_type": "display_data"
    }
   ],
   "source": [
    "daily_hedge = pd.read_csv(\"/home/lin/git/2018_term_experiment/DH_100_100K\", header=None)\n",
    "avg_hedging = abs(daily_hedge).mean()\n",
    "pricingVolHedge = list()\n",
    "realVolHedge = list()\n",
    "for i in range(200):\n",
    "    if i % 2 == 1:\n",
    "        pricingVolHedge.append(avg_hedging[i])\n",
    "    else:\n",
    "        realVolHedge.append(avg_hedging[i])\n",
    "plt.plot(pricingVolHedge)\n",
    "plt.plot(realVolHedge)"
   ]
  },
  {
   "cell_type": "code",
   "execution_count": 9,
   "metadata": {},
   "outputs": [],
   "source": [
    "daily_close = pd.read_csv(\"/home/lin/git/2018_term_experiment/DC_252_100K\", header=None)\n",
    "avg_closing = abs(daily_close).mean()\n",
    "pricingVolClose = list()\n",
    "realVolClose = list()\n",
    "for i in range(504):\n",
    "    if i % 2 == 1:\n",
    "        pricingVolClose.append(avg_closing[i])\n",
    "    else:\n",
    "        realVolClose.append(avg_closing[i])\n",
    "        "
   ]
  },
  {
   "cell_type": "code",
   "execution_count": 10,
   "metadata": {},
   "outputs": [
    {
     "data": {
      "text/plain": [
       "[<matplotlib.lines.Line2D at 0x7f5b46611f50>]"
      ]
     },
     "execution_count": 10,
     "metadata": {},
     "output_type": "execute_result"
    },
    {
     "data": {
      "image/png": "[encoded data removed]",
      "text/plain": [
       "<Figure size 432x288 with 1 Axes>"
      ]
     },
     "metadata": {
      "needs_background": "light"
     },
     "output_type": "display_data"
    }
   ],
   "source": [
    "plt.plot(pricingVolClose)\n",
    "plt.plot(realVolClose)"
   ]
  },
  {
   "cell_type": "code",
   "execution_count": 11,
   "metadata": {},
   "outputs": [
    {
     "data": {
      "text/plain": [
       "[<matplotlib.lines.Line2D at 0x7f5b466cd210>]"
      ]
     },
     "execution_count": 11,
     "metadata": {},
     "output_type": "execute_result"
    },
    {
     "data": {
      "image/png": "[encoded data removed]",
      "text/plain": [
       "<Figure size 432x288 with 1 Axes>"
      ]
     },
     "metadata": {
      "needs_background": "light"
     },
     "output_type": "display_data"
    }
   ],
   "source": [
    "avg_closing_std = abs(daily_close).std()\n",
    "pricingVolClose_std = list()\n",
    "realVolClose_std = list()\n",
    "for i in range(504):\n",
    "    if i % 2 == 1:\n",
    "        pricingVolClose_std.append(avg_closing_std[i])\n",
    "    else:\n",
    "        realVolClose_std.append(avg_closing_std[i])\n",
    "plt.plot(pricingVolClose_std)\n",
    "plt.plot(realVolClose_std)        "
   ]
  },
  {
   "cell_type": "code",
   "execution_count": 12,
   "metadata": {},
   "outputs": [
    {
     "data": {
      "text/plain": [
       "[<matplotlib.lines.Line2D at 0x7f5b441fdad0>]"
      ]
     },
     "execution_count": 12,
     "metadata": {},
     "output_type": "execute_result"
    },
    {
     "data": {
      "image/png": "[encoded data removed]",
      "text/plain": [
       "<Figure size 432x288 with 1 Axes>"
      ]
     },
     "metadata": {
      "needs_background": "light"
     },
     "output_type": "display_data"
    }
   ],
   "source": [
    "daily_close = pd.read_csv(\"/home/lin/git/2018_term_experiment/DC_100_100K\", header=None)\n",
    "avg_closing = abs(daily_close).mean()\n",
    "pricingVolClose = list()\n",
    "realVolClose = list()\n",
    "for i in range(200):\n",
    "    if i % 2 == 1:\n",
    "        pricingVolClose.append(avg_closing[i])\n",
    "    else:\n",
    "        realVolClose.append(avg_closing[i])\n",
    "plt.plot(pricingVolClose)\n",
    "plt.plot(realVolClose)"
   ]
  },
  {
   "cell_type": "code",
   "execution_count": 13,
   "metadata": {},
   "outputs": [
    {
     "data": {
      "text/plain": [
       "[<matplotlib.lines.Line2D at 0x7f5b4428fed0>]"
      ]
     },
     "execution_count": 13,
     "metadata": {},
     "output_type": "execute_result"
    },
    {
     "data": {
      "image/png": "[encoded data removed]",
      "text/plain": [
       "<Figure size 432x288 with 1 Axes>"
      ]
     },
     "metadata": {
      "needs_background": "light"
     },
     "output_type": "display_data"
    }
   ],
   "source": [
    "avg_closing_std = abs(daily_close).std()\n",
    "pricingVolClose_std = list()\n",
    "realVolClose_std = list()\n",
    "for i in range(200):\n",
    "    if i % 2 == 1:\n",
    "        pricingVolClose_std.append(avg_closing_std[i])\n",
    "    else:\n",
    "        realVolClose_std.append(avg_closing_std[i])\n",
    "plt.plot(pricingVolClose_std)\n",
    "plt.plot(realVolClose_std)"
   ]
  },
  {
   "cell_type": "code",
   "execution_count": null,
   "metadata": {},
   "outputs": [],
   "source": []
  }
 ],
 "metadata": {
  "kernelspec": {
   "display_name": "Python 3",
   "language": "python",
   "name": "python3"
  },
  "language_info": {
   "codemirror_mode": {
    "name": "ipython",
    "version": 3
   },
   "file_extension": ".py",
   "mimetype": "text/x-python",
   "name": "python",
   "nbconvert_exporter": "python",
   "pygments_lexer": "ipython3",
   "version": "3.7.4"
  }
 },
 "nbformat": 4,
 "nbformat_minor": 2
}
